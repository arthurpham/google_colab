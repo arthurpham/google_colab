{
 "cells": [
  {
   "cell_type": "code",
   "execution_count": null,
   "id": "4301a7e6",
   "metadata": {},
   "outputs": [],
   "source": [
    "!pip install tf-quant-finance"
   ]
  },
  {
   "cell_type": "code",
   "execution_count": 4,
   "id": "fd36a158",
   "metadata": {},
   "outputs": [],
   "source": [
    "import numpy as np\n",
    "import tensorflow as tf\n",
    "import tf_quant_finance as tff"
   ]
  },
  {
   "cell_type": "code",
   "execution_count": 6,
   "id": "0aabe017",
   "metadata": {},
   "outputs": [
    {
     "ename": "ValueError",
     "evalue": "sample_paths: Tensor conversion requested dtype float32 for Tensor with dtype float64: <tf.Tensor: shape=(100000, 50, 1), dtype=float64, numpy=\narray([[[1.        ],\n        [1.00366749],\n        [0.85731558],\n        ...,\n        [1.32189714],\n        [1.46822627],\n        [1.79168022]],\n\n       [[1.        ],\n        [1.02635853],\n        [0.80834391],\n        ...,\n        [2.09295062],\n        [1.87953774],\n        [2.24183875]],\n\n       [[1.        ],\n        [0.94548095],\n        [0.95919875],\n        ...,\n        [1.58425569],\n        [2.11158356],\n        [2.30087973]],\n\n       ...,\n\n       [[1.        ],\n        [1.08738547],\n        [1.25933449],\n        ...,\n        [1.25225301],\n        [1.37185155],\n        [1.19990301]],\n\n       [[1.        ],\n        [0.86710579],\n        [0.87474619],\n        ...,\n        [0.41940581],\n        [0.40283049],\n        [0.42481206]],\n\n       [[1.        ],\n        [0.89370739],\n        [0.87585211],\n        ...,\n        [2.98751507],\n        [3.90963047],\n        [2.83668662]]])>",
     "output_type": "error",
     "traceback": [
      "\u001b[1;31m---------------------------------------------------------------------------\u001b[0m",
      "\u001b[1;31mValueError\u001b[0m                                Traceback (most recent call last)",
      "\u001b[1;32m~\\AppData\\Local\\Temp/ipykernel_952/3947126396.py\u001b[0m in \u001b[0;36m<module>\u001b[1;34m\u001b[0m\n\u001b[0;32m     28\u001b[0m \u001b[0mbasis_fn\u001b[0m \u001b[1;33m=\u001b[0m \u001b[0mtff\u001b[0m\u001b[1;33m.\u001b[0m\u001b[0mmodels\u001b[0m\u001b[1;33m.\u001b[0m\u001b[0mlongstaff_schwartz\u001b[0m\u001b[1;33m.\u001b[0m\u001b[0mmake_polynomial_basis\u001b[0m\u001b[1;33m(\u001b[0m\u001b[1;36m10\u001b[0m\u001b[1;33m)\u001b[0m\u001b[1;33m\u001b[0m\u001b[1;33m\u001b[0m\u001b[0m\n\u001b[0;32m     29\u001b[0m print(tff.models.longstaff_schwartz.least_square_mc(paths, exercise_times, payoff_fn, basis_fn,\n\u001b[1;32m---> 30\u001b[1;33m               discount_factors=discount_factors))\n\u001b[0m\u001b[0;32m     31\u001b[0m \u001b[1;31m# Expected value: [0.397]\u001b[0m\u001b[1;33m\u001b[0m\u001b[1;33m\u001b[0m\u001b[1;33m\u001b[0m\u001b[0m\n\u001b[0;32m     32\u001b[0m \u001b[1;33m\u001b[0m\u001b[0m\n",
      "\u001b[1;32mC:\\Dev\\github\\tf-quant-finance\\venv\\lib\\site-packages\\tf_quant_finance\\models\\longstaff_schwartz\\lsm.py\u001b[0m in \u001b[0;36mleast_square_mc\u001b[1;34m(sample_paths, exercise_times, payoff_fn, basis_fn, discount_factors, num_calibration_samples, dtype, name)\u001b[0m\n\u001b[0;32m    260\u001b[0m     \u001b[1;31m# Calculate the payoff of each path if exercised now. Shape\u001b[0m\u001b[1;33m\u001b[0m\u001b[1;33m\u001b[0m\u001b[1;33m\u001b[0m\u001b[0m\n\u001b[0;32m    261\u001b[0m     \u001b[1;31m# [num_samples, batch_size]\u001b[0m\u001b[1;33m\u001b[0m\u001b[1;33m\u001b[0m\u001b[1;33m\u001b[0m\u001b[0m\n\u001b[1;32m--> 262\u001b[1;33m     \u001b[0mexercise_value\u001b[0m \u001b[1;33m=\u001b[0m \u001b[0mpayoff_fn\u001b[0m\u001b[1;33m(\u001b[0m\u001b[0msample_paths\u001b[0m\u001b[1;33m,\u001b[0m \u001b[0mtime_index\u001b[0m\u001b[1;33m)\u001b[0m\u001b[1;33m\u001b[0m\u001b[1;33m\u001b[0m\u001b[0m\n\u001b[0m\u001b[0;32m    263\u001b[0m \u001b[1;33m\u001b[0m\u001b[0m\n\u001b[0;32m    264\u001b[0m     \u001b[1;31m# Initialize option values at the terminal time.\u001b[0m\u001b[1;33m\u001b[0m\u001b[1;33m\u001b[0m\u001b[1;33m\u001b[0m\u001b[0m\n",
      "\u001b[1;32mC:\\Dev\\github\\tf-quant-finance\\venv\\lib\\site-packages\\tf_quant_finance\\models\\longstaff_schwartz\\payoff_utils.py\u001b[0m in \u001b[0;36m_put_valuer\u001b[1;34m(sample_paths, time_index, strikes, dtype)\u001b[0m\n\u001b[0;32m     83\u001b[0m   \u001b[0mstrikes\u001b[0m \u001b[1;33m=\u001b[0m \u001b[0mtf\u001b[0m\u001b[1;33m.\u001b[0m\u001b[0mconvert_to_tensor\u001b[0m\u001b[1;33m(\u001b[0m\u001b[0mstrikes\u001b[0m\u001b[1;33m,\u001b[0m \u001b[0mdtype\u001b[0m\u001b[1;33m=\u001b[0m\u001b[0mdtype\u001b[0m\u001b[1;33m,\u001b[0m \u001b[0mname\u001b[0m\u001b[1;33m=\u001b[0m\u001b[1;34m'strikes'\u001b[0m\u001b[1;33m)\u001b[0m\u001b[1;33m\u001b[0m\u001b[1;33m\u001b[0m\u001b[0m\n\u001b[0;32m     84\u001b[0m   sample_paths = tf.convert_to_tensor(sample_paths, dtype=dtype,\n\u001b[1;32m---> 85\u001b[1;33m                                       name='sample_paths')\n\u001b[0m\u001b[0;32m     86\u001b[0m   \u001b[1;32mif\u001b[0m \u001b[0msample_paths\u001b[0m\u001b[1;33m.\u001b[0m\u001b[0mshape\u001b[0m\u001b[1;33m.\u001b[0m\u001b[0mrank\u001b[0m \u001b[1;33m==\u001b[0m \u001b[1;36m3\u001b[0m\u001b[1;33m:\u001b[0m\u001b[1;33m\u001b[0m\u001b[1;33m\u001b[0m\u001b[0m\n\u001b[0;32m     87\u001b[0m     \u001b[1;31m# Expand shape to [num_samples, 1, num_times, dim]\u001b[0m\u001b[1;33m\u001b[0m\u001b[1;33m\u001b[0m\u001b[1;33m\u001b[0m\u001b[0m\n",
      "\u001b[1;32mC:\\Dev\\github\\tf-quant-finance\\venv\\lib\\site-packages\\tensorflow\\python\\util\\traceback_utils.py\u001b[0m in \u001b[0;36merror_handler\u001b[1;34m(*args, **kwargs)\u001b[0m\n\u001b[0;32m    151\u001b[0m     \u001b[1;32mexcept\u001b[0m \u001b[0mException\u001b[0m \u001b[1;32mas\u001b[0m \u001b[0me\u001b[0m\u001b[1;33m:\u001b[0m\u001b[1;33m\u001b[0m\u001b[1;33m\u001b[0m\u001b[0m\n\u001b[0;32m    152\u001b[0m       \u001b[0mfiltered_tb\u001b[0m \u001b[1;33m=\u001b[0m \u001b[0m_process_traceback_frames\u001b[0m\u001b[1;33m(\u001b[0m\u001b[0me\u001b[0m\u001b[1;33m.\u001b[0m\u001b[0m__traceback__\u001b[0m\u001b[1;33m)\u001b[0m\u001b[1;33m\u001b[0m\u001b[1;33m\u001b[0m\u001b[0m\n\u001b[1;32m--> 153\u001b[1;33m       \u001b[1;32mraise\u001b[0m \u001b[0me\u001b[0m\u001b[1;33m.\u001b[0m\u001b[0mwith_traceback\u001b[0m\u001b[1;33m(\u001b[0m\u001b[0mfiltered_tb\u001b[0m\u001b[1;33m)\u001b[0m \u001b[1;32mfrom\u001b[0m \u001b[1;32mNone\u001b[0m\u001b[1;33m\u001b[0m\u001b[1;33m\u001b[0m\u001b[0m\n\u001b[0m\u001b[0;32m    154\u001b[0m     \u001b[1;32mfinally\u001b[0m\u001b[1;33m:\u001b[0m\u001b[1;33m\u001b[0m\u001b[1;33m\u001b[0m\u001b[0m\n\u001b[0;32m    155\u001b[0m       \u001b[1;32mdel\u001b[0m \u001b[0mfiltered_tb\u001b[0m\u001b[1;33m\u001b[0m\u001b[1;33m\u001b[0m\u001b[0m\n",
      "\u001b[1;32mC:\\Dev\\github\\tf-quant-finance\\venv\\lib\\site-packages\\tensorflow\\python\\framework\\ops.py\u001b[0m in \u001b[0;36mconvert_to_tensor\u001b[1;34m(value, dtype, name, as_ref, preferred_dtype, dtype_hint, ctx, accepted_result_types)\u001b[0m\n\u001b[0;32m   1603\u001b[0m               \u001b[1;34mf\"Tensor conversion requested dtype {dtype.name} \"\u001b[0m\u001b[1;33m\u001b[0m\u001b[1;33m\u001b[0m\u001b[0m\n\u001b[0;32m   1604\u001b[0m               \u001b[1;34mf\"for Tensor with dtype {value.dtype.name}: {value!r}\"\u001b[0m\u001b[1;33m,\u001b[0m\u001b[1;33m\u001b[0m\u001b[1;33m\u001b[0m\u001b[0m\n\u001b[1;32m-> 1605\u001b[1;33m               name=name))\n\u001b[0m\u001b[0;32m   1606\u001b[0m     \u001b[1;32mreturn\u001b[0m \u001b[0mvalue\u001b[0m\u001b[1;33m\u001b[0m\u001b[1;33m\u001b[0m\u001b[0m\n\u001b[0;32m   1607\u001b[0m \u001b[1;33m\u001b[0m\u001b[0m\n",
      "\u001b[1;31mValueError\u001b[0m: sample_paths: Tensor conversion requested dtype float32 for Tensor with dtype float64: <tf.Tensor: shape=(100000, 50, 1), dtype=float64, numpy=\narray([[[1.        ],\n        [1.00366749],\n        [0.85731558],\n        ...,\n        [1.32189714],\n        [1.46822627],\n        [1.79168022]],\n\n       [[1.        ],\n        [1.02635853],\n        [0.80834391],\n        ...,\n        [2.09295062],\n        [1.87953774],\n        [2.24183875]],\n\n       [[1.        ],\n        [0.94548095],\n        [0.95919875],\n        ...,\n        [1.58425569],\n        [2.11158356],\n        [2.30087973]],\n\n       ...,\n\n       [[1.        ],\n        [1.08738547],\n        [1.25933449],\n        ...,\n        [1.25225301],\n        [1.37185155],\n        [1.19990301]],\n\n       [[1.        ],\n        [0.86710579],\n        [0.87474619],\n        ...,\n        [0.41940581],\n        [0.40283049],\n        [0.42481206]],\n\n       [[1.        ],\n        [0.89370739],\n        [0.87585211],\n        ...,\n        [2.98751507],\n        [3.90963047],\n        [2.83668662]]])>"
     ]
    }
   ],
   "source": [
    "# See https://github.com/google/tf-quant-finance/blob/2d0d7ac19944d0e1e3391c0e8c7d11940c969b11/tf_quant_finance/models/longstaff_schwartz/lsm.py#L147\n",
    "\n",
    "# Let the underlying model be a Black-Scholes process\n",
    "# dS_t / S_t = rate dt + sigma**2 dW_t, S_0 = 1.0\n",
    "# with `rate = 0.1`, and volatility `sigma = 1.0`.\n",
    "# Define drift and volatility functions for log(S_t)\n",
    "rate = 0.1\n",
    "def drift_fn(_, x):\n",
    "    return rate - tf.ones_like(x) / 2.\n",
    "def vol_fn(_, x):\n",
    "    return tf.expand_dims(tf.ones_like(x), axis=-1)\n",
    "# Use Euler scheme to propagate 100000 paths for 1 year into the future\n",
    "times = np.linspace(0., 1, num=50)\n",
    "num_samples = 100000\n",
    "log_paths = tf.function(tff.models.euler_sampling.sample)(\n",
    "      dim=1,\n",
    "      drift_fn=drift_fn, volatility_fn=vol_fn,\n",
    "      random_type=tff.math.random.RandomType.PSEUDO_ANTITHETIC,\n",
    "      times=times, num_samples=num_samples, seed=42, time_step=0.01)\n",
    "# Compute exponent to get samples of `S_t`\n",
    "paths = tf.math.exp(log_paths)\n",
    "# American put option price for strike 1.1 and expiry 1 (assuming actual day\n",
    "# count convention and no settlement adjustment)\n",
    "strike = [1.1]\n",
    "exercise_times = tf.range(times.shape[-1])\n",
    "discount_factors = tf.exp(-rate * times)\n",
    "payoff_fn = tff.models.longstaff_schwartz.make_basket_put_payoff(strike)\n",
    "basis_fn = tff.models.longstaff_schwartz.make_polynomial_basis(10)\n",
    "print(tff.models.longstaff_schwartz.least_square_mc(paths, exercise_times, payoff_fn, basis_fn,\n",
    "              discount_factors=discount_factors))\n",
    "# Expected value: [0.397]\n",
    "\n",
    "# European put option price\n",
    "print(tff.black_scholes.option_price(volatilities=[1], strikes=strikes,\n",
    "                             expiries=[1], spots=[1.],\n",
    "                             discount_factors=discount_factors[-1],\n",
    "                             is_call_options=False,\n",
    "                             dtype=tf.float64))\n",
    "# Expected value: [0.379]"
   ]
  }
 ],
 "metadata": {
  "kernelspec": {
   "display_name": "Python 3 (ipykernel)",
   "language": "python",
   "name": "python3"
  },
  "language_info": {
   "codemirror_mode": {
    "name": "ipython",
    "version": 3
   },
   "file_extension": ".py",
   "mimetype": "text/x-python",
   "name": "python",
   "nbconvert_exporter": "python",
   "pygments_lexer": "ipython3",
   "version": "3.7.9"
  }
 },
 "nbformat": 4,
 "nbformat_minor": 5
}

{
  "cells": [
    {
      "cell_type": "markdown",
      "metadata": {
        "id": "view-in-github",
        "colab_type": "text"
      },
      "source": [
        "<a href=\"https://colab.research.google.com/github/arthurpham/google_colab/blob/main/TARF_MC_Performance_TQF2.ipynb\" target=\"_parent\"><img src=\"https://colab.research.google.com/assets/colab-badge.svg\" alt=\"Open In Colab\"/></a>"
      ]
    },
    {
      "cell_type": "code",
      "execution_count": 1,
      "id": "f3a6e055",
      "metadata": {
        "id": "f3a6e055",
        "outputId": "2399cfeb-4553-4ecc-9b27-71e7dd06134a",
        "colab": {
          "base_uri": "https://localhost:8080/"
        }
      },
      "outputs": [
        {
          "output_type": "stream",
          "name": "stdout",
          "text": [
            "Looking in indexes: https://pypi.org/simple, https://us-python.pkg.dev/colab-wheels/public/simple/\n",
            "Collecting tf-quant-finance==0.0.1.dev32\n",
            "  Downloading tf_quant_finance-0.0.1.dev32-py2.py3-none-any.whl (1.4 MB)\n",
            "\u001b[K     |████████████████████████████████| 1.4 MB 9.2 MB/s \n",
            "\u001b[?25hRequirement already satisfied: tensorflow-probability>=0.12.1 in /usr/local/lib/python3.7/dist-packages (from tf-quant-finance==0.0.1.dev32) (0.16.0)\n",
            "Requirement already satisfied: numpy>=1.21 in /usr/local/lib/python3.7/dist-packages (from tf-quant-finance==0.0.1.dev32) (1.21.6)\n",
            "Requirement already satisfied: protobuf in /usr/local/lib/python3.7/dist-packages (from tf-quant-finance==0.0.1.dev32) (3.17.3)\n",
            "Requirement already satisfied: attrs>=18.2.0 in /usr/local/lib/python3.7/dist-packages (from tf-quant-finance==0.0.1.dev32) (21.4.0)\n",
            "Requirement already satisfied: absl-py in /usr/local/lib/python3.7/dist-packages (from tensorflow-probability>=0.12.1->tf-quant-finance==0.0.1.dev32) (1.0.0)\n",
            "Requirement already satisfied: dm-tree in /usr/local/lib/python3.7/dist-packages (from tensorflow-probability>=0.12.1->tf-quant-finance==0.0.1.dev32) (0.1.7)\n",
            "Requirement already satisfied: cloudpickle>=1.3 in /usr/local/lib/python3.7/dist-packages (from tensorflow-probability>=0.12.1->tf-quant-finance==0.0.1.dev32) (1.3.0)\n",
            "Requirement already satisfied: gast>=0.3.2 in /usr/local/lib/python3.7/dist-packages (from tensorflow-probability>=0.12.1->tf-quant-finance==0.0.1.dev32) (0.5.3)\n",
            "Requirement already satisfied: six>=1.10.0 in /usr/local/lib/python3.7/dist-packages (from tensorflow-probability>=0.12.1->tf-quant-finance==0.0.1.dev32) (1.15.0)\n",
            "Requirement already satisfied: decorator in /usr/local/lib/python3.7/dist-packages (from tensorflow-probability>=0.12.1->tf-quant-finance==0.0.1.dev32) (4.4.2)\n",
            "Installing collected packages: tf-quant-finance\n",
            "Successfully installed tf-quant-finance-0.0.1.dev32\n",
            "Looking in indexes: https://pypi.org/simple, https://us-python.pkg.dev/colab-wheels/public/simple/\n",
            "Collecting QuantLib-Python\n",
            "  Downloading QuantLib_Python-1.18-py2.py3-none-any.whl (1.4 kB)\n",
            "Collecting QuantLib\n",
            "  Downloading QuantLib-1.26-cp37-cp37m-manylinux_2_12_x86_64.manylinux2010_x86_64.whl (17.8 MB)\n",
            "\u001b[K     |████████████████████████████████| 17.8 MB 129 kB/s \n",
            "\u001b[?25hInstalling collected packages: QuantLib, QuantLib-Python\n",
            "Successfully installed QuantLib-1.26 QuantLib-Python-1.18\n"
          ]
        }
      ],
      "source": [
        "# !pip install --upgrade tensorflow --user\n",
        "!pip install tf-quant-finance==0.0.1.dev32\n",
        "!pip install QuantLib-Python"
      ]
    },
    {
      "cell_type": "code",
      "execution_count": 2,
      "id": "a83401ca",
      "metadata": {
        "id": "a83401ca"
      },
      "outputs": [],
      "source": [
        "import os\n",
        "# reduce number of threads\n",
        "os.environ['TF_NUM_INTEROP_THREADS'] = '1'\n",
        "os.environ['TF_NUM_INTRAOP_THREADS'] = '1'\n",
        "\n",
        "%matplotlib inline\n",
        "import numpy as np\n",
        "import matplotlib.pyplot as plt\n",
        "import tf_quant_finance as tff \n",
        "import tensorflow as tf\n",
        "import functools\n",
        "import pandas as pd\n",
        "import time\n",
        "import QuantLib as ql"
      ]
    },
    {
      "cell_type": "code",
      "execution_count": 3,
      "id": "c4306927",
      "metadata": {
        "id": "c4306927",
        "outputId": "c0321613-05c3-40d6-8c52-ea5f41f27d57",
        "colab": {
          "base_uri": "https://localhost:8080/"
        }
      },
      "outputs": [
        {
          "output_type": "stream",
          "name": "stdout",
          "text": [
            "Tue May 31 15:26:40 2022       \n",
            "+-----------------------------------------------------------------------------+\n",
            "| NVIDIA-SMI 460.32.03    Driver Version: 460.32.03    CUDA Version: 11.2     |\n",
            "|-------------------------------+----------------------+----------------------+\n",
            "| GPU  Name        Persistence-M| Bus-Id        Disp.A | Volatile Uncorr. ECC |\n",
            "| Fan  Temp  Perf  Pwr:Usage/Cap|         Memory-Usage | GPU-Util  Compute M. |\n",
            "|                               |                      |               MIG M. |\n",
            "|===============================+======================+======================|\n",
            "|   0  Tesla P100-PCIE...  Off  | 00000000:00:04.0 Off |                    0 |\n",
            "| N/A   34C    P0    27W / 250W |      0MiB / 16280MiB |      0%      Default |\n",
            "|                               |                      |                  N/A |\n",
            "+-------------------------------+----------------------+----------------------+\n",
            "                                                                               \n",
            "+-----------------------------------------------------------------------------+\n",
            "| Processes:                                                                  |\n",
            "|  GPU   GI   CI        PID   Type   Process name                  GPU Memory |\n",
            "|        ID   ID                                                   Usage      |\n",
            "|=============================================================================|\n",
            "|  No running processes found                                                 |\n",
            "+-----------------------------------------------------------------------------+\n"
          ]
        }
      ],
      "source": [
        "!nvidia-smi"
      ]
    },
    {
      "cell_type": "code",
      "execution_count": 4,
      "id": "3cb3a485",
      "metadata": {
        "id": "3cb3a485"
      },
      "outputs": [],
      "source": [
        "spot = 18.0\n",
        "strike = 20.0\n",
        "K_lower = 15.0\n",
        "K_upper = 20.0\n",
        "K_knockout = 30.0\n",
        "tarf_target = 5.0\n",
        "step_up_ratio = 2.0\n",
        "\n",
        "r = 0.0\n",
        "volatility = 0.5"
      ]
    },
    {
      "cell_type": "code",
      "execution_count": 5,
      "id": "5e327c2d",
      "metadata": {
        "scrolled": false,
        "id": "5e327c2d"
      },
      "outputs": [],
      "source": [
        "#@title Set up parameters\n",
        "\n",
        "dtype = tf.float64 #@param\n",
        "num_samples = 200000 #@param\n",
        "num_timesteps = 53 #@param\n",
        "\n",
        "# expiries =tf.constant( [0.0, 0.5, 1.0], dtype=dtype) # This can be a rank 1 Tensor\n",
        "dt = 1. / num_timesteps\n",
        "# times = [1.0]\n",
        "times = tf.linspace(tf.constant(0.0, dtype=dtype), tf.constant(1.0, dtype=dtype), num_timesteps)\n",
        "rate = tf.constant(r, dtype=dtype)\n",
        "dividend = tf.constant(0.0, dtype=dtype)\n",
        "sigma = tf.constant(volatility, dtype=dtype)\n",
        "spot = tf.constant(spot, dtype=dtype)\n",
        "strikes = tf.constant(strike, dtype=dtype)\n",
        "\n",
        "def set_up_pricer(times, watch_params=False):\n",
        "    \"\"\"Set up European option pricing function under Black-Scholes model.\n",
        "    \n",
        "    Args:\n",
        "        expiries: List of expiries at which to to sample the trajectories.\n",
        "        watch_params: A Python bool. When `True`, gradients of the price function wrt the inputs\n",
        "          are computed more efficiently. \n",
        "    Returns:\n",
        "     A callable that accepts a rank 1 tensor of strikes, and scalar values for \n",
        "     the spots and  volatility values. The callable outputs prices of\n",
        "     the European call options on the grid `expiries x strikes`.\n",
        "    \"\"\"\n",
        "    def price_eu_options(strikes, spot, sigma, rate, dividend):\n",
        "        # Define drift and volatility functions. \n",
        "        def drift_fn(t, x):\n",
        "          del t, x\n",
        "          return rate - 0.5 * sigma**2\n",
        "        def vol_fn(t, x):\n",
        "          del t, x\n",
        "          return tf.reshape(sigma, [1, 1])\n",
        "        # Use GenericItoProcess class to set up the Ito process\n",
        "        process = tff.models.GenericItoProcess(\n",
        "            dim=1,\n",
        "            drift_fn=drift_fn,\n",
        "            volatility_fn=vol_fn,\n",
        "            dtype=dtype)\n",
        "        log_spot = tf.math.log(tf.reduce_mean(spot))\n",
        "        if watch_params:\n",
        "            watch_params_list = [sigma, rate, dividend]\n",
        "        else:\n",
        "            watch_params_list = None\n",
        "        paths = process.sample_paths(\n",
        "            times=times, num_samples=num_samples,\n",
        "            initial_state=log_spot, \n",
        "            watch_params=watch_params_list,\n",
        "            # Select a random number generator\n",
        "            random_type=tff.math.random.RandomType.SOBOL, #PSEUDO_ANTITHETIC\n",
        "            time_step=dt)\n",
        "        \n",
        "        @tf.function\n",
        "        def tarf_payoff(element):\n",
        "#             tf.print(element, summarize=-1)\n",
        "            total = tf.constant(0.0, dtype=tf.float64)\n",
        "            discounted_payoff = tf.constant(0.0, dtype=tf.float64)\n",
        "            df = tf.constant(1.0, dtype=tf.float64)\n",
        "            is_active = True\n",
        "            for cur_spot in element:\n",
        "                if is_active:\n",
        "                    cashflow = tf.constant(0.0, dtype=tf.float64)\n",
        "                    add_cashflow = False\n",
        "                    if K_knockout <= cur_spot:\n",
        "                        # early termination\n",
        "                        is_active = False\n",
        "                    if K_upper <= cur_spot: # cur_spot < K_knockout\n",
        "                        cashflow = cur_spot - strike\n",
        "                        add_cashflow = True\n",
        "                    if cur_spot < K_lower:\n",
        "                        cashflow = step_up_ratio*(cur_spot - strike)\n",
        "                        add_cashflow = True\n",
        "\n",
        "                    if add_cashflow:\n",
        "                        if total + cashflow >= tarf_target:\n",
        "                            cashflow = tarf_target - total\n",
        "                            total += cashflow\n",
        "                            discounted_payoff += df*cashflow\n",
        "                            is_active = False\n",
        "                        else:\n",
        "                            total += cashflow\n",
        "                            discounted_payoff += df*cashflow\n",
        "                     \n",
        "            return discounted_payoff\n",
        "\n",
        "        reshaped_paths = tf.reshape(tf.math.exp(paths), [num_samples, num_timesteps])\n",
        "        payoffs = tf.vectorized_map(tarf_payoff, reshaped_paths)\n",
        "        prices = tf.reduce_mean(payoffs)\n",
        "\n",
        "        return prices\n",
        "    return price_eu_options    \n",
        "\n",
        "price_eu_options = tf.function(set_up_pricer(times, watch_params=False),\n",
        "                               input_signature=[\n",
        "                                                tf.TensorSpec([], dtype=tf.float64),\n",
        "                                                tf.TensorSpec([], dtype=tf.float64),\n",
        "                                                tf.TensorSpec([], dtype=tf.float64),\n",
        "                                                tf.TensorSpec([], dtype=tf.float64),\n",
        "                                                tf.TensorSpec([], dtype=tf.float64)\n",
        "                               ])\n"
      ]
    },
    {
      "cell_type": "code",
      "source": [
        "def set_up_pricer_xla(times, watch_params=False):\n",
        "    \"\"\"Set up European option pricing function under Black-Scholes model.\n",
        "    \n",
        "    Args:\n",
        "        expiries: List of expiries at which to to sample the trajectories.\n",
        "        watch_params: A Python bool. When `True`, gradients of the price function wrt the inputs\n",
        "          are computed more efficiently. \n",
        "    Returns:\n",
        "     A callable that accepts a rank 1 tensor of strikes, and scalar values for \n",
        "     the spots and  volatility values. The callable outputs prices of\n",
        "     the European call options on the grid `expiries x strikes`.\n",
        "    \"\"\"\n",
        "    def price_eu_options(strikes, spot, sigma, rate, dividend):\n",
        "        # Define drift and volatility functions. \n",
        "        def drift_fn(t, x):\n",
        "          del t, x\n",
        "          return rate - dividend - 0.5 * sigma**2\n",
        "        def vol_fn(t, x):\n",
        "          del t, x\n",
        "          return tf.reshape(sigma, [1, 1])\n",
        "        # Use GenericItoProcess class to set up the Ito process\n",
        "        process = tff.models.GenericItoProcess(\n",
        "            dim=1,\n",
        "            drift_fn=drift_fn,\n",
        "            volatility_fn=vol_fn,\n",
        "            dtype=dtype)\n",
        "        log_spot = tf.math.log(tf.reduce_mean(spot))\n",
        "        if watch_params:\n",
        "            watch_params_list = [sigma, rate, dividend]\n",
        "        else:\n",
        "            watch_params_list = None\n",
        "        paths = process.sample_paths(\n",
        "            times=times, num_samples=num_samples,\n",
        "            initial_state=log_spot, \n",
        "            watch_params=watch_params_list,\n",
        "            # Select a random number generator\n",
        "            random_type=tff.math.random.RandomType.SOBOL, #PSEUDO_ANTITHETIC\n",
        "            time_step=dt)\n",
        "        \n",
        "        @tf.function\n",
        "        def tarf_payoff(paths):\n",
        "            # Shape [num_timesteps, num_samples]\n",
        "            paths = tf.transpose(paths)\n",
        "            cur_spot = paths[0]\n",
        "            total = tf.zeros_like(cur_spot)\n",
        "            discounted_payoff = tf.zeros_like(cur_spot)\n",
        "            df = tf.constant(1.0, dtype=tf.float64)\n",
        "            is_active = tf.ones([num_samples], dtype=tf.bool)\n",
        "            i = tf.constant(0, dtype=tf.int32)\n",
        "            # Explicitly define the while_loop \n",
        "            def cond(i, is_active, total, discounted_payoff):\n",
        "                return i < num_timesteps\n",
        "\n",
        "            def body(i, is_active, total, discounted_payoff):\n",
        "                # Here Tensors are of shape `[num_samples]`\n",
        "                cur_spot = paths[i]\n",
        "\n",
        "                cashflow = tf.zeros_like(cur_spot)\n",
        "                new_is_active = K_knockout > cur_spot\n",
        "                add_cashflow = tf.where(tf.logical_or(K_upper <= cur_spot, cur_spot < K_lower),\n",
        "                    True, \n",
        "                    False)\n",
        "\n",
        "                new_cashflow = tf.where(K_upper <= cur_spot,\n",
        "                    cur_spot - strike,\n",
        "                    cashflow\n",
        "                )\n",
        "                new_cashflow = tf.where(cur_spot < K_lower,\n",
        "                                    step_up_ratio*(cur_spot - strike),\n",
        "                                    new_cashflow)\n",
        "                new_is_active = tf.where(add_cashflow,\n",
        "                    tf.where(total + new_cashflow >= tarf_target,\n",
        "                            False, new_is_active),\n",
        "                    new_is_active)\n",
        "\n",
        "                new_cashflow = tf.where(add_cashflow,\n",
        "                    tf.where(total + new_cashflow >= tarf_target,\n",
        "                            tarf_target - total, new_cashflow),\n",
        "                    new_cashflow\n",
        "                    )\n",
        "\n",
        "                new_total = tf.where(add_cashflow,\n",
        "                    total + new_cashflow,\n",
        "                    total\n",
        "                    )\n",
        "                new_discounted_payoff = tf.where(add_cashflow,\n",
        "                    discounted_payoff + df * new_cashflow,\n",
        "                    discounted_payoff)\n",
        "                # Update values only if active\n",
        "                new_cashflow = tf.where(is_active, \n",
        "                                        new_cashflow,\n",
        "                                        cashflow)\n",
        "                new_total = tf.where(is_active, new_total, total)\n",
        "                new_discounted_payoff = tf.where(is_active, \n",
        "                                        new_discounted_payoff,\n",
        "                                        discounted_payoff)\n",
        "                new_is_active = tf.where(is_active, new_is_active, is_active)\n",
        "\n",
        "                return (i + 1, new_is_active, new_total, new_discounted_payoff)\n",
        "                \n",
        "            _, is_active, total, discounted_payoff = tf.while_loop(\n",
        "                cond, body, (i, is_active, total, discounted_payoff),\n",
        "                maximum_iterations=num_timesteps,\n",
        "            )\n",
        "            return discounted_payoff\n",
        "\n",
        "        reshaped_paths = tf.reshape(tf.math.exp(paths), [num_samples, num_timesteps])\n",
        "        payoffs = tarf_payoff(reshaped_paths)\n",
        "        prices = tf.reduce_mean(payoffs)\n",
        "\n",
        "        return prices\n",
        "    return price_eu_options\n",
        "\n",
        "price_eu_options_xla = tf.function(set_up_pricer_xla(times, watch_params=False),\n",
        "                               input_signature=[\n",
        "                                                tf.TensorSpec([], dtype=tf.float64),\n",
        "                                                tf.TensorSpec([], dtype=tf.float64),\n",
        "                                                tf.TensorSpec([], dtype=tf.float64),\n",
        "                                                tf.TensorSpec([], dtype=tf.float64),\n",
        "                                                tf.TensorSpec([], dtype=tf.float64)\n",
        "                               ], jit_compile=True)    \n",
        "\n",
        "price_eu_options_xla2 = set_up_pricer_xla(times, watch_params=True)"
      ],
      "metadata": {
        "id": "v4tluqTz9OEI"
      },
      "id": "v4tluqTz9OEI",
      "execution_count": 6,
      "outputs": []
    },
    {
      "cell_type": "code",
      "source": [
        "# device = \"/gpu:0\"\n",
        "# with tf.device(device):\n",
        "#     tarf_price = price_eu_options(strikes, spot, sigma)\n",
        "#     print('price', tarf_price)"
      ],
      "metadata": {
        "id": "hh25z8OTapHt"
      },
      "id": "hh25z8OTapHt",
      "execution_count": 7,
      "outputs": []
    },
    {
      "cell_type": "code",
      "source": [
        "# device = \"/gpu:0\"\n",
        "# with tf.device(device):\n",
        "#     tarf_price = price_eu_options_xla(strikes, spot, sigma)\n",
        "#     print('price', tarf_price)"
      ],
      "metadata": {
        "id": "Enn2yRUAapUF"
      },
      "id": "Enn2yRUAapUF",
      "execution_count": 8,
      "outputs": []
    },
    {
      "cell_type": "code",
      "source": [
        "devices = ['gpu', 'cpu']\n",
        "\n",
        "for device in devices:\n",
        "    with tf.device('/{}:0'.format(device)):\n",
        "        t = time.time()\n",
        "        tarf_price = price_eu_options(strikes, spot, sigma, rate, dividend)\n",
        "        time_tqf0 = time.time() - t\n",
        "\n",
        "        t = time.time()\n",
        "        tarf_price = price_eu_options(strikes, spot, sigma, rate, dividend)\n",
        "        time_tqf = time.time() - t\n",
        "\n",
        "        print('------------------------')\n",
        "        print('TQF {} TARF'.format(device))\n",
        "        print('wall time + tracing: ', time_tqf0)\n",
        "        print('options per second + tracing: ', 1.0/time_tqf0)\n",
        "        print('wall time: ', time_tqf)\n",
        "        print('options per second: ', 1.0/time_tqf)\n",
        "        print('------------------------')\n",
        "        print('price', tarf_price)"
      ],
      "metadata": {
        "id": "uyUXQuKsUSJW",
        "colab": {
          "base_uri": "https://localhost:8080/"
        },
        "outputId": "b5bd6299-1f38-4f39-cdc2-a9df9b6aa59e"
      },
      "id": "uyUXQuKsUSJW",
      "execution_count": 9,
      "outputs": [
        {
          "output_type": "stream",
          "name": "stdout",
          "text": [
            "------------------------\n",
            "TQF gpu TARF\n",
            "wall time + tracing:  23.417309045791626\n",
            "options per second + tracing:  0.04270345486941046\n",
            "wall time:  2.5204977989196777\n",
            "options per second:  0.3967470237143689\n",
            "------------------------\n",
            "price tf.Tensor(-246.927357070608, shape=(), dtype=float64)\n",
            "------------------------\n",
            "TQF cpu TARF\n",
            "wall time + tracing:  8.546136856079102\n",
            "options per second + tracing:  0.11701193379423507\n",
            "wall time:  5.958648681640625\n",
            "options per second:  0.1678232856857513\n",
            "------------------------\n",
            "price tf.Tensor(-246.927357070608, shape=(), dtype=float64)\n"
          ]
        }
      ]
    },
    {
      "cell_type": "code",
      "execution_count": 10,
      "id": "98958e3a",
      "metadata": {
        "id": "98958e3a",
        "colab": {
          "base_uri": "https://localhost:8080/"
        },
        "outputId": "0889e407-e4cf-45ec-dbd1-5b5e3b2d7d7d"
      },
      "outputs": [
        {
          "output_type": "stream",
          "name": "stdout",
          "text": [
            "------------------------\n",
            "TQF gpu TARF XLA\n",
            "wall time + tracing:  2.962099313735962\n",
            "options per second + tracing:  0.33759840372764044\n",
            "wall time:  0.022627830505371094\n",
            "options per second:  44.193366207274416\n",
            "------------------------\n",
            "price tf.Tensor(-246.927357070608, shape=(), dtype=float64)\n",
            "------------------------\n",
            "TQF cpu TARF XLA\n",
            "wall time + tracing:  2.3186111450195312\n",
            "options per second + tracing:  0.4312926736973725\n",
            "wall time:  1.8334612846374512\n",
            "options per second:  0.5454164799546013\n",
            "------------------------\n",
            "price tf.Tensor(-246.927357070608, shape=(), dtype=float64)\n"
          ]
        }
      ],
      "source": [
        "devices = ['gpu', 'cpu']\n",
        "\n",
        "for device in devices:\n",
        "    with tf.device('/{}:0'.format(device)):\n",
        "        t = time.time()\n",
        "        tarf_price = price_eu_options_xla(strikes, spot, sigma, rate, dividend)\n",
        "        time_tqf0 = time.time() - t\n",
        "\n",
        "        t = time.time()\n",
        "        tarf_price = price_eu_options_xla(strikes, spot, sigma, rate, dividend)\n",
        "        time_tqf = time.time() - t\n",
        "\n",
        "        print('------------------------')\n",
        "        print('TQF {} TARF XLA'.format(device))\n",
        "        print('wall time + tracing: ', time_tqf0)\n",
        "        print('options per second + tracing: ', 1.0/time_tqf0)\n",
        "        print('wall time: ', time_tqf)\n",
        "        print('options per second: ', 1.0/time_tqf)\n",
        "        print('------------------------')\n",
        "        print('price', tarf_price)"
      ]
    },
    {
      "cell_type": "code",
      "source": [
        ""
      ],
      "metadata": {
        "id": "Q7rbDJNfQK71"
      },
      "id": "Q7rbDJNfQK71",
      "execution_count": 10,
      "outputs": []
    },
    {
      "cell_type": "code",
      "source": [
        ""
      ],
      "metadata": {
        "id": "2XUaFIQoQQNl"
      },
      "id": "2XUaFIQoQQNl",
      "execution_count": 10,
      "outputs": []
    },
    {
      "cell_type": "code",
      "source": [
        "@tf.function(jit_compile=False,\n",
        "             input_signature=[tf.TensorSpec([], dtype=tf.float64),\n",
        "                            tf.TensorSpec([], dtype=tf.float64),\n",
        "                            tf.TensorSpec([], dtype=tf.float64),\n",
        "                            tf.TensorSpec([], dtype=tf.float64),\n",
        "                            tf.TensorSpec([], dtype=tf.float64)\n",
        "                               ])\n",
        "def greeks_fn(strikes, spot, sigma, rate, dividend):\n",
        "    with tf.GradientTape() as tape:\n",
        "      tape.watch([spot, sigma, rate, dividend])\n",
        "      prices = price_eu_options(strikes, spot, sigma, rate, dividend)\n",
        "    return prices, tape.gradient(prices, [spot, sigma, rate, dividend])\n",
        "\n",
        "@tf.function(jit_compile=True,\n",
        "             input_signature=[tf.TensorSpec([], dtype=tf.float64),\n",
        "                            tf.TensorSpec([], dtype=tf.float64),\n",
        "                            tf.TensorSpec([], dtype=tf.float64),\n",
        "                            tf.TensorSpec([], dtype=tf.float64),\n",
        "                            tf.TensorSpec([], dtype=tf.float64)\n",
        "                               ])\n",
        "def greeks_fn_xla(strikes, spot, sigma, rate, dividend):\n",
        "    with tf.GradientTape() as tape:\n",
        "      tape.watch([spot, sigma, rate, dividend])\n",
        "      prices = price_eu_options_xla2(strikes, spot, sigma, rate, dividend)\n",
        "    return prices, tape.gradient(prices, [spot, sigma, rate, dividend])"
      ],
      "metadata": {
        "id": "OhoElu0AWWpy"
      },
      "id": "OhoElu0AWWpy",
      "execution_count": 11,
      "outputs": []
    },
    {
      "cell_type": "code",
      "source": [
        "devices = ['gpu', 'cpu']\n",
        "\n",
        "for device in devices:\n",
        "    with tf.device('/{}:0'.format(device)):\n",
        "        t = time.time()\n",
        "        tarf_price, tarf_greeks = greeks_fn(strikes, spot, sigma, rate, dividend)\n",
        "        time_tqf0 = time.time() - t\n",
        "\n",
        "        t = time.time()\n",
        "        tarf_price, tarf_greeks = greeks_fn(strikes, spot, sigma, rate, dividend)\n",
        "        time_tqf = time.time() - t\n",
        "\n",
        "        print('------------------------')\n",
        "        print('TQF {} TARF price+delta+vega'.format(device))\n",
        "        print('wall time + tracing: ', time_tqf0)\n",
        "        print('options per second + tracing: ', 1.0/time_tqf0)\n",
        "        print('wall time: ', time_tqf)\n",
        "        print('options per second: ', 1.0/time_tqf)\n",
        "        print('------------------------')\n",
        "        print('price', tarf_price)\n",
        "        print('greeks', tarf_greeks)"
      ],
      "metadata": {
        "colab": {
          "base_uri": "https://localhost:8080/"
        },
        "id": "xmfHysaBYOAM",
        "outputId": "61b91f54-ef41-4ef8-821f-44fbb8d9e22b"
      },
      "id": "xmfHysaBYOAM",
      "execution_count": 12,
      "outputs": [
        {
          "output_type": "stream",
          "name": "stderr",
          "text": [
            "/usr/local/lib/python3.7/dist-packages/tensorflow/python/framework/indexed_slices.py:446: UserWarning: Converting sparse IndexedSlices(IndexedSlices(indices=Tensor(\"gradients/while/cond/pfor/GatherV2_grad/Reshape_1:0\", shape=(None,), dtype=int32), values=Tensor(\"gradients/while/cond/pfor/GatherV2_grad/Reshape:0\", shape=(None,), dtype=float64), dense_shape=Tensor(\"gradients/while/cond/pfor/GatherV2_grad/Cast:0\", shape=(1,), dtype=int32))) to a dense Tensor of unknown shape. This may consume a large amount of memory.\n",
            "  \"shape. This may consume a large amount of memory.\" % value)\n",
            "/usr/local/lib/python3.7/dist-packages/tensorflow/python/framework/indexed_slices.py:446: UserWarning: Converting sparse IndexedSlices(IndexedSlices(indices=Tensor(\"gradients/while_grad/Identity_4:0\", shape=(None,), dtype=int32), values=Tensor(\"gradients/while_grad/Identity_3:0\", shape=(None,), dtype=float64), dense_shape=Tensor(\"gradients/while_grad/Identity_5:0\", shape=(1,), dtype=int32))) to a dense Tensor of unknown shape. This may consume a large amount of memory.\n",
            "  \"shape. This may consume a large amount of memory.\" % value)\n",
            "/usr/local/lib/python3.7/dist-packages/tensorflow/python/framework/indexed_slices.py:446: UserWarning: Converting sparse IndexedSlices(IndexedSlices(indices=Tensor(\"gradients/while_grad/Identity_7:0\", shape=(None,), dtype=int32), values=Tensor(\"gradients/while_grad/Identity_6:0\", shape=(None,), dtype=float64), dense_shape=Tensor(\"gradients/while_grad/Identity_8:0\", shape=(1,), dtype=int32))) to a dense Tensor of unknown shape. This may consume a large amount of memory.\n",
            "  \"shape. This may consume a large amount of memory.\" % value)\n"
          ]
        },
        {
          "output_type": "stream",
          "name": "stdout",
          "text": [
            "------------------------\n",
            "TQF gpu TARF price+delta+vega\n",
            "wall time + tracing:  8.679392337799072\n",
            "options per second + tracing:  0.11521543917826635\n",
            "wall time:  5.569403648376465\n",
            "options per second:  0.17955243741248844\n",
            "------------------------\n",
            "price tf.Tensor(-246.927357070608, shape=(), dtype=float64)\n",
            "greeks [<tf.Tensor: shape=(), dtype=float64, numpy=21.37942877385511>, <tf.Tensor: shape=(), dtype=float64, numpy=-331.9822946422317>, <tf.Tensor: shape=(), dtype=float64, numpy=217.8267631339107>, None]\n",
            "------------------------\n",
            "TQF cpu TARF price+delta+vega\n",
            "wall time + tracing:  11.1425940990448\n",
            "options per second + tracing:  0.08974570832529251\n",
            "wall time:  8.111238718032837\n",
            "options per second:  0.12328573165733718\n",
            "------------------------\n",
            "price tf.Tensor(-246.927357070608, shape=(), dtype=float64)\n",
            "greeks [<tf.Tensor: shape=(), dtype=float64, numpy=21.37942877385511>, <tf.Tensor: shape=(), dtype=float64, numpy=-331.98229464223164>, <tf.Tensor: shape=(), dtype=float64, numpy=217.82676313391073>, None]\n"
          ]
        }
      ]
    },
    {
      "cell_type": "code",
      "source": [
        "devices = ['gpu', 'cpu']\n",
        "\n",
        "for device in devices:\n",
        "    with tf.device('/{}:0'.format(device)):\n",
        "        t = time.time()\n",
        "        tarf_price, tarf_greeks = greeks_fn_xla(strikes, spot, sigma, rate, dividend)\n",
        "        time_tqf0 = time.time() - t\n",
        "\n",
        "        t = time.time()\n",
        "        tarf_price, tarf_greeks = greeks_fn_xla(strikes, spot, sigma, rate, dividend)\n",
        "        time_tqf = time.time() - t\n",
        "\n",
        "        print('------------------------')\n",
        "        print('TQF {} TARF XLA price+delta+vega'.format(device))\n",
        "        print('wall time + tracing: ', time_tqf0)\n",
        "        print('options per second + tracing: ', 1.0/time_tqf0)\n",
        "        print('wall time: ', time_tqf)\n",
        "        print('options per second: ', 1.0/time_tqf)\n",
        "        print('------------------------')\n",
        "        print('price', tarf_price)\n",
        "        print('greeks', tarf_greeks)"
      ],
      "metadata": {
        "colab": {
          "base_uri": "https://localhost:8080/"
        },
        "id": "5CMM52A4Wvqy",
        "outputId": "a84193e4-7196-496a-fa65-56fe9cbcf23f"
      },
      "id": "5CMM52A4Wvqy",
      "execution_count": 13,
      "outputs": [
        {
          "output_type": "stream",
          "name": "stdout",
          "text": [
            "------------------------\n",
            "TQF gpu TARF XLA price+delta+vega\n",
            "wall time + tracing:  3.4292311668395996\n",
            "options per second + tracing:  0.2916105538961394\n",
            "wall time:  0.06168770790100098\n",
            "options per second:  16.210684981274422\n",
            "------------------------\n",
            "price tf.Tensor(-246.927357070608, shape=(), dtype=float64)\n",
            "greeks [<tf.Tensor: shape=(), dtype=float64, numpy=21.37942877385511>, <tf.Tensor: shape=(), dtype=float64, numpy=-331.9822946422317>, <tf.Tensor: shape=(), dtype=float64, numpy=217.8267631339107>, <tf.Tensor: shape=(), dtype=float64, numpy=-217.8267631339107>]\n",
            "------------------------\n",
            "TQF cpu TARF XLA price+delta+vega\n",
            "wall time + tracing:  7.095331430435181\n",
            "options per second + tracing:  0.1409377433322613\n",
            "wall time:  5.588995933532715\n",
            "options per second:  0.1789230144184263\n",
            "------------------------\n",
            "price tf.Tensor(-246.927357070608, shape=(), dtype=float64)\n",
            "greeks [<tf.Tensor: shape=(), dtype=float64, numpy=21.37942877385511>, <tf.Tensor: shape=(), dtype=float64, numpy=-331.9822946422317>, <tf.Tensor: shape=(), dtype=float64, numpy=217.82676313391073>, <tf.Tensor: shape=(), dtype=float64, numpy=-217.82676313391073>]\n"
          ]
        }
      ]
    },
    {
      "cell_type": "code",
      "source": [
        "# devices = ['gpu'] # , 'cpu'\n",
        "\n",
        "# for device in devices:\n",
        "#     with tf.device('/{}:0'.format(device)):\n",
        "#         for spot in [15.0, 18.2, 20.0, 25.0]:\n",
        "#             # spot = tf.constant(spot, dtype=dtype)\n",
        "#             t = time.time()\n",
        "#             tarf_price, tarf_greeks = greeks_fn_xla(strikes, tf.convert_to_tensor(spot, dtype=dtype), sigma, rate, dividend)\n",
        "#             time_tqf0 = time.time() - t\n",
        "\n",
        "#             t = time.time()\n",
        "#             tarf_price, tarf_greeks = greeks_fn_xla(strikes, tf.convert_to_tensor(spot, dtype=dtype), sigma, rate, dividend)\n",
        "#             time_tqf = time.time() - t\n",
        "\n",
        "#             print('------------------------')\n",
        "#             print('TQF {} TARF XLA price+delta+vega spot: {}'.format(device, spot))\n",
        "#             print('wall time + tracing: ', time_tqf0)\n",
        "#             print('options per second + tracing: ', 1.0/time_tqf0)\n",
        "#             print('wall time: ', time_tqf)\n",
        "#             print('options per second: ', 1.0/time_tqf)\n",
        "#             print('------------------------')\n",
        "#             print('price', tarf_price)\n",
        "#             print('greeks', tarf_greeks)\n",
        "#             # print(greeks_fn_xla.pretty_printed_concrete_signatures())            "
      ],
      "metadata": {
        "id": "bD7H3WCWQYZN"
      },
      "id": "bD7H3WCWQYZN",
      "execution_count": 14,
      "outputs": []
    },
    {
      "cell_type": "code",
      "source": [
        "devices = ['gpu'] # , 'cpu'\n",
        "\n",
        "for device in devices:\n",
        "    with tf.device('/{}:0'.format(device)):\n",
        "        for spot in [tf.convert_to_tensor(x, tf.float64) for x in [15.0, 18.2, 20.0, 25.0]]:\n",
        "            t = time.time()\n",
        "            tarf_price, tarf_greeks = greeks_fn_xla(strikes, spot, sigma, rate, dividend)\n",
        "            time_tqf0 = time.time() - t\n",
        "\n",
        "            t = time.time()\n",
        "            tarf_price, tarf_greeks = greeks_fn_xla(strikes, spot, sigma, rate, dividend)\n",
        "            time_tqf = time.time() - t\n",
        "\n",
        "            print('------------------------')\n",
        "            print('TQF {} TARF XLA price+delta+vega spot: {}'.format(device, spot))\n",
        "            print('wall time + tracing: ', time_tqf0)\n",
        "            print('options per second + tracing: ', 1.0/time_tqf0)\n",
        "            print('wall time: ', time_tqf)\n",
        "            print('options per second: ', 1.0/time_tqf)\n",
        "            print('------------------------')\n",
        "            print('price', tarf_price)\n",
        "            print('greeks', tarf_greeks)\n",
        "            # print(greeks_fn_xla.pretty_printed_concrete_signatures())            "
      ],
      "metadata": {
        "colab": {
          "base_uri": "https://localhost:8080/"
        },
        "id": "QZAs9bRZDmpu",
        "outputId": "df9b0143-15a4-4c49-e724-bdc6d38c6be6"
      },
      "id": "QZAs9bRZDmpu",
      "execution_count": 15,
      "outputs": [
        {
          "output_type": "stream",
          "name": "stdout",
          "text": [
            "------------------------\n",
            "TQF gpu TARF XLA price+delta+vega spot: 15.0\n",
            "wall time + tracing:  1.2935822010040283\n",
            "options per second + tracing:  0.7730471238888714\n",
            "wall time:  0.05926394462585449\n",
            "options per second:  16.873665874136563\n",
            "------------------------\n",
            "price tf.Tensor(-489.18585120429816, shape=(), dtype=float64)\n",
            "greeks [<tf.Tensor: shape=(), dtype=float64, numpy=47.21793991971346>, <tf.Tensor: shape=(), dtype=float64, numpy=-375.1297930074455>, <tf.Tensor: shape=(), dtype=float64, numpy=358.638751028938>, <tf.Tensor: shape=(), dtype=float64, numpy=-358.638751028938>]\n",
            "------------------------\n",
            "TQF gpu TARF XLA price+delta+vega spot: 18.2\n",
            "wall time + tracing:  1.2760756015777588\n",
            "options per second + tracing:  0.7836526290163257\n",
            "wall time:  0.05937552452087402\n",
            "options per second:  16.841956480711858\n",
            "------------------------\n",
            "price tf.Tensor(-234.51510001171167, shape=(), dtype=float64)\n",
            "greeks [<tf.Tensor: shape=(), dtype=float64, numpy=20.189230768587276>, <tf.Tensor: shape=(), dtype=float64, numpy=-324.0551695417529>, <tf.Tensor: shape=(), dtype=float64, numpy=208.80456382277578>, <tf.Tensor: shape=(), dtype=float64, numpy=-208.80456382277578>]\n",
            "------------------------\n",
            "TQF gpu TARF XLA price+delta+vega spot: 20.0\n",
            "wall time + tracing:  1.2835893630981445\n",
            "options per second + tracing:  0.7790653527903526\n",
            "wall time:  0.05919790267944336\n",
            "options per second:  16.892490354176903\n",
            "------------------------\n",
            "price tf.Tensor(-133.88846544849437, shape=(), dtype=float64)\n",
            "greeks [<tf.Tensor: shape=(), dtype=float64, numpy=11.051056727575284>, <tf.Tensor: shape=(), dtype=float64, numpy=-230.47383157085534>, <tf.Tensor: shape=(), dtype=float64, numpy=127.45357443107382>, <tf.Tensor: shape=(), dtype=float64, numpy=-127.45357443107382>]\n",
            "------------------------\n",
            "TQF gpu TARF XLA price+delta+vega spot: 25.0\n",
            "wall time + tracing:  1.2682995796203613\n",
            "options per second + tracing:  0.7884572510063662\n",
            "wall time:  0.05924534797668457\n",
            "options per second:  16.878962385258337\n",
            "------------------------\n",
            "price tf.Tensor(4.951110958164982, shape=(), dtype=float64)\n",
            "greeks [<tf.Tensor: shape=(), dtype=float64, numpy=0.0030054383265992607>, <tf.Tensor: shape=(), dtype=float64, numpy=-0.11210128640365608>, <tf.Tensor: shape=(), dtype=float64, numpy=0.041917331687479825>, <tf.Tensor: shape=(), dtype=float64, numpy=-0.041917331687479825>]\n"
          ]
        }
      ]
    },
    {
      "cell_type": "code",
      "source": [
        "print(greeks_fn_xla.pretty_printed_concrete_signatures())  "
      ],
      "metadata": {
        "id": "55DYkXuJQaE8",
        "outputId": "c0864235-2a70-4748-a6e5-29d150e5ab75",
        "colab": {
          "base_uri": "https://localhost:8080/"
        }
      },
      "id": "55DYkXuJQaE8",
      "execution_count": 16,
      "outputs": [
        {
          "output_type": "stream",
          "name": "stdout",
          "text": [
            "greeks_fn_xla(strikes, spot, sigma, rate, dividend)\n",
            "  Args:\n",
            "    strikes: float64 Tensor, shape=()\n",
            "    spot: float64 Tensor, shape=()\n",
            "    sigma: float64 Tensor, shape=()\n",
            "    rate: float64 Tensor, shape=()\n",
            "    dividend: float64 Tensor, shape=()\n",
            "  Returns:\n",
            "    (<1>, [<2>, <3>, <4>, <5>])\n",
            "      <1>: float64 Tensor, shape=()\n",
            "      <2>: float64 Tensor, shape=()\n",
            "      <3>: float64 Tensor, shape=()\n",
            "      <4>: float64 Tensor, shape=()\n",
            "      <5>: float64 Tensor, shape=()\n"
          ]
        }
      ]
    },
    {
      "cell_type": "code",
      "execution_count": 17,
      "id": "146a7a20",
      "metadata": {
        "id": "146a7a20"
      },
      "outputs": [],
      "source": [
        "@tf.function(jit_compile=False,\n",
        "             input_signature=[tf.TensorSpec([], dtype=tf.float64),\n",
        "                            tf.TensorSpec([], dtype=tf.float64),\n",
        "                            tf.TensorSpec([], dtype=tf.float64),\n",
        "                            tf.TensorSpec([], dtype=tf.float64),\n",
        "                            tf.TensorSpec([], dtype=tf.float64)\n",
        "                               ])\n",
        "def delta_fn(strikes, spot, sigma, rate, dividend):\n",
        "    fn = lambda spot: price_eu_options(strikes, spot, sigma, rate, dividend)\n",
        "    return tff.math.fwd_gradient(fn, spot, use_gradient_tape=True)\n",
        "\n",
        "@tf.function(jit_compile=True,\n",
        "             input_signature=[tf.TensorSpec([], dtype=tf.float64),\n",
        "                            tf.TensorSpec([], dtype=tf.float64),\n",
        "                            tf.TensorSpec([], dtype=tf.float64),\n",
        "                            tf.TensorSpec([], dtype=tf.float64),\n",
        "                            tf.TensorSpec([], dtype=tf.float64)\n",
        "                               ])\n",
        "def delta_fn_xla(strikes, spot, sigma, rate, dividend):\n",
        "    fn = lambda spot: price_eu_options_xla(strikes, spot, sigma, rate, dividend)\n",
        "    return tff.math.fwd_gradient(fn, spot, use_gradient_tape=True)"
      ]
    },
    {
      "cell_type": "code",
      "source": [
        "@tf.function(jit_compile=False,\n",
        "             input_signature=[tf.TensorSpec([], dtype=tf.float64),\n",
        "                            tf.TensorSpec([], dtype=tf.float64),\n",
        "                            tf.TensorSpec([], dtype=tf.float64),\n",
        "                            tf.TensorSpec([], dtype=tf.float64),\n",
        "                            tf.TensorSpec([], dtype=tf.float64)\n",
        "                               ])\n",
        "def vega_fn(strikes, spot, sigma, rate, dividend):\n",
        "    fn = lambda sigma: price_eu_options(strikes, spot, sigma, rate, dividend)\n",
        "    return tff.math.fwd_gradient(fn, sigma, use_gradient_tape=True)"
      ],
      "metadata": {
        "id": "e0_Jl2wbuxau"
      },
      "id": "e0_Jl2wbuxau",
      "execution_count": 18,
      "outputs": []
    },
    {
      "cell_type": "code",
      "execution_count": 19,
      "id": "fa8f6006",
      "metadata": {
        "id": "fa8f6006",
        "colab": {
          "base_uri": "https://localhost:8080/"
        },
        "outputId": "4d2a949f-1df3-4ce3-a3bd-1c17f6d12c70"
      },
      "outputs": [
        {
          "output_type": "stream",
          "name": "stderr",
          "text": [
            "/usr/local/lib/python3.7/dist-packages/tensorflow/python/framework/indexed_slices.py:446: UserWarning: Converting sparse IndexedSlices(IndexedSlices(indices=Tensor(\"gradients/gradients/while/cond/cond_1/pfor/DynamicStitch_1_grad/GatherV2_grad/Reshape_1:0\", shape=(None,), dtype=int32), values=Tensor(\"gradients/gradients/while/cond/cond_1/pfor/DynamicStitch_1_grad/GatherV2_grad/Reshape:0\", shape=(None,), dtype=float64), dense_shape=Tensor(\"gradients/gradients/while/cond/cond_1/pfor/DynamicStitch_1_grad/GatherV2_grad/Cast:0\", shape=(1,), dtype=int32))) to a dense Tensor of unknown shape. This may consume a large amount of memory.\n",
            "  \"shape. This may consume a large amount of memory.\" % value)\n",
            "/usr/local/lib/python3.7/dist-packages/tensorflow/python/framework/indexed_slices.py:446: UserWarning: Converting sparse IndexedSlices(IndexedSlices(indices=Tensor(\"gradients/concat_1:0\", shape=(None,), dtype=int32), values=Tensor(\"gradients/concat:0\", shape=(None,), dtype=float64), dense_shape=Tensor(\"gradients/gradients/while/cond/cond_2/pfor/DynamicStitch_1_grad/GatherV2_grad/Cast:0\", shape=(1,), dtype=int32))) to a dense Tensor of unknown shape. This may consume a large amount of memory.\n",
            "  \"shape. This may consume a large amount of memory.\" % value)\n",
            "/usr/local/lib/python3.7/dist-packages/tensorflow/python/framework/indexed_slices.py:446: UserWarning: Converting sparse IndexedSlices(IndexedSlices(indices=Tensor(\"gradients/gradients/while_grad/while_grad_grad/Identity_4:0\", shape=(None,), dtype=int32), values=Tensor(\"gradients/gradients/while_grad/while_grad_grad/Identity_3:0\", shape=(None,), dtype=float64), dense_shape=Tensor(\"gradients/gradients/while_grad/while_grad_grad/Identity_5:0\", shape=(1,), dtype=int32))) to a dense Tensor of unknown shape. This may consume a large amount of memory.\n",
            "  \"shape. This may consume a large amount of memory.\" % value)\n",
            "/usr/local/lib/python3.7/dist-packages/tensorflow/python/framework/indexed_slices.py:446: UserWarning: Converting sparse IndexedSlices(IndexedSlices(indices=Tensor(\"gradients/gradients/while_grad/while_grad_grad/Identity_7:0\", shape=(None,), dtype=int32), values=Tensor(\"gradients/gradients/while_grad/while_grad_grad/Identity_6:0\", shape=(None,), dtype=float64), dense_shape=Tensor(\"gradients/gradients/while_grad/while_grad_grad/Identity_8:0\", shape=(1,), dtype=int32))) to a dense Tensor of unknown shape. This may consume a large amount of memory.\n",
            "  \"shape. This may consume a large amount of memory.\" % value)\n"
          ]
        },
        {
          "output_type": "stream",
          "name": "stdout",
          "text": [
            "------------------------\n",
            "TQF gpu TARF price+delta+vega\n",
            "wall time + tracing:  18.301156520843506\n",
            "options per second + tracing:  0.05464135552641619\n",
            "wall time:  6.987584590911865\n",
            "options per second:  0.14311096874599727\n",
            "------------------------\n",
            "price tf.Tensor(4.951110958164982, shape=(), dtype=float64)\n",
            "delta tf.Tensor(0.00300543832659926, shape=(), dtype=float64)\n",
            "vega tf.Tensor(-0.11210128640365602, shape=(), dtype=float64)\n",
            "------------------------\n",
            "TQF cpu TARF price+delta+vega\n",
            "wall time + tracing:  50.33869290351868\n",
            "options per second + tracing:  0.019865434367091005\n",
            "wall time:  53.090919971466064\n",
            "options per second:  0.018835612578148093\n",
            "------------------------\n",
            "price tf.Tensor(4.951110958164982, shape=(), dtype=float64)\n",
            "delta tf.Tensor(0.003005438326599259, shape=(), dtype=float64)\n",
            "vega tf.Tensor(-0.11210128640365602, shape=(), dtype=float64)\n"
          ]
        }
      ],
      "source": [
        "devices = ['gpu', 'cpu']\n",
        "\n",
        "for device in devices:\n",
        "    with tf.device('/{}:0'.format(device)):\n",
        "        t = time.time()\n",
        "        tarf_price = price_eu_options(strikes, spot, sigma, rate, dividend)\n",
        "        tarf_delta = delta_fn(strikes, spot, sigma, rate, dividend)\n",
        "        tarf_vega = vega_fn(strikes, spot, sigma, rate, dividend)\n",
        "        time_tqf0 = time.time() - t\n",
        "\n",
        "        t = time.time()\n",
        "        tarf_price = price_eu_options(strikes, spot, sigma, rate, dividend)\n",
        "        tarf_delta = delta_fn(strikes, spot, sigma, rate, dividend)\n",
        "        tarf_vega = vega_fn(strikes, spot, sigma, rate, dividend)\n",
        "        time_tqf = time.time() - t\n",
        "\n",
        "        print('------------------------')\n",
        "        print('TQF {} TARF price+delta+vega'.format(device))\n",
        "        print('wall time + tracing: ', time_tqf0)\n",
        "        print('options per second + tracing: ', 1.0/time_tqf0)\n",
        "        print('wall time: ', time_tqf)\n",
        "        print('options per second: ', 1.0/time_tqf)\n",
        "        print('------------------------')\n",
        "        print('price', tarf_price)\n",
        "        print('delta', tarf_delta)\n",
        "        print('vega', tarf_vega)"
      ]
    },
    {
      "cell_type": "code",
      "execution_count": 20,
      "id": "cb03ad7b",
      "metadata": {
        "id": "cb03ad7b",
        "outputId": "25b900b1-2a19-4bae-c99f-ad9d8b72d97b",
        "colab": {
          "base_uri": "https://localhost:8080/",
          "height": 415
        }
      },
      "outputs": [
        {
          "output_type": "error",
          "ename": "InternalError",
          "evalue": "ignored",
          "traceback": [
            "\u001b[0;31m---------------------------------------------------------------------------\u001b[0m",
            "\u001b[0;31mInternalError\u001b[0m                             Traceback (most recent call last)",
            "\u001b[0;32m<ipython-input-20-06816f144b39>\u001b[0m in \u001b[0;36m<module>\u001b[0;34m()\u001b[0m\n\u001b[1;32m      4\u001b[0m     \u001b[0;32mwith\u001b[0m \u001b[0mtf\u001b[0m\u001b[0;34m.\u001b[0m\u001b[0mdevice\u001b[0m\u001b[0;34m(\u001b[0m\u001b[0;34m'/{}:0'\u001b[0m\u001b[0;34m.\u001b[0m\u001b[0mformat\u001b[0m\u001b[0;34m(\u001b[0m\u001b[0mdevice\u001b[0m\u001b[0;34m)\u001b[0m\u001b[0;34m)\u001b[0m\u001b[0;34m:\u001b[0m\u001b[0;34m\u001b[0m\u001b[0;34m\u001b[0m\u001b[0m\n\u001b[1;32m      5\u001b[0m         \u001b[0mt\u001b[0m \u001b[0;34m=\u001b[0m \u001b[0mtime\u001b[0m\u001b[0;34m.\u001b[0m\u001b[0mtime\u001b[0m\u001b[0;34m(\u001b[0m\u001b[0;34m)\u001b[0m\u001b[0;34m\u001b[0m\u001b[0;34m\u001b[0m\u001b[0m\n\u001b[0;32m----> 6\u001b[0;31m         \u001b[0mtarf_delta\u001b[0m \u001b[0;34m=\u001b[0m \u001b[0mdelta_fn_xla\u001b[0m\u001b[0;34m(\u001b[0m\u001b[0mstrikes\u001b[0m\u001b[0;34m,\u001b[0m \u001b[0mspot\u001b[0m\u001b[0;34m,\u001b[0m \u001b[0msigma\u001b[0m\u001b[0;34m,\u001b[0m \u001b[0mrate\u001b[0m\u001b[0;34m,\u001b[0m \u001b[0mdividend\u001b[0m\u001b[0;34m)\u001b[0m\u001b[0;34m\u001b[0m\u001b[0;34m\u001b[0m\u001b[0m\n\u001b[0m\u001b[1;32m      7\u001b[0m         \u001b[0mtime_tqf0\u001b[0m \u001b[0;34m=\u001b[0m \u001b[0mtime\u001b[0m\u001b[0;34m.\u001b[0m\u001b[0mtime\u001b[0m\u001b[0;34m(\u001b[0m\u001b[0;34m)\u001b[0m \u001b[0;34m-\u001b[0m \u001b[0mt\u001b[0m\u001b[0;34m\u001b[0m\u001b[0;34m\u001b[0m\u001b[0m\n\u001b[1;32m      8\u001b[0m \u001b[0;34m\u001b[0m\u001b[0m\n",
            "\u001b[0;32m/usr/local/lib/python3.7/dist-packages/tensorflow/python/util/traceback_utils.py\u001b[0m in \u001b[0;36merror_handler\u001b[0;34m(*args, **kwargs)\u001b[0m\n\u001b[1;32m    151\u001b[0m     \u001b[0;32mexcept\u001b[0m \u001b[0mException\u001b[0m \u001b[0;32mas\u001b[0m \u001b[0me\u001b[0m\u001b[0;34m:\u001b[0m\u001b[0;34m\u001b[0m\u001b[0;34m\u001b[0m\u001b[0m\n\u001b[1;32m    152\u001b[0m       \u001b[0mfiltered_tb\u001b[0m \u001b[0;34m=\u001b[0m \u001b[0m_process_traceback_frames\u001b[0m\u001b[0;34m(\u001b[0m\u001b[0me\u001b[0m\u001b[0;34m.\u001b[0m\u001b[0m__traceback__\u001b[0m\u001b[0;34m)\u001b[0m\u001b[0;34m\u001b[0m\u001b[0;34m\u001b[0m\u001b[0m\n\u001b[0;32m--> 153\u001b[0;31m       \u001b[0;32mraise\u001b[0m \u001b[0me\u001b[0m\u001b[0;34m.\u001b[0m\u001b[0mwith_traceback\u001b[0m\u001b[0;34m(\u001b[0m\u001b[0mfiltered_tb\u001b[0m\u001b[0;34m)\u001b[0m \u001b[0;32mfrom\u001b[0m \u001b[0;32mNone\u001b[0m\u001b[0;34m\u001b[0m\u001b[0;34m\u001b[0m\u001b[0m\n\u001b[0m\u001b[1;32m    154\u001b[0m     \u001b[0;32mfinally\u001b[0m\u001b[0;34m:\u001b[0m\u001b[0;34m\u001b[0m\u001b[0;34m\u001b[0m\u001b[0m\n\u001b[1;32m    155\u001b[0m       \u001b[0;32mdel\u001b[0m \u001b[0mfiltered_tb\u001b[0m\u001b[0;34m\u001b[0m\u001b[0;34m\u001b[0m\u001b[0m\n",
            "\u001b[0;32m/usr/local/lib/python3.7/dist-packages/tensorflow/python/eager/execute.py\u001b[0m in \u001b[0;36mquick_execute\u001b[0;34m(op_name, num_outputs, inputs, attrs, ctx, name)\u001b[0m\n\u001b[1;32m     53\u001b[0m     \u001b[0mctx\u001b[0m\u001b[0;34m.\u001b[0m\u001b[0mensure_initialized\u001b[0m\u001b[0;34m(\u001b[0m\u001b[0;34m)\u001b[0m\u001b[0;34m\u001b[0m\u001b[0;34m\u001b[0m\u001b[0m\n\u001b[1;32m     54\u001b[0m     tensors = pywrap_tfe.TFE_Py_Execute(ctx._handle, device_name, op_name,\n\u001b[0;32m---> 55\u001b[0;31m                                         inputs, attrs, num_outputs)\n\u001b[0m\u001b[1;32m     56\u001b[0m   \u001b[0;32mexcept\u001b[0m \u001b[0mcore\u001b[0m\u001b[0;34m.\u001b[0m\u001b[0m_NotOkStatusException\u001b[0m \u001b[0;32mas\u001b[0m \u001b[0me\u001b[0m\u001b[0;34m:\u001b[0m\u001b[0;34m\u001b[0m\u001b[0;34m\u001b[0m\u001b[0m\n\u001b[1;32m     57\u001b[0m     \u001b[0;32mif\u001b[0m \u001b[0mname\u001b[0m \u001b[0;32mis\u001b[0m \u001b[0;32mnot\u001b[0m \u001b[0;32mNone\u001b[0m\u001b[0;34m:\u001b[0m\u001b[0;34m\u001b[0m\u001b[0;34m\u001b[0m\u001b[0m\n",
            "\u001b[0;31mInternalError\u001b[0m: Propagate: Cannot find body function while_body_4598_grad_18742_grad_20574_const_0 for While node gradients/PartitionedCall_2/gradients/gradients/PartitionedCall_grad/PartitionedCall_15_grad/PartitionedCall/gradients/gradients/while_grad/while_grad_grad/gradients/while_grad/while_grad_grad [Op:__inference_delta_fn_xla_21306]"
          ]
        }
      ],
      "source": [
        "devices = ['gpu', 'cpu']\n",
        "\n",
        "for device in devices:\n",
        "    with tf.device('/{}:0'.format(device)):\n",
        "        t = time.time()\n",
        "        tarf_delta = delta_fn_xla(strikes, spot, sigma, rate, dividend)\n",
        "        time_tqf0 = time.time() - t\n",
        "\n",
        "        t = time.time()\n",
        "        tarf_delta = delta_fn_xla(strikes, spot, sigma, rate, dividend)\n",
        "        time_tqf = time.time() - t\n",
        "\n",
        "        print('------------------------')\n",
        "        print('TQF {} TARF'.format(device))\n",
        "        print('wall time + tracing: ', time_tqf0)\n",
        "        print('options per second + tracing: ', 1.0/time_tqf0)\n",
        "        print('wall time: ', time_tqf)\n",
        "        print('options per second: ', 1.0/time_tqf)\n",
        "        print('------------------------')\n",
        "        print('delta', tarf_delta)"
      ]
    },
    {
      "cell_type": "code",
      "execution_count": null,
      "id": "e7cbeabd",
      "metadata": {
        "id": "e7cbeabd"
      },
      "outputs": [],
      "source": [
        ""
      ]
    }
  ],
  "metadata": {
    "kernelspec": {
      "display_name": "Python 3 (ipykernel)",
      "language": "python",
      "name": "python3"
    },
    "language_info": {
      "codemirror_mode": {
        "name": "ipython",
        "version": 3
      },
      "file_extension": ".py",
      "mimetype": "text/x-python",
      "name": "python",
      "nbconvert_exporter": "python",
      "pygments_lexer": "ipython3",
      "version": "3.7.9"
    },
    "colab": {
      "name": "TARF_MC_Performance_TQF.ipynb",
      "provenance": [],
      "include_colab_link": true
    },
    "accelerator": "GPU"
  },
  "nbformat": 4,
  "nbformat_minor": 5
}
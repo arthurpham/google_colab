{
  "cells": [
    {
      "cell_type": "code",
      "execution_count": 1,
      "id": "f3a6e055",
      "metadata": {
        "id": "f3a6e055",
        "outputId": "abdde7a5-e158-4e4f-d382-5f003eec508c",
        "colab": {
          "base_uri": "https://localhost:8080/"
        }
      },
      "outputs": [
        {
          "output_type": "stream",
          "name": "stdout",
          "text": [
            "Requirement already satisfied: tf-quant-finance in /usr/local/lib/python3.7/dist-packages (0.0.1.dev32)\n",
            "Requirement already satisfied: tensorflow-probability>=0.12.1 in /usr/local/lib/python3.7/dist-packages (from tf-quant-finance) (0.16.0)\n",
            "Requirement already satisfied: protobuf in /usr/local/lib/python3.7/dist-packages (from tf-quant-finance) (3.17.3)\n",
            "Requirement already satisfied: numpy>=1.21 in /usr/local/lib/python3.7/dist-packages (from tf-quant-finance) (1.21.6)\n",
            "Requirement already satisfied: attrs>=18.2.0 in /usr/local/lib/python3.7/dist-packages (from tf-quant-finance) (21.4.0)\n",
            "Requirement already satisfied: decorator in /usr/local/lib/python3.7/dist-packages (from tensorflow-probability>=0.12.1->tf-quant-finance) (4.4.2)\n",
            "Requirement already satisfied: gast>=0.3.2 in /usr/local/lib/python3.7/dist-packages (from tensorflow-probability>=0.12.1->tf-quant-finance) (0.5.3)\n",
            "Requirement already satisfied: dm-tree in /usr/local/lib/python3.7/dist-packages (from tensorflow-probability>=0.12.1->tf-quant-finance) (0.1.7)\n",
            "Requirement already satisfied: cloudpickle>=1.3 in /usr/local/lib/python3.7/dist-packages (from tensorflow-probability>=0.12.1->tf-quant-finance) (1.3.0)\n",
            "Requirement already satisfied: six>=1.10.0 in /usr/local/lib/python3.7/dist-packages (from tensorflow-probability>=0.12.1->tf-quant-finance) (1.15.0)\n",
            "Requirement already satisfied: absl-py in /usr/local/lib/python3.7/dist-packages (from tensorflow-probability>=0.12.1->tf-quant-finance) (1.0.0)\n",
            "Requirement already satisfied: QuantLib-Python in /usr/local/lib/python3.7/dist-packages (1.18)\n",
            "Requirement already satisfied: QuantLib in /usr/local/lib/python3.7/dist-packages (from QuantLib-Python) (1.26)\n"
          ]
        }
      ],
      "source": [
        "# !pip install --upgrade tensorflow --user\n",
        "!pip install tf-quant-finance\n",
        "!pip install QuantLib-Python"
      ]
    },
    {
      "cell_type": "code",
      "execution_count": 2,
      "id": "a83401ca",
      "metadata": {
        "id": "a83401ca"
      },
      "outputs": [],
      "source": [
        "import os\n",
        "# reduce number of threads\n",
        "os.environ['TF_NUM_INTEROP_THREADS'] = '1'\n",
        "os.environ['TF_NUM_INTRAOP_THREADS'] = '1'\n",
        "\n",
        "%matplotlib inline\n",
        "import numpy as np\n",
        "import matplotlib.pyplot as plt\n",
        "import tf_quant_finance as tff \n",
        "import tensorflow as tf\n",
        "import functools\n",
        "import pandas as pd\n",
        "import time\n",
        "import QuantLib as ql"
      ]
    },
    {
      "cell_type": "code",
      "execution_count": 3,
      "id": "c4306927",
      "metadata": {
        "id": "c4306927",
        "outputId": "02c94bdb-01b4-4366-ff78-b23d1c643235",
        "colab": {
          "base_uri": "https://localhost:8080/"
        }
      },
      "outputs": [
        {
          "output_type": "stream",
          "name": "stdout",
          "text": [
            "Fri May 20 16:57:04 2022       \n",
            "+-----------------------------------------------------------------------------+\n",
            "| NVIDIA-SMI 460.32.03    Driver Version: 460.32.03    CUDA Version: 11.2     |\n",
            "|-------------------------------+----------------------+----------------------+\n",
            "| GPU  Name        Persistence-M| Bus-Id        Disp.A | Volatile Uncorr. ECC |\n",
            "| Fan  Temp  Perf  Pwr:Usage/Cap|         Memory-Usage | GPU-Util  Compute M. |\n",
            "|                               |                      |               MIG M. |\n",
            "|===============================+======================+======================|\n",
            "|   0  Tesla P100-PCIE...  Off  | 00000000:00:04.0 Off |                    0 |\n",
            "| N/A   34C    P0    26W / 250W |      0MiB / 16280MiB |      0%      Default |\n",
            "|                               |                      |                  N/A |\n",
            "+-------------------------------+----------------------+----------------------+\n",
            "                                                                               \n",
            "+-----------------------------------------------------------------------------+\n",
            "| Processes:                                                                  |\n",
            "|  GPU   GI   CI        PID   Type   Process name                  GPU Memory |\n",
            "|        ID   ID                                                   Usage      |\n",
            "|=============================================================================|\n",
            "|  No running processes found                                                 |\n",
            "+-----------------------------------------------------------------------------+\n"
          ]
        }
      ],
      "source": [
        "!nvidia-smi"
      ]
    },
    {
      "cell_type": "code",
      "execution_count": 4,
      "id": "3cb3a485",
      "metadata": {
        "id": "3cb3a485"
      },
      "outputs": [],
      "source": [
        "spot = 18.0\n",
        "strike = 20.0\n",
        "K_lower = 15.0\n",
        "K_upper = 20.0\n",
        "K_knockout = 30.0\n",
        "tarf_target = 5.0\n",
        "step_up_ratio = 2.0\n",
        "\n",
        "r = 0.0\n",
        "volatility = 0.5"
      ]
    },
    {
      "cell_type": "code",
      "execution_count": 5,
      "id": "5e327c2d",
      "metadata": {
        "scrolled": false,
        "id": "5e327c2d"
      },
      "outputs": [],
      "source": [
        "#@title Set up parameters\n",
        "\n",
        "dtype = tf.float64 #@param\n",
        "num_samples = 200000 #@param\n",
        "num_timesteps = 53 #@param\n",
        "\n",
        "# expiries =tf.constant( [0.0, 0.5, 1.0], dtype=dtype) # This can be a rank 1 Tensor\n",
        "dt = 1. / num_timesteps\n",
        "# times = [1.0]\n",
        "times = tf.linspace(tf.constant(0.0, dtype=dtype), tf.constant(1.0, dtype=dtype), num_timesteps)\n",
        "rate = tf.constant(r, dtype=dtype)\n",
        "sigma = tf.constant(volatility, dtype=dtype)\n",
        "spot = tf.constant(spot, dtype=dtype)\n",
        "strikes = tf.constant(strike, dtype=dtype)\n",
        "\n",
        "def set_up_pricer(times, watch_params=False):\n",
        "    \"\"\"Set up European option pricing function under Black-Scholes model.\n",
        "    \n",
        "    Args:\n",
        "        expiries: List of expiries at which to to sample the trajectories.\n",
        "        watch_params: A Python bool. When `True`, gradients of the price function wrt the inputs\n",
        "          are computed more efficiently. \n",
        "    Returns:\n",
        "     A callable that accepts a rank 1 tensor of strikes, and scalar values for \n",
        "     the spots and  volatility values. The callable outputs prices of\n",
        "     the European call options on the grid `expiries x strikes`.\n",
        "    \"\"\"\n",
        "    def price_eu_options(strikes, spot, sigma):\n",
        "        # Define drift and volatility functions. \n",
        "        def drift_fn(t, x):\n",
        "          del t, x\n",
        "          return rate - 0.5 * sigma**2\n",
        "        def vol_fn(t, x):\n",
        "          del t, x\n",
        "          return tf.reshape(sigma, [1, 1])\n",
        "        # Use GenericItoProcess class to set up the Ito process\n",
        "        process = tff.models.GenericItoProcess(\n",
        "            dim=1,\n",
        "            drift_fn=drift_fn,\n",
        "            volatility_fn=vol_fn,\n",
        "            dtype=dtype)\n",
        "        log_spot = tf.math.log(tf.reduce_mean(spot))\n",
        "        if watch_params:\n",
        "            watch_params_list = [sigma]\n",
        "        else:\n",
        "            watch_params_list = None\n",
        "        paths = process.sample_paths(\n",
        "            times=times, num_samples=num_samples,\n",
        "            initial_state=log_spot, \n",
        "            watch_params=watch_params_list,\n",
        "            # Select a random number generator\n",
        "            random_type=tff.math.random.RandomType.SOBOL, #PSEUDO_ANTITHETIC\n",
        "            time_step=dt)\n",
        "        \n",
        "        @tf.function\n",
        "        def tarf_payoff(element):\n",
        "#             tf.print(element, summarize=-1)\n",
        "            total = tf.constant(0.0, dtype=tf.float64)\n",
        "            discounted_payoff = tf.constant(0.0, dtype=tf.float64)\n",
        "            df = tf.constant(1.0, dtype=tf.float64)\n",
        "            is_active = True\n",
        "            for cur_spot in element:\n",
        "                if is_active:\n",
        "                    cashflow = tf.constant(0.0, dtype=tf.float64)\n",
        "                    add_cashflow = False\n",
        "                    if K_knockout <= cur_spot:\n",
        "                        # early termination\n",
        "                        is_active = False\n",
        "                    if K_upper <= cur_spot: # cur_spot < K_knockout\n",
        "                        cashflow = cur_spot - strike\n",
        "                        add_cashflow = True\n",
        "                    if cur_spot < K_lower:\n",
        "                        cashflow = step_up_ratio*(cur_spot - strike)\n",
        "                        add_cashflow = True\n",
        "\n",
        "                    if add_cashflow:\n",
        "                        if total + cashflow >= tarf_target:\n",
        "                            cashflow = tarf_target - total\n",
        "                            total += cashflow\n",
        "                            discounted_payoff += df*cashflow\n",
        "                            is_active = False\n",
        "                        else:\n",
        "                            total += cashflow\n",
        "                            discounted_payoff += df*cashflow\n",
        "                     \n",
        "            return discounted_payoff\n",
        "\n",
        "        reshaped_paths = tf.reshape(tf.math.exp(paths), [num_samples, num_timesteps])\n",
        "        payoffs = tf.vectorized_map(tarf_payoff, reshaped_paths)\n",
        "        prices = tf.reduce_mean(payoffs)\n",
        "\n",
        "        return prices\n",
        "    return price_eu_options    \n",
        "\n",
        "price_eu_options = tf.function(set_up_pricer(times, watch_params=True),\n",
        "                               input_signature=[\n",
        "                                                tf.TensorSpec([], dtype=tf.float64),\n",
        "                                                tf.TensorSpec([], dtype=tf.float64),\n",
        "                                                tf.TensorSpec([], dtype=tf.float64)\n",
        "                               ])\n"
      ]
    },
    {
      "cell_type": "code",
      "source": [
        "def set_up_pricer_xla(times, watch_params=False):\n",
        "    \"\"\"Set up European option pricing function under Black-Scholes model.\n",
        "    \n",
        "    Args:\n",
        "        expiries: List of expiries at which to to sample the trajectories.\n",
        "        watch_params: A Python bool. When `True`, gradients of the price function wrt the inputs\n",
        "          are computed more efficiently. \n",
        "    Returns:\n",
        "     A callable that accepts a rank 1 tensor of strikes, and scalar values for \n",
        "     the spots and  volatility values. The callable outputs prices of\n",
        "     the European call options on the grid `expiries x strikes`.\n",
        "    \"\"\"\n",
        "    def price_eu_options(strikes, spot, sigma):\n",
        "        # Define drift and volatility functions. \n",
        "        def drift_fn(t, x):\n",
        "          del t, x\n",
        "          return rate - 0.5 * sigma**2\n",
        "        def vol_fn(t, x):\n",
        "          del t, x\n",
        "          return tf.reshape(sigma, [1, 1])\n",
        "        # Use GenericItoProcess class to set up the Ito process\n",
        "        process = tff.models.GenericItoProcess(\n",
        "            dim=1,\n",
        "            drift_fn=drift_fn,\n",
        "            volatility_fn=vol_fn,\n",
        "            dtype=dtype)\n",
        "        log_spot = tf.math.log(tf.reduce_mean(spot))\n",
        "        if watch_params:\n",
        "            watch_params_list = [sigma]\n",
        "        else:\n",
        "            watch_params_list = None\n",
        "        paths = process.sample_paths(\n",
        "            times=times, num_samples=num_samples,\n",
        "            initial_state=log_spot, \n",
        "            watch_params=watch_params_list,\n",
        "            # Select a random number generator\n",
        "            random_type=tff.math.random.RandomType.SOBOL, #PSEUDO_ANTITHETIC\n",
        "            time_step=dt)\n",
        "        \n",
        "        @tf.function\n",
        "        def tarf_payoff(paths):\n",
        "            # Shape [num_timesteps, num_samples]\n",
        "            paths = tf.transpose(paths)\n",
        "            cur_spot = paths[0]\n",
        "            total = tf.zeros_like(cur_spot)\n",
        "            discounted_payoff = tf.zeros_like(cur_spot)\n",
        "            df = tf.constant(1.0, dtype=tf.float64)\n",
        "            is_active = tf.ones([num_samples], dtype=tf.bool)\n",
        "            i = tf.constant(0, dtype=tf.int32)\n",
        "            # Explicitly define the while_loop \n",
        "            def cond(i, is_active, total, discounted_payoff):\n",
        "                return i < num_timesteps\n",
        "\n",
        "            def body(i, is_active, total, discounted_payoff):\n",
        "                # Here Tensors are of shape `[num_samples]`\n",
        "                cur_spot = paths[i]\n",
        "\n",
        "                cashflow = tf.zeros_like(cur_spot)\n",
        "                new_is_active = K_knockout > cur_spot\n",
        "                add_cashflow = tf.where(tf.logical_or(K_upper <= cur_spot, cur_spot < K_lower),\n",
        "                    True, \n",
        "                    False)\n",
        "\n",
        "                new_cashflow = tf.where(K_upper <= cur_spot,\n",
        "                    cur_spot - strike,\n",
        "                    cashflow\n",
        "                )\n",
        "                new_cashflow = tf.where(cur_spot < K_lower,\n",
        "                                    step_up_ratio*(cur_spot - strike),\n",
        "                                    new_cashflow)\n",
        "                new_is_active = tf.where(add_cashflow,\n",
        "                    tf.where(total + new_cashflow >= tarf_target,\n",
        "                            False, new_is_active),\n",
        "                    new_is_active)\n",
        "\n",
        "                new_cashflow = tf.where(add_cashflow,\n",
        "                    tf.where(total + new_cashflow >= tarf_target,\n",
        "                            tarf_target - total, new_cashflow),\n",
        "                    new_cashflow\n",
        "                    )\n",
        "\n",
        "                new_total = tf.where(add_cashflow,\n",
        "                    total + new_cashflow,\n",
        "                    total\n",
        "                    )\n",
        "                new_discounted_payoff = tf.where(add_cashflow,\n",
        "                    discounted_payoff + df * new_cashflow,\n",
        "                    discounted_payoff)\n",
        "                # Update values only if active\n",
        "                new_cashflow = tf.where(is_active, \n",
        "                                        new_cashflow,\n",
        "                                        cashflow)\n",
        "                new_total = tf.where(is_active, new_total, total)\n",
        "                new_discounted_payoff = tf.where(is_active, \n",
        "                                        new_discounted_payoff,\n",
        "                                        discounted_payoff)\n",
        "                new_is_active = tf.where(is_active, new_is_active, is_active)\n",
        "\n",
        "                return (i + 1, new_is_active, new_total, new_discounted_payoff)\n",
        "                \n",
        "            _, is_active, total, discounted_payoff = tf.while_loop(\n",
        "                cond, body, (i, is_active, total, discounted_payoff)\n",
        "            )\n",
        "            return discounted_payoff\n",
        "\n",
        "        reshaped_paths = tf.reshape(tf.math.exp(paths), [num_samples, num_timesteps])\n",
        "        payoffs = tarf_payoff(reshaped_paths)\n",
        "        prices = tf.reduce_mean(payoffs)\n",
        "\n",
        "        return prices\n",
        "    return price_eu_options\n",
        "\n",
        "price_eu_options_xla = tf.function(set_up_pricer_xla(times, watch_params=True),\n",
        "                               input_signature=[\n",
        "                                                tf.TensorSpec([], dtype=tf.float64),\n",
        "                                                tf.TensorSpec([], dtype=tf.float64),\n",
        "                                                tf.TensorSpec([], dtype=tf.float64)\n",
        "                               ], jit_compile=True)    "
      ],
      "metadata": {
        "id": "v4tluqTz9OEI"
      },
      "id": "v4tluqTz9OEI",
      "execution_count": 6,
      "outputs": []
    },
    {
      "cell_type": "code",
      "source": [
        "# device = \"/gpu:0\"\n",
        "# with tf.device(device):\n",
        "#     tarf_price = price_eu_options(strikes, spot, sigma)\n",
        "#     print('price', tarf_price)"
      ],
      "metadata": {
        "id": "hh25z8OTapHt"
      },
      "id": "hh25z8OTapHt",
      "execution_count": 7,
      "outputs": []
    },
    {
      "cell_type": "code",
      "source": [
        "# device = \"/gpu:0\"\n",
        "# with tf.device(device):\n",
        "#     tarf_price = price_eu_options_xla(strikes, spot, sigma)\n",
        "#     print('price', tarf_price)"
      ],
      "metadata": {
        "id": "Enn2yRUAapUF"
      },
      "id": "Enn2yRUAapUF",
      "execution_count": 8,
      "outputs": []
    },
    {
      "cell_type": "code",
      "source": [
        "devices = ['gpu', 'cpu']\n",
        "\n",
        "for device in devices:\n",
        "    with tf.device('/{}:0'.format(device)):\n",
        "        t = time.time()\n",
        "        tarf_price = price_eu_options(strikes, spot, sigma)\n",
        "        time_tqf0 = time.time() - t\n",
        "\n",
        "        t = time.time()\n",
        "        tarf_price = price_eu_options(strikes, spot, sigma)\n",
        "        time_tqf = time.time() - t\n",
        "\n",
        "        print('------------------------')\n",
        "        print('TQF {} TARF'.format(device))\n",
        "        print('wall time + tracing: ', time_tqf0)\n",
        "        print('options per second + tracing: ', 1.0/time_tqf0)\n",
        "        print('wall time: ', time_tqf)\n",
        "        print('options per second: ', 1.0/time_tqf)\n",
        "        print('------------------------')\n",
        "        print('price', tarf_price)"
      ],
      "metadata": {
        "id": "uyUXQuKsUSJW",
        "colab": {
          "base_uri": "https://localhost:8080/"
        },
        "outputId": "84a9715d-481e-41e2-9270-b8eebd79d686"
      },
      "id": "uyUXQuKsUSJW",
      "execution_count": 9,
      "outputs": [
        {
          "output_type": "stream",
          "name": "stdout",
          "text": [
            "------------------------\n",
            "TQF gpu TARF\n",
            "wall time + tracing:  25.84699273109436\n",
            "options per second + tracing:  0.03868922045994865\n",
            "wall time:  2.633629083633423\n",
            "options per second:  0.379704190774038\n",
            "------------------------\n",
            "price tf.Tensor(-246.927357070608, shape=(), dtype=float64)\n",
            "------------------------\n",
            "TQF cpu TARF\n",
            "wall time + tracing:  12.093277215957642\n",
            "options per second + tracing:  0.08269057114480544\n",
            "wall time:  9.068456172943115\n",
            "options per second:  0.11027235297046771\n",
            "------------------------\n",
            "price tf.Tensor(-246.927357070608, shape=(), dtype=float64)\n"
          ]
        }
      ]
    },
    {
      "cell_type": "code",
      "execution_count": 10,
      "id": "98958e3a",
      "metadata": {
        "id": "98958e3a",
        "colab": {
          "base_uri": "https://localhost:8080/"
        },
        "outputId": "62a49275-4e69-417f-fa80-b56b1bbc46d9"
      },
      "outputs": [
        {
          "output_type": "stream",
          "name": "stdout",
          "text": [
            "------------------------\n",
            "TQF gpu TARF XLA\n",
            "wall time + tracing:  3.5903868675231934\n",
            "options per second + tracing:  0.27852151784686197\n",
            "wall time:  0.492783784866333\n",
            "options per second:  2.0292875510732333\n",
            "------------------------\n",
            "price tf.Tensor(-246.927357070608, shape=(), dtype=float64)\n",
            "------------------------\n",
            "TQF cpu TARF XLA\n",
            "wall time + tracing:  12.866955280303955\n",
            "options per second + tracing:  0.07771846394233968\n",
            "wall time:  12.093838214874268\n",
            "options per second:  0.0826867353633105\n",
            "------------------------\n",
            "price tf.Tensor(-246.927357070608, shape=(), dtype=float64)\n"
          ]
        }
      ],
      "source": [
        "devices = ['gpu', 'cpu']\n",
        "\n",
        "for device in devices:\n",
        "    with tf.device('/{}:0'.format(device)):\n",
        "        t = time.time()\n",
        "        tarf_price = price_eu_options_xla(strikes, spot, sigma)\n",
        "        time_tqf0 = time.time() - t\n",
        "\n",
        "        t = time.time()\n",
        "        tarf_price = price_eu_options_xla(strikes, spot, sigma)\n",
        "        time_tqf = time.time() - t\n",
        "\n",
        "        print('------------------------')\n",
        "        print('TQF {} TARF XLA'.format(device))\n",
        "        print('wall time + tracing: ', time_tqf0)\n",
        "        print('options per second + tracing: ', 1.0/time_tqf0)\n",
        "        print('wall time: ', time_tqf)\n",
        "        print('options per second: ', 1.0/time_tqf)\n",
        "        print('------------------------')\n",
        "        print('price', tarf_price)"
      ]
    },
    {
      "cell_type": "code",
      "execution_count": 11,
      "id": "146a7a20",
      "metadata": {
        "id": "146a7a20"
      },
      "outputs": [],
      "source": [
        "@tf.function(jit_compile=False,\n",
        "             input_signature=[tf.TensorSpec([], dtype=tf.float64),\n",
        "                            tf.TensorSpec([], dtype=tf.float64),\n",
        "                            tf.TensorSpec([], dtype=tf.float64)\n",
        "                               ])\n",
        "def delta_fn(strikes, spot, sigma):\n",
        "    fn = lambda spot: price_eu_options(strikes, spot, sigma)\n",
        "    return tff.math.fwd_gradient(fn, spot, use_gradient_tape=True)\n",
        "\n",
        "@tf.function(jit_compile=True,\n",
        "             input_signature=[tf.TensorSpec([], dtype=tf.float64),\n",
        "                            tf.TensorSpec([], dtype=tf.float64),\n",
        "                            tf.TensorSpec([], dtype=tf.float64)\n",
        "                               ])\n",
        "def delta_fn_xla(strikes, spot, sigma):\n",
        "    fn = lambda spot: price_eu_options_xla(strikes, spot, sigma)\n",
        "    return tff.math.fwd_gradient(fn, spot, use_gradient_tape=True)"
      ]
    },
    {
      "cell_type": "code",
      "execution_count": 12,
      "id": "fa8f6006",
      "metadata": {
        "id": "fa8f6006",
        "outputId": "355913ba-e90c-44b7-bd02-9de74f3d6b1d",
        "colab": {
          "base_uri": "https://localhost:8080/"
        }
      },
      "outputs": [
        {
          "output_type": "stream",
          "name": "stderr",
          "text": [
            "/usr/local/lib/python3.7/dist-packages/tensorflow/python/framework/indexed_slices.py:446: UserWarning: Converting sparse IndexedSlices(IndexedSlices(indices=Tensor(\"gradients/while/cond/pfor/GatherV2_grad/Reshape_1:0\", shape=(None,), dtype=int32), values=Tensor(\"gradients/while/cond/pfor/GatherV2_grad/Reshape:0\", shape=(None,), dtype=float64), dense_shape=Tensor(\"gradients/while/cond/pfor/GatherV2_grad/Cast:0\", shape=(1,), dtype=int32))) to a dense Tensor of unknown shape. This may consume a large amount of memory.\n",
            "  \"shape. This may consume a large amount of memory.\" % value)\n",
            "/usr/local/lib/python3.7/dist-packages/tensorflow/python/framework/indexed_slices.py:446: UserWarning: Converting sparse IndexedSlices(IndexedSlices(indices=Tensor(\"gradients/while_grad/Identity_4:0\", shape=(None,), dtype=int32), values=Tensor(\"gradients/while_grad/Identity_3:0\", shape=(None,), dtype=float64), dense_shape=Tensor(\"gradients/while_grad/Identity_5:0\", shape=(1,), dtype=int32))) to a dense Tensor of unknown shape. This may consume a large amount of memory.\n",
            "  \"shape. This may consume a large amount of memory.\" % value)\n",
            "/usr/local/lib/python3.7/dist-packages/tensorflow/python/framework/indexed_slices.py:446: UserWarning: Converting sparse IndexedSlices(IndexedSlices(indices=Tensor(\"gradients/while_grad/Identity_7:0\", shape=(None,), dtype=int32), values=Tensor(\"gradients/while_grad/Identity_6:0\", shape=(None,), dtype=float64), dense_shape=Tensor(\"gradients/while_grad/Identity_8:0\", shape=(1,), dtype=int32))) to a dense Tensor of unknown shape. This may consume a large amount of memory.\n",
            "  \"shape. This may consume a large amount of memory.\" % value)\n",
            "/usr/local/lib/python3.7/dist-packages/tensorflow/python/framework/indexed_slices.py:446: UserWarning: Converting sparse IndexedSlices(IndexedSlices(indices=Tensor(\"gradients/gradients/while/cond/cond_1/pfor/DynamicStitch_1_grad/GatherV2_grad/Reshape_1:0\", shape=(None,), dtype=int32), values=Tensor(\"gradients/gradients/while/cond/cond_1/pfor/DynamicStitch_1_grad/GatherV2_grad/Reshape:0\", shape=(None,), dtype=float64), dense_shape=Tensor(\"gradients/gradients/while/cond/cond_1/pfor/DynamicStitch_1_grad/GatherV2_grad/Cast:0\", shape=(1,), dtype=int32))) to a dense Tensor of unknown shape. This may consume a large amount of memory.\n",
            "  \"shape. This may consume a large amount of memory.\" % value)\n",
            "/usr/local/lib/python3.7/dist-packages/tensorflow/python/framework/indexed_slices.py:446: UserWarning: Converting sparse IndexedSlices(IndexedSlices(indices=Tensor(\"gradients/concat_1:0\", shape=(None,), dtype=int32), values=Tensor(\"gradients/concat:0\", shape=(None,), dtype=float64), dense_shape=Tensor(\"gradients/gradients/while/cond/cond_2/pfor/DynamicStitch_1_grad/GatherV2_grad/Cast:0\", shape=(1,), dtype=int32))) to a dense Tensor of unknown shape. This may consume a large amount of memory.\n",
            "  \"shape. This may consume a large amount of memory.\" % value)\n",
            "/usr/local/lib/python3.7/dist-packages/tensorflow/python/framework/indexed_slices.py:446: UserWarning: Converting sparse IndexedSlices(IndexedSlices(indices=Tensor(\"gradients/gradients/while_grad/while_grad_grad/Identity_4:0\", shape=(None,), dtype=int32), values=Tensor(\"gradients/gradients/while_grad/while_grad_grad/Identity_3:0\", shape=(None,), dtype=float64), dense_shape=Tensor(\"gradients/gradients/while_grad/while_grad_grad/Identity_5:0\", shape=(1,), dtype=int32))) to a dense Tensor of unknown shape. This may consume a large amount of memory.\n",
            "  \"shape. This may consume a large amount of memory.\" % value)\n",
            "/usr/local/lib/python3.7/dist-packages/tensorflow/python/framework/indexed_slices.py:446: UserWarning: Converting sparse IndexedSlices(IndexedSlices(indices=Tensor(\"gradients/gradients/while_grad/while_grad_grad/Identity_7:0\", shape=(None,), dtype=int32), values=Tensor(\"gradients/gradients/while_grad/while_grad_grad/Identity_6:0\", shape=(None,), dtype=float64), dense_shape=Tensor(\"gradients/gradients/while_grad/while_grad_grad/Identity_8:0\", shape=(1,), dtype=int32))) to a dense Tensor of unknown shape. This may consume a large amount of memory.\n",
            "  \"shape. This may consume a large amount of memory.\" % value)\n"
          ]
        },
        {
          "output_type": "stream",
          "name": "stdout",
          "text": [
            "------------------------\n",
            "TQF gpu TARF\n",
            "wall time + tracing:  19.53795337677002\n",
            "options per second + tracing:  0.05118243352903928\n",
            "wall time:  3.3474767208099365\n",
            "options per second:  0.2987324732636365\n",
            "------------------------\n",
            "delta tf.Tensor(21.37942877385511, shape=(), dtype=float64)\n",
            "------------------------\n",
            "TQF cpu TARF\n",
            "wall time + tracing:  34.8807270526886\n",
            "options per second + tracing:  0.02866912717987397\n",
            "wall time:  22.293866395950317\n",
            "options per second:  0.04485538677946191\n",
            "------------------------\n",
            "delta tf.Tensor(21.37942877385511, shape=(), dtype=float64)\n"
          ]
        }
      ],
      "source": [
        "devices = ['gpu', 'cpu']\n",
        "\n",
        "for device in devices:\n",
        "    with tf.device('/{}:0'.format(device)):\n",
        "        t = time.time()\n",
        "        tarf_delta = delta_fn(strikes, spot, sigma)\n",
        "        time_tqf0 = time.time() - t\n",
        "\n",
        "        t = time.time()\n",
        "        tarf_delta = delta_fn(strikes, spot, sigma)\n",
        "        time_tqf = time.time() - t\n",
        "\n",
        "        print('------------------------')\n",
        "        print('TQF {} TARF'.format(device))\n",
        "        print('wall time + tracing: ', time_tqf0)\n",
        "        print('options per second + tracing: ', 1.0/time_tqf0)\n",
        "        print('wall time: ', time_tqf)\n",
        "        print('options per second: ', 1.0/time_tqf)\n",
        "        print('------------------------')\n",
        "        print('delta', tarf_delta)"
      ]
    },
    {
      "cell_type": "code",
      "execution_count": 12,
      "id": "cb03ad7b",
      "metadata": {
        "id": "cb03ad7b"
      },
      "outputs": [],
      "source": [
        ""
      ]
    },
    {
      "cell_type": "code",
      "execution_count": 12,
      "id": "e7cbeabd",
      "metadata": {
        "id": "e7cbeabd"
      },
      "outputs": [],
      "source": [
        ""
      ]
    }
  ],
  "metadata": {
    "kernelspec": {
      "display_name": "Python 3 (ipykernel)",
      "language": "python",
      "name": "python3"
    },
    "language_info": {
      "codemirror_mode": {
        "name": "ipython",
        "version": 3
      },
      "file_extension": ".py",
      "mimetype": "text/x-python",
      "name": "python",
      "nbconvert_exporter": "python",
      "pygments_lexer": "ipython3",
      "version": "3.7.9"
    },
    "colab": {
      "name": "TARF_MC_Performance_TQF.ipynb",
      "provenance": []
    },
    "accelerator": "GPU"
  },
  "nbformat": 4,
  "nbformat_minor": 5
}
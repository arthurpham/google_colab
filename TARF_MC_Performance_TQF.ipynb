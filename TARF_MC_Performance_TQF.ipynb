{
  "cells": [
    {
      "cell_type": "markdown",
      "metadata": {
        "id": "view-in-github",
        "colab_type": "text"
      },
      "source": [
        "<a href=\"https://colab.research.google.com/github/arthurpham/google_colab/blob/main/TARF_MC_Performance_TQF.ipynb\" target=\"_parent\"><img src=\"https://colab.research.google.com/assets/colab-badge.svg\" alt=\"Open In Colab\"/></a>"
      ]
    },
    {
      "cell_type": "code",
      "execution_count": 1,
      "id": "f3a6e055",
      "metadata": {
        "id": "f3a6e055",
        "outputId": "fc11a55b-0655-4d4f-8016-feef8f910068",
        "colab": {
          "base_uri": "https://localhost:8080/"
        }
      },
      "outputs": [
        {
          "output_type": "stream",
          "name": "stdout",
          "text": [
            "Looking in indexes: https://pypi.org/simple, https://us-python.pkg.dev/colab-wheels/public/simple/\n",
            "Requirement already satisfied: tf-quant-finance in /usr/local/lib/python3.7/dist-packages (0.0.1.dev32)\n",
            "Requirement already satisfied: tensorflow-probability>=0.12.1 in /usr/local/lib/python3.7/dist-packages (from tf-quant-finance) (0.16.0)\n",
            "Requirement already satisfied: protobuf in /usr/local/lib/python3.7/dist-packages (from tf-quant-finance) (3.17.3)\n",
            "Requirement already satisfied: numpy>=1.21 in /usr/local/lib/python3.7/dist-packages (from tf-quant-finance) (1.21.6)\n",
            "Requirement already satisfied: attrs>=18.2.0 in /usr/local/lib/python3.7/dist-packages (from tf-quant-finance) (21.4.0)\n",
            "Requirement already satisfied: six>=1.10.0 in /usr/local/lib/python3.7/dist-packages (from tensorflow-probability>=0.12.1->tf-quant-finance) (1.15.0)\n",
            "Requirement already satisfied: absl-py in /usr/local/lib/python3.7/dist-packages (from tensorflow-probability>=0.12.1->tf-quant-finance) (1.0.0)\n",
            "Requirement already satisfied: gast>=0.3.2 in /usr/local/lib/python3.7/dist-packages (from tensorflow-probability>=0.12.1->tf-quant-finance) (0.5.3)\n",
            "Requirement already satisfied: decorator in /usr/local/lib/python3.7/dist-packages (from tensorflow-probability>=0.12.1->tf-quant-finance) (4.4.2)\n",
            "Requirement already satisfied: cloudpickle>=1.3 in /usr/local/lib/python3.7/dist-packages (from tensorflow-probability>=0.12.1->tf-quant-finance) (1.3.0)\n",
            "Requirement already satisfied: dm-tree in /usr/local/lib/python3.7/dist-packages (from tensorflow-probability>=0.12.1->tf-quant-finance) (0.1.7)\n",
            "Looking in indexes: https://pypi.org/simple, https://us-python.pkg.dev/colab-wheels/public/simple/\n",
            "Requirement already satisfied: QuantLib-Python in /usr/local/lib/python3.7/dist-packages (1.18)\n",
            "Requirement already satisfied: QuantLib in /usr/local/lib/python3.7/dist-packages (from QuantLib-Python) (1.26)\n"
          ]
        }
      ],
      "source": [
        "# !pip install --upgrade tensorflow --user\n",
        "!pip install tf-quant-finance\n",
        "!pip install QuantLib-Python"
      ]
    },
    {
      "cell_type": "code",
      "execution_count": 2,
      "id": "a83401ca",
      "metadata": {
        "id": "a83401ca"
      },
      "outputs": [],
      "source": [
        "import os\n",
        "# reduce number of threads\n",
        "os.environ['TF_NUM_INTEROP_THREADS'] = '1'\n",
        "os.environ['TF_NUM_INTRAOP_THREADS'] = '1'\n",
        "\n",
        "%matplotlib inline\n",
        "import numpy as np\n",
        "import matplotlib.pyplot as plt\n",
        "import tf_quant_finance as tff \n",
        "import tensorflow as tf\n",
        "import functools\n",
        "import pandas as pd\n",
        "import time\n",
        "import QuantLib as ql"
      ]
    },
    {
      "cell_type": "code",
      "execution_count": 3,
      "id": "c4306927",
      "metadata": {
        "id": "c4306927",
        "outputId": "bfbe6958-bf1a-4dd6-9074-b11a08693ef9",
        "colab": {
          "base_uri": "https://localhost:8080/"
        }
      },
      "outputs": [
        {
          "output_type": "stream",
          "name": "stdout",
          "text": [
            "Wed May 25 15:17:05 2022       \n",
            "+-----------------------------------------------------------------------------+\n",
            "| NVIDIA-SMI 460.32.03    Driver Version: 460.32.03    CUDA Version: 11.2     |\n",
            "|-------------------------------+----------------------+----------------------+\n",
            "| GPU  Name        Persistence-M| Bus-Id        Disp.A | Volatile Uncorr. ECC |\n",
            "| Fan  Temp  Perf  Pwr:Usage/Cap|         Memory-Usage | GPU-Util  Compute M. |\n",
            "|                               |                      |               MIG M. |\n",
            "|===============================+======================+======================|\n",
            "|   0  Tesla P100-PCIE...  Off  | 00000000:00:04.0 Off |                    0 |\n",
            "| N/A   35C    P0    27W / 250W |      0MiB / 16280MiB |      0%      Default |\n",
            "|                               |                      |                  N/A |\n",
            "+-------------------------------+----------------------+----------------------+\n",
            "                                                                               \n",
            "+-----------------------------------------------------------------------------+\n",
            "| Processes:                                                                  |\n",
            "|  GPU   GI   CI        PID   Type   Process name                  GPU Memory |\n",
            "|        ID   ID                                                   Usage      |\n",
            "|=============================================================================|\n",
            "|  No running processes found                                                 |\n",
            "+-----------------------------------------------------------------------------+\n"
          ]
        }
      ],
      "source": [
        "!nvidia-smi"
      ]
    },
    {
      "cell_type": "code",
      "execution_count": 4,
      "id": "3cb3a485",
      "metadata": {
        "id": "3cb3a485"
      },
      "outputs": [],
      "source": [
        "spot = 18.0\n",
        "strike = 20.0\n",
        "K_lower = 15.0\n",
        "K_upper = 20.0\n",
        "K_knockout = 30.0\n",
        "tarf_target = 5.0\n",
        "step_up_ratio = 2.0\n",
        "\n",
        "r = 0.0\n",
        "volatility = 0.5"
      ]
    },
    {
      "cell_type": "code",
      "execution_count": 5,
      "id": "5e327c2d",
      "metadata": {
        "scrolled": false,
        "id": "5e327c2d"
      },
      "outputs": [],
      "source": [
        "#@title Set up parameters\n",
        "\n",
        "dtype = tf.float64 #@param\n",
        "num_samples = 200000 #@param\n",
        "num_timesteps = 53 #@param\n",
        "\n",
        "# expiries =tf.constant( [0.0, 0.5, 1.0], dtype=dtype) # This can be a rank 1 Tensor\n",
        "dt = 1. / num_timesteps\n",
        "# times = [1.0]\n",
        "times = tf.linspace(tf.constant(0.0, dtype=dtype), tf.constant(1.0, dtype=dtype), num_timesteps)\n",
        "rate = tf.constant(r, dtype=dtype)\n",
        "sigma = tf.constant(volatility, dtype=dtype)\n",
        "spot = tf.constant(spot, dtype=dtype)\n",
        "strikes = tf.constant(strike, dtype=dtype)\n",
        "\n",
        "def set_up_pricer(times, watch_params=False):\n",
        "    \"\"\"Set up European option pricing function under Black-Scholes model.\n",
        "    \n",
        "    Args:\n",
        "        expiries: List of expiries at which to to sample the trajectories.\n",
        "        watch_params: A Python bool. When `True`, gradients of the price function wrt the inputs\n",
        "          are computed more efficiently. \n",
        "    Returns:\n",
        "     A callable that accepts a rank 1 tensor of strikes, and scalar values for \n",
        "     the spots and  volatility values. The callable outputs prices of\n",
        "     the European call options on the grid `expiries x strikes`.\n",
        "    \"\"\"\n",
        "    def price_eu_options(strikes, spot, sigma):\n",
        "        # Define drift and volatility functions. \n",
        "        def drift_fn(t, x):\n",
        "          del t, x\n",
        "          return rate - 0.5 * sigma**2\n",
        "        def vol_fn(t, x):\n",
        "          del t, x\n",
        "          return tf.reshape(sigma, [1, 1])\n",
        "        # Use GenericItoProcess class to set up the Ito process\n",
        "        process = tff.models.GenericItoProcess(\n",
        "            dim=1,\n",
        "            drift_fn=drift_fn,\n",
        "            volatility_fn=vol_fn,\n",
        "            dtype=dtype)\n",
        "        log_spot = tf.math.log(tf.reduce_mean(spot))\n",
        "        if watch_params:\n",
        "            watch_params_list = [sigma]\n",
        "        else:\n",
        "            watch_params_list = None\n",
        "        paths = process.sample_paths(\n",
        "            times=times, num_samples=num_samples,\n",
        "            initial_state=log_spot, \n",
        "            watch_params=watch_params_list,\n",
        "            # Select a random number generator\n",
        "            random_type=tff.math.random.RandomType.SOBOL, #PSEUDO_ANTITHETIC\n",
        "            time_step=dt)\n",
        "        \n",
        "        @tf.function\n",
        "        def tarf_payoff(element):\n",
        "#             tf.print(element, summarize=-1)\n",
        "            total = tf.constant(0.0, dtype=tf.float64)\n",
        "            discounted_payoff = tf.constant(0.0, dtype=tf.float64)\n",
        "            df = tf.constant(1.0, dtype=tf.float64)\n",
        "            is_active = True\n",
        "            for cur_spot in element:\n",
        "                if is_active:\n",
        "                    cashflow = tf.constant(0.0, dtype=tf.float64)\n",
        "                    add_cashflow = False\n",
        "                    if K_knockout <= cur_spot:\n",
        "                        # early termination\n",
        "                        is_active = False\n",
        "                    if K_upper <= cur_spot: # cur_spot < K_knockout\n",
        "                        cashflow = cur_spot - strike\n",
        "                        add_cashflow = True\n",
        "                    if cur_spot < K_lower:\n",
        "                        cashflow = step_up_ratio*(cur_spot - strike)\n",
        "                        add_cashflow = True\n",
        "\n",
        "                    if add_cashflow:\n",
        "                        if total + cashflow >= tarf_target:\n",
        "                            cashflow = tarf_target - total\n",
        "                            total += cashflow\n",
        "                            discounted_payoff += df*cashflow\n",
        "                            is_active = False\n",
        "                        else:\n",
        "                            total += cashflow\n",
        "                            discounted_payoff += df*cashflow\n",
        "                     \n",
        "            return discounted_payoff\n",
        "\n",
        "        reshaped_paths = tf.reshape(tf.math.exp(paths), [num_samples, num_timesteps])\n",
        "        payoffs = tf.vectorized_map(tarf_payoff, reshaped_paths)\n",
        "        prices = tf.reduce_mean(payoffs)\n",
        "\n",
        "        return prices\n",
        "    return price_eu_options    \n",
        "\n",
        "price_eu_options = tf.function(set_up_pricer(times, watch_params=True),\n",
        "                               input_signature=[\n",
        "                                                tf.TensorSpec([], dtype=tf.float64),\n",
        "                                                tf.TensorSpec([], dtype=tf.float64),\n",
        "                                                tf.TensorSpec([], dtype=tf.float64)\n",
        "                               ])\n"
      ]
    },
    {
      "cell_type": "code",
      "source": [
        "def set_up_pricer_xla(times, watch_params=False):\n",
        "    \"\"\"Set up European option pricing function under Black-Scholes model.\n",
        "    \n",
        "    Args:\n",
        "        expiries: List of expiries at which to to sample the trajectories.\n",
        "        watch_params: A Python bool. When `True`, gradients of the price function wrt the inputs\n",
        "          are computed more efficiently. \n",
        "    Returns:\n",
        "     A callable that accepts a rank 1 tensor of strikes, and scalar values for \n",
        "     the spots and  volatility values. The callable outputs prices of\n",
        "     the European call options on the grid `expiries x strikes`.\n",
        "    \"\"\"\n",
        "    def price_eu_options(strikes, spot, sigma):\n",
        "        # Define drift and volatility functions. \n",
        "        def drift_fn(t, x):\n",
        "          del t, x\n",
        "          return rate - 0.5 * sigma**2\n",
        "        def vol_fn(t, x):\n",
        "          del t, x\n",
        "          return tf.reshape(sigma, [1, 1])\n",
        "        # Use GenericItoProcess class to set up the Ito process\n",
        "        process = tff.models.GenericItoProcess(\n",
        "            dim=1,\n",
        "            drift_fn=drift_fn,\n",
        "            volatility_fn=vol_fn,\n",
        "            dtype=dtype)\n",
        "        log_spot = tf.math.log(tf.reduce_mean(spot))\n",
        "        if watch_params:\n",
        "            watch_params_list = [sigma]\n",
        "        else:\n",
        "            watch_params_list = None\n",
        "        paths = process.sample_paths(\n",
        "            times=times, num_samples=num_samples,\n",
        "            initial_state=log_spot, \n",
        "            watch_params=watch_params_list,\n",
        "            # Select a random number generator\n",
        "            random_type=tff.math.random.RandomType.SOBOL, #PSEUDO_ANTITHETIC\n",
        "            time_step=dt)\n",
        "        \n",
        "        @tf.function\n",
        "        def tarf_payoff(paths):\n",
        "            # Shape [num_timesteps, num_samples]\n",
        "            paths = tf.transpose(paths)\n",
        "            cur_spot = paths[0]\n",
        "            total = tf.zeros_like(cur_spot)\n",
        "            discounted_payoff = tf.zeros_like(cur_spot)\n",
        "            df = tf.constant(1.0, dtype=tf.float64)\n",
        "            is_active = tf.ones([num_samples], dtype=tf.bool)\n",
        "            i = tf.constant(0, dtype=tf.int32)\n",
        "            # Explicitly define the while_loop \n",
        "            def cond(i, is_active, total, discounted_payoff):\n",
        "                return i < num_timesteps\n",
        "\n",
        "            def body(i, is_active, total, discounted_payoff):\n",
        "                # Here Tensors are of shape `[num_samples]`\n",
        "                cur_spot = paths[i]\n",
        "\n",
        "                cashflow = tf.zeros_like(cur_spot)\n",
        "                new_is_active = K_knockout > cur_spot\n",
        "                add_cashflow = tf.where(tf.logical_or(K_upper <= cur_spot, cur_spot < K_lower),\n",
        "                    True, \n",
        "                    False)\n",
        "\n",
        "                new_cashflow = tf.where(K_upper <= cur_spot,\n",
        "                    cur_spot - strike,\n",
        "                    cashflow\n",
        "                )\n",
        "                new_cashflow = tf.where(cur_spot < K_lower,\n",
        "                                    step_up_ratio*(cur_spot - strike),\n",
        "                                    new_cashflow)\n",
        "                new_is_active = tf.where(add_cashflow,\n",
        "                    tf.where(total + new_cashflow >= tarf_target,\n",
        "                            False, new_is_active),\n",
        "                    new_is_active)\n",
        "\n",
        "                new_cashflow = tf.where(add_cashflow,\n",
        "                    tf.where(total + new_cashflow >= tarf_target,\n",
        "                            tarf_target - total, new_cashflow),\n",
        "                    new_cashflow\n",
        "                    )\n",
        "\n",
        "                new_total = tf.where(add_cashflow,\n",
        "                    total + new_cashflow,\n",
        "                    total\n",
        "                    )\n",
        "                new_discounted_payoff = tf.where(add_cashflow,\n",
        "                    discounted_payoff + df * new_cashflow,\n",
        "                    discounted_payoff)\n",
        "                # Update values only if active\n",
        "                new_cashflow = tf.where(is_active, \n",
        "                                        new_cashflow,\n",
        "                                        cashflow)\n",
        "                new_total = tf.where(is_active, new_total, total)\n",
        "                new_discounted_payoff = tf.where(is_active, \n",
        "                                        new_discounted_payoff,\n",
        "                                        discounted_payoff)\n",
        "                new_is_active = tf.where(is_active, new_is_active, is_active)\n",
        "\n",
        "                return (i + 1, new_is_active, new_total, new_discounted_payoff)\n",
        "                \n",
        "            _, is_active, total, discounted_payoff = tf.while_loop(\n",
        "                cond, body, (i, is_active, total, discounted_payoff)\n",
        "            )\n",
        "            return discounted_payoff\n",
        "\n",
        "        reshaped_paths = tf.reshape(tf.math.exp(paths), [num_samples, num_timesteps])\n",
        "        payoffs = tarf_payoff(reshaped_paths)\n",
        "        prices = tf.reduce_mean(payoffs)\n",
        "\n",
        "        return prices\n",
        "    return price_eu_options\n",
        "\n",
        "price_eu_options_xla = tf.function(set_up_pricer_xla(times, watch_params=True),\n",
        "                               input_signature=[\n",
        "                                                tf.TensorSpec([], dtype=tf.float64),\n",
        "                                                tf.TensorSpec([], dtype=tf.float64),\n",
        "                                                tf.TensorSpec([], dtype=tf.float64)\n",
        "                               ], jit_compile=True)    "
      ],
      "metadata": {
        "id": "v4tluqTz9OEI"
      },
      "id": "v4tluqTz9OEI",
      "execution_count": 6,
      "outputs": []
    },
    {
      "cell_type": "code",
      "source": [
        "# device = \"/gpu:0\"\n",
        "# with tf.device(device):\n",
        "#     tarf_price = price_eu_options(strikes, spot, sigma)\n",
        "#     print('price', tarf_price)"
      ],
      "metadata": {
        "id": "hh25z8OTapHt"
      },
      "id": "hh25z8OTapHt",
      "execution_count": 7,
      "outputs": []
    },
    {
      "cell_type": "code",
      "source": [
        "# device = \"/gpu:0\"\n",
        "# with tf.device(device):\n",
        "#     tarf_price = price_eu_options_xla(strikes, spot, sigma)\n",
        "#     print('price', tarf_price)"
      ],
      "metadata": {
        "id": "Enn2yRUAapUF"
      },
      "id": "Enn2yRUAapUF",
      "execution_count": 8,
      "outputs": []
    },
    {
      "cell_type": "code",
      "source": [
        "devices = ['gpu', 'cpu']\n",
        "\n",
        "for device in devices:\n",
        "    with tf.device('/{}:0'.format(device)):\n",
        "        t = time.time()\n",
        "        tarf_price = price_eu_options(strikes, spot, sigma)\n",
        "        time_tqf0 = time.time() - t\n",
        "\n",
        "        t = time.time()\n",
        "        tarf_price = price_eu_options(strikes, spot, sigma)\n",
        "        time_tqf = time.time() - t\n",
        "\n",
        "        print('------------------------')\n",
        "        print('TQF {} TARF'.format(device))\n",
        "        print('wall time + tracing: ', time_tqf0)\n",
        "        print('options per second + tracing: ', 1.0/time_tqf0)\n",
        "        print('wall time: ', time_tqf)\n",
        "        print('options per second: ', 1.0/time_tqf)\n",
        "        print('------------------------')\n",
        "        print('price', tarf_price)"
      ],
      "metadata": {
        "id": "uyUXQuKsUSJW",
        "colab": {
          "base_uri": "https://localhost:8080/"
        },
        "outputId": "9ed8d56b-b5d6-4f00-c442-754005438143"
      },
      "id": "uyUXQuKsUSJW",
      "execution_count": 9,
      "outputs": [
        {
          "output_type": "stream",
          "name": "stdout",
          "text": [
            "------------------------\n",
            "TQF gpu TARF\n",
            "wall time + tracing:  23.77046799659729\n",
            "options per second + tracing:  0.04206900765029736\n",
            "wall time:  3.145033121109009\n",
            "options per second:  0.31796167528034736\n",
            "------------------------\n",
            "price tf.Tensor(-246.927357070608, shape=(), dtype=float64)\n",
            "------------------------\n",
            "TQF cpu TARF\n",
            "wall time + tracing:  11.315168857574463\n",
            "options per second + tracing:  0.08837694006931165\n",
            "wall time:  8.648904800415039\n",
            "options per second:  0.11562157557243694\n",
            "------------------------\n",
            "price tf.Tensor(-246.927357070608, shape=(), dtype=float64)\n"
          ]
        }
      ]
    },
    {
      "cell_type": "code",
      "execution_count": 10,
      "id": "98958e3a",
      "metadata": {
        "id": "98958e3a",
        "colab": {
          "base_uri": "https://localhost:8080/"
        },
        "outputId": "3e4ef214-96ee-435d-eb66-593d12359ec9"
      },
      "outputs": [
        {
          "output_type": "stream",
          "name": "stdout",
          "text": [
            "------------------------\n",
            "TQF gpu TARF XLA\n",
            "wall time + tracing:  3.409421920776367\n",
            "options per second + tracing:  0.2933048543819674\n",
            "wall time:  0.4923841953277588\n",
            "options per second:  2.0309343993755595\n",
            "------------------------\n",
            "price tf.Tensor(-246.927357070608, shape=(), dtype=float64)\n",
            "------------------------\n",
            "TQF cpu TARF XLA\n",
            "wall time + tracing:  12.18169093132019\n",
            "options per second + tracing:  0.08209040975000545\n",
            "wall time:  11.571342945098877\n",
            "options per second:  0.08642039258058262\n",
            "------------------------\n",
            "price tf.Tensor(-246.927357070608, shape=(), dtype=float64)\n"
          ]
        }
      ],
      "source": [
        "devices = ['gpu', 'cpu']\n",
        "\n",
        "for device in devices:\n",
        "    with tf.device('/{}:0'.format(device)):\n",
        "        t = time.time()\n",
        "        tarf_price = price_eu_options_xla(strikes, spot, sigma)\n",
        "        time_tqf0 = time.time() - t\n",
        "\n",
        "        t = time.time()\n",
        "        tarf_price = price_eu_options_xla(strikes, spot, sigma)\n",
        "        time_tqf = time.time() - t\n",
        "\n",
        "        print('------------------------')\n",
        "        print('TQF {} TARF XLA'.format(device))\n",
        "        print('wall time + tracing: ', time_tqf0)\n",
        "        print('options per second + tracing: ', 1.0/time_tqf0)\n",
        "        print('wall time: ', time_tqf)\n",
        "        print('options per second: ', 1.0/time_tqf)\n",
        "        print('------------------------')\n",
        "        print('price', tarf_price)"
      ]
    },
    {
      "cell_type": "code",
      "execution_count": 11,
      "id": "146a7a20",
      "metadata": {
        "id": "146a7a20"
      },
      "outputs": [],
      "source": [
        "@tf.function(jit_compile=False,\n",
        "             input_signature=[tf.TensorSpec([], dtype=tf.float64),\n",
        "                            tf.TensorSpec([], dtype=tf.float64),\n",
        "                            tf.TensorSpec([], dtype=tf.float64)\n",
        "                               ])\n",
        "def delta_fn(strikes, spot, sigma):\n",
        "    fn = lambda spot: price_eu_options(strikes, spot, sigma)\n",
        "    return tff.math.gradients(fn, spot, use_gradient_tape=True)\n",
        "\n",
        "@tf.function(jit_compile=True,\n",
        "             input_signature=[tf.TensorSpec([], dtype=tf.float64),\n",
        "                            tf.TensorSpec([], dtype=tf.float64),\n",
        "                            tf.TensorSpec([], dtype=tf.float64)\n",
        "                               ])\n",
        "def delta_fn_xla(strikes, spot, sigma):\n",
        "    fn = lambda spot: price_eu_options_xla(strikes, spot, sigma)\n",
        "    return tff.math.gradients(fn, spot, use_gradient_tape=True)"
      ]
    },
    {
      "cell_type": "code",
      "source": [
        "@tf.function(jit_compile=False,\n",
        "             input_signature=[tf.TensorSpec([], dtype=tf.float64),\n",
        "                            tf.TensorSpec([], dtype=tf.float64),\n",
        "                            tf.TensorSpec([], dtype=tf.float64)\n",
        "                               ])\n",
        "def vega_fn(strikes, spot, sigma):\n",
        "    fn = lambda sigma: price_eu_options(strikes, spot, sigma)\n",
        "    return tff.math.gradients(fn, sigma, use_gradient_tape=True)"
      ],
      "metadata": {
        "id": "e0_Jl2wbuxau"
      },
      "id": "e0_Jl2wbuxau",
      "execution_count": 12,
      "outputs": []
    },
    {
      "cell_type": "code",
      "execution_count": 13,
      "id": "fa8f6006",
      "metadata": {
        "id": "fa8f6006",
        "colab": {
          "base_uri": "https://localhost:8080/"
        },
        "outputId": "49bf3b91-08ae-46cb-cc59-0d2ff5e9a952"
      },
      "outputs": [
        {
          "output_type": "stream",
          "name": "stderr",
          "text": [
            "/usr/local/lib/python3.7/dist-packages/tensorflow/python/framework/indexed_slices.py:446: UserWarning: Converting sparse IndexedSlices(IndexedSlices(indices=Tensor(\"gradients/while/cond/pfor/GatherV2_grad/Reshape_1:0\", shape=(None,), dtype=int32), values=Tensor(\"gradients/while/cond/pfor/GatherV2_grad/Reshape:0\", shape=(None,), dtype=float64), dense_shape=Tensor(\"gradients/while/cond/pfor/GatherV2_grad/Cast:0\", shape=(1,), dtype=int32))) to a dense Tensor of unknown shape. This may consume a large amount of memory.\n",
            "  \"shape. This may consume a large amount of memory.\" % value)\n",
            "/usr/local/lib/python3.7/dist-packages/tensorflow/python/framework/indexed_slices.py:446: UserWarning: Converting sparse IndexedSlices(IndexedSlices(indices=Tensor(\"gradients/while_grad/Identity_4:0\", shape=(None,), dtype=int32), values=Tensor(\"gradients/while_grad/Identity_3:0\", shape=(None,), dtype=float64), dense_shape=Tensor(\"gradients/while_grad/Identity_5:0\", shape=(1,), dtype=int32))) to a dense Tensor of unknown shape. This may consume a large amount of memory.\n",
            "  \"shape. This may consume a large amount of memory.\" % value)\n",
            "/usr/local/lib/python3.7/dist-packages/tensorflow/python/framework/indexed_slices.py:446: UserWarning: Converting sparse IndexedSlices(IndexedSlices(indices=Tensor(\"gradients/while_grad/Identity_7:0\", shape=(None,), dtype=int32), values=Tensor(\"gradients/while_grad/Identity_6:0\", shape=(None,), dtype=float64), dense_shape=Tensor(\"gradients/while_grad/Identity_8:0\", shape=(1,), dtype=int32))) to a dense Tensor of unknown shape. This may consume a large amount of memory.\n",
            "  \"shape. This may consume a large amount of memory.\" % value)\n"
          ]
        },
        {
          "output_type": "stream",
          "name": "stdout",
          "text": [
            "------------------------\n",
            "TQF gpu TARF price+delta+vega\n",
            "wall time + tracing:  23.602126359939575\n",
            "options per second + tracing:  0.04236906390338299\n",
            "wall time:  14.480068922042847\n",
            "options per second:  0.06906044476609577\n",
            "------------------------\n",
            "price tf.Tensor(-246.927357070608, shape=(), dtype=float64)\n",
            "delta tf.Tensor(21.37942877385511, shape=(), dtype=float64)\n",
            "vega tf.Tensor(-331.98229464223175, shape=(), dtype=float64)\n",
            "------------------------\n",
            "TQF cpu TARF price+delta+vega\n",
            "wall time + tracing:  53.9759304523468\n",
            "options per second + tracing:  0.018526776502405275\n",
            "wall time:  42.03431582450867\n",
            "options per second:  0.023790086275579075\n",
            "------------------------\n",
            "price tf.Tensor(-246.927357070608, shape=(), dtype=float64)\n",
            "delta tf.Tensor(21.37942877385511, shape=(), dtype=float64)\n",
            "vega tf.Tensor(-331.9822946422317, shape=(), dtype=float64)\n"
          ]
        }
      ],
      "source": [
        "devices = ['gpu', 'cpu']\n",
        "\n",
        "for device in devices:\n",
        "    with tf.device('/{}:0'.format(device)):\n",
        "        t = time.time()\n",
        "        tarf_price = price_eu_options_xla(strikes, spot, sigma)\n",
        "        tarf_delta = delta_fn(strikes, spot, sigma)\n",
        "        tarf_vega = vega_fn(strikes, spot, sigma)\n",
        "        time_tqf0 = time.time() - t\n",
        "\n",
        "        t = time.time()\n",
        "        tarf_price = price_eu_options_xla(strikes, spot, sigma)\n",
        "        tarf_delta = delta_fn(strikes, spot, sigma)\n",
        "        tarf_vega = vega_fn(strikes, spot, sigma)\n",
        "        time_tqf = time.time() - t\n",
        "\n",
        "        print('------------------------')\n",
        "        print('TQF {} TARF price+delta+vega'.format(device))\n",
        "        print('wall time + tracing: ', time_tqf0)\n",
        "        print('options per second + tracing: ', 1.0/time_tqf0)\n",
        "        print('wall time: ', time_tqf)\n",
        "        print('options per second: ', 1.0/time_tqf)\n",
        "        print('------------------------')\n",
        "        print('price', tarf_price)\n",
        "        print('delta', tarf_delta)\n",
        "        print('vega', tarf_vega)"
      ]
    },
    {
      "cell_type": "code",
      "execution_count": 14,
      "id": "cb03ad7b",
      "metadata": {
        "id": "cb03ad7b",
        "colab": {
          "base_uri": "https://localhost:8080/",
          "height": 1000
        },
        "outputId": "9c80e4bf-3b68-479e-a121-78cdd83170b4"
      },
      "outputs": [
        {
          "output_type": "error",
          "ename": "InvalidArgumentError",
          "evalue": "ignored",
          "traceback": [
            "\u001b[0;31m---------------------------------------------------------------------------\u001b[0m",
            "\u001b[0;31mInvalidArgumentError\u001b[0m                      Traceback (most recent call last)",
            "\u001b[0;32m<ipython-input-14-d73733c51d11>\u001b[0m in \u001b[0;36m<module>\u001b[0;34m()\u001b[0m\n\u001b[1;32m      4\u001b[0m     \u001b[0;32mwith\u001b[0m \u001b[0mtf\u001b[0m\u001b[0;34m.\u001b[0m\u001b[0mdevice\u001b[0m\u001b[0;34m(\u001b[0m\u001b[0;34m'/{}:0'\u001b[0m\u001b[0;34m.\u001b[0m\u001b[0mformat\u001b[0m\u001b[0;34m(\u001b[0m\u001b[0mdevice\u001b[0m\u001b[0;34m)\u001b[0m\u001b[0;34m)\u001b[0m\u001b[0;34m:\u001b[0m\u001b[0;34m\u001b[0m\u001b[0;34m\u001b[0m\u001b[0m\n\u001b[1;32m      5\u001b[0m         \u001b[0mt\u001b[0m \u001b[0;34m=\u001b[0m \u001b[0mtime\u001b[0m\u001b[0;34m.\u001b[0m\u001b[0mtime\u001b[0m\u001b[0;34m(\u001b[0m\u001b[0;34m)\u001b[0m\u001b[0;34m\u001b[0m\u001b[0;34m\u001b[0m\u001b[0m\n\u001b[0;32m----> 6\u001b[0;31m         \u001b[0mtarf_delta\u001b[0m \u001b[0;34m=\u001b[0m \u001b[0mdelta_fn_xla\u001b[0m\u001b[0;34m(\u001b[0m\u001b[0mstrikes\u001b[0m\u001b[0;34m,\u001b[0m \u001b[0mspot\u001b[0m\u001b[0;34m,\u001b[0m \u001b[0msigma\u001b[0m\u001b[0;34m)\u001b[0m\u001b[0;34m\u001b[0m\u001b[0;34m\u001b[0m\u001b[0m\n\u001b[0m\u001b[1;32m      7\u001b[0m         \u001b[0mtime_tqf0\u001b[0m \u001b[0;34m=\u001b[0m \u001b[0mtime\u001b[0m\u001b[0;34m.\u001b[0m\u001b[0mtime\u001b[0m\u001b[0;34m(\u001b[0m\u001b[0;34m)\u001b[0m \u001b[0;34m-\u001b[0m \u001b[0mt\u001b[0m\u001b[0;34m\u001b[0m\u001b[0;34m\u001b[0m\u001b[0m\n\u001b[1;32m      8\u001b[0m \u001b[0;34m\u001b[0m\u001b[0m\n",
            "\u001b[0;32m/usr/local/lib/python3.7/dist-packages/tensorflow/python/util/traceback_utils.py\u001b[0m in \u001b[0;36merror_handler\u001b[0;34m(*args, **kwargs)\u001b[0m\n\u001b[1;32m    151\u001b[0m     \u001b[0;32mexcept\u001b[0m \u001b[0mException\u001b[0m \u001b[0;32mas\u001b[0m \u001b[0me\u001b[0m\u001b[0;34m:\u001b[0m\u001b[0;34m\u001b[0m\u001b[0;34m\u001b[0m\u001b[0m\n\u001b[1;32m    152\u001b[0m       \u001b[0mfiltered_tb\u001b[0m \u001b[0;34m=\u001b[0m \u001b[0m_process_traceback_frames\u001b[0m\u001b[0;34m(\u001b[0m\u001b[0me\u001b[0m\u001b[0;34m.\u001b[0m\u001b[0m__traceback__\u001b[0m\u001b[0;34m)\u001b[0m\u001b[0;34m\u001b[0m\u001b[0;34m\u001b[0m\u001b[0m\n\u001b[0;32m--> 153\u001b[0;31m       \u001b[0;32mraise\u001b[0m \u001b[0me\u001b[0m\u001b[0;34m.\u001b[0m\u001b[0mwith_traceback\u001b[0m\u001b[0;34m(\u001b[0m\u001b[0mfiltered_tb\u001b[0m\u001b[0;34m)\u001b[0m \u001b[0;32mfrom\u001b[0m \u001b[0;32mNone\u001b[0m\u001b[0;34m\u001b[0m\u001b[0;34m\u001b[0m\u001b[0m\n\u001b[0m\u001b[1;32m    154\u001b[0m     \u001b[0;32mfinally\u001b[0m\u001b[0;34m:\u001b[0m\u001b[0;34m\u001b[0m\u001b[0;34m\u001b[0m\u001b[0m\n\u001b[1;32m    155\u001b[0m       \u001b[0;32mdel\u001b[0m \u001b[0mfiltered_tb\u001b[0m\u001b[0;34m\u001b[0m\u001b[0;34m\u001b[0m\u001b[0m\n",
            "\u001b[0;32m/usr/local/lib/python3.7/dist-packages/tensorflow/python/eager/execute.py\u001b[0m in \u001b[0;36mquick_execute\u001b[0;34m(op_name, num_outputs, inputs, attrs, ctx, name)\u001b[0m\n\u001b[1;32m     53\u001b[0m     \u001b[0mctx\u001b[0m\u001b[0;34m.\u001b[0m\u001b[0mensure_initialized\u001b[0m\u001b[0;34m(\u001b[0m\u001b[0;34m)\u001b[0m\u001b[0;34m\u001b[0m\u001b[0;34m\u001b[0m\u001b[0m\n\u001b[1;32m     54\u001b[0m     tensors = pywrap_tfe.TFE_Py_Execute(ctx._handle, device_name, op_name,\n\u001b[0;32m---> 55\u001b[0;31m                                         inputs, attrs, num_outputs)\n\u001b[0m\u001b[1;32m     56\u001b[0m   \u001b[0;32mexcept\u001b[0m \u001b[0mcore\u001b[0m\u001b[0;34m.\u001b[0m\u001b[0m_NotOkStatusException\u001b[0m \u001b[0;32mas\u001b[0m \u001b[0me\u001b[0m\u001b[0;34m:\u001b[0m\u001b[0;34m\u001b[0m\u001b[0;34m\u001b[0m\u001b[0m\n\u001b[1;32m     57\u001b[0m     \u001b[0;32mif\u001b[0m \u001b[0mname\u001b[0m \u001b[0;32mis\u001b[0m \u001b[0;32mnot\u001b[0m \u001b[0;32mNone\u001b[0m\u001b[0;34m:\u001b[0m\u001b[0;34m\u001b[0m\u001b[0;34m\u001b[0m\u001b[0m\n",
            "\u001b[0;31mInvalidArgumentError\u001b[0m: XLA compilation requires a fixed tensor list size. Set the max number of elements. This could also happen if you're using a TensorArray in a while loop that does not have its maximum_iteration set, you can fix this by setting maximum_iteration to a suitable value.\n\nStack trace for op definition: \nFile \"/usr/lib/python3.7/runpy.py\", line 193, in _run_module_as_main\n  \"__main__\", mod_spec)\nFile \"/usr/lib/python3.7/runpy.py\", line 85, in _run_code\n  exec(code, run_globals)\nFile \"/usr/local/lib/python3.7/dist-packages/ipykernel_launcher.py\", line 16, in <module>\n  app.launch_new_instance()\nFile \"/usr/local/lib/python3.7/dist-packages/traitlets/config/application.py\", line 846, in launch_instance\n  app.start()\nFile \"/usr/local/lib/python3.7/dist-packages/ipykernel/kernelapp.py\", line 499, in start\n  self.io_loop.start()\nFile \"/usr/local/lib/python3.7/dist-packages/tornado/platform/asyncio.py\", line 132, in start\n  self.asyncio_loop.run_forever()\nFile \"/usr/lib/python3.7/asyncio/base_events.py\", line 541, in run_forever\n  self._run_once()\nFile \"/usr/lib/python3.7/asyncio/base_events.py\", line 1786, in _run_once\n  handle._run()\nFile \"/usr/lib/python3.7/asyncio/events.py\", line 88, in _run\n  self._context.run(self._callback, *self._args)\nFile \"/usr/local/lib/python3.7/dist-packages/tornado/ioloop.py\", line 758, in _run_callback\n  ret = callback()\nFile \"/usr/local/lib/python3.7/dist-packages/tornado/stack_context.py\", line 300, in null_wrapper\n  return fn(*args, **kwargs)\nFile \"/usr/local/lib/python3.7/dist-packages/zmq/eventloop/zmqstream.py\", line 661, in <lambda>\n  self.io_loop.add_callback(lambda: self._handle_events(self.socket, 0))\nFile \"/usr/local/lib/python3.7/dist-packages/zmq/eventloop/zmqstream.py\", line 577, in _handle_events\n  self._handle_recv()\nFile \"/usr/local/lib/python3.7/dist-packages/zmq/eventloop/zmqstream.py\", line 606, in _handle_recv\n  self._run_callback(callback, msg)\nFile \"/usr/local/lib/python3.7/dist-packages/zmq/eventloop/zmqstream.py\", line 556, in _run_callback\n  callback(*args, **kwargs)\nFile \"/usr/local/lib/python3.7/dist-packages/tornado/stack_context.py\", line 300, in null_wrapper\n  return fn(*args, **kwargs)\nFile \"/usr/local/lib/python3.7/dist-packages/ipykernel/kernelbase.py\", line 283, in dispatcher\n  return self.dispatch_shell(stream, msg)\nFile \"/usr/local/lib/python3.7/dist-packages/ipykernel/kernelbase.py\", line 233, in dispatch_shell\n  handler(stream, idents, msg)\nFile \"/usr/local/lib/python3.7/dist-packages/ipykernel/kernelbase.py\", line 399, in execute_request\n  user_expressions, allow_stdin)\nFile \"/usr/local/lib/python3.7/dist-packages/ipykernel/ipkernel.py\", line 208, in do_execute\n  res = shell.run_cell(code, store_history=store_history, silent=silent)\nFile \"/usr/local/lib/python3.7/dist-packages/ipykernel/zmqshell.py\", line 537, in run_cell\n  return super(ZMQInteractiveShell, self).run_cell(*args, **kwargs)\nFile \"/usr/local/lib/python3.7/dist-packages/IPython/core/interactiveshell.py\", line 2718, in run_cell\n  interactivity=interactivity, compiler=compiler, result=result)\nFile \"/usr/local/lib/python3.7/dist-packages/IPython/core/interactiveshell.py\", line 2822, in run_ast_nodes\n  if self.run_code(code, result):\nFile \"/usr/local/lib/python3.7/dist-packages/IPython/core/interactiveshell.py\", line 2882, in run_code\n  exec(code_obj, self.user_global_ns, self.user_ns)\nFile \"<ipython-input-14-d73733c51d11>\", line 6, in <module>\n  tarf_delta = delta_fn_xla(strikes, spot, sigma)\nFile \"<ipython-input-11-3e8548df3de9>\", line 17, in delta_fn_xla\n  return tff.math.gradients(fn, spot, use_gradient_tape=True)\nFile \"/usr/local/lib/python3.7/dist-packages/tf_quant_finance/math/gradient.py\", line 158, in gradients\n  if not tf.executing_eagerly() and not use_gradient_tape:\nFile \"/usr/local/lib/python3.7/dist-packages/tf_quant_finance/math/gradient.py\", line 170, in gradients\n  grad = tape.gradient(y, xs, output_gradients=output_gradients,\n\n\t [[{{function_node __forward_tarf_payoff_8428}}{{node while/GreaterEqual_1_0/accumulator}}]] [Op:__inference_delta_fn_xla_8533]"
          ]
        }
      ],
      "source": [
        "devices = ['gpu', 'cpu']\n",
        "\n",
        "for device in devices:\n",
        "    with tf.device('/{}:0'.format(device)):\n",
        "        t = time.time()\n",
        "        tarf_delta = delta_fn_xla(strikes, spot, sigma)\n",
        "        time_tqf0 = time.time() - t\n",
        "\n",
        "        t = time.time()\n",
        "        tarf_delta = delta_fn_xla(strikes, spot, sigma)\n",
        "        time_tqf = time.time() - t\n",
        "\n",
        "        print('------------------------')\n",
        "        print('TQF {} TARF'.format(device))\n",
        "        print('wall time + tracing: ', time_tqf0)\n",
        "        print('options per second + tracing: ', 1.0/time_tqf0)\n",
        "        print('wall time: ', time_tqf)\n",
        "        print('options per second: ', 1.0/time_tqf)\n",
        "        print('------------------------')\n",
        "        print('delta', tarf_delta)"
      ]
    },
    {
      "cell_type": "code",
      "execution_count": null,
      "id": "e7cbeabd",
      "metadata": {
        "id": "e7cbeabd"
      },
      "outputs": [],
      "source": [
        ""
      ]
    }
  ],
  "metadata": {
    "kernelspec": {
      "display_name": "Python 3 (ipykernel)",
      "language": "python",
      "name": "python3"
    },
    "language_info": {
      "codemirror_mode": {
        "name": "ipython",
        "version": 3
      },
      "file_extension": ".py",
      "mimetype": "text/x-python",
      "name": "python",
      "nbconvert_exporter": "python",
      "pygments_lexer": "ipython3",
      "version": "3.7.9"
    },
    "colab": {
      "name": "TARF_MC_Performance_TQF.ipynb",
      "provenance": [],
      "include_colab_link": true
    },
    "accelerator": "GPU"
  },
  "nbformat": 4,
  "nbformat_minor": 5
}
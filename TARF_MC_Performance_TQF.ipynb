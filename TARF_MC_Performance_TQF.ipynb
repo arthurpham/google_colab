{
  "cells": [
    {
      "cell_type": "markdown",
      "metadata": {
        "id": "view-in-github",
        "colab_type": "text"
      },
      "source": [
        "<a href=\"https://colab.research.google.com/github/arthurpham/google_colab/blob/main/TARF_MC_Performance_TQF.ipynb\" target=\"_parent\"><img src=\"https://colab.research.google.com/assets/colab-badge.svg\" alt=\"Open In Colab\"/></a>"
      ]
    },
    {
      "cell_type": "code",
      "execution_count": 1,
      "id": "f3a6e055",
      "metadata": {
        "id": "f3a6e055",
        "outputId": "5c7d90eb-487c-4111-c6a5-6216efad5059",
        "colab": {
          "base_uri": "https://localhost:8080/"
        }
      },
      "outputs": [
        {
          "output_type": "stream",
          "name": "stdout",
          "text": [
            "Looking in indexes: https://pypi.org/simple, https://us-python.pkg.dev/colab-wheels/public/simple/\n",
            "Collecting tf-quant-finance\n",
            "  Downloading tf_quant_finance-0.0.1.dev32-py2.py3-none-any.whl (1.4 MB)\n",
            "\u001b[K     |████████████████████████████████| 1.4 MB 4.3 MB/s \n",
            "\u001b[?25hRequirement already satisfied: attrs>=18.2.0 in /usr/local/lib/python3.7/dist-packages (from tf-quant-finance) (21.4.0)\n",
            "Requirement already satisfied: tensorflow-probability>=0.12.1 in /usr/local/lib/python3.7/dist-packages (from tf-quant-finance) (0.16.0)\n",
            "Requirement already satisfied: protobuf in /usr/local/lib/python3.7/dist-packages (from tf-quant-finance) (3.17.3)\n",
            "Requirement already satisfied: numpy>=1.21 in /usr/local/lib/python3.7/dist-packages (from tf-quant-finance) (1.21.6)\n",
            "Requirement already satisfied: absl-py in /usr/local/lib/python3.7/dist-packages (from tensorflow-probability>=0.12.1->tf-quant-finance) (1.0.0)\n",
            "Requirement already satisfied: gast>=0.3.2 in /usr/local/lib/python3.7/dist-packages (from tensorflow-probability>=0.12.1->tf-quant-finance) (0.5.3)\n",
            "Requirement already satisfied: decorator in /usr/local/lib/python3.7/dist-packages (from tensorflow-probability>=0.12.1->tf-quant-finance) (4.4.2)\n",
            "Requirement already satisfied: dm-tree in /usr/local/lib/python3.7/dist-packages (from tensorflow-probability>=0.12.1->tf-quant-finance) (0.1.7)\n",
            "Requirement already satisfied: six>=1.10.0 in /usr/local/lib/python3.7/dist-packages (from tensorflow-probability>=0.12.1->tf-quant-finance) (1.15.0)\n",
            "Requirement already satisfied: cloudpickle>=1.3 in /usr/local/lib/python3.7/dist-packages (from tensorflow-probability>=0.12.1->tf-quant-finance) (1.3.0)\n",
            "Installing collected packages: tf-quant-finance\n",
            "Successfully installed tf-quant-finance-0.0.1.dev32\n",
            "Looking in indexes: https://pypi.org/simple, https://us-python.pkg.dev/colab-wheels/public/simple/\n",
            "Collecting QuantLib-Python\n",
            "  Downloading QuantLib_Python-1.18-py2.py3-none-any.whl (1.4 kB)\n",
            "Collecting QuantLib\n",
            "  Downloading QuantLib-1.26-cp37-cp37m-manylinux_2_12_x86_64.manylinux2010_x86_64.whl (17.8 MB)\n",
            "\u001b[K     |████████████████████████████████| 17.8 MB 151 kB/s \n",
            "\u001b[?25hInstalling collected packages: QuantLib, QuantLib-Python\n",
            "Successfully installed QuantLib-1.26 QuantLib-Python-1.18\n"
          ]
        }
      ],
      "source": [
        "# !pip install --upgrade tensorflow --user\n",
        "!pip install tf-quant-finance\n",
        "!pip install QuantLib-Python"
      ]
    },
    {
      "cell_type": "code",
      "execution_count": 2,
      "id": "a83401ca",
      "metadata": {
        "id": "a83401ca"
      },
      "outputs": [],
      "source": [
        "import os\n",
        "# reduce number of threads\n",
        "os.environ['TF_NUM_INTEROP_THREADS'] = '1'\n",
        "os.environ['TF_NUM_INTRAOP_THREADS'] = '1'\n",
        "\n",
        "%matplotlib inline\n",
        "import numpy as np\n",
        "import matplotlib.pyplot as plt\n",
        "import tf_quant_finance as tff \n",
        "import tensorflow as tf\n",
        "import functools\n",
        "import pandas as pd\n",
        "import time\n",
        "import QuantLib as ql"
      ]
    },
    {
      "cell_type": "code",
      "execution_count": 3,
      "id": "c4306927",
      "metadata": {
        "id": "c4306927",
        "outputId": "c4f3829c-6a50-4a42-813a-2ee3a5e505a3",
        "colab": {
          "base_uri": "https://localhost:8080/"
        }
      },
      "outputs": [
        {
          "output_type": "stream",
          "name": "stdout",
          "text": [
            "Fri May 27 20:43:00 2022       \n",
            "+-----------------------------------------------------------------------------+\n",
            "| NVIDIA-SMI 460.32.03    Driver Version: 460.32.03    CUDA Version: 11.2     |\n",
            "|-------------------------------+----------------------+----------------------+\n",
            "| GPU  Name        Persistence-M| Bus-Id        Disp.A | Volatile Uncorr. ECC |\n",
            "| Fan  Temp  Perf  Pwr:Usage/Cap|         Memory-Usage | GPU-Util  Compute M. |\n",
            "|                               |                      |               MIG M. |\n",
            "|===============================+======================+======================|\n",
            "|   0  Tesla P100-PCIE...  Off  | 00000000:00:04.0 Off |                    0 |\n",
            "| N/A   33C    P0    28W / 250W |      0MiB / 16280MiB |      0%      Default |\n",
            "|                               |                      |                  N/A |\n",
            "+-------------------------------+----------------------+----------------------+\n",
            "                                                                               \n",
            "+-----------------------------------------------------------------------------+\n",
            "| Processes:                                                                  |\n",
            "|  GPU   GI   CI        PID   Type   Process name                  GPU Memory |\n",
            "|        ID   ID                                                   Usage      |\n",
            "|=============================================================================|\n",
            "|  No running processes found                                                 |\n",
            "+-----------------------------------------------------------------------------+\n"
          ]
        }
      ],
      "source": [
        "!nvidia-smi"
      ]
    },
    {
      "cell_type": "code",
      "execution_count": 4,
      "id": "3cb3a485",
      "metadata": {
        "id": "3cb3a485"
      },
      "outputs": [],
      "source": [
        "spot = 18.0\n",
        "strike = 20.0\n",
        "K_lower = 15.0\n",
        "K_upper = 20.0\n",
        "K_knockout = 30.0\n",
        "tarf_target = 5.0\n",
        "step_up_ratio = 2.0\n",
        "\n",
        "r = 0.0\n",
        "volatility = 0.5"
      ]
    },
    {
      "cell_type": "code",
      "execution_count": 5,
      "id": "5e327c2d",
      "metadata": {
        "scrolled": false,
        "id": "5e327c2d"
      },
      "outputs": [],
      "source": [
        "#@title Set up parameters\n",
        "\n",
        "dtype = tf.float64 #@param\n",
        "num_samples = 200000 #@param\n",
        "num_timesteps = 53 #@param\n",
        "\n",
        "# expiries =tf.constant( [0.0, 0.5, 1.0], dtype=dtype) # This can be a rank 1 Tensor\n",
        "dt = 1. / num_timesteps\n",
        "# times = [1.0]\n",
        "times = tf.linspace(tf.constant(0.0, dtype=dtype), tf.constant(1.0, dtype=dtype), num_timesteps)\n",
        "rate = tf.constant(r, dtype=dtype)\n",
        "dividend = tf.constant(0.0, dtype=dtype)\n",
        "sigma = tf.constant(volatility, dtype=dtype)\n",
        "spot = tf.constant(spot, dtype=dtype)\n",
        "strikes = tf.constant(strike, dtype=dtype)\n",
        "\n",
        "def set_up_pricer(times, watch_params=False):\n",
        "    \"\"\"Set up European option pricing function under Black-Scholes model.\n",
        "    \n",
        "    Args:\n",
        "        expiries: List of expiries at which to to sample the trajectories.\n",
        "        watch_params: A Python bool. When `True`, gradients of the price function wrt the inputs\n",
        "          are computed more efficiently. \n",
        "    Returns:\n",
        "     A callable that accepts a rank 1 tensor of strikes, and scalar values for \n",
        "     the spots and  volatility values. The callable outputs prices of\n",
        "     the European call options on the grid `expiries x strikes`.\n",
        "    \"\"\"\n",
        "    def price_eu_options(strikes, spot, sigma, rate, dividend):\n",
        "        # Define drift and volatility functions. \n",
        "        def drift_fn(t, x):\n",
        "          del t, x\n",
        "          return rate - 0.5 * sigma**2\n",
        "        def vol_fn(t, x):\n",
        "          del t, x\n",
        "          return tf.reshape(sigma, [1, 1])\n",
        "        # Use GenericItoProcess class to set up the Ito process\n",
        "        process = tff.models.GenericItoProcess(\n",
        "            dim=1,\n",
        "            drift_fn=drift_fn,\n",
        "            volatility_fn=vol_fn,\n",
        "            dtype=dtype)\n",
        "        log_spot = tf.math.log(tf.reduce_mean(spot))\n",
        "        if watch_params:\n",
        "            watch_params_list = [sigma, rate, dividend]\n",
        "        else:\n",
        "            watch_params_list = None\n",
        "        paths = process.sample_paths(\n",
        "            times=times, num_samples=num_samples,\n",
        "            initial_state=log_spot, \n",
        "            watch_params=watch_params_list,\n",
        "            # Select a random number generator\n",
        "            random_type=tff.math.random.RandomType.SOBOL, #PSEUDO_ANTITHETIC\n",
        "            time_step=dt)\n",
        "        \n",
        "        @tf.function\n",
        "        def tarf_payoff(element):\n",
        "#             tf.print(element, summarize=-1)\n",
        "            total = tf.constant(0.0, dtype=tf.float64)\n",
        "            discounted_payoff = tf.constant(0.0, dtype=tf.float64)\n",
        "            df = tf.constant(1.0, dtype=tf.float64)\n",
        "            is_active = True\n",
        "            for cur_spot in element:\n",
        "                if is_active:\n",
        "                    cashflow = tf.constant(0.0, dtype=tf.float64)\n",
        "                    add_cashflow = False\n",
        "                    if K_knockout <= cur_spot:\n",
        "                        # early termination\n",
        "                        is_active = False\n",
        "                    if K_upper <= cur_spot: # cur_spot < K_knockout\n",
        "                        cashflow = cur_spot - strike\n",
        "                        add_cashflow = True\n",
        "                    if cur_spot < K_lower:\n",
        "                        cashflow = step_up_ratio*(cur_spot - strike)\n",
        "                        add_cashflow = True\n",
        "\n",
        "                    if add_cashflow:\n",
        "                        if total + cashflow >= tarf_target:\n",
        "                            cashflow = tarf_target - total\n",
        "                            total += cashflow\n",
        "                            discounted_payoff += df*cashflow\n",
        "                            is_active = False\n",
        "                        else:\n",
        "                            total += cashflow\n",
        "                            discounted_payoff += df*cashflow\n",
        "                     \n",
        "            return discounted_payoff\n",
        "\n",
        "        reshaped_paths = tf.reshape(tf.math.exp(paths), [num_samples, num_timesteps])\n",
        "        payoffs = tf.vectorized_map(tarf_payoff, reshaped_paths)\n",
        "        prices = tf.reduce_mean(payoffs)\n",
        "\n",
        "        return prices\n",
        "    return price_eu_options    \n",
        "\n",
        "price_eu_options = tf.function(set_up_pricer(times, watch_params=False),\n",
        "                               input_signature=[\n",
        "                                                tf.TensorSpec([], dtype=tf.float64),\n",
        "                                                tf.TensorSpec([], dtype=tf.float64),\n",
        "                                                tf.TensorSpec([], dtype=tf.float64),\n",
        "                                                tf.TensorSpec([], dtype=tf.float64),\n",
        "                                                tf.TensorSpec([], dtype=tf.float64)\n",
        "                               ])\n"
      ]
    },
    {
      "cell_type": "code",
      "source": [
        "def set_up_pricer_xla(times, watch_params=False):\n",
        "    \"\"\"Set up European option pricing function under Black-Scholes model.\n",
        "    \n",
        "    Args:\n",
        "        expiries: List of expiries at which to to sample the trajectories.\n",
        "        watch_params: A Python bool. When `True`, gradients of the price function wrt the inputs\n",
        "          are computed more efficiently. \n",
        "    Returns:\n",
        "     A callable that accepts a rank 1 tensor of strikes, and scalar values for \n",
        "     the spots and  volatility values. The callable outputs prices of\n",
        "     the European call options on the grid `expiries x strikes`.\n",
        "    \"\"\"\n",
        "    def price_eu_options(strikes, spot, sigma, rate, dividend):\n",
        "        # Define drift and volatility functions. \n",
        "        def drift_fn(t, x):\n",
        "          del t, x\n",
        "          return rate - dividend - 0.5 * sigma**2\n",
        "        def vol_fn(t, x):\n",
        "          del t, x\n",
        "          return tf.reshape(sigma, [1, 1])\n",
        "        # Use GenericItoProcess class to set up the Ito process\n",
        "        process = tff.models.GenericItoProcess(\n",
        "            dim=1,\n",
        "            drift_fn=drift_fn,\n",
        "            volatility_fn=vol_fn,\n",
        "            dtype=dtype)\n",
        "        log_spot = tf.math.log(tf.reduce_mean(spot))\n",
        "        if watch_params:\n",
        "            watch_params_list = [sigma, rate, dividend]\n",
        "        else:\n",
        "            watch_params_list = None\n",
        "        paths = process.sample_paths(\n",
        "            times=times, num_samples=num_samples,\n",
        "            initial_state=log_spot, \n",
        "            watch_params=watch_params_list,\n",
        "            # Select a random number generator\n",
        "            random_type=tff.math.random.RandomType.SOBOL, #PSEUDO_ANTITHETIC\n",
        "            time_step=dt)\n",
        "        \n",
        "        @tf.function\n",
        "        def tarf_payoff(paths):\n",
        "            # Shape [num_timesteps, num_samples]\n",
        "            paths = tf.transpose(paths)\n",
        "            cur_spot = paths[0]\n",
        "            total = tf.zeros_like(cur_spot)\n",
        "            discounted_payoff = tf.zeros_like(cur_spot)\n",
        "            df = tf.constant(1.0, dtype=tf.float64)\n",
        "            is_active = tf.ones([num_samples], dtype=tf.bool)\n",
        "            i = tf.constant(0, dtype=tf.int32)\n",
        "            # Explicitly define the while_loop \n",
        "            def cond(i, is_active, total, discounted_payoff):\n",
        "                return i < num_timesteps\n",
        "\n",
        "            def body(i, is_active, total, discounted_payoff):\n",
        "                # Here Tensors are of shape `[num_samples]`\n",
        "                cur_spot = paths[i]\n",
        "\n",
        "                cashflow = tf.zeros_like(cur_spot)\n",
        "                new_is_active = K_knockout > cur_spot\n",
        "                add_cashflow = tf.where(tf.logical_or(K_upper <= cur_spot, cur_spot < K_lower),\n",
        "                    True, \n",
        "                    False)\n",
        "\n",
        "                new_cashflow = tf.where(K_upper <= cur_spot,\n",
        "                    cur_spot - strike,\n",
        "                    cashflow\n",
        "                )\n",
        "                new_cashflow = tf.where(cur_spot < K_lower,\n",
        "                                    step_up_ratio*(cur_spot - strike),\n",
        "                                    new_cashflow)\n",
        "                new_is_active = tf.where(add_cashflow,\n",
        "                    tf.where(total + new_cashflow >= tarf_target,\n",
        "                            False, new_is_active),\n",
        "                    new_is_active)\n",
        "\n",
        "                new_cashflow = tf.where(add_cashflow,\n",
        "                    tf.where(total + new_cashflow >= tarf_target,\n",
        "                            tarf_target - total, new_cashflow),\n",
        "                    new_cashflow\n",
        "                    )\n",
        "\n",
        "                new_total = tf.where(add_cashflow,\n",
        "                    total + new_cashflow,\n",
        "                    total\n",
        "                    )\n",
        "                new_discounted_payoff = tf.where(add_cashflow,\n",
        "                    discounted_payoff + df * new_cashflow,\n",
        "                    discounted_payoff)\n",
        "                # Update values only if active\n",
        "                new_cashflow = tf.where(is_active, \n",
        "                                        new_cashflow,\n",
        "                                        cashflow)\n",
        "                new_total = tf.where(is_active, new_total, total)\n",
        "                new_discounted_payoff = tf.where(is_active, \n",
        "                                        new_discounted_payoff,\n",
        "                                        discounted_payoff)\n",
        "                new_is_active = tf.where(is_active, new_is_active, is_active)\n",
        "\n",
        "                return (i + 1, new_is_active, new_total, new_discounted_payoff)\n",
        "                \n",
        "            _, is_active, total, discounted_payoff = tf.while_loop(\n",
        "                cond, body, (i, is_active, total, discounted_payoff),\n",
        "                maximum_iterations=num_timesteps,\n",
        "            )\n",
        "            return discounted_payoff\n",
        "\n",
        "        reshaped_paths = tf.reshape(tf.math.exp(paths), [num_samples, num_timesteps])\n",
        "        payoffs = tarf_payoff(reshaped_paths)\n",
        "        prices = tf.reduce_mean(payoffs)\n",
        "\n",
        "        return prices\n",
        "    return price_eu_options\n",
        "\n",
        "price_eu_options_xla = tf.function(set_up_pricer_xla(times, watch_params=False),\n",
        "                               input_signature=[\n",
        "                                                tf.TensorSpec([], dtype=tf.float64),\n",
        "                                                tf.TensorSpec([], dtype=tf.float64),\n",
        "                                                tf.TensorSpec([], dtype=tf.float64),\n",
        "                                                tf.TensorSpec([], dtype=tf.float64),\n",
        "                                                tf.TensorSpec([], dtype=tf.float64)\n",
        "                               ], jit_compile=True)    "
      ],
      "metadata": {
        "id": "v4tluqTz9OEI"
      },
      "id": "v4tluqTz9OEI",
      "execution_count": 6,
      "outputs": []
    },
    {
      "cell_type": "code",
      "source": [
        "# device = \"/gpu:0\"\n",
        "# with tf.device(device):\n",
        "#     tarf_price = price_eu_options(strikes, spot, sigma)\n",
        "#     print('price', tarf_price)"
      ],
      "metadata": {
        "id": "hh25z8OTapHt"
      },
      "id": "hh25z8OTapHt",
      "execution_count": 7,
      "outputs": []
    },
    {
      "cell_type": "code",
      "source": [
        "# device = \"/gpu:0\"\n",
        "# with tf.device(device):\n",
        "#     tarf_price = price_eu_options_xla(strikes, spot, sigma)\n",
        "#     print('price', tarf_price)"
      ],
      "metadata": {
        "id": "Enn2yRUAapUF"
      },
      "id": "Enn2yRUAapUF",
      "execution_count": 8,
      "outputs": []
    },
    {
      "cell_type": "code",
      "source": [
        "devices = ['gpu', 'cpu']\n",
        "\n",
        "for device in devices:\n",
        "    with tf.device('/{}:0'.format(device)):\n",
        "        t = time.time()\n",
        "        tarf_price = price_eu_options(strikes, spot, sigma, rate, dividend)\n",
        "        time_tqf0 = time.time() - t\n",
        "\n",
        "        t = time.time()\n",
        "        tarf_price = price_eu_options(strikes, spot, sigma, rate, dividend)\n",
        "        time_tqf = time.time() - t\n",
        "\n",
        "        print('------------------------')\n",
        "        print('TQF {} TARF'.format(device))\n",
        "        print('wall time + tracing: ', time_tqf0)\n",
        "        print('options per second + tracing: ', 1.0/time_tqf0)\n",
        "        print('wall time: ', time_tqf)\n",
        "        print('options per second: ', 1.0/time_tqf)\n",
        "        print('------------------------')\n",
        "        print('price', tarf_price)"
      ],
      "metadata": {
        "id": "uyUXQuKsUSJW",
        "colab": {
          "base_uri": "https://localhost:8080/"
        },
        "outputId": "f5ca8bf5-3df6-40a1-ed33-ac160889c4d1"
      },
      "id": "uyUXQuKsUSJW",
      "execution_count": 9,
      "outputs": [
        {
          "output_type": "stream",
          "name": "stdout",
          "text": [
            "------------------------\n",
            "TQF gpu TARF\n",
            "wall time + tracing:  25.21486783027649\n",
            "options per second + tracing:  0.03965914105642308\n",
            "wall time:  2.5300345420837402\n",
            "options per second:  0.3952515206280142\n",
            "------------------------\n",
            "price tf.Tensor(-246.927357070608, shape=(), dtype=float64)\n",
            "------------------------\n",
            "TQF cpu TARF\n",
            "wall time + tracing:  8.72029995918274\n",
            "options per second + tracing:  0.11467495438009215\n",
            "wall time:  6.118266582489014\n",
            "options per second:  0.1634449866669888\n",
            "------------------------\n",
            "price tf.Tensor(-246.927357070608, shape=(), dtype=float64)\n"
          ]
        }
      ]
    },
    {
      "cell_type": "code",
      "execution_count": 10,
      "id": "98958e3a",
      "metadata": {
        "id": "98958e3a",
        "colab": {
          "base_uri": "https://localhost:8080/"
        },
        "outputId": "cfd9869a-2b05-43c9-f523-e9bb1a3544dc"
      },
      "outputs": [
        {
          "output_type": "stream",
          "name": "stdout",
          "text": [
            "------------------------\n",
            "TQF gpu TARF XLA\n",
            "wall time + tracing:  2.9613823890686035\n",
            "options per second + tracing:  0.33768013333614577\n",
            "wall time:  0.02266216278076172\n",
            "options per second:  44.12641501493919\n",
            "------------------------\n",
            "price tf.Tensor(-246.927357070608, shape=(), dtype=float64)\n",
            "------------------------\n",
            "TQF cpu TARF XLA\n",
            "wall time + tracing:  2.302581310272217\n",
            "options per second + tracing:  0.4342951953700074\n",
            "wall time:  1.8207616806030273\n",
            "options per second:  0.5492206973890207\n",
            "------------------------\n",
            "price tf.Tensor(-246.927357070608, shape=(), dtype=float64)\n"
          ]
        }
      ],
      "source": [
        "devices = ['gpu', 'cpu']\n",
        "\n",
        "for device in devices:\n",
        "    with tf.device('/{}:0'.format(device)):\n",
        "        t = time.time()\n",
        "        tarf_price = price_eu_options_xla(strikes, spot, sigma, rate, dividend)\n",
        "        time_tqf0 = time.time() - t\n",
        "\n",
        "        t = time.time()\n",
        "        tarf_price = price_eu_options_xla(strikes, spot, sigma, rate, dividend)\n",
        "        time_tqf = time.time() - t\n",
        "\n",
        "        print('------------------------')\n",
        "        print('TQF {} TARF XLA'.format(device))\n",
        "        print('wall time + tracing: ', time_tqf0)\n",
        "        print('options per second + tracing: ', 1.0/time_tqf0)\n",
        "        print('wall time: ', time_tqf)\n",
        "        print('options per second: ', 1.0/time_tqf)\n",
        "        print('------------------------')\n",
        "        print('price', tarf_price)"
      ]
    },
    {
      "cell_type": "code",
      "source": [
        ""
      ],
      "metadata": {
        "id": "Q7rbDJNfQK71"
      },
      "id": "Q7rbDJNfQK71",
      "execution_count": 10,
      "outputs": []
    },
    {
      "cell_type": "code",
      "source": [
        ""
      ],
      "metadata": {
        "id": "2XUaFIQoQQNl"
      },
      "id": "2XUaFIQoQQNl",
      "execution_count": 10,
      "outputs": []
    },
    {
      "cell_type": "code",
      "source": [
        "@tf.function(jit_compile=False,\n",
        "             input_signature=[tf.TensorSpec([], dtype=tf.float64),\n",
        "                            tf.TensorSpec([], dtype=tf.float64),\n",
        "                            tf.TensorSpec([], dtype=tf.float64),\n",
        "                            tf.TensorSpec([], dtype=tf.float64),\n",
        "                            tf.TensorSpec([], dtype=tf.float64)\n",
        "                               ])\n",
        "def greeks_fn(strikes, spot, sigma, rate, dividend):\n",
        "    with tf.GradientTape() as tape:\n",
        "      tape.watch([spot, sigma, rate, dividend])\n",
        "      prices = price_eu_options(strikes, spot, sigma, rate, dividend)\n",
        "    return prices, tape.gradient(prices, [spot, sigma, rate, dividend])\n",
        "\n",
        "@tf.function(jit_compile=True,\n",
        "             input_signature=[tf.TensorSpec([], dtype=tf.float64),\n",
        "                            tf.TensorSpec([], dtype=tf.float64),\n",
        "                            tf.TensorSpec([], dtype=tf.float64),\n",
        "                            tf.TensorSpec([], dtype=tf.float64),\n",
        "                            tf.TensorSpec([], dtype=tf.float64)\n",
        "                               ])\n",
        "def greeks_fn_xla(strikes, spot, sigma, rate, dividend):\n",
        "    with tf.GradientTape() as tape:\n",
        "      tape.watch([spot, sigma, rate, dividend])\n",
        "      prices = price_eu_options_xla(strikes, spot, sigma, rate, dividend)\n",
        "    return prices, tape.gradient(prices, [spot, sigma, rate, dividend])"
      ],
      "metadata": {
        "id": "OhoElu0AWWpy"
      },
      "id": "OhoElu0AWWpy",
      "execution_count": 11,
      "outputs": []
    },
    {
      "cell_type": "code",
      "source": [
        "devices = ['gpu', 'cpu']\n",
        "\n",
        "for device in devices:\n",
        "    with tf.device('/{}:0'.format(device)):\n",
        "        t = time.time()\n",
        "        tarf_price, tarf_greeks = greeks_fn(strikes, spot, sigma, rate, dividend)\n",
        "        time_tqf0 = time.time() - t\n",
        "\n",
        "        t = time.time()\n",
        "        tarf_price, tarf_greeks = greeks_fn(strikes, spot, sigma, rate, dividend)\n",
        "        time_tqf = time.time() - t\n",
        "\n",
        "        print('------------------------')\n",
        "        print('TQF {} TARF price+delta+vega'.format(device))\n",
        "        print('wall time + tracing: ', time_tqf0)\n",
        "        print('options per second + tracing: ', 1.0/time_tqf0)\n",
        "        print('wall time: ', time_tqf)\n",
        "        print('options per second: ', 1.0/time_tqf)\n",
        "        print('------------------------')\n",
        "        print('price', tarf_price)\n",
        "        print('greeks', tarf_greeks)"
      ],
      "metadata": {
        "colab": {
          "base_uri": "https://localhost:8080/"
        },
        "id": "xmfHysaBYOAM",
        "outputId": "cfec128e-5837-4b50-bccb-b320fb23a263"
      },
      "id": "xmfHysaBYOAM",
      "execution_count": 12,
      "outputs": [
        {
          "output_type": "stream",
          "name": "stderr",
          "text": [
            "/usr/local/lib/python3.7/dist-packages/tensorflow/python/framework/indexed_slices.py:446: UserWarning: Converting sparse IndexedSlices(IndexedSlices(indices=Tensor(\"gradients/while/cond/pfor/GatherV2_grad/Reshape_1:0\", shape=(None,), dtype=int32), values=Tensor(\"gradients/while/cond/pfor/GatherV2_grad/Reshape:0\", shape=(None,), dtype=float64), dense_shape=Tensor(\"gradients/while/cond/pfor/GatherV2_grad/Cast:0\", shape=(1,), dtype=int32))) to a dense Tensor of unknown shape. This may consume a large amount of memory.\n",
            "  \"shape. This may consume a large amount of memory.\" % value)\n",
            "/usr/local/lib/python3.7/dist-packages/tensorflow/python/framework/indexed_slices.py:446: UserWarning: Converting sparse IndexedSlices(IndexedSlices(indices=Tensor(\"gradients/while_grad/Identity_4:0\", shape=(None,), dtype=int32), values=Tensor(\"gradients/while_grad/Identity_3:0\", shape=(None,), dtype=float64), dense_shape=Tensor(\"gradients/while_grad/Identity_5:0\", shape=(1,), dtype=int32))) to a dense Tensor of unknown shape. This may consume a large amount of memory.\n",
            "  \"shape. This may consume a large amount of memory.\" % value)\n",
            "/usr/local/lib/python3.7/dist-packages/tensorflow/python/framework/indexed_slices.py:446: UserWarning: Converting sparse IndexedSlices(IndexedSlices(indices=Tensor(\"gradients/while_grad/Identity_7:0\", shape=(None,), dtype=int32), values=Tensor(\"gradients/while_grad/Identity_6:0\", shape=(None,), dtype=float64), dense_shape=Tensor(\"gradients/while_grad/Identity_8:0\", shape=(1,), dtype=int32))) to a dense Tensor of unknown shape. This may consume a large amount of memory.\n",
            "  \"shape. This may consume a large amount of memory.\" % value)\n"
          ]
        },
        {
          "output_type": "stream",
          "name": "stdout",
          "text": [
            "------------------------\n",
            "TQF gpu TARF price+delta+vega\n",
            "wall time + tracing:  9.068912506103516\n",
            "options per second + tracing:  0.11026680424218283\n",
            "wall time:  6.375563621520996\n",
            "options per second:  0.15684887789754867\n",
            "------------------------\n",
            "price tf.Tensor(-246.927357070608, shape=(), dtype=float64)\n",
            "greeks [<tf.Tensor: shape=(), dtype=float64, numpy=21.37942877385511>, <tf.Tensor: shape=(), dtype=float64, numpy=-331.9822946422317>, <tf.Tensor: shape=(), dtype=float64, numpy=217.8267631339107>, None]\n",
            "------------------------\n",
            "TQF cpu TARF price+delta+vega\n",
            "wall time + tracing:  11.150725603103638\n",
            "options per second + tracing:  0.08968026257606634\n",
            "wall time:  8.368967533111572\n",
            "options per second:  0.11948905238830591\n",
            "------------------------\n",
            "price tf.Tensor(-246.927357070608, shape=(), dtype=float64)\n",
            "greeks [<tf.Tensor: shape=(), dtype=float64, numpy=21.37942877385511>, <tf.Tensor: shape=(), dtype=float64, numpy=-331.98229464223164>, <tf.Tensor: shape=(), dtype=float64, numpy=217.82676313391073>, None]\n"
          ]
        }
      ]
    },
    {
      "cell_type": "code",
      "source": [
        "devices = ['gpu', 'cpu']\n",
        "\n",
        "for device in devices:\n",
        "    with tf.device('/{}:0'.format(device)):\n",
        "        t = time.time()\n",
        "        tarf_price, tarf_greeks = greeks_fn_xla(strikes, spot, sigma, rate, dividend)\n",
        "        time_tqf0 = time.time() - t\n",
        "\n",
        "        t = time.time()\n",
        "        tarf_price, tarf_greeks = greeks_fn_xla(strikes, spot, sigma, rate, dividend)\n",
        "        time_tqf = time.time() - t\n",
        "\n",
        "        print('------------------------')\n",
        "        print('TQF {} TARF XLA price+delta+vega'.format(device))\n",
        "        print('wall time + tracing: ', time_tqf0)\n",
        "        print('options per second + tracing: ', 1.0/time_tqf0)\n",
        "        print('wall time: ', time_tqf)\n",
        "        print('options per second: ', 1.0/time_tqf)\n",
        "        print('------------------------')\n",
        "        print('price', tarf_price)\n",
        "        print('greeks', tarf_greeks)"
      ],
      "metadata": {
        "colab": {
          "base_uri": "https://localhost:8080/"
        },
        "id": "5CMM52A4Wvqy",
        "outputId": "3c4817df-cb9c-4cb3-ee91-a0677495694a"
      },
      "id": "5CMM52A4Wvqy",
      "execution_count": 13,
      "outputs": [
        {
          "output_type": "stream",
          "name": "stdout",
          "text": [
            "------------------------\n",
            "TQF gpu TARF XLA price+delta+vega\n",
            "wall time + tracing:  3.197298526763916\n",
            "options per second + tracing:  0.31276403864988195\n",
            "wall time:  0.07020211219787598\n",
            "options per second:  14.244585649806927\n",
            "------------------------\n",
            "price tf.Tensor(-246.927357070608, shape=(), dtype=float64)\n",
            "greeks [<tf.Tensor: shape=(), dtype=float64, numpy=21.37942877385511>, <tf.Tensor: shape=(), dtype=float64, numpy=-331.9822946422317>, <tf.Tensor: shape=(), dtype=float64, numpy=217.8267631339107>, <tf.Tensor: shape=(), dtype=float64, numpy=-217.8267631339107>]\n",
            "------------------------\n",
            "TQF cpu TARF XLA price+delta+vega\n",
            "wall time + tracing:  8.015374660491943\n",
            "options per second + tracing:  0.12476023172429285\n",
            "wall time:  5.775434732437134\n",
            "options per second:  0.17314713893027014\n",
            "------------------------\n",
            "price tf.Tensor(-246.927357070608, shape=(), dtype=float64)\n",
            "greeks [<tf.Tensor: shape=(), dtype=float64, numpy=21.37942877385511>, <tf.Tensor: shape=(), dtype=float64, numpy=-331.9822946422317>, <tf.Tensor: shape=(), dtype=float64, numpy=217.82676313391073>, <tf.Tensor: shape=(), dtype=float64, numpy=-217.82676313391073>]\n"
          ]
        }
      ]
    },
    {
      "cell_type": "code",
      "source": [
        "devices = ['gpu'] # , 'cpu'\n",
        "\n",
        "for device in devices:\n",
        "    with tf.device('/{}:0'.format(device)):\n",
        "        for spot in [15.0, 18.2, 20.0, 25.0]:\n",
        "            spot = tf.constant(spot, dtype=dtype)\n",
        "            t = time.time()\n",
        "            tarf_price, tarf_greeks = greeks_fn_xla(strikes, spot, sigma, rate, dividend)\n",
        "            time_tqf0 = time.time() - t\n",
        "\n",
        "            t = time.time()\n",
        "            tarf_price, tarf_greeks = greeks_fn_xla(strikes, spot, sigma, rate, dividend)\n",
        "            time_tqf = time.time() - t\n",
        "\n",
        "            print('------------------------')\n",
        "            print('TQF {} TARF XLA price+delta+vega spot: {}'.format(device, spot))\n",
        "            print('wall time + tracing: ', time_tqf0)\n",
        "            print('options per second + tracing: ', 1.0/time_tqf0)\n",
        "            print('wall time: ', time_tqf)\n",
        "            print('options per second: ', 1.0/time_tqf)\n",
        "            print('------------------------')\n",
        "            print('price', tarf_price)\n",
        "            print('greeks', tarf_greeks)\n",
        "            # print(greeks_fn_xla.pretty_printed_concrete_signatures())            "
      ],
      "metadata": {
        "id": "bD7H3WCWQYZN",
        "outputId": "c4fd2385-04f8-4f7d-c88b-668d8da0aa17",
        "colab": {
          "base_uri": "https://localhost:8080/"
        }
      },
      "id": "bD7H3WCWQYZN",
      "execution_count": 14,
      "outputs": [
        {
          "output_type": "stream",
          "name": "stdout",
          "text": [
            "------------------------\n",
            "TQF gpu TARF XLA price+delta+vega spot: 15.0\n",
            "wall time + tracing:  2.576292037963867\n",
            "options per second + tracing:  0.38815475313518205\n",
            "wall time:  0.06866049766540527\n",
            "options per second:  14.564415260623022\n",
            "------------------------\n",
            "price tf.Tensor(-489.18585120429816, shape=(), dtype=float64)\n",
            "greeks [<tf.Tensor: shape=(), dtype=float64, numpy=47.21793991971346>, <tf.Tensor: shape=(), dtype=float64, numpy=-375.1297930074455>, <tf.Tensor: shape=(), dtype=float64, numpy=358.638751028938>, <tf.Tensor: shape=(), dtype=float64, numpy=-358.638751028938>]\n",
            "------------------------\n",
            "TQF gpu TARF XLA price+delta+vega spot: 18.2\n",
            "wall time + tracing:  2.5903542041778564\n",
            "options per second + tracing:  0.3860475908611836\n",
            "wall time:  0.06723594665527344\n",
            "options per second:  14.872996510737284\n",
            "------------------------\n",
            "price tf.Tensor(-234.51510001171167, shape=(), dtype=float64)\n",
            "greeks [<tf.Tensor: shape=(), dtype=float64, numpy=20.189230768587276>, <tf.Tensor: shape=(), dtype=float64, numpy=-324.0551695417529>, <tf.Tensor: shape=(), dtype=float64, numpy=208.80456382277578>, <tf.Tensor: shape=(), dtype=float64, numpy=-208.80456382277578>]\n",
            "------------------------\n",
            "TQF gpu TARF XLA price+delta+vega spot: 20.0\n",
            "wall time + tracing:  2.6097450256347656\n",
            "options per second + tracing:  0.3831791957364766\n",
            "wall time:  0.06735658645629883\n",
            "options per second:  14.846358056591885\n",
            "------------------------\n",
            "price tf.Tensor(-133.88846544849437, shape=(), dtype=float64)\n",
            "greeks [<tf.Tensor: shape=(), dtype=float64, numpy=11.051056727575284>, <tf.Tensor: shape=(), dtype=float64, numpy=-230.47383157085534>, <tf.Tensor: shape=(), dtype=float64, numpy=127.45357443107382>, <tf.Tensor: shape=(), dtype=float64, numpy=-127.45357443107382>]\n",
            "------------------------\n",
            "TQF gpu TARF XLA price+delta+vega spot: 25.0\n",
            "wall time + tracing:  3.6820600032806396\n",
            "options per second + tracing:  0.27158710045708667\n",
            "wall time:  0.0670621395111084\n",
            "options per second:  14.911543343086402\n",
            "------------------------\n",
            "price tf.Tensor(4.951110958164982, shape=(), dtype=float64)\n",
            "greeks [<tf.Tensor: shape=(), dtype=float64, numpy=0.0030054383265992607>, <tf.Tensor: shape=(), dtype=float64, numpy=-0.11210128640365608>, <tf.Tensor: shape=(), dtype=float64, numpy=0.041917331687479825>, <tf.Tensor: shape=(), dtype=float64, numpy=-0.041917331687479825>]\n"
          ]
        }
      ]
    },
    {
      "cell_type": "code",
      "source": [
        "print(greeks_fn_xla.pretty_printed_concrete_signatures())  "
      ],
      "metadata": {
        "id": "55DYkXuJQaE8",
        "outputId": "6b5c2b57-400e-493e-9178-b4747e373792",
        "colab": {
          "base_uri": "https://localhost:8080/"
        }
      },
      "id": "55DYkXuJQaE8",
      "execution_count": 15,
      "outputs": [
        {
          "output_type": "stream",
          "name": "stdout",
          "text": [
            "greeks_fn_xla(strikes, spot, sigma, rate, dividend)\n",
            "  Args:\n",
            "    strikes: float64 Tensor, shape=()\n",
            "    spot: float64 Tensor, shape=()\n",
            "    sigma: float64 Tensor, shape=()\n",
            "    rate: float64 Tensor, shape=()\n",
            "    dividend: float64 Tensor, shape=()\n",
            "  Returns:\n",
            "    (<1>, [<2>, <3>, <4>, <5>])\n",
            "      <1>: float64 Tensor, shape=()\n",
            "      <2>: float64 Tensor, shape=()\n",
            "      <3>: float64 Tensor, shape=()\n",
            "      <4>: float64 Tensor, shape=()\n",
            "      <5>: float64 Tensor, shape=()\n"
          ]
        }
      ]
    },
    {
      "cell_type": "code",
      "execution_count": 16,
      "id": "146a7a20",
      "metadata": {
        "id": "146a7a20"
      },
      "outputs": [],
      "source": [
        "@tf.function(jit_compile=False,\n",
        "             input_signature=[tf.TensorSpec([], dtype=tf.float64),\n",
        "                            tf.TensorSpec([], dtype=tf.float64),\n",
        "                            tf.TensorSpec([], dtype=tf.float64),\n",
        "                            tf.TensorSpec([], dtype=tf.float64),\n",
        "                            tf.TensorSpec([], dtype=tf.float64)\n",
        "                               ])\n",
        "def delta_fn(strikes, spot, sigma, rate, dividend):\n",
        "    fn = lambda spot: price_eu_options(strikes, spot, sigma, rate, dividend)\n",
        "    return tff.math.fwd_gradient(fn, spot, use_gradient_tape=True)\n",
        "\n",
        "@tf.function(jit_compile=True,\n",
        "             input_signature=[tf.TensorSpec([], dtype=tf.float64),\n",
        "                            tf.TensorSpec([], dtype=tf.float64),\n",
        "                            tf.TensorSpec([], dtype=tf.float64),\n",
        "                            tf.TensorSpec([], dtype=tf.float64),\n",
        "                            tf.TensorSpec([], dtype=tf.float64)\n",
        "                               ])\n",
        "def delta_fn_xla(strikes, spot, sigma, rate, dividend):\n",
        "    fn = lambda spot: price_eu_options_xla(strikes, spot, sigma, rate, dividend)\n",
        "    return tff.math.fwd_gradient(fn, spot, use_gradient_tape=True)"
      ]
    },
    {
      "cell_type": "code",
      "source": [
        "@tf.function(jit_compile=False,\n",
        "             input_signature=[tf.TensorSpec([], dtype=tf.float64),\n",
        "                            tf.TensorSpec([], dtype=tf.float64),\n",
        "                            tf.TensorSpec([], dtype=tf.float64),\n",
        "                            tf.TensorSpec([], dtype=tf.float64),\n",
        "                            tf.TensorSpec([], dtype=tf.float64)\n",
        "                               ])\n",
        "def vega_fn(strikes, spot, sigma, rate, dividend):\n",
        "    fn = lambda sigma: price_eu_options(strikes, spot, sigma, rate, dividend)\n",
        "    return tff.math.fwd_gradient(fn, sigma, use_gradient_tape=True)"
      ],
      "metadata": {
        "id": "e0_Jl2wbuxau"
      },
      "id": "e0_Jl2wbuxau",
      "execution_count": 17,
      "outputs": []
    },
    {
      "cell_type": "code",
      "execution_count": null,
      "id": "fa8f6006",
      "metadata": {
        "id": "fa8f6006",
        "colab": {
          "base_uri": "https://localhost:8080/"
        },
        "outputId": "b9a7b485-b4e0-4f8f-f798-b595c1eb9178"
      },
      "outputs": [
        {
          "output_type": "stream",
          "name": "stderr",
          "text": [
            "/usr/local/lib/python3.7/dist-packages/tensorflow/python/framework/indexed_slices.py:446: UserWarning: Converting sparse IndexedSlices(IndexedSlices(indices=Tensor(\"gradients/gradients/while/cond/cond_1/pfor/DynamicStitch_1_grad/GatherV2_grad/Reshape_1:0\", shape=(None,), dtype=int32), values=Tensor(\"gradients/gradients/while/cond/cond_1/pfor/DynamicStitch_1_grad/GatherV2_grad/Reshape:0\", shape=(None,), dtype=float64), dense_shape=Tensor(\"gradients/gradients/while/cond/cond_1/pfor/DynamicStitch_1_grad/GatherV2_grad/Cast:0\", shape=(1,), dtype=int32))) to a dense Tensor of unknown shape. This may consume a large amount of memory.\n",
            "  \"shape. This may consume a large amount of memory.\" % value)\n",
            "/usr/local/lib/python3.7/dist-packages/tensorflow/python/framework/indexed_slices.py:446: UserWarning: Converting sparse IndexedSlices(IndexedSlices(indices=Tensor(\"gradients/concat_1:0\", shape=(None,), dtype=int32), values=Tensor(\"gradients/concat:0\", shape=(None,), dtype=float64), dense_shape=Tensor(\"gradients/gradients/while/cond/cond_2/pfor/DynamicStitch_1_grad/GatherV2_grad/Cast:0\", shape=(1,), dtype=int32))) to a dense Tensor of unknown shape. This may consume a large amount of memory.\n",
            "  \"shape. This may consume a large amount of memory.\" % value)\n",
            "/usr/local/lib/python3.7/dist-packages/tensorflow/python/framework/indexed_slices.py:446: UserWarning: Converting sparse IndexedSlices(IndexedSlices(indices=Tensor(\"gradients/gradients/while_grad/while_grad_grad/Identity_4:0\", shape=(None,), dtype=int32), values=Tensor(\"gradients/gradients/while_grad/while_grad_grad/Identity_3:0\", shape=(None,), dtype=float64), dense_shape=Tensor(\"gradients/gradients/while_grad/while_grad_grad/Identity_5:0\", shape=(1,), dtype=int32))) to a dense Tensor of unknown shape. This may consume a large amount of memory.\n",
            "  \"shape. This may consume a large amount of memory.\" % value)\n",
            "/usr/local/lib/python3.7/dist-packages/tensorflow/python/framework/indexed_slices.py:446: UserWarning: Converting sparse IndexedSlices(IndexedSlices(indices=Tensor(\"gradients/gradients/while_grad/while_grad_grad/Identity_7:0\", shape=(None,), dtype=int32), values=Tensor(\"gradients/gradients/while_grad/while_grad_grad/Identity_6:0\", shape=(None,), dtype=float64), dense_shape=Tensor(\"gradients/gradients/while_grad/while_grad_grad/Identity_8:0\", shape=(1,), dtype=int32))) to a dense Tensor of unknown shape. This may consume a large amount of memory.\n",
            "  \"shape. This may consume a large amount of memory.\" % value)\n"
          ]
        },
        {
          "output_type": "stream",
          "name": "stdout",
          "text": [
            "------------------------\n",
            "TQF gpu TARF price+delta+vega\n",
            "wall time + tracing:  18.93397855758667\n",
            "options per second + tracing:  0.05281510153603239\n",
            "wall time:  6.935792446136475\n",
            "options per second:  0.14417963163777223\n",
            "------------------------\n",
            "price tf.Tensor(4.951110958164982, shape=(), dtype=float64)\n",
            "delta tf.Tensor(0.00300543832659926, shape=(), dtype=float64)\n",
            "vega tf.Tensor(-0.11210128640365602, shape=(), dtype=float64)\n"
          ]
        }
      ],
      "source": [
        "devices = ['gpu', 'cpu']\n",
        "\n",
        "for device in devices:\n",
        "    with tf.device('/{}:0'.format(device)):\n",
        "        t = time.time()\n",
        "        tarf_price = price_eu_options(strikes, spot, sigma, rate, dividend)\n",
        "        tarf_delta = delta_fn(strikes, spot, sigma, rate, dividend)\n",
        "        tarf_vega = vega_fn(strikes, spot, sigma, rate, dividend)\n",
        "        time_tqf0 = time.time() - t\n",
        "\n",
        "        t = time.time()\n",
        "        tarf_price = price_eu_options(strikes, spot, sigma, rate, dividend)\n",
        "        tarf_delta = delta_fn(strikes, spot, sigma, rate, dividend)\n",
        "        tarf_vega = vega_fn(strikes, spot, sigma, rate, dividend)\n",
        "        time_tqf = time.time() - t\n",
        "\n",
        "        print('------------------------')\n",
        "        print('TQF {} TARF price+delta+vega'.format(device))\n",
        "        print('wall time + tracing: ', time_tqf0)\n",
        "        print('options per second + tracing: ', 1.0/time_tqf0)\n",
        "        print('wall time: ', time_tqf)\n",
        "        print('options per second: ', 1.0/time_tqf)\n",
        "        print('------------------------')\n",
        "        print('price', tarf_price)\n",
        "        print('delta', tarf_delta)\n",
        "        print('vega', tarf_vega)"
      ]
    },
    {
      "cell_type": "code",
      "execution_count": null,
      "id": "cb03ad7b",
      "metadata": {
        "id": "cb03ad7b"
      },
      "outputs": [],
      "source": [
        "devices = ['gpu', 'cpu']\n",
        "\n",
        "for device in devices:\n",
        "    with tf.device('/{}:0'.format(device)):\n",
        "        t = time.time()\n",
        "        tarf_delta = delta_fn_xla(strikes, spot, sigma, rate, dividend)\n",
        "        time_tqf0 = time.time() - t\n",
        "\n",
        "        t = time.time()\n",
        "        tarf_delta = delta_fn_xla(strikes, spot, sigma, rate, dividend)\n",
        "        time_tqf = time.time() - t\n",
        "\n",
        "        print('------------------------')\n",
        "        print('TQF {} TARF'.format(device))\n",
        "        print('wall time + tracing: ', time_tqf0)\n",
        "        print('options per second + tracing: ', 1.0/time_tqf0)\n",
        "        print('wall time: ', time_tqf)\n",
        "        print('options per second: ', 1.0/time_tqf)\n",
        "        print('------------------------')\n",
        "        print('delta', tarf_delta)"
      ]
    },
    {
      "cell_type": "code",
      "execution_count": null,
      "id": "e7cbeabd",
      "metadata": {
        "id": "e7cbeabd"
      },
      "outputs": [],
      "source": [
        ""
      ]
    }
  ],
  "metadata": {
    "kernelspec": {
      "display_name": "Python 3 (ipykernel)",
      "language": "python",
      "name": "python3"
    },
    "language_info": {
      "codemirror_mode": {
        "name": "ipython",
        "version": 3
      },
      "file_extension": ".py",
      "mimetype": "text/x-python",
      "name": "python",
      "nbconvert_exporter": "python",
      "pygments_lexer": "ipython3",
      "version": "3.7.9"
    },
    "colab": {
      "name": "TARF_MC_Performance_TQF.ipynb",
      "provenance": [],
      "include_colab_link": true
    },
    "accelerator": "GPU"
  },
  "nbformat": 4,
  "nbformat_minor": 5
}
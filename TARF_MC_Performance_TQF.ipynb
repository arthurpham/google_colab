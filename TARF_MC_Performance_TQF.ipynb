{
  "cells": [
    {
      "cell_type": "code",
      "execution_count": 1,
      "id": "f3a6e055",
      "metadata": {
        "id": "f3a6e055",
        "outputId": "129e85ac-f7ac-437a-8548-10c59bc0466f",
        "colab": {
          "base_uri": "https://localhost:8080/"
        }
      },
      "outputs": [
        {
          "output_type": "stream",
          "name": "stdout",
          "text": [
            "Requirement already satisfied: tf-quant-finance in /usr/local/lib/python3.7/dist-packages (0.0.1.dev31)\n",
            "Requirement already satisfied: tensorflow-probability>=0.12.1 in /usr/local/lib/python3.7/dist-packages (from tf-quant-finance) (0.16.0)\n",
            "Requirement already satisfied: attrs>=18.2.0 in /usr/local/lib/python3.7/dist-packages (from tf-quant-finance) (21.4.0)\n",
            "Requirement already satisfied: numpy>=1.21 in /usr/local/lib/python3.7/dist-packages (from tf-quant-finance) (1.21.6)\n",
            "Requirement already satisfied: protobuf in /usr/local/lib/python3.7/dist-packages (from tf-quant-finance) (3.17.3)\n",
            "Requirement already satisfied: six>=1.10.0 in /usr/local/lib/python3.7/dist-packages (from tensorflow-probability>=0.12.1->tf-quant-finance) (1.15.0)\n",
            "Requirement already satisfied: absl-py in /usr/local/lib/python3.7/dist-packages (from tensorflow-probability>=0.12.1->tf-quant-finance) (1.0.0)\n",
            "Requirement already satisfied: cloudpickle>=1.3 in /usr/local/lib/python3.7/dist-packages (from tensorflow-probability>=0.12.1->tf-quant-finance) (1.3.0)\n",
            "Requirement already satisfied: gast>=0.3.2 in /usr/local/lib/python3.7/dist-packages (from tensorflow-probability>=0.12.1->tf-quant-finance) (0.5.3)\n",
            "Requirement already satisfied: decorator in /usr/local/lib/python3.7/dist-packages (from tensorflow-probability>=0.12.1->tf-quant-finance) (4.4.2)\n",
            "Requirement already satisfied: dm-tree in /usr/local/lib/python3.7/dist-packages (from tensorflow-probability>=0.12.1->tf-quant-finance) (0.1.7)\n",
            "Requirement already satisfied: QuantLib-Python in /usr/local/lib/python3.7/dist-packages (1.18)\n",
            "Requirement already satisfied: QuantLib in /usr/local/lib/python3.7/dist-packages (from QuantLib-Python) (1.26)\n"
          ]
        }
      ],
      "source": [
        "# !pip install --upgrade tensorflow --user\n",
        "!pip install tf-quant-finance\n",
        "!pip install QuantLib-Python"
      ]
    },
    {
      "cell_type": "code",
      "execution_count": 2,
      "id": "a83401ca",
      "metadata": {
        "id": "a83401ca"
      },
      "outputs": [],
      "source": [
        "import os\n",
        "# reduce number of threads\n",
        "os.environ['TF_NUM_INTEROP_THREADS'] = '1'\n",
        "os.environ['TF_NUM_INTRAOP_THREADS'] = '1'\n",
        "\n",
        "%matplotlib inline\n",
        "import numpy as np\n",
        "import matplotlib.pyplot as plt\n",
        "import tf_quant_finance as tff \n",
        "import tensorflow as tf\n",
        "import functools\n",
        "import pandas as pd\n",
        "import time\n",
        "import QuantLib as ql"
      ]
    },
    {
      "cell_type": "code",
      "execution_count": 3,
      "id": "c4306927",
      "metadata": {
        "id": "c4306927",
        "outputId": "8952625d-4133-424c-c966-6f47403df8db",
        "colab": {
          "base_uri": "https://localhost:8080/"
        }
      },
      "outputs": [
        {
          "output_type": "stream",
          "name": "stdout",
          "text": [
            "Thu May  5 19:24:19 2022       \n",
            "+-----------------------------------------------------------------------------+\n",
            "| NVIDIA-SMI 460.32.03    Driver Version: 460.32.03    CUDA Version: 11.2     |\n",
            "|-------------------------------+----------------------+----------------------+\n",
            "| GPU  Name        Persistence-M| Bus-Id        Disp.A | Volatile Uncorr. ECC |\n",
            "| Fan  Temp  Perf  Pwr:Usage/Cap|         Memory-Usage | GPU-Util  Compute M. |\n",
            "|                               |                      |               MIG M. |\n",
            "|===============================+======================+======================|\n",
            "|   0  Tesla T4            Off  | 00000000:00:04.0 Off |                    0 |\n",
            "| N/A   60C    P8    11W /  70W |      0MiB / 15109MiB |      0%      Default |\n",
            "|                               |                      |                  N/A |\n",
            "+-------------------------------+----------------------+----------------------+\n",
            "                                                                               \n",
            "+-----------------------------------------------------------------------------+\n",
            "| Processes:                                                                  |\n",
            "|  GPU   GI   CI        PID   Type   Process name                  GPU Memory |\n",
            "|        ID   ID                                                   Usage      |\n",
            "|=============================================================================|\n",
            "|  No running processes found                                                 |\n",
            "+-----------------------------------------------------------------------------+\n"
          ]
        }
      ],
      "source": [
        "!nvidia-smi"
      ]
    },
    {
      "cell_type": "code",
      "execution_count": 4,
      "id": "3cb3a485",
      "metadata": {
        "id": "3cb3a485"
      },
      "outputs": [],
      "source": [
        "spot = 20.0\n",
        "strike = 20.0\n",
        "K_lower = 15.0\n",
        "K_upper = 20.0\n",
        "K_knockout = 30.0\n",
        "tarf_target = 5.0\n",
        "step_up_ratio = 2.0\n",
        "\n",
        "r = 0.0\n",
        "volatility = 0.5"
      ]
    },
    {
      "cell_type": "code",
      "execution_count": 29,
      "id": "5e327c2d",
      "metadata": {
        "scrolled": false,
        "id": "5e327c2d",
        "outputId": "e96fa129-1717-49a2-cc93-b55b7610c588",
        "colab": {
          "base_uri": "https://localhost:8080/",
          "height": 588
        }
      },
      "outputs": [
        {
          "output_type": "error",
          "ename": "TypeError",
          "evalue": "ignored",
          "traceback": [
            "\u001b[0;31m---------------------------------------------------------------------------\u001b[0m",
            "\u001b[0;31mTypeError\u001b[0m                                 Traceback (most recent call last)",
            "\u001b[0;32m<ipython-input-29-a73b369ff1ba>\u001b[0m in \u001b[0;36m<module>\u001b[0;34m()\u001b[0m\n\u001b[1;32m    155\u001b[0m \u001b[0mdevice\u001b[0m \u001b[0;34m=\u001b[0m \u001b[0;34m\"/gpu:0\"\u001b[0m\u001b[0;34m\u001b[0m\u001b[0;34m\u001b[0m\u001b[0m\n\u001b[1;32m    156\u001b[0m \u001b[0;32mwith\u001b[0m \u001b[0mtf\u001b[0m\u001b[0;34m.\u001b[0m\u001b[0mdevice\u001b[0m\u001b[0;34m(\u001b[0m\u001b[0mdevice\u001b[0m\u001b[0;34m)\u001b[0m\u001b[0;34m:\u001b[0m\u001b[0;34m\u001b[0m\u001b[0;34m\u001b[0m\u001b[0m\n\u001b[0;32m--> 157\u001b[0;31m     \u001b[0mtarf_price\u001b[0m \u001b[0;34m=\u001b[0m \u001b[0mprice_eu_options_xla\u001b[0m\u001b[0;34m(\u001b[0m\u001b[0mstrikes\u001b[0m\u001b[0;34m,\u001b[0m \u001b[0mspot\u001b[0m\u001b[0;34m,\u001b[0m \u001b[0msigma\u001b[0m\u001b[0;34m)\u001b[0m\u001b[0;34m\u001b[0m\u001b[0;34m\u001b[0m\u001b[0m\n\u001b[0m\u001b[1;32m    158\u001b[0m     \u001b[0mprint\u001b[0m\u001b[0;34m(\u001b[0m\u001b[0;34m'price'\u001b[0m\u001b[0;34m,\u001b[0m \u001b[0mtarf_price\u001b[0m\u001b[0;34m)\u001b[0m\u001b[0;34m\u001b[0m\u001b[0;34m\u001b[0m\u001b[0m\n",
            "\u001b[0;32m/usr/local/lib/python3.7/dist-packages/tensorflow/python/util/traceback_utils.py\u001b[0m in \u001b[0;36merror_handler\u001b[0;34m(*args, **kwargs)\u001b[0m\n\u001b[1;32m    151\u001b[0m     \u001b[0;32mexcept\u001b[0m \u001b[0mException\u001b[0m \u001b[0;32mas\u001b[0m \u001b[0me\u001b[0m\u001b[0;34m:\u001b[0m\u001b[0;34m\u001b[0m\u001b[0;34m\u001b[0m\u001b[0m\n\u001b[1;32m    152\u001b[0m       \u001b[0mfiltered_tb\u001b[0m \u001b[0;34m=\u001b[0m \u001b[0m_process_traceback_frames\u001b[0m\u001b[0;34m(\u001b[0m\u001b[0me\u001b[0m\u001b[0;34m.\u001b[0m\u001b[0m__traceback__\u001b[0m\u001b[0;34m)\u001b[0m\u001b[0;34m\u001b[0m\u001b[0;34m\u001b[0m\u001b[0m\n\u001b[0;32m--> 153\u001b[0;31m       \u001b[0;32mraise\u001b[0m \u001b[0me\u001b[0m\u001b[0;34m.\u001b[0m\u001b[0mwith_traceback\u001b[0m\u001b[0;34m(\u001b[0m\u001b[0mfiltered_tb\u001b[0m\u001b[0;34m)\u001b[0m \u001b[0;32mfrom\u001b[0m \u001b[0;32mNone\u001b[0m\u001b[0;34m\u001b[0m\u001b[0;34m\u001b[0m\u001b[0m\n\u001b[0m\u001b[1;32m    154\u001b[0m     \u001b[0;32mfinally\u001b[0m\u001b[0;34m:\u001b[0m\u001b[0;34m\u001b[0m\u001b[0;34m\u001b[0m\u001b[0m\n\u001b[1;32m    155\u001b[0m       \u001b[0;32mdel\u001b[0m \u001b[0mfiltered_tb\u001b[0m\u001b[0;34m\u001b[0m\u001b[0;34m\u001b[0m\u001b[0m\n",
            "\u001b[0;32m/usr/local/lib/python3.7/dist-packages/tensorflow/python/framework/func_graph.py\u001b[0m in \u001b[0;36mautograph_handler\u001b[0;34m(*args, **kwargs)\u001b[0m\n\u001b[1;32m   1145\u001b[0m           \u001b[0;32mexcept\u001b[0m \u001b[0mException\u001b[0m \u001b[0;32mas\u001b[0m \u001b[0me\u001b[0m\u001b[0;34m:\u001b[0m  \u001b[0;31m# pylint:disable=broad-except\u001b[0m\u001b[0;34m\u001b[0m\u001b[0;34m\u001b[0m\u001b[0m\n\u001b[1;32m   1146\u001b[0m             \u001b[0;32mif\u001b[0m \u001b[0mhasattr\u001b[0m\u001b[0;34m(\u001b[0m\u001b[0me\u001b[0m\u001b[0;34m,\u001b[0m \u001b[0;34m\"ag_error_metadata\"\u001b[0m\u001b[0;34m)\u001b[0m\u001b[0;34m:\u001b[0m\u001b[0;34m\u001b[0m\u001b[0;34m\u001b[0m\u001b[0m\n\u001b[0;32m-> 1147\u001b[0;31m               \u001b[0;32mraise\u001b[0m \u001b[0me\u001b[0m\u001b[0;34m.\u001b[0m\u001b[0mag_error_metadata\u001b[0m\u001b[0;34m.\u001b[0m\u001b[0mto_exception\u001b[0m\u001b[0;34m(\u001b[0m\u001b[0me\u001b[0m\u001b[0;34m)\u001b[0m\u001b[0;34m\u001b[0m\u001b[0;34m\u001b[0m\u001b[0m\n\u001b[0m\u001b[1;32m   1148\u001b[0m             \u001b[0;32melse\u001b[0m\u001b[0;34m:\u001b[0m\u001b[0;34m\u001b[0m\u001b[0;34m\u001b[0m\u001b[0m\n\u001b[1;32m   1149\u001b[0m               \u001b[0;32mraise\u001b[0m\u001b[0;34m\u001b[0m\u001b[0;34m\u001b[0m\u001b[0m\n",
            "\u001b[0;31mTypeError\u001b[0m: in user code:\n\n    File \"<ipython-input-29-a73b369ff1ba>\", line 126, in price_eu_options  *\n        payoffs = tf.vectorized_map(my_function2, reshaped_paths)\n    File \"/tmp/__autograph_generated_filek1m8s7fj.py\", line 291, in my_function2\n        ag__.for_stmt(ag__.ld(element), None, loop_body_1, get_state_12, set_state_12, ('discounted_payoff', 'cashflow', 'is_active', 'total'), {'iterate_names': 'cur_spot'})\n    File \"/tmp/__autograph_generated_filek1m8s7fj.py\", line 289, in loop_body_1\n        ag__.if_stmt(ag__.ld(is_active), if_body_10, else_body_10, get_state_11, set_state_11, ('cashflow', 'discounted_payoff', 'is_active', 'total'), 4)\n    File \"/tmp/__autograph_generated_filek1m8s7fj.py\", line 284, in if_body_10\n        ag__.if_stmt(((ag__.ld(total) + ag__.ld(cashflow)) >= ag__.ld(tarf_target)), if_body_9, else_body_9, get_state_10, set_state_10, ('cashflow', 'discounted_payoff', 'total'), 3)\n    File \"/tmp/__autograph_generated_filek1m8s7fj.py\", line 275, in if_body_9\n        cashflow = ag__.converted_call(ag__.ld(tf).constant, ((ag__.ld(tarf_target) - ag__.ld(total)),), dict(dtype=ag__.ld(tf).float64), fscope_4)\n\n    TypeError: Expected float64, but got Tensor(\"while/cond/cond_3/sub:0\", shape=(), dtype=float64) of type 'Tensor'.\n"
          ]
        }
      ],
      "source": [
        "#@title Set up parameters\n",
        "\n",
        "dtype = tf.float64 #@param\n",
        "num_samples = 200000 #@param\n",
        "num_timesteps = 53 #@param\n",
        "\n",
        "# expiries =tf.constant( [0.0, 0.5, 1.0], dtype=dtype) # This can be a rank 1 Tensor\n",
        "dt = 1. / num_timesteps\n",
        "# times = [1.0]\n",
        "times = tf.linspace(tf.constant(0.0, dtype=dtype), tf.constant(1.0, dtype=dtype), num_timesteps)\n",
        "rate = tf.constant(r, dtype=dtype)\n",
        "sigma = tf.constant(volatility, dtype=dtype)\n",
        "spot = tf.constant(spot, dtype=dtype)\n",
        "strikes = tf.constant(strike, dtype=dtype)\n",
        "\n",
        "def set_up_pricer(times, watch_params=False):\n",
        "    \"\"\"Set up European option pricing function under Black-Scholes model.\n",
        "    \n",
        "    Args:\n",
        "        expiries: List of expiries at which to to sample the trajectories.\n",
        "        watch_params: A Python bool. When `True`, gradients of the price function wrt the inputs\n",
        "          are computed more efficiently. \n",
        "    Returns:\n",
        "     A callable that accepts a rank 1 tensor of strikes, and scalar values for \n",
        "     the spots and  volatility values. The callable outputs prices of\n",
        "     the European call options on the grid `expiries x strikes`.\n",
        "    \"\"\"\n",
        "    def price_eu_options(strikes, spot, sigma):\n",
        "        # Define drift and volatility functions. \n",
        "        def drift_fn(t, x):\n",
        "          del t, x\n",
        "          return rate - 0.5 * sigma**2\n",
        "        def vol_fn(t, x):\n",
        "          del t, x\n",
        "          return tf.reshape(sigma, [1, 1])\n",
        "        # Use GenericItoProcess class to set up the Ito process\n",
        "        process = tff.models.GenericItoProcess(\n",
        "            dim=1,\n",
        "            drift_fn=drift_fn,\n",
        "            volatility_fn=vol_fn,\n",
        "            dtype=dtype)\n",
        "        log_spot = tf.math.log(tf.reduce_mean(spot))\n",
        "        if watch_params:\n",
        "            watch_params_list = [sigma]\n",
        "        else:\n",
        "            watch_params_list = None\n",
        "        paths = process.sample_paths(\n",
        "            times=times, num_samples=num_samples,\n",
        "            initial_state=log_spot, \n",
        "            watch_params=watch_params_list,\n",
        "            # Select a random number generator\n",
        "            random_type=tff.math.random.RandomType.SOBOL, #PSEUDO_ANTITHETIC\n",
        "            time_step=dt)\n",
        "        \n",
        "#         tf.print('paths', paths.shape, paths)\n",
        "        # paths_reduced = tf.gather_nd(paths, [[:, 0]])\n",
        "        paths_reduced = tf.expand_dims(paths[:, -1, :], axis=-1)\n",
        "        # tf.print('paths_reduced', paths_reduced.shape, paths_reduced)\n",
        "        # tf.print('strikes', strikes.shape, strikes)\n",
        "        # tf.print('tf.math.exp(paths) - strikes', (tf.math.exp(paths) - strikes).shape, tf.math.exp(paths) - strikes)\n",
        "\n",
        "#         tf.print('paths', paths.shape, paths)\n",
        "#         tf.print('paths', tf.reshape(paths, [num_samples, num_timesteps]).shape, tf.reshape(paths, [num_samples, num_timesteps]))\n",
        "        \n",
        "        @tf.function\n",
        "        def my_function(element):\n",
        "#             tf.print(element, summarize=-1)\n",
        "            total = tf.constant(0.0, dtype=tf.float64)\n",
        "            discounted_payoff = tf.constant(0.0, dtype=tf.float64)\n",
        "            df = tf.constant(1.0, dtype=tf.float64)\n",
        "            is_active = True\n",
        "            cashflow = tf.constant(0.0, dtype=tf.float64)\n",
        "            for cur_spot in element:\n",
        "                if is_active:\n",
        "                    if K_knockout <= cur_spot:\n",
        "                        # early termination\n",
        "                        cashflow = tf.constant(0.0, dtype=tf.float64)\n",
        "                        is_active = False\n",
        "                    if K_upper <= cur_spot: # cur_spot < K_knockout\n",
        "                        cashflow = cur_spot - strike\n",
        "                    if cur_spot < K_lower:\n",
        "                        cashflow = step_up_ratio*(cur_spot - strike)\n",
        "\n",
        "                    if total + cashflow >= tarf_target:\n",
        "                        cashflow = tarf_target - total\n",
        "                        total += cashflow\n",
        "                        discounted_payoff += df*cashflow\n",
        "                        is_active = False\n",
        "                    else:\n",
        "                        total += cashflow\n",
        "                        discounted_payoff += df*cashflow\n",
        "                     \n",
        "            return discounted_payoff\n",
        "\n",
        "        @tf.function\n",
        "        def my_function2(element):\n",
        "            #             tf.print(element, summarize=-1)\n",
        "            total = tf.constant(0.0, dtype=tf.float64)\n",
        "            discounted_payoff = tf.constant(0.0, dtype=tf.float64)\n",
        "            df = tf.constant(1.0, dtype=tf.float64)\n",
        "            is_active = True\n",
        "            cashflow = tf.constant(0.0, dtype=tf.float64)\n",
        "\n",
        "            for cur_spot in element:\n",
        "                if is_active:\n",
        "                    if K_knockout <= cur_spot:\n",
        "                        # early termination\n",
        "                        cashflow = tf.constant(0.0, dtype=tf.float64)\n",
        "                        is_active = False\n",
        "                    if K_upper <= cur_spot: # cur_spot < K_knockout\n",
        "                        cashflow = cur_spot - strike\n",
        "                    if cur_spot < K_lower:\n",
        "                        cashflow = step_up_ratio*(cur_spot - strike)\n",
        "\n",
        "                    if total + cashflow >= tarf_target:\n",
        "                        cashflow = tf.constant(tarf_target - total, dtype=tf.float64)\n",
        "                        total += cashflow\n",
        "                        discounted_payoff += cashflow# df*cashflow\n",
        "                        # is_active = False\n",
        "                     \n",
        "            return discounted_payoff\n",
        "\n",
        "\n",
        "        reshaped_paths = tf.reshape(tf.math.exp(paths), [num_samples, num_timesteps])\n",
        "        # payoffs = tf.map_fn(my_function, reshaped_paths)\n",
        "        payoffs = tf.vectorized_map(my_function2, reshaped_paths)\n",
        "        \n",
        "#         tf.print(payoffs, summarize=-1)\n",
        "        # tf.print(paths.shape)\n",
        "        prices = tf.reduce_mean(payoffs)\n",
        "\n",
        "#         prices = (tf.exp(-tf.expand_dims(rate * times[-1], axis=-1))\n",
        "#                   * tf.reduce_mean(tf.nn.relu(tf.math.exp(paths_reduced) - strikes), 0))\n",
        "        # tf.print(prices.shape, prices)\n",
        "        return prices\n",
        "    return price_eu_options\n",
        "\n",
        "price_eu_options = tf.function(set_up_pricer(times, watch_params=True),\n",
        "                               input_signature=[\n",
        "                                                tf.TensorSpec([], dtype=tf.float64),\n",
        "                                                tf.TensorSpec([], dtype=tf.float64),\n",
        "                                                tf.TensorSpec([], dtype=tf.float64)\n",
        "                               ])\n",
        "price_eu_options_xla = tf.function(set_up_pricer(times, watch_params=True),\n",
        "                               input_signature=[\n",
        "                                                tf.TensorSpec([], dtype=tf.float64),\n",
        "                                                tf.TensorSpec([], dtype=tf.float64),\n",
        "                                                tf.TensorSpec([], dtype=tf.float64)\n",
        "                               ], jit_compile=True)\n",
        "# price_eu_options_xla = tf.function(set_up_pricer(times), jit_compile=True)\n",
        "# print(set_up_pricer(times)(strikes, spot, sigma))\n",
        "\n",
        "# price_eu_options_xla = set_up_pricer(times)\n",
        "\n",
        "device = \"/gpu:0\"\n",
        "with tf.device(device):\n",
        "    tarf_price = price_eu_options_xla(strikes, spot, sigma)\n",
        "    print('price', tarf_price)"
      ]
    },
    {
      "cell_type": "code",
      "source": [
        "device = \"/gpu:0\"\n",
        "with tf.device(device):\n",
        "    t = time.time()\n",
        "    tarf_price = price_eu_options(strikes, spot, sigma)\n",
        "    time_tqf0 = time.time() - t\n",
        "\n",
        "    t = time.time()\n",
        "    tarf_price = price_eu_options(strikes, spot, sigma)\n",
        "    time_tqf = time.time() - t\n",
        "\n",
        "    print('------------------------')\n",
        "    print('TQF GPU TARF')\n",
        "    print('wall time + tracing: ', time_tqf0)\n",
        "    print('options per second + tracing: ', 1.0/time_tqf0)\n",
        "    print('wall time: ', time_tqf)\n",
        "    print('options per second: ', 1.0/time_tqf)\n",
        "    print('------------------------')\n",
        "    print('price', tarf_price)"
      ],
      "metadata": {
        "id": "uyUXQuKsUSJW",
        "outputId": "fa153fc7-85b9-498b-dc3f-b997ff6736a3",
        "colab": {
          "base_uri": "https://localhost:8080/"
        }
      },
      "id": "uyUXQuKsUSJW",
      "execution_count": 6,
      "outputs": [
        {
          "output_type": "stream",
          "name": "stdout",
          "text": [
            "------------------------\n",
            "TQF GPU TARF\n",
            "wall time + tracing:  15.305359601974487\n",
            "options per second + tracing:  0.06533658966568769\n",
            "wall time:  0.0008423328399658203\n",
            "options per second:  1187.1791678460231\n",
            "------------------------\n",
            "price tf.Tensor(0.0, shape=(), dtype=float64)\n"
          ]
        }
      ]
    },
    {
      "cell_type": "code",
      "execution_count": 9,
      "id": "98958e3a",
      "metadata": {
        "id": "98958e3a",
        "outputId": "8bf8bf5d-0ad2-448b-97d3-066ce119b6b4",
        "colab": {
          "base_uri": "https://localhost:8080/"
        }
      },
      "outputs": [
        {
          "output_type": "stream",
          "name": "stdout",
          "text": [
            "------------------------\n",
            "TQF GPU TARF\n",
            "wall time + tracing:  7.875359296798706\n",
            "options per second + tracing:  0.12697833359888672\n",
            "wall time:  0.0010466575622558594\n",
            "options per second:  955.4223234624146\n",
            "------------------------\n",
            "price tf.Tensor(0.0, shape=(), dtype=float64)\n"
          ]
        }
      ],
      "source": [
        "device = \"/gpu:0\"\n",
        "with tf.device(device):\n",
        "    t = time.time()\n",
        "    tarf_price = price_eu_options_xla(strikes, spot, sigma)\n",
        "    time_tqf0 = time.time() - t\n",
        "\n",
        "    t = time.time()\n",
        "    tarf_price = price_eu_options_xla(strikes, spot, sigma)\n",
        "    time_tqf = time.time() - t\n",
        "\n",
        "    print('------------------------')\n",
        "    print('TQF GPU TARF')\n",
        "    print('wall time + tracing: ', time_tqf0)\n",
        "    print('options per second + tracing: ', 1.0/time_tqf0)\n",
        "    print('wall time: ', time_tqf)\n",
        "    print('options per second: ', 1.0/time_tqf)\n",
        "    print('------------------------')\n",
        "    print('price', tarf_price)"
      ]
    },
    {
      "cell_type": "code",
      "execution_count": 7,
      "id": "146a7a20",
      "metadata": {
        "id": "146a7a20"
      },
      "outputs": [],
      "source": [
        ""
      ]
    },
    {
      "cell_type": "code",
      "execution_count": 7,
      "id": "fa8f6006",
      "metadata": {
        "id": "fa8f6006"
      },
      "outputs": [],
      "source": [
        ""
      ]
    },
    {
      "cell_type": "code",
      "execution_count": 7,
      "id": "cb03ad7b",
      "metadata": {
        "id": "cb03ad7b"
      },
      "outputs": [],
      "source": [
        ""
      ]
    },
    {
      "cell_type": "code",
      "execution_count": 7,
      "id": "e7cbeabd",
      "metadata": {
        "id": "e7cbeabd"
      },
      "outputs": [],
      "source": [
        ""
      ]
    }
  ],
  "metadata": {
    "kernelspec": {
      "display_name": "Python 3 (ipykernel)",
      "language": "python",
      "name": "python3"
    },
    "language_info": {
      "codemirror_mode": {
        "name": "ipython",
        "version": 3
      },
      "file_extension": ".py",
      "mimetype": "text/x-python",
      "name": "python",
      "nbconvert_exporter": "python",
      "pygments_lexer": "ipython3",
      "version": "3.7.9"
    },
    "colab": {
      "name": "TARF_MC_Performance_TQF.ipynb",
      "provenance": []
    },
    "accelerator": "GPU"
  },
  "nbformat": 4,
  "nbformat_minor": 5
}
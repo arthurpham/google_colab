{
  "cells": [
    {
      "cell_type": "markdown",
      "metadata": {
        "id": "view-in-github",
        "colab_type": "text"
      },
      "source": [
        "<a href=\"https://colab.research.google.com/github/arthurpham/google_colab/blob/main/TARF_MC_Performance_TQF.ipynb\" target=\"_parent\"><img src=\"https://colab.research.google.com/assets/colab-badge.svg\" alt=\"Open In Colab\"/></a>"
      ]
    },
    {
      "cell_type": "code",
      "execution_count": 1,
      "id": "f3a6e055",
      "metadata": {
        "id": "f3a6e055",
        "outputId": "7ca9a57b-5946-4ab7-91d6-10bb0808e7ec",
        "colab": {
          "base_uri": "https://localhost:8080/"
        }
      },
      "outputs": [
        {
          "output_type": "stream",
          "name": "stdout",
          "text": [
            "Looking in indexes: https://pypi.org/simple, https://us-python.pkg.dev/colab-wheels/public/simple/\n",
            "Requirement already satisfied: tf-quant-finance in /usr/local/lib/python3.7/dist-packages (0.0.1.dev33)\n",
            "Requirement already satisfied: protobuf in /usr/local/lib/python3.7/dist-packages (from tf-quant-finance) (3.17.3)\n",
            "Requirement already satisfied: tensorflow-probability>=0.12.1 in /usr/local/lib/python3.7/dist-packages (from tf-quant-finance) (0.16.0)\n",
            "Requirement already satisfied: attrs>=18.2.0 in /usr/local/lib/python3.7/dist-packages (from tf-quant-finance) (21.4.0)\n",
            "Requirement already satisfied: numpy>=1.21 in /usr/local/lib/python3.7/dist-packages (from tf-quant-finance) (1.21.6)\n",
            "Requirement already satisfied: cloudpickle>=1.3 in /usr/local/lib/python3.7/dist-packages (from tensorflow-probability>=0.12.1->tf-quant-finance) (1.3.0)\n",
            "Requirement already satisfied: absl-py in /usr/local/lib/python3.7/dist-packages (from tensorflow-probability>=0.12.1->tf-quant-finance) (1.0.0)\n",
            "Requirement already satisfied: gast>=0.3.2 in /usr/local/lib/python3.7/dist-packages (from tensorflow-probability>=0.12.1->tf-quant-finance) (0.5.3)\n",
            "Requirement already satisfied: six>=1.10.0 in /usr/local/lib/python3.7/dist-packages (from tensorflow-probability>=0.12.1->tf-quant-finance) (1.15.0)\n",
            "Requirement already satisfied: dm-tree in /usr/local/lib/python3.7/dist-packages (from tensorflow-probability>=0.12.1->tf-quant-finance) (0.1.7)\n",
            "Requirement already satisfied: decorator in /usr/local/lib/python3.7/dist-packages (from tensorflow-probability>=0.12.1->tf-quant-finance) (4.4.2)\n",
            "Looking in indexes: https://pypi.org/simple, https://us-python.pkg.dev/colab-wheels/public/simple/\n",
            "Requirement already satisfied: QuantLib-Python in /usr/local/lib/python3.7/dist-packages (1.18)\n",
            "Requirement already satisfied: QuantLib in /usr/local/lib/python3.7/dist-packages (from QuantLib-Python) (1.26)\n"
          ]
        }
      ],
      "source": [
        "# !pip install --upgrade tensorflow --user\n",
        "!pip install tf-quant-finance\n",
        "!pip install QuantLib-Python"
      ]
    },
    {
      "cell_type": "code",
      "execution_count": 2,
      "id": "a83401ca",
      "metadata": {
        "id": "a83401ca"
      },
      "outputs": [],
      "source": [
        "import os\n",
        "# reduce number of threads\n",
        "os.environ['TF_NUM_INTEROP_THREADS'] = '1'\n",
        "os.environ['TF_NUM_INTRAOP_THREADS'] = '1'\n",
        "\n",
        "%matplotlib inline\n",
        "import numpy as np\n",
        "import matplotlib.pyplot as plt\n",
        "import tf_quant_finance as tff \n",
        "import tensorflow as tf\n",
        "import functools\n",
        "import pandas as pd\n",
        "import time\n",
        "import QuantLib as ql"
      ]
    },
    {
      "cell_type": "code",
      "execution_count": 3,
      "id": "c4306927",
      "metadata": {
        "id": "c4306927",
        "outputId": "de7a58ee-24b6-4f81-b4d4-ea4f010b1a1a",
        "colab": {
          "base_uri": "https://localhost:8080/"
        }
      },
      "outputs": [
        {
          "output_type": "stream",
          "name": "stdout",
          "text": [
            "Thu Jun  2 18:02:49 2022       \n",
            "+-----------------------------------------------------------------------------+\n",
            "| NVIDIA-SMI 460.32.03    Driver Version: 460.32.03    CUDA Version: 11.2     |\n",
            "|-------------------------------+----------------------+----------------------+\n",
            "| GPU  Name        Persistence-M| Bus-Id        Disp.A | Volatile Uncorr. ECC |\n",
            "| Fan  Temp  Perf  Pwr:Usage/Cap|         Memory-Usage | GPU-Util  Compute M. |\n",
            "|                               |                      |               MIG M. |\n",
            "|===============================+======================+======================|\n",
            "|   0  Tesla P100-PCIE...  Off  | 00000000:00:04.0 Off |                    0 |\n",
            "| N/A   35C    P0    26W / 250W |      0MiB / 16280MiB |      0%      Default |\n",
            "|                               |                      |                  N/A |\n",
            "+-------------------------------+----------------------+----------------------+\n",
            "                                                                               \n",
            "+-----------------------------------------------------------------------------+\n",
            "| Processes:                                                                  |\n",
            "|  GPU   GI   CI        PID   Type   Process name                  GPU Memory |\n",
            "|        ID   ID                                                   Usage      |\n",
            "|=============================================================================|\n",
            "|  No running processes found                                                 |\n",
            "+-----------------------------------------------------------------------------+\n"
          ]
        }
      ],
      "source": [
        "!nvidia-smi"
      ]
    },
    {
      "cell_type": "code",
      "execution_count": 4,
      "id": "3cb3a485",
      "metadata": {
        "id": "3cb3a485"
      },
      "outputs": [],
      "source": [
        "spot = 18.0\n",
        "strike = 20.0\n",
        "K_lower = 15.0\n",
        "K_upper = 20.0\n",
        "K_knockout = 30.0\n",
        "tarf_target = 5.0\n",
        "step_up_ratio = 2.0\n",
        "\n",
        "r = 0.0\n",
        "volatility = 0.5"
      ]
    },
    {
      "cell_type": "code",
      "execution_count": 5,
      "id": "5e327c2d",
      "metadata": {
        "scrolled": false,
        "id": "5e327c2d"
      },
      "outputs": [],
      "source": [
        "#@title Set up parameters\n",
        "\n",
        "dtype = tf.float64 #@param\n",
        "num_samples = 200000 #@param\n",
        "num_timesteps = 53 #@param\n",
        "\n",
        "# expiries =tf.constant( [0.0, 0.5, 1.0], dtype=dtype) # This can be a rank 1 Tensor\n",
        "dt = 1. / num_timesteps\n",
        "# times = [1.0]\n",
        "times = tf.linspace(tf.constant(0.0, dtype=dtype), tf.constant(1.0, dtype=dtype), num_timesteps)\n",
        "rate = tf.constant(r, dtype=dtype)\n",
        "dividend = tf.constant(0.0, dtype=dtype)\n",
        "sigma = tf.constant(volatility, dtype=dtype)\n",
        "spot = tf.constant(spot, dtype=dtype)\n",
        "strikes = tf.constant(strike, dtype=dtype)\n",
        "\n",
        "def set_up_pricer(times, watch_params=False):\n",
        "    \"\"\"Set up European option pricing function under Black-Scholes model.\n",
        "    \n",
        "    Args:\n",
        "        expiries: List of expiries at which to to sample the trajectories.\n",
        "        watch_params: A Python bool. When `True`, gradients of the price function wrt the inputs\n",
        "          are computed more efficiently. \n",
        "    Returns:\n",
        "     A callable that accepts a rank 1 tensor of strikes, and scalar values for \n",
        "     the spots and  volatility values. The callable outputs prices of\n",
        "     the European call options on the grid `expiries x strikes`.\n",
        "    \"\"\"\n",
        "    def price_eu_options(strikes, spot, sigma, rate, dividend):\n",
        "        # Define drift and volatility functions. \n",
        "        def drift_fn(t, x):\n",
        "          del t, x\n",
        "          return rate - 0.5 * sigma**2\n",
        "        def vol_fn(t, x):\n",
        "          del t, x\n",
        "          return tf.reshape(sigma, [1, 1])\n",
        "        # Use GenericItoProcess class to set up the Ito process\n",
        "        process = tff.models.GenericItoProcess(\n",
        "            dim=1,\n",
        "            drift_fn=drift_fn,\n",
        "            volatility_fn=vol_fn,\n",
        "            dtype=dtype)\n",
        "        log_spot = tf.math.log(tf.reduce_mean(spot))\n",
        "        if watch_params:\n",
        "            watch_params_list = [sigma, rate, dividend]\n",
        "        else:\n",
        "            watch_params_list = None\n",
        "        paths = process.sample_paths(\n",
        "            times=times, num_samples=num_samples,\n",
        "            initial_state=log_spot, \n",
        "            watch_params=watch_params_list,\n",
        "            # Select a random number generator\n",
        "            random_type=tff.math.random.RandomType.SOBOL, #PSEUDO_ANTITHETIC\n",
        "            time_step=dt)\n",
        "        \n",
        "        # tf.print(paths.shape)\n",
        "        \n",
        "        def tarf_payoff(element):\n",
        "#             tf.print(element, summarize=-1)\n",
        "            total = tf.constant(0.0, dtype=tf.float64)\n",
        "            discounted_payoff = tf.constant(0.0, dtype=tf.float64)\n",
        "            df = tf.constant(1.0, dtype=tf.float64)\n",
        "            is_active = True\n",
        "            for cur_spot in element:\n",
        "                if is_active:\n",
        "                    cashflow = tf.constant(0.0, dtype=tf.float64)\n",
        "                    add_cashflow = False\n",
        "                    if K_knockout <= cur_spot:\n",
        "                        # early termination\n",
        "                        is_active = False\n",
        "                    if K_upper <= cur_spot: # cur_spot < K_knockout\n",
        "                        cashflow = cur_spot - strike\n",
        "                        add_cashflow = True\n",
        "                    if cur_spot < K_lower:\n",
        "                        cashflow = step_up_ratio*(cur_spot - strike)\n",
        "                        add_cashflow = True\n",
        "\n",
        "                    if add_cashflow:\n",
        "                        if total + cashflow >= tarf_target:\n",
        "                            cashflow = tarf_target - total\n",
        "                            total += cashflow\n",
        "                            discounted_payoff += df*cashflow\n",
        "                            is_active = False\n",
        "                        else:\n",
        "                            total += cashflow\n",
        "                            discounted_payoff += df*cashflow\n",
        "                     \n",
        "            return discounted_payoff\n",
        "\n",
        "        reshaped_paths = tf.reshape(tf.math.exp(paths), [num_samples, num_timesteps])\n",
        "        payoffs = tf.vectorized_map(tarf_payoff, reshaped_paths)\n",
        "        prices = tf.reduce_mean(payoffs)\n",
        "\n",
        "        return prices\n",
        "    return price_eu_options    \n",
        "\n",
        "price_eu_options = tf.function(set_up_pricer(times, watch_params=False),\n",
        "                               input_signature=[\n",
        "                                                tf.TensorSpec([], dtype=tf.float64),\n",
        "                                                tf.TensorSpec([], dtype=tf.float64),\n",
        "                                                tf.TensorSpec([], dtype=tf.float64),\n",
        "                                                tf.TensorSpec([], dtype=tf.float64),\n",
        "                                                tf.TensorSpec([], dtype=tf.float64)\n",
        "                               ])\n"
      ]
    },
    {
      "cell_type": "code",
      "source": [
        "def set_up_pricer_xla(times, watch_params=False):\n",
        "    \"\"\"Set up European option pricing function under Black-Scholes model.\n",
        "    \n",
        "    Args:\n",
        "        expiries: List of expiries at which to to sample the trajectories.\n",
        "        watch_params: A Python bool. When `True`, gradients of the price function wrt the inputs\n",
        "          are computed more efficiently. \n",
        "    Returns:\n",
        "     A callable that accepts a rank 1 tensor of strikes, and scalar values for \n",
        "     the spots and  volatility values. The callable outputs prices of\n",
        "     the European call options on the grid `expiries x strikes`.\n",
        "    \"\"\"\n",
        "    def price_eu_options(strikes, spot, sigma, rate, dividend):\n",
        "        # Define drift and volatility functions. \n",
        "        def drift_fn(t, x):\n",
        "          del t, x\n",
        "          return rate - dividend - 0.5 * sigma**2\n",
        "        def vol_fn(t, x):\n",
        "          del t, x\n",
        "          return tf.reshape(sigma, [1, 1])\n",
        "        # Use GenericItoProcess class to set up the Ito process\n",
        "        process = tff.models.GenericItoProcess(\n",
        "            dim=1,\n",
        "            drift_fn=drift_fn,\n",
        "            volatility_fn=vol_fn,\n",
        "            dtype=dtype)\n",
        "        log_spot = tf.math.log(tf.reduce_mean(spot))\n",
        "        if watch_params:\n",
        "            watch_params_list = [sigma, rate, dividend]\n",
        "        else:\n",
        "            watch_params_list = None\n",
        "        paths = process.sample_paths(\n",
        "            times=times, num_samples=num_samples,\n",
        "            initial_state=log_spot, \n",
        "            watch_params=watch_params_list,\n",
        "            # Select a random number generator\n",
        "            random_type=tff.math.random.RandomType.SOBOL, #PSEUDO_ANTITHETIC\n",
        "            time_step=dt)\n",
        "        \n",
        "        def tarf_payoff(paths):\n",
        "            # Shape [num_timesteps, num_samples]\n",
        "            paths = tf.transpose(paths)\n",
        "            cur_spot = paths[0]\n",
        "            total = tf.zeros_like(cur_spot)\n",
        "            discounted_payoff = tf.zeros_like(cur_spot)\n",
        "            df = tf.constant(1.0, dtype=tf.float64)\n",
        "            is_active = tf.ones([num_samples], dtype=tf.bool)\n",
        "            i = tf.constant(0, dtype=tf.int32)\n",
        "            # Explicitly define the while_loop \n",
        "            def cond(i, is_active, total, discounted_payoff):\n",
        "                return i < num_timesteps\n",
        "\n",
        "            def body(i, is_active, total, discounted_payoff):\n",
        "                # Here Tensors are of shape `[num_samples]`\n",
        "                cur_spot = paths[i]\n",
        "\n",
        "                cashflow = tf.zeros_like(cur_spot)\n",
        "                new_is_active = K_knockout > cur_spot\n",
        "                add_cashflow = tf.where(tf.logical_or(K_upper <= cur_spot, cur_spot < K_lower),\n",
        "                    True, \n",
        "                    False)\n",
        "\n",
        "                new_cashflow = tf.where(K_upper <= cur_spot,\n",
        "                    cur_spot - strike,\n",
        "                    cashflow\n",
        "                )\n",
        "                new_cashflow = tf.where(cur_spot < K_lower,\n",
        "                                    step_up_ratio*(cur_spot - strike),\n",
        "                                    new_cashflow)\n",
        "                new_is_active = tf.where(add_cashflow,\n",
        "                    tf.where(total + new_cashflow >= tarf_target,\n",
        "                            False, new_is_active),\n",
        "                    new_is_active)\n",
        "\n",
        "                new_cashflow = tf.where(add_cashflow,\n",
        "                    tf.where(total + new_cashflow >= tarf_target,\n",
        "                            tarf_target - total, new_cashflow),\n",
        "                    new_cashflow\n",
        "                    )\n",
        "\n",
        "                new_total = tf.where(add_cashflow,\n",
        "                    total + new_cashflow,\n",
        "                    total\n",
        "                    )\n",
        "                new_discounted_payoff = tf.where(add_cashflow,\n",
        "                    discounted_payoff + df * new_cashflow,\n",
        "                    discounted_payoff)\n",
        "                # Update values only if active\n",
        "                new_cashflow = tf.where(is_active, \n",
        "                                        new_cashflow,\n",
        "                                        cashflow)\n",
        "                new_total = tf.where(is_active, new_total, total)\n",
        "                new_discounted_payoff = tf.where(is_active, \n",
        "                                        new_discounted_payoff,\n",
        "                                        discounted_payoff)\n",
        "                new_is_active = tf.where(is_active, new_is_active, is_active)\n",
        "\n",
        "                return (i + 1, new_is_active, new_total, new_discounted_payoff)\n",
        "                \n",
        "            _, is_active, total, discounted_payoff = tf.while_loop(\n",
        "                cond, body, (i, is_active, total, discounted_payoff),\n",
        "                maximum_iterations=num_timesteps,\n",
        "            )\n",
        "            return discounted_payoff\n",
        "\n",
        "        reshaped_paths = tf.reshape(tf.math.exp(paths), [num_samples, num_timesteps])\n",
        "        payoffs = tarf_payoff(reshaped_paths)\n",
        "        prices = tf.reduce_mean(payoffs)\n",
        "\n",
        "        return prices\n",
        "    return price_eu_options\n",
        "\n",
        "price_eu_options_xla = tf.function(set_up_pricer_xla(times, watch_params=False),\n",
        "                               input_signature=[\n",
        "                                                tf.TensorSpec([], dtype=tf.float64),\n",
        "                                                tf.TensorSpec([], dtype=tf.float64),\n",
        "                                                tf.TensorSpec([], dtype=tf.float64),\n",
        "                                                tf.TensorSpec([], dtype=tf.float64),\n",
        "                                                tf.TensorSpec([], dtype=tf.float64)\n",
        "                               ], jit_compile=True)    "
      ],
      "metadata": {
        "id": "v4tluqTz9OEI"
      },
      "id": "v4tluqTz9OEI",
      "execution_count": 6,
      "outputs": []
    },
    {
      "cell_type": "code",
      "source": [
        "# device = \"/gpu:0\"\n",
        "# with tf.device(device):\n",
        "#     tarf_price = price_eu_options(strikes, spot, sigma)\n",
        "#     print('price', tarf_price)"
      ],
      "metadata": {
        "id": "hh25z8OTapHt"
      },
      "id": "hh25z8OTapHt",
      "execution_count": 7,
      "outputs": []
    },
    {
      "cell_type": "code",
      "source": [
        "# device = \"/gpu:0\"\n",
        "# with tf.device(device):\n",
        "#     tarf_price = price_eu_options_xla(strikes, spot, sigma)\n",
        "#     print('price', tarf_price)"
      ],
      "metadata": {
        "id": "Enn2yRUAapUF"
      },
      "id": "Enn2yRUAapUF",
      "execution_count": 8,
      "outputs": []
    },
    {
      "cell_type": "code",
      "source": [
        "devices = ['gpu', 'cpu']\n",
        "\n",
        "for device in devices:\n",
        "    with tf.device('/{}:0'.format(device)):\n",
        "        t = time.time()\n",
        "        tarf_price = price_eu_options(strikes, spot, sigma, rate, dividend)\n",
        "        time_tqf0 = time.time() - t\n",
        "\n",
        "        t = time.time()\n",
        "        tarf_price = price_eu_options(strikes, spot, sigma, rate, dividend)\n",
        "        time_tqf = time.time() - t\n",
        "\n",
        "        print('------------------------')\n",
        "        print('TQF {} TARF'.format(device))\n",
        "        print('wall time + tracing: ', time_tqf0)\n",
        "        print('options per second + tracing: ', 1.0/time_tqf0)\n",
        "        print('wall time: ', time_tqf)\n",
        "        print('options per second: ', 1.0/time_tqf)\n",
        "        print('------------------------')\n",
        "        print('price', tarf_price)"
      ],
      "metadata": {
        "id": "uyUXQuKsUSJW",
        "colab": {
          "base_uri": "https://localhost:8080/"
        },
        "outputId": "f5ab3d77-5254-4040-d1b7-3cf976bd98fc"
      },
      "id": "uyUXQuKsUSJW",
      "execution_count": 9,
      "outputs": [
        {
          "output_type": "stream",
          "name": "stdout",
          "text": [
            "------------------------\n",
            "TQF gpu TARF\n",
            "wall time + tracing:  20.199368000030518\n",
            "options per second + tracing:  0.049506499411193915\n",
            "wall time:  4.657833576202393\n",
            "options per second:  0.2146920845581856\n",
            "------------------------\n",
            "price tf.Tensor(-246.927357070608, shape=(), dtype=float64)\n",
            "------------------------\n",
            "TQF cpu TARF\n",
            "wall time + tracing:  11.317201375961304\n",
            "options per second + tracing:  0.08836106796898435\n",
            "wall time:  6.734930992126465\n",
            "options per second:  0.1484796208259683\n",
            "------------------------\n",
            "price tf.Tensor(-246.927357070608, shape=(), dtype=float64)\n"
          ]
        }
      ]
    },
    {
      "cell_type": "code",
      "execution_count": 10,
      "id": "98958e3a",
      "metadata": {
        "id": "98958e3a",
        "colab": {
          "base_uri": "https://localhost:8080/"
        },
        "outputId": "120272d0-0a63-4a02-b958-9878ee40cef6"
      },
      "outputs": [
        {
          "output_type": "stream",
          "name": "stdout",
          "text": [
            "------------------------\n",
            "TQF gpu TARF XLA\n",
            "wall time + tracing:  2.5599894523620605\n",
            "options per second + tracing:  0.39062660944845545\n",
            "wall time:  0.02353215217590332\n",
            "options per second:  42.495050708706096\n",
            "------------------------\n",
            "price tf.Tensor(-246.927357070608, shape=(), dtype=float64)\n",
            "------------------------\n",
            "TQF cpu TARF XLA\n",
            "wall time + tracing:  2.478505849838257\n",
            "options per second + tracing:  0.4034688883487034\n",
            "wall time:  1.9903912544250488\n",
            "options per second:  0.5024137831076149\n",
            "------------------------\n",
            "price tf.Tensor(-246.927357070608, shape=(), dtype=float64)\n"
          ]
        }
      ],
      "source": [
        "devices = ['gpu', 'cpu']\n",
        "\n",
        "for device in devices:\n",
        "    with tf.device('/{}:0'.format(device)):\n",
        "        t = time.time()\n",
        "        tarf_price = price_eu_options_xla(strikes, spot, sigma, rate, dividend)\n",
        "        time_tqf0 = time.time() - t\n",
        "\n",
        "        t = time.time()\n",
        "        tarf_price = price_eu_options_xla(strikes, spot, sigma, rate, dividend)\n",
        "        time_tqf = time.time() - t\n",
        "\n",
        "        print('------------------------')\n",
        "        print('TQF {} TARF XLA'.format(device))\n",
        "        print('wall time + tracing: ', time_tqf0)\n",
        "        print('options per second + tracing: ', 1.0/time_tqf0)\n",
        "        print('wall time: ', time_tqf)\n",
        "        print('options per second: ', 1.0/time_tqf)\n",
        "        print('------------------------')\n",
        "        print('price', tarf_price)"
      ]
    },
    {
      "cell_type": "code",
      "source": [
        ""
      ],
      "metadata": {
        "id": "Q7rbDJNfQK71"
      },
      "id": "Q7rbDJNfQK71",
      "execution_count": 10,
      "outputs": []
    },
    {
      "cell_type": "code",
      "source": [
        ""
      ],
      "metadata": {
        "id": "2XUaFIQoQQNl"
      },
      "id": "2XUaFIQoQQNl",
      "execution_count": 10,
      "outputs": []
    },
    {
      "cell_type": "code",
      "source": [
        "@tf.function(jit_compile=False,\n",
        "             input_signature=[tf.TensorSpec([], dtype=tf.float64),\n",
        "                            tf.TensorSpec([], dtype=tf.float64),\n",
        "                            tf.TensorSpec([], dtype=tf.float64),\n",
        "                            tf.TensorSpec([], dtype=tf.float64),\n",
        "                            tf.TensorSpec([], dtype=tf.float64)\n",
        "                               ])\n",
        "def greeks_fn(strikes, spot, sigma, rate, dividend):\n",
        "    with tf.GradientTape() as tape:\n",
        "      tape.watch([spot, sigma, rate, dividend])\n",
        "      prices = price_eu_options(strikes, spot, sigma, rate, dividend)\n",
        "    return prices, tape.gradient(prices, [spot, sigma, rate, dividend])\n",
        "\n",
        "@tf.function(jit_compile=True,\n",
        "             input_signature=[tf.TensorSpec([], dtype=tf.float64),\n",
        "                            tf.TensorSpec([], dtype=tf.float64),\n",
        "                            tf.TensorSpec([], dtype=tf.float64),\n",
        "                            tf.TensorSpec([], dtype=tf.float64),\n",
        "                            tf.TensorSpec([], dtype=tf.float64)\n",
        "                               ])\n",
        "def greeks_fn_xla(strikes, spot, sigma, rate, dividend):\n",
        "    with tf.GradientTape() as tape:\n",
        "      tape.watch([spot, sigma, rate, dividend])\n",
        "      prices = price_eu_options_xla(strikes, spot, sigma, rate, dividend)\n",
        "    return prices, tape.gradient(prices, [spot, sigma, rate, dividend])"
      ],
      "metadata": {
        "id": "OhoElu0AWWpy"
      },
      "id": "OhoElu0AWWpy",
      "execution_count": 11,
      "outputs": []
    },
    {
      "cell_type": "code",
      "source": [
        "devices = ['gpu', 'cpu']\n",
        "\n",
        "for device in devices:\n",
        "    with tf.device('/{}:0'.format(device)):\n",
        "        t = time.time()\n",
        "        tarf_price, tarf_greeks = greeks_fn(strikes, spot, sigma, rate, dividend)\n",
        "        time_tqf0 = time.time() - t\n",
        "\n",
        "        t = time.time()\n",
        "        tarf_price, tarf_greeks = greeks_fn(strikes, spot, sigma, rate, dividend)\n",
        "        time_tqf = time.time() - t\n",
        "\n",
        "        print('------------------------')\n",
        "        print('TQF {} TARF price+delta+vega'.format(device))\n",
        "        print('wall time + tracing: ', time_tqf0)\n",
        "        print('options per second + tracing: ', 1.0/time_tqf0)\n",
        "        print('wall time: ', time_tqf)\n",
        "        print('options per second: ', 1.0/time_tqf)\n",
        "        print('------------------------')\n",
        "        print('price', tarf_price)\n",
        "        print('greeks', tarf_greeks)"
      ],
      "metadata": {
        "colab": {
          "base_uri": "https://localhost:8080/"
        },
        "id": "xmfHysaBYOAM",
        "outputId": "c297a7c2-001c-4590-88f9-ea9df40165f3"
      },
      "id": "xmfHysaBYOAM",
      "execution_count": 12,
      "outputs": [
        {
          "output_type": "stream",
          "name": "stderr",
          "text": [
            "/usr/local/lib/python3.7/dist-packages/tensorflow/python/framework/indexed_slices.py:446: UserWarning: Converting sparse IndexedSlices(IndexedSlices(indices=Tensor(\"gradients/while_grad/Identity_4:0\", shape=(None,), dtype=int32), values=Tensor(\"gradients/while_grad/Identity_3:0\", shape=(None,), dtype=float64), dense_shape=Tensor(\"gradients/while_grad/Identity_5:0\", shape=(1,), dtype=int32))) to a dense Tensor of unknown shape. This may consume a large amount of memory.\n",
            "  \"shape. This may consume a large amount of memory.\" % value)\n",
            "/usr/local/lib/python3.7/dist-packages/tensorflow/python/framework/indexed_slices.py:446: UserWarning: Converting sparse IndexedSlices(IndexedSlices(indices=Tensor(\"gradients/while_grad/Identity_7:0\", shape=(None,), dtype=int32), values=Tensor(\"gradients/while_grad/Identity_6:0\", shape=(None,), dtype=float64), dense_shape=Tensor(\"gradients/while_grad/Identity_8:0\", shape=(1,), dtype=int32))) to a dense Tensor of unknown shape. This may consume a large amount of memory.\n",
            "  \"shape. This may consume a large amount of memory.\" % value)\n"
          ]
        },
        {
          "output_type": "stream",
          "name": "stdout",
          "text": [
            "------------------------\n",
            "TQF gpu TARF price+delta+vega\n",
            "wall time + tracing:  10.574862480163574\n",
            "options per second + tracing:  0.09456387748548119\n",
            "wall time:  7.279073238372803\n",
            "options per second:  0.13738012618534176\n",
            "------------------------\n",
            "price tf.Tensor(-246.927357070608, shape=(), dtype=float64)\n",
            "greeks [<tf.Tensor: shape=(), dtype=float64, numpy=21.37942877385511>, <tf.Tensor: shape=(), dtype=float64, numpy=-331.9822946422317>, <tf.Tensor: shape=(), dtype=float64, numpy=217.8267631339107>, None]\n",
            "------------------------\n",
            "TQF cpu TARF price+delta+vega\n",
            "wall time + tracing:  12.558441638946533\n",
            "options per second + tracing:  0.07962771407073124\n",
            "wall time:  9.509042501449585\n",
            "options per second:  0.10516305925097687\n",
            "------------------------\n",
            "price tf.Tensor(-246.927357070608, shape=(), dtype=float64)\n",
            "greeks [<tf.Tensor: shape=(), dtype=float64, numpy=21.37942877385511>, <tf.Tensor: shape=(), dtype=float64, numpy=-331.98229464223164>, <tf.Tensor: shape=(), dtype=float64, numpy=217.82676313391073>, None]\n"
          ]
        }
      ]
    },
    {
      "cell_type": "code",
      "source": [
        "devices = ['gpu', 'cpu']\n",
        "\n",
        "for device in devices:\n",
        "    with tf.device('/{}:0'.format(device)):\n",
        "        t = time.time()\n",
        "        tarf_price, tarf_greeks = greeks_fn_xla(strikes, spot, sigma, rate, dividend)\n",
        "        time_tqf0 = time.time() - t\n",
        "\n",
        "        t = time.time()\n",
        "        tarf_price, tarf_greeks = greeks_fn_xla(strikes, spot, sigma, rate, dividend)\n",
        "        time_tqf = time.time() - t\n",
        "\n",
        "        print('------------------------')\n",
        "        print('TQF {} TARF XLA price+delta+vega'.format(device))\n",
        "        print('wall time + tracing: ', time_tqf0)\n",
        "        print('options per second + tracing: ', 1.0/time_tqf0)\n",
        "        print('wall time: ', time_tqf)\n",
        "        print('options per second: ', 1.0/time_tqf)\n",
        "        print('------------------------')\n",
        "        print('price', tarf_price)\n",
        "        print('greeks', tarf_greeks)"
      ],
      "metadata": {
        "colab": {
          "base_uri": "https://localhost:8080/"
        },
        "id": "5CMM52A4Wvqy",
        "outputId": "1f029c77-1a46-44b9-de00-f7b99f94df6b"
      },
      "id": "5CMM52A4Wvqy",
      "execution_count": 13,
      "outputs": [
        {
          "output_type": "stream",
          "name": "stdout",
          "text": [
            "------------------------\n",
            "TQF gpu TARF XLA price+delta+vega\n",
            "wall time + tracing:  3.060537576675415\n",
            "options per second + tracing:  0.326739984380873\n",
            "wall time:  0.07061004638671875\n",
            "options per second:  14.162290653700703\n",
            "------------------------\n",
            "price tf.Tensor(-246.927357070608, shape=(), dtype=float64)\n",
            "greeks [<tf.Tensor: shape=(), dtype=float64, numpy=21.37942877385511>, <tf.Tensor: shape=(), dtype=float64, numpy=-331.9822946422317>, <tf.Tensor: shape=(), dtype=float64, numpy=217.8267631339107>, <tf.Tensor: shape=(), dtype=float64, numpy=-217.8267631339107>]\n",
            "------------------------\n",
            "TQF cpu TARF XLA price+delta+vega\n",
            "wall time + tracing:  8.380032777786255\n",
            "options per second + tracing:  0.11933127548746522\n",
            "wall time:  6.348258972167969\n",
            "options per second:  0.15752350437879095\n",
            "------------------------\n",
            "price tf.Tensor(-246.927357070608, shape=(), dtype=float64)\n",
            "greeks [<tf.Tensor: shape=(), dtype=float64, numpy=21.37942877385511>, <tf.Tensor: shape=(), dtype=float64, numpy=-331.9822946422317>, <tf.Tensor: shape=(), dtype=float64, numpy=217.82676313391073>, <tf.Tensor: shape=(), dtype=float64, numpy=-217.82676313391073>]\n"
          ]
        }
      ]
    },
    {
      "cell_type": "code",
      "source": [
        "# devices = ['gpu'] # , 'cpu'\n",
        "\n",
        "# for device in devices:\n",
        "#     with tf.device('/{}:0'.format(device)):\n",
        "#         for spot in [15.0, 18.2, 20.0, 25.0]:\n",
        "#             # spot = tf.constant(spot, dtype=dtype)\n",
        "#             t = time.time()\n",
        "#             tarf_price, tarf_greeks = greeks_fn_xla(strikes, tf.convert_to_tensor(spot, dtype=dtype), sigma, rate, dividend)\n",
        "#             time_tqf0 = time.time() - t\n",
        "\n",
        "#             t = time.time()\n",
        "#             tarf_price, tarf_greeks = greeks_fn_xla(strikes, tf.convert_to_tensor(spot, dtype=dtype), sigma, rate, dividend)\n",
        "#             time_tqf = time.time() - t\n",
        "\n",
        "#             print('------------------------')\n",
        "#             print('TQF {} TARF XLA price+delta+vega spot: {}'.format(device, spot))\n",
        "#             print('wall time + tracing: ', time_tqf0)\n",
        "#             print('options per second + tracing: ', 1.0/time_tqf0)\n",
        "#             print('wall time: ', time_tqf)\n",
        "#             print('options per second: ', 1.0/time_tqf)\n",
        "#             print('------------------------')\n",
        "#             print('price', tarf_price)\n",
        "#             print('greeks', tarf_greeks)\n",
        "#             # print(greeks_fn_xla.pretty_printed_concrete_signatures())            "
      ],
      "metadata": {
        "id": "bD7H3WCWQYZN"
      },
      "id": "bD7H3WCWQYZN",
      "execution_count": 14,
      "outputs": []
    },
    {
      "cell_type": "code",
      "source": [
        "devices = ['gpu'] # , 'cpu'\n",
        "\n",
        "for device in devices:\n",
        "    with tf.device('/{}:0'.format(device)):\n",
        "        for tmp_spot in [tf.convert_to_tensor(x, tf.float64) for x in [15.0, 18.2, 20.0, 25.0]]:\n",
        "            t = time.time()\n",
        "            tarf_price, tarf_greeks = greeks_fn_xla(strikes, tmp_spot, sigma, rate, dividend)\n",
        "            time_tqf0 = time.time() - t\n",
        "\n",
        "            t = time.time()\n",
        "            tarf_price, tarf_greeks = greeks_fn_xla(strikes, tmp_spot, sigma, rate, dividend)\n",
        "            time_tqf = time.time() - t\n",
        "\n",
        "            print('------------------------')\n",
        "            print('TQF {} TARF XLA price+delta+vega spot: {}'.format(device, tmp_spot))\n",
        "            print('wall time + tracing: ', time_tqf0)\n",
        "            print('options per second + tracing: ', 1.0/time_tqf0)\n",
        "            print('wall time: ', time_tqf)\n",
        "            print('options per second: ', 1.0/time_tqf)\n",
        "            print('------------------------')\n",
        "            print('price', tarf_price)\n",
        "            print('greeks', tarf_greeks)\n",
        "            # print(greeks_fn_xla.pretty_printed_concrete_signatures())            "
      ],
      "metadata": {
        "colab": {
          "base_uri": "https://localhost:8080/"
        },
        "id": "QZAs9bRZDmpu",
        "outputId": "81d523ab-e6c9-4015-941d-33a35d5e22a6"
      },
      "id": "QZAs9bRZDmpu",
      "execution_count": 15,
      "outputs": [
        {
          "output_type": "stream",
          "name": "stdout",
          "text": [
            "------------------------\n",
            "TQF gpu TARF XLA price+delta+vega spot: 15.0\n",
            "wall time + tracing:  2.4598302841186523\n",
            "options per second + tracing:  0.4065321117705875\n",
            "wall time:  0.06909704208374023\n",
            "options per second:  14.472399539014678\n",
            "------------------------\n",
            "price tf.Tensor(-489.18585120429816, shape=(), dtype=float64)\n",
            "greeks [<tf.Tensor: shape=(), dtype=float64, numpy=47.21793991971346>, <tf.Tensor: shape=(), dtype=float64, numpy=-375.1297930074455>, <tf.Tensor: shape=(), dtype=float64, numpy=358.638751028938>, <tf.Tensor: shape=(), dtype=float64, numpy=-358.638751028938>]\n",
            "------------------------\n",
            "TQF gpu TARF XLA price+delta+vega spot: 18.2\n",
            "wall time + tracing:  2.855764150619507\n",
            "options per second + tracing:  0.35016897308661427\n",
            "wall time:  0.0693674087524414\n",
            "options per second:  14.41599186108858\n",
            "------------------------\n",
            "price tf.Tensor(-234.51510001171167, shape=(), dtype=float64)\n",
            "greeks [<tf.Tensor: shape=(), dtype=float64, numpy=20.189230768587276>, <tf.Tensor: shape=(), dtype=float64, numpy=-324.0551695417529>, <tf.Tensor: shape=(), dtype=float64, numpy=208.80456382277578>, <tf.Tensor: shape=(), dtype=float64, numpy=-208.80456382277578>]\n",
            "------------------------\n",
            "TQF gpu TARF XLA price+delta+vega spot: 20.0\n",
            "wall time + tracing:  2.448155164718628\n",
            "options per second + tracing:  0.40847084139576273\n",
            "wall time:  0.06896185874938965\n",
            "options per second:  14.500769238747507\n",
            "------------------------\n",
            "price tf.Tensor(-133.88846544849437, shape=(), dtype=float64)\n",
            "greeks [<tf.Tensor: shape=(), dtype=float64, numpy=11.051056727575284>, <tf.Tensor: shape=(), dtype=float64, numpy=-230.47383157085534>, <tf.Tensor: shape=(), dtype=float64, numpy=127.45357443107382>, <tf.Tensor: shape=(), dtype=float64, numpy=-127.45357443107382>]\n",
            "------------------------\n",
            "TQF gpu TARF XLA price+delta+vega spot: 25.0\n",
            "wall time + tracing:  2.482436418533325\n",
            "options per second + tracing:  0.40283005539808375\n",
            "wall time:  0.07021069526672363\n",
            "options per second:  14.242844287484932\n",
            "------------------------\n",
            "price tf.Tensor(4.951110958164982, shape=(), dtype=float64)\n",
            "greeks [<tf.Tensor: shape=(), dtype=float64, numpy=0.0030054383265992607>, <tf.Tensor: shape=(), dtype=float64, numpy=-0.11210128640365608>, <tf.Tensor: shape=(), dtype=float64, numpy=0.041917331687479825>, <tf.Tensor: shape=(), dtype=float64, numpy=-0.041917331687479825>]\n"
          ]
        }
      ]
    },
    {
      "cell_type": "code",
      "source": [
        "print(greeks_fn_xla.pretty_printed_concrete_signatures())  "
      ],
      "metadata": {
        "id": "55DYkXuJQaE8",
        "outputId": "e18b82f1-fcc3-41e7-e377-7fccb69dd400",
        "colab": {
          "base_uri": "https://localhost:8080/"
        }
      },
      "id": "55DYkXuJQaE8",
      "execution_count": 16,
      "outputs": [
        {
          "output_type": "stream",
          "name": "stdout",
          "text": [
            "greeks_fn_xla(strikes, spot, sigma, rate, dividend)\n",
            "  Args:\n",
            "    strikes: float64 Tensor, shape=()\n",
            "    spot: float64 Tensor, shape=()\n",
            "    sigma: float64 Tensor, shape=()\n",
            "    rate: float64 Tensor, shape=()\n",
            "    dividend: float64 Tensor, shape=()\n",
            "  Returns:\n",
            "    (<1>, [<2>, <3>, <4>, <5>])\n",
            "      <1>: float64 Tensor, shape=()\n",
            "      <2>: float64 Tensor, shape=()\n",
            "      <3>: float64 Tensor, shape=()\n",
            "      <4>: float64 Tensor, shape=()\n",
            "      <5>: float64 Tensor, shape=()\n"
          ]
        }
      ]
    },
    {
      "cell_type": "code",
      "execution_count": 16,
      "id": "146a7a20",
      "metadata": {
        "id": "146a7a20"
      },
      "outputs": [],
      "source": [
        ""
      ]
    },
    {
      "cell_type": "code",
      "source": [
        ""
      ],
      "metadata": {
        "id": "e0_Jl2wbuxau"
      },
      "id": "e0_Jl2wbuxau",
      "execution_count": 16,
      "outputs": []
    },
    {
      "cell_type": "code",
      "execution_count": 16,
      "id": "fa8f6006",
      "metadata": {
        "id": "fa8f6006"
      },
      "outputs": [],
      "source": [
        ""
      ]
    },
    {
      "cell_type": "code",
      "execution_count": 16,
      "id": "cb03ad7b",
      "metadata": {
        "id": "cb03ad7b"
      },
      "outputs": [],
      "source": [
        ""
      ]
    },
    {
      "cell_type": "code",
      "execution_count": 17,
      "id": "e7cbeabd",
      "metadata": {
        "id": "e7cbeabd",
        "outputId": "d31cb5fb-4c3b-4b6f-ba52-953609df522b",
        "colab": {
          "base_uri": "https://localhost:8080/"
        }
      },
      "outputs": [
        {
          "output_type": "stream",
          "name": "stdout",
          "text": [
            "(10000, 3, 1)\n",
            "tf.Tensor(\n",
            "[[[14.09722114]\n",
            "  [16.19684551]\n",
            "  [13.29868831]]\n",
            "\n",
            " [[12.5832947 ]\n",
            "  [10.38507071]\n",
            "  [ 8.79123746]]\n",
            "\n",
            " [[18.74618597]\n",
            "  [14.64058388]\n",
            "  [13.05219019]]\n",
            "\n",
            " ...\n",
            "\n",
            " [[39.46802971]\n",
            "  [45.22294174]\n",
            "  [72.28176199]]\n",
            "\n",
            " [[29.10263318]\n",
            "  [33.05029557]\n",
            "  [36.47602767]]\n",
            "\n",
            " [[19.70081056]\n",
            "  [26.52652951]\n",
            "  [12.79171514]]], shape=(10000, 3, 1), dtype=float64)\n"
          ]
        }
      ],
      "source": [
        "# import numpy as np\n",
        "# import tensorflow.compat.v2 as tf\n",
        "# import tf_quant_finance as tff\n",
        "\n",
        "dtype = tf.float64\n",
        "dim = 1\n",
        "valuation_date = [(2020, 1, 1)]\n",
        "lv_year = dim * [[2021, 2022]]\n",
        "lv_month = dim * [[1, 1]]\n",
        "lv_day = dim * [[1, 1]]\n",
        "lv_expiries = tff.datetime.dates_from_year_month_day(lv_year, lv_month, lv_day)\n",
        "lv_strikes = dim * [[[0.1, 0.9, 1.0, 1.1, 3], [0.1, 0.9, 1.0, 1.1, 3]]]\n",
        "lv_iv = dim * [[[0.5, 0.5, 0.5, 0.5, 0.5], [0.55, 0.5, 0.5, 0.5, 0.5]]]\n",
        "lv_spot = dim * [1.0]\n",
        "df = lambda t: tf.math.exp(-tf.convert_to_tensor([0.02], dtype=dtype) * t)\n",
        "\n",
        "# lv = tff.experimental.local_volatility.LocalVolatilityModel.from_market_data(\n",
        "#     dim, valuation_date, expiries, strikes, iv, spot, df, [0.0], dtype=dtype)\n",
        "lv = tff.experimental.local_volatility.LocalVolatilityModel.from_market_data(\n",
        "                1, valuation_date, lv_expiries, lv_strikes, lv_iv, lv_spot, df, [0.0], dtype=dtype)\n",
        "\n",
        "# num_samples = 10000\n",
        "paths = lv.sample_paths(\n",
        "    [1.0, 1.5, 2.0],\n",
        "    num_samples=10000,\n",
        "    initial_state=spot,\n",
        "    time_step=0.1,\n",
        "    random_type=tff.math.random.RandomType.STATELESS_ANTITHETIC,\n",
        "    seed=[1, 2])\n",
        "# paths.shape = (10000, 3, 2)\n",
        "print(paths.shape)\n",
        "print(paths)"
      ]
    },
    {
      "cell_type": "code",
      "source": [
        "# num_samples = 20000\n",
        "\n",
        "valuation_date = [(2020, 1, 1)]\n",
        "lv_year = [[2020, 2021]]\n",
        "lv_month = [[6, 1]]\n",
        "lv_day = [[1, 1]]\n",
        "lv_expiries = tff.datetime.dates_from_year_month_day(lv_year, lv_month, lv_day)\n",
        "lv_strikes = [[[0.1, 0.9, 1.0, 1.1, 3], [0.1, 0.9, 1.0, 1.1, 3]]]\n",
        "lv_iv = [[[0.5, 0.5, 0.5, 0.5, 0.5], [0.55, 0.5, 0.5, 0.5, 0.5]]]\n",
        "\n",
        "def set_up_pricer_xla_localvol(times, watch_params=False):\n",
        "    \"\"\"Set up European option pricing function under Black-Scholes model.\n",
        "    \n",
        "    Args:\n",
        "        expiries: List of expiries at which to to sample the trajectories.\n",
        "        watch_params: A Python bool. When `True`, gradients of the price function wrt the inputs\n",
        "          are computed more efficiently. \n",
        "    Returns:\n",
        "     A callable that accepts a rank 1 tensor of strikes, and scalar values for \n",
        "     the spots and  volatility values. The callable outputs prices of\n",
        "     the European call options on the grid `expiries x strikes`.\n",
        "    \"\"\"\n",
        "    def price_eu_options(strikes, spot, sigma, rate, dividend):\n",
        "        # Define drift and volatility functions. \n",
        "        # def drift_fn(t, x):\n",
        "        #   del t, x\n",
        "        #   return rate - dividend - 0.5 * sigma**2\n",
        "        # def vol_fn(t, x):\n",
        "        #   del t, x\n",
        "        #   return tf.reshape(sigma, [1, 1])\n",
        "        # Use GenericItoProcess class to set up the Ito process\n",
        "        # process = tff.models.GenericItoProcess(\n",
        "        #     dim=1,\n",
        "        #     drift_fn=drift_fn,\n",
        "        #     volatility_fn=vol_fn,\n",
        "        #     dtype=dtype)\n",
        "        \n",
        "        df = lambda t: tf.math.exp(-rate * t)\n",
        "        process = tff.experimental.local_volatility.LocalVolatilityModel.from_market_data(\n",
        "                1, valuation_date, lv_expiries, lv_strikes, lv_iv, spot, df, [0.0], dtype=dtype)\n",
        "\n",
        "\n",
        "        # log_spot = tf.math.log(tf.reduce_mean(spot))\n",
        "        if watch_params:\n",
        "            watch_params_list = [sigma, rate, dividend]\n",
        "        else:\n",
        "            watch_params_list = None\n",
        "        paths = process.sample_paths(\n",
        "            times=times, num_samples=num_samples,\n",
        "            initial_state=spot, \n",
        "            watch_params=watch_params_list,\n",
        "            # Select a random number generator\n",
        "            random_type=tff.math.random.RandomType.SOBOL, #PSEUDO_ANTITHETIC\n",
        "            time_step=dt)\n",
        "        \n",
        "        # tf.print(paths.shape)\n",
        "        \n",
        "        def tarf_payoff(paths):\n",
        "            # Shape [num_timesteps, num_samples]\n",
        "            paths = tf.transpose(paths)\n",
        "            cur_spot = paths[0]\n",
        "            total = tf.zeros_like(cur_spot)\n",
        "            discounted_payoff = tf.zeros_like(cur_spot)\n",
        "            df = tf.constant(1.0, dtype=tf.float64)\n",
        "            is_active = tf.ones([num_samples], dtype=tf.bool)\n",
        "            i = tf.constant(0, dtype=tf.int32)\n",
        "            # Explicitly define the while_loop \n",
        "            def cond(i, is_active, total, discounted_payoff):\n",
        "                return i < num_timesteps\n",
        "\n",
        "            def body(i, is_active, total, discounted_payoff):\n",
        "                # Here Tensors are of shape `[num_samples]`\n",
        "                cur_spot = paths[i]\n",
        "\n",
        "                cashflow = tf.zeros_like(cur_spot)\n",
        "                new_is_active = K_knockout > cur_spot\n",
        "                add_cashflow = tf.where(tf.logical_or(K_upper <= cur_spot, cur_spot < K_lower),\n",
        "                    True, \n",
        "                    False)\n",
        "\n",
        "                new_cashflow = tf.where(K_upper <= cur_spot,\n",
        "                    cur_spot - strike,\n",
        "                    cashflow\n",
        "                )\n",
        "                new_cashflow = tf.where(cur_spot < K_lower,\n",
        "                                    step_up_ratio*(cur_spot - strike),\n",
        "                                    new_cashflow)\n",
        "                new_is_active = tf.where(add_cashflow,\n",
        "                    tf.where(total + new_cashflow >= tarf_target,\n",
        "                            False, new_is_active),\n",
        "                    new_is_active)\n",
        "\n",
        "                new_cashflow = tf.where(add_cashflow,\n",
        "                    tf.where(total + new_cashflow >= tarf_target,\n",
        "                            tarf_target - total, new_cashflow),\n",
        "                    new_cashflow\n",
        "                    )\n",
        "\n",
        "                new_total = tf.where(add_cashflow,\n",
        "                    total + new_cashflow,\n",
        "                    total\n",
        "                    )\n",
        "                new_discounted_payoff = tf.where(add_cashflow,\n",
        "                    discounted_payoff + df * new_cashflow,\n",
        "                    discounted_payoff)\n",
        "                # Update values only if active\n",
        "                new_cashflow = tf.where(is_active, \n",
        "                                        new_cashflow,\n",
        "                                        cashflow)\n",
        "                new_total = tf.where(is_active, new_total, total)\n",
        "                new_discounted_payoff = tf.where(is_active, \n",
        "                                        new_discounted_payoff,\n",
        "                                        discounted_payoff)\n",
        "                new_is_active = tf.where(is_active, new_is_active, is_active)\n",
        "\n",
        "                return (i + 1, new_is_active, new_total, new_discounted_payoff)\n",
        "                \n",
        "            _, is_active, total, discounted_payoff = tf.while_loop(\n",
        "                cond, body, (i, is_active, total, discounted_payoff),\n",
        "                maximum_iterations=num_timesteps,\n",
        "            )\n",
        "            return discounted_payoff\n",
        "\n",
        "        reshaped_paths = tf.reshape(paths, [num_samples, num_timesteps])\n",
        "        payoffs = tarf_payoff(reshaped_paths)\n",
        "        prices = tf.reduce_mean(payoffs)\n",
        "\n",
        "        return prices\n",
        "    return price_eu_options\n",
        "\n",
        "price_eu_options_localvol = set_up_pricer_xla_localvol(times, watch_params=True)   \n",
        "\n",
        "price_eu_options_xla_localvol = tf.function(set_up_pricer_xla_localvol(times, watch_params=True),\n",
        "                               input_signature=[\n",
        "                                                tf.TensorSpec([], dtype=tf.float64),\n",
        "                                                tf.TensorSpec([], dtype=tf.float64),\n",
        "                                                tf.TensorSpec([], dtype=tf.float64),\n",
        "                                                tf.TensorSpec([], dtype=tf.float64),\n",
        "                                                tf.TensorSpec([], dtype=tf.float64)\n",
        "                               ], jit_compile=True)\n",
        "\n",
        "@tf.function(jit_compile=True,\n",
        "             input_signature=[tf.TensorSpec([], dtype=tf.float64),\n",
        "                            tf.TensorSpec([], dtype=tf.float64),\n",
        "                            tf.TensorSpec([], dtype=tf.float64),\n",
        "                            tf.TensorSpec([], dtype=tf.float64),\n",
        "                            tf.TensorSpec([], dtype=tf.float64)\n",
        "                               ])\n",
        "def greeks_fn_xla_localvol(strikes, spot, sigma, rate, dividend):\n",
        "    with tf.GradientTape() as tape:\n",
        "      tape.watch([spot, sigma, rate, dividend])\n",
        "      prices = price_eu_options_localvol(strikes, spot, sigma, rate, dividend)\n",
        "    return prices, tape.gradient(prices, [spot, sigma, rate, dividend])\n",
        "\n",
        "# print(price_eu_options_xla(strikes, spot, sigma, rate, dividend))\n",
        "# print(price_eu_options_xla_localvol(strikes, spot, sigma, rate, dividend))\n",
        "# greeks_fn_xla_localvol(strikes, spot, sigma, rate, dividend)    "
      ],
      "metadata": {
        "id": "U9bQL3xa6Zvy"
      },
      "id": "U9bQL3xa6Zvy",
      "execution_count": 18,
      "outputs": []
    },
    {
      "cell_type": "code",
      "source": [
        "# print(price_eu_options_xla_localvol(strikes, spot, sigma, rate, dividend))\n",
        "# print(greeks_fn_xla_localvol(strikes, spot, sigma, rate, dividend)) "
      ],
      "metadata": {
        "id": "9MYP_zHnUMKx"
      },
      "id": "9MYP_zHnUMKx",
      "execution_count": 19,
      "outputs": []
    },
    {
      "cell_type": "code",
      "source": [
        "# @tf.function(jit_compile=True,\n",
        "#              input_signature=[tf.TensorSpec([], dtype=tf.float64),\n",
        "#                             tf.TensorSpec([], dtype=tf.float64),\n",
        "#                             tf.TensorSpec([], dtype=tf.float64),\n",
        "#                             tf.TensorSpec([], dtype=tf.float64),\n",
        "#                             tf.TensorSpec([], dtype=tf.float64)\n",
        "#                                ])\n",
        "# def delta_fn(strikes, spot, sigma, rate, dividend):\n",
        "#     fn = lambda spot: price_eu_options_localvol(strikes, spot, sigma, rate, dividend)\n",
        "#     return tff.math.fwd_gradient(fn, spot,\n",
        "#                                  use_gradient_tape=True)\n",
        "    \n",
        "# delta_fn(strikes, spot, sigma, rate, dividend)    "
      ],
      "metadata": {
        "id": "GrahTXI_gGuh"
      },
      "id": "GrahTXI_gGuh",
      "execution_count": 20,
      "outputs": []
    },
    {
      "cell_type": "code",
      "source": [
        "devices = ['gpu', 'cpu']\n",
        "\n",
        "for device in devices:\n",
        "    with tf.device('/{}:0'.format(device)):\n",
        "        t = time.time()\n",
        "        tarf_price = price_eu_options_xla_localvol(strikes, spot, sigma, rate, dividend)\n",
        "        time_tqf0 = time.time() - t\n",
        "\n",
        "        t = time.time()\n",
        "        tarf_price = price_eu_options_xla_localvol(strikes, spot, sigma, rate, dividend)\n",
        "        time_tqf = time.time() - t\n",
        "\n",
        "        print('------------------------')\n",
        "        print('TQF {} TARF XLA LocalVol Price '.format(device))\n",
        "        print('wall time + tracing: ', time_tqf0)\n",
        "        print('options per second + tracing: ', 1.0/time_tqf0)\n",
        "        print('wall time: ', time_tqf)\n",
        "        print('options per second: ', 1.0/time_tqf)\n",
        "        print('------------------------')\n",
        "        print('price', tarf_price)"
      ],
      "metadata": {
        "id": "VwOcPNXalOIo",
        "outputId": "7caa5174-6737-4d4e-f0a7-48f7bb93bef0",
        "colab": {
          "base_uri": "https://localhost:8080/"
        }
      },
      "id": "VwOcPNXalOIo",
      "execution_count": 21,
      "outputs": [
        {
          "output_type": "stream",
          "name": "stdout",
          "text": [
            "------------------------\n",
            "TQF gpu TARF XLA LocalVol Price \n",
            "wall time + tracing:  70.71524453163147\n",
            "options per second + tracing:  0.014141222400110521\n",
            "wall time:  0.7479372024536133\n",
            "options per second:  1.3370106430319189\n",
            "------------------------\n",
            "price tf.Tensor(-246.9273570885836, shape=(), dtype=float64)\n",
            "------------------------\n",
            "TQF cpu TARF XLA LocalVol Price \n",
            "wall time + tracing:  154.13601851463318\n",
            "options per second + tracing:  0.006487776248775124\n",
            "wall time:  111.0559253692627\n",
            "options per second:  0.009004472266337741\n",
            "------------------------\n",
            "price tf.Tensor(-246.9273570885836, shape=(), dtype=float64)\n"
          ]
        }
      ]
    },
    {
      "cell_type": "code",
      "source": [
        "devices = ['gpu', 'cpu']\n",
        "\n",
        "for device in devices:\n",
        "    with tf.device('/{}:0'.format(device)):\n",
        "        t = time.time()\n",
        "        tarf_price, tarf_greeks = greeks_fn_xla_localvol(strikes, spot, sigma, rate, dividend)\n",
        "        time_tqf0 = time.time() - t\n",
        "\n",
        "        t = time.time()\n",
        "        tarf_price, tarf_greeks = greeks_fn_xla_localvol(strikes, spot, sigma, rate, dividend)\n",
        "        time_tqf = time.time() - t\n",
        "\n",
        "        print('------------------------')\n",
        "        print('TQF {} TARF XLA LocalVol price+delta+vega'.format(device))\n",
        "        print('wall time + tracing: ', time_tqf0)\n",
        "        print('options per second + tracing: ', 1.0/time_tqf0)\n",
        "        print('wall time: ', time_tqf)\n",
        "        print('options per second: ', 1.0/time_tqf)\n",
        "        print('------------------------')\n",
        "        print('price', tarf_price)\n",
        "        print('greeks', tarf_greeks)"
      ],
      "metadata": {
        "id": "lkyZ9BwDilcv",
        "outputId": "994ec4b8-9788-4229-e6ce-66f008699805",
        "colab": {
          "base_uri": "https://localhost:8080/"
        }
      },
      "id": "lkyZ9BwDilcv",
      "execution_count": 22,
      "outputs": [
        {
          "output_type": "stream",
          "name": "stdout",
          "text": [
            "------------------------\n",
            "TQF gpu TARF XLA LocalVol price+delta+vega\n",
            "wall time + tracing:  64.79481410980225\n",
            "options per second + tracing:  0.015433333882328688\n",
            "wall time:  0.7736227512359619\n",
            "options per second:  1.2926196888630426\n",
            "------------------------\n",
            "price tf.Tensor(-246.9273570885836, shape=(), dtype=float64)\n",
            "greeks [<tf.Tensor: shape=(), dtype=float64, numpy=nan>, <tf.Tensor: shape=(), dtype=float64, numpy=nan>, <tf.Tensor: shape=(), dtype=float64, numpy=nan>, <tf.Tensor: shape=(), dtype=float64, numpy=nan>]\n",
            "------------------------\n",
            "TQF cpu TARF XLA LocalVol price+delta+vega\n",
            "wall time + tracing:  148.57438135147095\n",
            "options per second + tracing:  0.006730635462882239\n",
            "wall time:  111.92326974868774\n",
            "options per second:  0.008934692510729876\n",
            "------------------------\n",
            "price tf.Tensor(-246.9273570885836, shape=(), dtype=float64)\n",
            "greeks [<tf.Tensor: shape=(), dtype=float64, numpy=nan>, <tf.Tensor: shape=(), dtype=float64, numpy=nan>, <tf.Tensor: shape=(), dtype=float64, numpy=nan>, <tf.Tensor: shape=(), dtype=float64, numpy=nan>]\n"
          ]
        }
      ]
    },
    {
      "cell_type": "code",
      "source": [
        "devices = ['gpu'] # , 'cpu'\n",
        "\n",
        "for device in devices:\n",
        "    with tf.device('/{}:0'.format(device)):\n",
        "        for tmp_spot in [tf.convert_to_tensor(x, tf.float64) for x in [15.0, 18.2, 20.0, 25.0]]:\n",
        "            t = time.time()\n",
        "            tarf_price, tarf_greeks = greeks_fn_xla_localvol(strikes, tmp_spot, sigma, rate, dividend)\n",
        "            time_tqf0 = time.time() - t\n",
        "\n",
        "            t = time.time()\n",
        "            tarf_price, tarf_greeks = greeks_fn_xla_localvol(strikes, tmp_spot, sigma, rate, dividend)\n",
        "            time_tqf = time.time() - t\n",
        "\n",
        "            print('------------------------')\n",
        "            print('TQF {} TARF XLA LocalVol price+delta+vega spot: {}'.format(device, tmp_spot))\n",
        "            print('wall time + tracing: ', time_tqf0)\n",
        "            print('options per second + tracing: ', 1.0/time_tqf0)\n",
        "            print('wall time: ', time_tqf)\n",
        "            print('options per second: ', 1.0/time_tqf)\n",
        "            print('------------------------')\n",
        "            print('price', tarf_price)\n",
        "            print('greeks', tarf_greeks)\n",
        "            # print(greeks_fn_xla.pretty_printed_concrete_signatures())            "
      ],
      "metadata": {
        "id": "Fz4nOzC76sHZ",
        "outputId": "72b0bc34-465b-4e30-f0cd-4f576d4b7473",
        "colab": {
          "base_uri": "https://localhost:8080/"
        }
      },
      "id": "Fz4nOzC76sHZ",
      "execution_count": 23,
      "outputs": [
        {
          "output_type": "stream",
          "name": "stdout",
          "text": [
            "------------------------\n",
            "TQF gpu TARF XLA LocalVol price+delta+vega spot: 15.0\n",
            "wall time + tracing:  0.7750897407531738\n",
            "options per second + tracing:  1.2901731856601215\n",
            "wall time:  0.7734165191650391\n",
            "options per second:  1.292964366832473\n",
            "------------------------\n",
            "price tf.Tensor(-489.1858512606903, shape=(), dtype=float64)\n",
            "greeks [<tf.Tensor: shape=(), dtype=float64, numpy=nan>, <tf.Tensor: shape=(), dtype=float64, numpy=nan>, <tf.Tensor: shape=(), dtype=float64, numpy=nan>, <tf.Tensor: shape=(), dtype=float64, numpy=nan>]\n",
            "------------------------\n",
            "TQF gpu TARF XLA LocalVol price+delta+vega spot: 18.2\n",
            "wall time + tracing:  0.7729067802429199\n",
            "options per second + tracing:  1.2938170883760471\n",
            "wall time:  0.7731106281280518\n",
            "options per second:  1.293475944602288\n",
            "------------------------\n",
            "price tf.Tensor(-234.51510001478576, shape=(), dtype=float64)\n",
            "greeks [<tf.Tensor: shape=(), dtype=float64, numpy=nan>, <tf.Tensor: shape=(), dtype=float64, numpy=nan>, <tf.Tensor: shape=(), dtype=float64, numpy=nan>, <tf.Tensor: shape=(), dtype=float64, numpy=nan>]\n",
            "------------------------\n",
            "TQF gpu TARF XLA LocalVol price+delta+vega spot: 20.0\n",
            "wall time + tracing:  0.7728660106658936\n",
            "options per second + tracing:  1.293885338725674\n",
            "wall time:  0.7725481986999512\n",
            "options per second:  1.2944176190984666\n",
            "------------------------\n",
            "price tf.Tensor(-133.88846548250808, shape=(), dtype=float64)\n",
            "greeks [<tf.Tensor: shape=(), dtype=float64, numpy=nan>, <tf.Tensor: shape=(), dtype=float64, numpy=nan>, <tf.Tensor: shape=(), dtype=float64, numpy=nan>, <tf.Tensor: shape=(), dtype=float64, numpy=nan>]\n",
            "------------------------\n",
            "TQF gpu TARF XLA LocalVol price+delta+vega spot: 25.0\n",
            "wall time + tracing:  0.7728331089019775\n",
            "options per second + tracing:  1.293940423205698\n",
            "wall time:  0.7735159397125244\n",
            "options per second:  1.2927981812134963\n",
            "------------------------\n",
            "price tf.Tensor(4.951110958164982, shape=(), dtype=float64)\n",
            "greeks [<tf.Tensor: shape=(), dtype=float64, numpy=nan>, <tf.Tensor: shape=(), dtype=float64, numpy=nan>, <tf.Tensor: shape=(), dtype=float64, numpy=nan>, <tf.Tensor: shape=(), dtype=float64, numpy=nan>]\n"
          ]
        }
      ]
    }
  ],
  "metadata": {
    "kernelspec": {
      "display_name": "Python 3 (ipykernel)",
      "language": "python",
      "name": "python3"
    },
    "language_info": {
      "codemirror_mode": {
        "name": "ipython",
        "version": 3
      },
      "file_extension": ".py",
      "mimetype": "text/x-python",
      "name": "python",
      "nbconvert_exporter": "python",
      "pygments_lexer": "ipython3",
      "version": "3.7.9"
    },
    "colab": {
      "name": "TARF_MC_Performance_TQF.ipynb",
      "provenance": [],
      "include_colab_link": true
    },
    "accelerator": "GPU"
  },
  "nbformat": 4,
  "nbformat_minor": 5
}
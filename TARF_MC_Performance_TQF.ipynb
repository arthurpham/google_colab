{
  "cells": [
    {
      "cell_type": "code",
      "execution_count": 1,
      "id": "f3a6e055",
      "metadata": {
        "id": "f3a6e055",
        "outputId": "affa7950-03d5-4d3e-cb4b-fcb4a2c94e74",
        "colab": {
          "base_uri": "https://localhost:8080/"
        }
      },
      "outputs": [
        {
          "output_type": "stream",
          "name": "stdout",
          "text": [
            "Requirement already satisfied: tf-quant-finance in /usr/local/lib/python3.7/dist-packages (0.0.1.dev31)\n",
            "Requirement already satisfied: numpy>=1.21 in /usr/local/lib/python3.7/dist-packages (from tf-quant-finance) (1.21.6)\n",
            "Requirement already satisfied: protobuf in /usr/local/lib/python3.7/dist-packages (from tf-quant-finance) (3.17.3)\n",
            "Requirement already satisfied: attrs>=18.2.0 in /usr/local/lib/python3.7/dist-packages (from tf-quant-finance) (21.4.0)\n",
            "Requirement already satisfied: tensorflow-probability>=0.12.1 in /usr/local/lib/python3.7/dist-packages (from tf-quant-finance) (0.16.0)\n",
            "Requirement already satisfied: decorator in /usr/local/lib/python3.7/dist-packages (from tensorflow-probability>=0.12.1->tf-quant-finance) (4.4.2)\n",
            "Requirement already satisfied: cloudpickle>=1.3 in /usr/local/lib/python3.7/dist-packages (from tensorflow-probability>=0.12.1->tf-quant-finance) (1.3.0)\n",
            "Requirement already satisfied: absl-py in /usr/local/lib/python3.7/dist-packages (from tensorflow-probability>=0.12.1->tf-quant-finance) (1.0.0)\n",
            "Requirement already satisfied: gast>=0.3.2 in /usr/local/lib/python3.7/dist-packages (from tensorflow-probability>=0.12.1->tf-quant-finance) (0.5.3)\n",
            "Requirement already satisfied: dm-tree in /usr/local/lib/python3.7/dist-packages (from tensorflow-probability>=0.12.1->tf-quant-finance) (0.1.7)\n",
            "Requirement already satisfied: six>=1.10.0 in /usr/local/lib/python3.7/dist-packages (from tensorflow-probability>=0.12.1->tf-quant-finance) (1.15.0)\n",
            "Requirement already satisfied: QuantLib-Python in /usr/local/lib/python3.7/dist-packages (1.18)\n",
            "Requirement already satisfied: QuantLib in /usr/local/lib/python3.7/dist-packages (from QuantLib-Python) (1.26)\n"
          ]
        }
      ],
      "source": [
        "# !pip install --upgrade tensorflow --user\n",
        "!pip install tf-quant-finance\n",
        "!pip install QuantLib-Python"
      ]
    },
    {
      "cell_type": "code",
      "execution_count": 2,
      "id": "a83401ca",
      "metadata": {
        "id": "a83401ca"
      },
      "outputs": [],
      "source": [
        "import os\n",
        "# reduce number of threads\n",
        "os.environ['TF_NUM_INTEROP_THREADS'] = '1'\n",
        "os.environ['TF_NUM_INTRAOP_THREADS'] = '1'\n",
        "\n",
        "%matplotlib inline\n",
        "import numpy as np\n",
        "import matplotlib.pyplot as plt\n",
        "import tf_quant_finance as tff \n",
        "import tensorflow as tf\n",
        "import functools\n",
        "import pandas as pd\n",
        "import time\n",
        "import QuantLib as ql"
      ]
    },
    {
      "cell_type": "code",
      "execution_count": 3,
      "id": "c4306927",
      "metadata": {
        "id": "c4306927",
        "outputId": "b8667286-8c7a-4fcc-d5ad-c7cf7a9d9690",
        "colab": {
          "base_uri": "https://localhost:8080/"
        }
      },
      "outputs": [
        {
          "output_type": "stream",
          "name": "stdout",
          "text": [
            "Tue May 17 12:26:31 2022       \n",
            "+-----------------------------------------------------------------------------+\n",
            "| NVIDIA-SMI 460.32.03    Driver Version: 460.32.03    CUDA Version: 11.2     |\n",
            "|-------------------------------+----------------------+----------------------+\n",
            "| GPU  Name        Persistence-M| Bus-Id        Disp.A | Volatile Uncorr. ECC |\n",
            "| Fan  Temp  Perf  Pwr:Usage/Cap|         Memory-Usage | GPU-Util  Compute M. |\n",
            "|                               |                      |               MIG M. |\n",
            "|===============================+======================+======================|\n",
            "|   0  Tesla T4            Off  | 00000000:00:04.0 Off |                    0 |\n",
            "| N/A   51C    P8    10W /  70W |      0MiB / 15109MiB |      0%      Default |\n",
            "|                               |                      |                  N/A |\n",
            "+-------------------------------+----------------------+----------------------+\n",
            "                                                                               \n",
            "+-----------------------------------------------------------------------------+\n",
            "| Processes:                                                                  |\n",
            "|  GPU   GI   CI        PID   Type   Process name                  GPU Memory |\n",
            "|        ID   ID                                                   Usage      |\n",
            "|=============================================================================|\n",
            "|  No running processes found                                                 |\n",
            "+-----------------------------------------------------------------------------+\n"
          ]
        }
      ],
      "source": [
        "!nvidia-smi"
      ]
    },
    {
      "cell_type": "code",
      "execution_count": 4,
      "id": "3cb3a485",
      "metadata": {
        "id": "3cb3a485"
      },
      "outputs": [],
      "source": [
        "spot = 18.0\n",
        "strike = 20.0\n",
        "K_lower = 15.0\n",
        "K_upper = 20.0\n",
        "K_knockout = 30.0\n",
        "tarf_target = 5.0\n",
        "step_up_ratio = 2.0\n",
        "\n",
        "r = 0.0\n",
        "volatility = 0.5"
      ]
    },
    {
      "cell_type": "code",
      "execution_count": 5,
      "id": "5e327c2d",
      "metadata": {
        "scrolled": false,
        "id": "5e327c2d"
      },
      "outputs": [],
      "source": [
        "#@title Set up parameters\n",
        "\n",
        "dtype = tf.float64 #@param\n",
        "num_samples = 200000 #@param\n",
        "num_timesteps = 53 #@param\n",
        "\n",
        "# expiries =tf.constant( [0.0, 0.5, 1.0], dtype=dtype) # This can be a rank 1 Tensor\n",
        "dt = 1. / num_timesteps\n",
        "# times = [1.0]\n",
        "times = tf.linspace(tf.constant(0.0, dtype=dtype), tf.constant(1.0, dtype=dtype), num_timesteps)\n",
        "rate = tf.constant(r, dtype=dtype)\n",
        "sigma = tf.constant(volatility, dtype=dtype)\n",
        "spot = tf.constant(spot, dtype=dtype)\n",
        "strikes = tf.constant(strike, dtype=dtype)\n",
        "\n",
        "def set_up_pricer(times, watch_params=False):\n",
        "    \"\"\"Set up European option pricing function under Black-Scholes model.\n",
        "    \n",
        "    Args:\n",
        "        expiries: List of expiries at which to to sample the trajectories.\n",
        "        watch_params: A Python bool. When `True`, gradients of the price function wrt the inputs\n",
        "          are computed more efficiently. \n",
        "    Returns:\n",
        "     A callable that accepts a rank 1 tensor of strikes, and scalar values for \n",
        "     the spots and  volatility values. The callable outputs prices of\n",
        "     the European call options on the grid `expiries x strikes`.\n",
        "    \"\"\"\n",
        "    def price_eu_options(strikes, spot, sigma):\n",
        "        # Define drift and volatility functions. \n",
        "        def drift_fn(t, x):\n",
        "          del t, x\n",
        "          return rate - 0.5 * sigma**2\n",
        "        def vol_fn(t, x):\n",
        "          del t, x\n",
        "          return tf.reshape(sigma, [1, 1])\n",
        "        # Use GenericItoProcess class to set up the Ito process\n",
        "        process = tff.models.GenericItoProcess(\n",
        "            dim=1,\n",
        "            drift_fn=drift_fn,\n",
        "            volatility_fn=vol_fn,\n",
        "            dtype=dtype)\n",
        "        log_spot = tf.math.log(tf.reduce_mean(spot))\n",
        "        if watch_params:\n",
        "            watch_params_list = [sigma]\n",
        "        else:\n",
        "            watch_params_list = None\n",
        "        paths = process.sample_paths(\n",
        "            times=times, num_samples=num_samples,\n",
        "            initial_state=log_spot, \n",
        "            watch_params=watch_params_list,\n",
        "            # Select a random number generator\n",
        "            random_type=tff.math.random.RandomType.SOBOL, #PSEUDO_ANTITHETIC\n",
        "            time_step=dt)\n",
        "        \n",
        "        @tf.function\n",
        "        def my_function(element):\n",
        "#             tf.print(element, summarize=-1)\n",
        "            total = tf.constant(0.0, dtype=tf.float64)\n",
        "            discounted_payoff = tf.constant(0.0, dtype=tf.float64)\n",
        "            df = tf.constant(1.0, dtype=tf.float64)\n",
        "            is_active = True\n",
        "            cashflow = tf.constant(0.0, dtype=tf.float64)\n",
        "            for cur_spot in element:\n",
        "                if is_active:\n",
        "                    add_cashflow = False\n",
        "                    if K_knockout <= cur_spot:\n",
        "                        # early termination\n",
        "                        is_active = False\n",
        "                    if K_upper <= cur_spot: # cur_spot < K_knockout\n",
        "                        cashflow = cur_spot - strike\n",
        "                        add_cashflow = True\n",
        "                    if cur_spot < K_lower:\n",
        "                        cashflow = step_up_ratio*(cur_spot - strike)\n",
        "                        add_cashflow = True\n",
        "\n",
        "                    if add_cashflow:\n",
        "                        if total + cashflow >= tarf_target:\n",
        "                            cashflow = tarf_target - total\n",
        "                            total += cashflow\n",
        "                            discounted_payoff += df*cashflow\n",
        "                            is_active = False\n",
        "                        else:\n",
        "                            total += cashflow\n",
        "                            discounted_payoff += df*cashflow\n",
        "                     \n",
        "            return discounted_payoff\n",
        "\n",
        "        reshaped_paths = tf.reshape(tf.math.exp(paths), [num_samples, num_timesteps])\n",
        "        payoffs = tf.vectorized_map(my_function, reshaped_paths)\n",
        "        prices = tf.reduce_mean(payoffs)\n",
        "\n",
        "        return prices\n",
        "    return price_eu_options    \n",
        "\n",
        "price_eu_options = tf.function(set_up_pricer(times, watch_params=True),\n",
        "                               input_signature=[\n",
        "                                                tf.TensorSpec([], dtype=tf.float64),\n",
        "                                                tf.TensorSpec([], dtype=tf.float64),\n",
        "                                                tf.TensorSpec([], dtype=tf.float64)\n",
        "                               ])\n"
      ]
    },
    {
      "cell_type": "code",
      "source": [
        "def set_up_pricer_xla(times, watch_params=False):\n",
        "    \"\"\"Set up European option pricing function under Black-Scholes model.\n",
        "    \n",
        "    Args:\n",
        "        expiries: List of expiries at which to to sample the trajectories.\n",
        "        watch_params: A Python bool. When `True`, gradients of the price function wrt the inputs\n",
        "          are computed more efficiently. \n",
        "    Returns:\n",
        "     A callable that accepts a rank 1 tensor of strikes, and scalar values for \n",
        "     the spots and  volatility values. The callable outputs prices of\n",
        "     the European call options on the grid `expiries x strikes`.\n",
        "    \"\"\"\n",
        "    def price_eu_options(strikes, spot, sigma):\n",
        "        # Define drift and volatility functions. \n",
        "        def drift_fn(t, x):\n",
        "          del t, x\n",
        "          return rate - 0.5 * sigma**2\n",
        "        def vol_fn(t, x):\n",
        "          del t, x\n",
        "          return tf.reshape(sigma, [1, 1])\n",
        "        # Use GenericItoProcess class to set up the Ito process\n",
        "        process = tff.models.GenericItoProcess(\n",
        "            dim=1,\n",
        "            drift_fn=drift_fn,\n",
        "            volatility_fn=vol_fn,\n",
        "            dtype=dtype)\n",
        "        log_spot = tf.math.log(tf.reduce_mean(spot))\n",
        "        if watch_params:\n",
        "            watch_params_list = [sigma]\n",
        "        else:\n",
        "            watch_params_list = None\n",
        "        paths = process.sample_paths(\n",
        "            times=times, num_samples=num_samples,\n",
        "            initial_state=log_spot, \n",
        "            watch_params=watch_params_list,\n",
        "            # Select a random number generator\n",
        "            random_type=tff.math.random.RandomType.SOBOL, #PSEUDO_ANTITHETIC\n",
        "            time_step=dt)\n",
        "        \n",
        "        @tf.function\n",
        "        def my_function_new(paths):\n",
        "           # Shape [num_timesteps, num_samples]\n",
        "            paths = tf.transpose(paths)\n",
        "            cur_spot = paths[0]\n",
        "            total = tf.zeros_like(cur_spot)\n",
        "            discounted_payoff = tf.zeros_like(cur_spot)\n",
        "            df = tf.constant(1.0, dtype=tf.float64)\n",
        "            is_active = tf.ones([num_samples], dtype=tf.bool)\n",
        "            cashflow = tf.zeros_like(cur_spot)\n",
        "            i = tf.constant(0, dtype=tf.int32)\n",
        "           # Explicitly define the while_loop \n",
        "            def cond(i, is_active, cashflow, total, discounted_payoff):\n",
        "              return i < num_timesteps\n",
        "\n",
        "            def body(i, is_active, cashflow, total, discounted_payoff):\n",
        "              # Here Tensors are of shape `[num_samples]`\n",
        "              cur_spot = paths[i]\n",
        "              add_cashflow = False\n",
        "              new_is_active = K_knockout > cur_spot\n",
        "              add_cashflow = tf.where(\n",
        "                  tf.logical_or(K_upper <= cur_spot, cur_spot < K_lower),\n",
        "                  True, False)\n",
        "\n",
        "              new_cashflow = tf.where(\n",
        "                 K_upper <= cur_spot,\n",
        "                 cur_spot - strike,\n",
        "                 cashflow\n",
        "              )\n",
        "              new_cashflow = tf.where(cur_spot < K_lower,\n",
        "                                  step_up_ratio*(cur_spot - strike),\n",
        "                                  new_cashflow)\n",
        "              new_is_active = tf.where(\n",
        "                  add_cashflow,\n",
        "                  tf.where(total + new_cashflow >= tarf_target,\n",
        "                           False, new_is_active),\n",
        "                  new_is_active)\n",
        "\n",
        "              new_cashflow = tf.where(\n",
        "                  add_cashflow,\n",
        "                  tf.where(total + new_cashflow >= tarf_target,\n",
        "                           tarf_target - total, new_cashflow),\n",
        "                  new_cashflow\n",
        "                  )\n",
        "\n",
        "              new_total = tf.where(\n",
        "                  add_cashflow,\n",
        "                  total + new_cashflow,\n",
        "                  total\n",
        "                  )\n",
        "              new_discounted_payoff = tf.where(\n",
        "                  add_cashflow,\n",
        "                  discounted_payoff + df * new_cashflow,\n",
        "                  discounted_payoff)\n",
        "              # Update values only if active\n",
        "              new_cashflow = tf.where(is_active, \n",
        "                                      new_cashflow,\n",
        "                                      cashflow)\n",
        "              new_total = tf.where(is_active,  new_total, total)\n",
        "              new_discounted_payoff = tf.where(is_active, \n",
        "                                      new_discounted_payoff,\n",
        "                                      discounted_payoff)\n",
        "              new_is_active = tf.where(is_active, \n",
        "                                      new_is_active,\n",
        "                                      is_active)\n",
        "              return (i + 1, new_is_active, new_cashflow,\n",
        "                      new_total, new_discounted_payoff)\n",
        "            _, is_active, cashflow, total, discounted_payoff = tf.while_loop(\n",
        "                cond, body, (i, is_active, cashflow, total, discounted_payoff)\n",
        "            )\n",
        "            return discounted_payoff\n",
        "\n",
        "        reshaped_paths = tf.reshape(tf.math.exp(paths), [num_samples, num_timesteps])\n",
        "        payoffs = my_function_new(reshaped_paths)\n",
        "        prices = tf.reduce_mean(payoffs)\n",
        "\n",
        "        return prices\n",
        "    return price_eu_options\n",
        "\n",
        "price_eu_options_xla = tf.function(set_up_pricer_xla(times, watch_params=True),\n",
        "                               input_signature=[\n",
        "                                                tf.TensorSpec([], dtype=tf.float64),\n",
        "                                                tf.TensorSpec([], dtype=tf.float64),\n",
        "                                                tf.TensorSpec([], dtype=tf.float64)\n",
        "                               ], jit_compile=True)    "
      ],
      "metadata": {
        "id": "v4tluqTz9OEI"
      },
      "id": "v4tluqTz9OEI",
      "execution_count": 6,
      "outputs": []
    },
    {
      "cell_type": "code",
      "source": [
        "# device = \"/gpu:0\"\n",
        "# with tf.device(device):\n",
        "#     tarf_price = price_eu_options(strikes, spot, sigma)\n",
        "#     print('price', tarf_price)"
      ],
      "metadata": {
        "id": "hh25z8OTapHt"
      },
      "id": "hh25z8OTapHt",
      "execution_count": 7,
      "outputs": []
    },
    {
      "cell_type": "code",
      "source": [
        "# device = \"/gpu:0\"\n",
        "# with tf.device(device):\n",
        "#     tarf_price = price_eu_options_xla(strikes, spot, sigma)\n",
        "#     print('price', tarf_price)"
      ],
      "metadata": {
        "id": "Enn2yRUAapUF"
      },
      "id": "Enn2yRUAapUF",
      "execution_count": 8,
      "outputs": []
    },
    {
      "cell_type": "code",
      "source": [
        "device = \"/gpu:0\"\n",
        "with tf.device(device):\n",
        "    t = time.time()\n",
        "    tarf_price = price_eu_options(strikes, spot, sigma)\n",
        "    time_tqf0 = time.time() - t\n",
        "\n",
        "    t = time.time()\n",
        "    tarf_price = price_eu_options(strikes, spot, sigma)\n",
        "    time_tqf = time.time() - t\n",
        "\n",
        "    print('------------------------')\n",
        "    print('TQF GPU TARF')\n",
        "    print('wall time + tracing: ', time_tqf0)\n",
        "    print('options per second + tracing: ', 1.0/time_tqf0)\n",
        "    print('wall time: ', time_tqf)\n",
        "    print('options per second: ', 1.0/time_tqf)\n",
        "    print('------------------------')\n",
        "    print('price', tarf_price)"
      ],
      "metadata": {
        "id": "uyUXQuKsUSJW",
        "outputId": "6a9bfe31-71fc-4efd-b78e-665cbbed6e77",
        "colab": {
          "base_uri": "https://localhost:8080/"
        }
      },
      "id": "uyUXQuKsUSJW",
      "execution_count": 9,
      "outputs": [
        {
          "output_type": "stream",
          "name": "stdout",
          "text": [
            "------------------------\n",
            "TQF GPU TARF\n",
            "wall time + tracing:  26.294757604599\n",
            "options per second + tracing:  0.03803039431042704\n",
            "wall time:  2.390005111694336\n",
            "options per second:  0.4184091469541144\n",
            "------------------------\n",
            "price tf.Tensor(-246.927357070608, shape=(), dtype=float64)\n"
          ]
        }
      ]
    },
    {
      "cell_type": "code",
      "execution_count": 10,
      "id": "98958e3a",
      "metadata": {
        "id": "98958e3a",
        "outputId": "386078b2-a8f0-460d-a788-9c4a99c3e974",
        "colab": {
          "base_uri": "https://localhost:8080/"
        }
      },
      "outputs": [
        {
          "output_type": "stream",
          "name": "stdout",
          "text": [
            "------------------------\n",
            "TQF GPU TARF\n",
            "wall time + tracing:  3.861151695251465\n",
            "options per second + tracing:  0.25899008351052966\n",
            "wall time:  0.7384042739868164\n",
            "options per second:  1.3542716845350413\n",
            "------------------------\n",
            "price tf.Tensor(-246.927357070608, shape=(), dtype=float64)\n"
          ]
        }
      ],
      "source": [
        "device = \"/gpu:0\"\n",
        "with tf.device(device):\n",
        "    t = time.time()\n",
        "    tarf_price = price_eu_options_xla(strikes, spot, sigma)\n",
        "    time_tqf0 = time.time() - t\n",
        "\n",
        "    t = time.time()\n",
        "    tarf_price = price_eu_options_xla(strikes, spot, sigma)\n",
        "    time_tqf = time.time() - t\n",
        "\n",
        "    print('------------------------')\n",
        "    print('TQF GPU TARF')\n",
        "    print('wall time + tracing: ', time_tqf0)\n",
        "    print('options per second + tracing: ', 1.0/time_tqf0)\n",
        "    print('wall time: ', time_tqf)\n",
        "    print('options per second: ', 1.0/time_tqf)\n",
        "    print('------------------------')\n",
        "    print('price', tarf_price)"
      ]
    },
    {
      "cell_type": "code",
      "execution_count": 10,
      "id": "146a7a20",
      "metadata": {
        "id": "146a7a20"
      },
      "outputs": [],
      "source": [
        ""
      ]
    },
    {
      "cell_type": "code",
      "execution_count": 10,
      "id": "fa8f6006",
      "metadata": {
        "id": "fa8f6006"
      },
      "outputs": [],
      "source": [
        ""
      ]
    },
    {
      "cell_type": "code",
      "execution_count": 10,
      "id": "cb03ad7b",
      "metadata": {
        "id": "cb03ad7b"
      },
      "outputs": [],
      "source": [
        ""
      ]
    },
    {
      "cell_type": "code",
      "execution_count": 10,
      "id": "e7cbeabd",
      "metadata": {
        "id": "e7cbeabd"
      },
      "outputs": [],
      "source": [
        ""
      ]
    }
  ],
  "metadata": {
    "kernelspec": {
      "display_name": "Python 3 (ipykernel)",
      "language": "python",
      "name": "python3"
    },
    "language_info": {
      "codemirror_mode": {
        "name": "ipython",
        "version": 3
      },
      "file_extension": ".py",
      "mimetype": "text/x-python",
      "name": "python",
      "nbconvert_exporter": "python",
      "pygments_lexer": "ipython3",
      "version": "3.7.9"
    },
    "colab": {
      "name": "TARF_MC_Performance_TQF.ipynb",
      "provenance": []
    },
    "accelerator": "GPU"
  },
  "nbformat": 4,
  "nbformat_minor": 5
}
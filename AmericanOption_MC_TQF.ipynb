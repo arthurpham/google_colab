{
 "cells": [
  {
   "cell_type": "code",
   "execution_count": 1,
   "id": "033b9cc9",
   "metadata": {
    "colab": {
     "base_uri": "https://localhost:8080/"
    },
    "id": "033b9cc9",
    "outputId": "1cc352bc-d0c9-4999-bbf2-315a6b8efad6"
   },
   "outputs": [
    {
     "name": "stdout",
     "output_type": "stream",
     "text": [
      "Requirement already satisfied: tf-quant-finance in c:\\dev\\github\\tf-quant-finance\\venv\\lib\\site-packages (0.0.1.dev30)\n",
      "Requirement already satisfied: attrs>=18.2.0 in c:\\dev\\github\\tf-quant-finance\\venv\\lib\\site-packages (from tf-quant-finance) (21.4.0)\n",
      "Requirement already satisfied: protobuf in c:\\dev\\github\\tf-quant-finance\\venv\\lib\\site-packages (from tf-quant-finance) (3.19.3)\n",
      "Requirement already satisfied: tensorflow-probability>=0.11.0 in c:\\dev\\github\\tf-quant-finance\\venv\\lib\\site-packages (from tf-quant-finance) (0.15.0)\n",
      "Requirement already satisfied: numpy>=1.19.2 in c:\\dev\\github\\tf-quant-finance\\venv\\lib\\site-packages (from tf-quant-finance) (1.21.5)\n",
      "Requirement already satisfied: six>=1.10.0 in c:\\dev\\github\\tf-quant-finance\\venv\\lib\\site-packages (from tensorflow-probability>=0.11.0->tf-quant-finance) (1.16.0)\n",
      "Requirement already satisfied: cloudpickle>=1.3 in c:\\dev\\github\\tf-quant-finance\\venv\\lib\\site-packages (from tensorflow-probability>=0.11.0->tf-quant-finance) (2.0.0)\n",
      "Requirement already satisfied: absl-py in c:\\dev\\github\\tf-quant-finance\\venv\\lib\\site-packages (from tensorflow-probability>=0.11.0->tf-quant-finance) (1.0.0)\n",
      "Requirement already satisfied: gast>=0.3.2 in c:\\dev\\github\\tf-quant-finance\\venv\\lib\\site-packages (from tensorflow-probability>=0.11.0->tf-quant-finance) (0.4.0)\n",
      "Requirement already satisfied: decorator in c:\\dev\\github\\tf-quant-finance\\venv\\lib\\site-packages (from tensorflow-probability>=0.11.0->tf-quant-finance) (5.1.1)\n",
      "Requirement already satisfied: dm-tree in c:\\dev\\github\\tf-quant-finance\\venv\\lib\\site-packages (from tensorflow-probability>=0.11.0->tf-quant-finance) (0.1.6)\n"
     ]
    },
    {
     "name": "stderr",
     "output_type": "stream",
     "text": [
      "WARNING: You are using pip version 21.3.1; however, version 22.1 is available.\n",
      "You should consider upgrading via the 'C:\\Dev\\github\\tf-quant-finance\\venv\\Scripts\\python.exe -m pip install --upgrade pip' command.\n"
     ]
    }
   ],
   "source": [
    "# !pip install --upgrade tensorflow\n",
    "!pip install tf-quant-finance\n",
    "# !pip install tqdm"
   ]
  },
  {
   "cell_type": "code",
   "execution_count": 2,
   "id": "e9febe39",
   "metadata": {
    "id": "e9febe39"
   },
   "outputs": [],
   "source": [
    "#@title Imports { display-mode: \"form\" }\n",
    "\n",
    "import matplotlib.pyplot as plt\n",
    "import numpy as np\n",
    "import time\n",
    "\n",
    "import tensorflow as tf\n",
    "\n",
    " # tff for Tensorflow Finance\n",
    "import tf_quant_finance as tff\n",
    "\n",
    "from IPython.core.pylabtools import figsize\n",
    "figsize(21, 14) # better graph size for Colab  \n",
    "\n",
    "from tqdm.notebook import tqdm, trange\n",
    "from QuantLib import *"
   ]
  },
  {
   "cell_type": "code",
   "execution_count": 3,
   "id": "1befa591",
   "metadata": {
    "id": "1befa591"
   },
   "outputs": [],
   "source": [
    "#@title Set up parameters\n",
    "\n",
    "dtype = np.float64 #@param\n",
    "num_samples = 50000 #@param\n",
    "num_timesteps = 50 #@param\n",
    "\n",
    "def pricer_eu_options(expiries, watch_params=False):\n",
    "    \"\"\"Set up European option pricing function under Black-Scholes model.\n",
    "    \n",
    "    Args:\n",
    "        expiries: List of expiries at which to to sample the trajectories.\n",
    "        watch_params: A Python bool. When `True`, gradients of the price function wrt the inputs\n",
    "          are computed more efficiently. \n",
    "    Returns:\n",
    "     A callable that accepts a rank 1 tensor of strikes, and scalar values for \n",
    "     the spots and  volatility values. The callable outputs prices of\n",
    "     the European call options on the grid `expiries x strikes`.\n",
    "    \"\"\"\n",
    "    def price(strikes, spot, sigma):\n",
    "        # Define drift and volatility functions. \n",
    "        def drift_fn(t, x):\n",
    "          del t, x\n",
    "          return rate - 0.5 * sigma**2\n",
    "        def vol_fn(t, x):\n",
    "          del t, x\n",
    "          return tf.reshape(sigma, [1, 1])\n",
    "        # Use GenericItoProcess class to set up the Ito process\n",
    "        process = tff.models.GenericItoProcess(\n",
    "            dim=1,\n",
    "            drift_fn=drift_fn,\n",
    "            volatility_fn=vol_fn,\n",
    "            dtype=dtype)\n",
    "        log_spot = tf.math.log(tf.reduce_mean(spot))\n",
    "        if watch_params:\n",
    "            watch_params_list = [sigma]\n",
    "        else:\n",
    "            watch_params_list = None\n",
    "        paths = process.sample_paths(\n",
    "            expiries, num_samples=num_samples,\n",
    "            initial_state=log_spot, \n",
    "            watch_params=watch_params_list,\n",
    "            # Select a random number generator\n",
    "            random_type=tff.math.random.RandomType.PSEUDO_ANTITHETIC,\n",
    "            time_step=dt)\n",
    "        prices = (tf.exp(-tf.expand_dims(rate * expiries, axis=-1))\n",
    "                  * tf.reduce_mean(tf.nn.relu(strikes-tf.math.exp(paths)), 0))\n",
    "        return prices\n",
    "    return price"
   ]
  },
  {
   "cell_type": "code",
   "execution_count": 4,
   "id": "nppVWiXWFWru",
   "metadata": {
    "colab": {
     "base_uri": "https://localhost:8080/"
    },
    "id": "nppVWiXWFWru",
    "outputId": "c8c7cd4e-7e5b-4862-adb2-54aeda902ccf"
   },
   "outputs": [
    {
     "data": {
      "text/plain": [
       "3.8340222821454817"
      ]
     },
     "execution_count": 4,
     "metadata": {},
     "output_type": "execute_result"
    }
   ],
   "source": [
    "expiries = [1.0] # This can be a rank 1 Tensor\n",
    "dt = 1. / num_timesteps\n",
    "rate = tf.constant(0.06, dtype=dtype)\n",
    "sigma = tf.constant(0.2, dtype=dtype)\n",
    "spot = tf.constant(36.0, dtype=dtype)\n",
    "strikes = tf.constant(40.0, dtype=dtype)\n",
    "\n",
    "price_eu_options = tf.function(pricer_eu_options(expiries),\n",
    "                    input_signature=[tf.TensorSpec([], dtype=tf.float64),\n",
    "                     tf.TensorSpec([], dtype=tf.float64),\n",
    "                     tf.TensorSpec([], dtype=tf.float64)])\n",
    "\n",
    "price_eu_options(strikes, spot, sigma).numpy()[0][0]"
   ]
  },
  {
   "cell_type": "code",
   "execution_count": 5,
   "id": "b067ecbe",
   "metadata": {},
   "outputs": [
    {
     "name": "stdout",
     "output_type": "stream",
     "text": [
      "3.8443077915968416\n"
     ]
    }
   ],
   "source": [
    "tqf_BS_price = tff.black_scholes.option_price(\n",
    "      volatilities=sigma,\n",
    "      strikes=strikes,\n",
    "      expiries=expiries,\n",
    "      spots=spot,\n",
    "      discount_rates=rate,\n",
    "      dividend_rates=tf.constant(0.0,tf.float64),\n",
    "      is_call_options=False\n",
    "      ).numpy()[0]\n",
    "print(tqf_BS_price)"
   ]
  },
  {
   "cell_type": "code",
   "execution_count": 9,
   "id": "xz6mRDwPFbod",
   "metadata": {
    "colab": {
     "base_uri": "https://localhost:8080/"
    },
    "id": "xz6mRDwPFbod",
    "outputId": "5dc040d4-b1f0-44ec-dd90-0b0264ed3252",
    "scrolled": false
   },
   "outputs": [
    {
     "name": "stdout",
     "output_type": "stream",
     "text": [
      "------------------------\n",
      "TQF American Put\n",
      "wall time:  2.86789870262146\n",
      "options per second:  0.3486873504583443\n",
      "------------------------\n",
      "TQF American put price 4.0\n",
      "------------------------\n",
      "TQF American Put\n",
      "wall time:  0.46756887435913086\n",
      "options per second:  2.1387223462439438\n",
      "------------------------\n",
      "TQF American put price 4.0\n"
     ]
    }
   ],
   "source": [
    "def pricer_am_options(times, watch_params=False):\n",
    "    \"\"\"Set up European option pricing function under Black-Scholes model.\n",
    "    \n",
    "    Args:\n",
    "        expiries: List of expiries at which to to sample the trajectories.\n",
    "        watch_params: A Python bool. When `True`, gradients of the price function wrt the inputs\n",
    "          are computed more efficiently. \n",
    "    Returns:\n",
    "     A callable that accepts a rank 1 tensor of strikes, and scalar values for \n",
    "     the spots and  volatility values. The callable outputs prices of\n",
    "     the European call options on the grid `expiries x strikes`.\n",
    "    \"\"\"\n",
    "    def price(strikes, spot, sigma):\n",
    "        # Define drift and volatility functions. \n",
    "        def drift_fn(t, x):\n",
    "          del t, x\n",
    "          return rate - 0.5 * sigma**2\n",
    "        def vol_fn(t, x):\n",
    "          del t, x\n",
    "          return tf.reshape(sigma, [1, 1])\n",
    "        # Use GenericItoProcess class to set up the Ito process\n",
    "        process = tff.models.GenericItoProcess(\n",
    "            dim=1,\n",
    "            drift_fn=drift_fn,\n",
    "            volatility_fn=vol_fn,\n",
    "            dtype=dtype)\n",
    "        log_spot = tf.math.log(tf.reduce_mean(spot))\n",
    "        if watch_params:\n",
    "            watch_params_list = [sigma]\n",
    "        else:\n",
    "            watch_params_list = None\n",
    "            \n",
    "        paths = process.sample_paths(\n",
    "            times=times, num_samples=num_samples,\n",
    "            initial_state=log_spot, \n",
    "            watch_params=watch_params_list,\n",
    "            random_type=tff.math.random.RandomType.SOBOL, #PSEUDO_ANTITHETIC\n",
    "            time_step=dt)\n",
    "        \n",
    "        exercise_times = tf.range(times.shape[-1])\n",
    "        payoff_fn = tff.models.longstaff_schwartz.make_basket_put_payoff(strikes, dtype=tf.float64)\n",
    "        basis_fn = tff.models.longstaff_schwartz.make_polynomial_basis(10)\n",
    "        \n",
    "        prices = tff.models.longstaff_schwartz.least_square_mc(\n",
    "            tf.math.exp(paths), exercise_times, payoff_fn, basis_fn,\n",
    "            discount_factors=tf.exp(-rate * times),\n",
    "            dtype=dtype)\n",
    "        \n",
    "        return prices\n",
    "    return price\n",
    "\n",
    "times = tf.linspace(tf.constant(0.0, dtype=dtype), tf.constant(expiries[0], dtype=dtype), num_timesteps)\n",
    "price_am_options = tf.function(pricer_am_options(times),\n",
    "                    input_signature=[tf.TensorSpec([], dtype=tf.float64),\n",
    "                     tf.TensorSpec([], dtype=tf.float64),\n",
    "                     tf.TensorSpec([], dtype=tf.float64)])\n",
    "\n",
    "t = time.time()\n",
    "tqf_price = price_am_options(strikes, spot, sigma).numpy()[0]\n",
    "time_tqf = time.time() - t\n",
    "\n",
    "print('------------------------')\n",
    "print('TQF American Put')\n",
    "print('wall time: ', time_tqf)\n",
    "print('options per second: ', 1.0/time_tqf)\n",
    "print('------------------------')\n",
    "print('TQF American put price', tqf_price)\n",
    "\n",
    "\n",
    "t = time.time()\n",
    "tqf_price = price_am_options(strikes, spot, sigma).numpy()[0]\n",
    "time_tqf = time.time() - t\n",
    "\n",
    "print('------------------------')\n",
    "print('TQF American Put')\n",
    "print('wall time: ', time_tqf)\n",
    "print('options per second: ', 1.0/time_tqf)\n",
    "print('------------------------')\n",
    "print('TQF American put price', tqf_price)"
   ]
  },
  {
   "cell_type": "code",
   "execution_count": 7,
   "id": "GWbD1-xFGTPf",
   "metadata": {
    "colab": {
     "base_uri": "https://localhost:8080/"
    },
    "id": "GWbD1-xFGTPf",
    "outputId": "207ca60e-883d-4d58-ea69-4a289c3816b6"
   },
   "outputs": [
    {
     "name": "stdout",
     "output_type": "stream",
     "text": [
      "4.471186097072536\n"
     ]
    }
   ],
   "source": [
    "tqf_amer_price = tff.black_scholes.approximations.bjerksund_stensland(\n",
    "      volatilities=sigma,\n",
    "      strikes=strikes,\n",
    "      expiries=expiries,\n",
    "      spots=spot,\n",
    "      discount_rates=rate,\n",
    "      dividend_rates=tf.constant(0.0,tf.float64),\n",
    "      is_call_options=False\n",
    "      ).numpy()[0]\n",
    "print(tqf_amer_price)"
   ]
  },
  {
   "cell_type": "code",
   "execution_count": 8,
   "id": "rMFVNc81GUq3",
   "metadata": {
    "colab": {
     "base_uri": "https://localhost:8080/"
    },
    "id": "rMFVNc81GUq3",
    "outputId": "368f8ebd-48a8-4cdd-b1a0-6dcfb3907f13"
   },
   "outputs": [
    {
     "name": "stdout",
     "output_type": "stream",
     "text": [
      "------------------------\n",
      "QL American Put\n",
      "wall time:  0.8819422721862793\n",
      "options per second:  1.1338610604536088\n",
      "------------------------\n",
      "Quantlib American put price 4.451439442214406\n"
     ]
    }
   ],
   "source": [
    "def ql_american_price(calc_date, settlement_date, expiry_date, spot, strike, rf, div, vol):\n",
    "    Settings.instance().evaluationDate = calc_date\n",
    "    riskFreeRate = FlatForward(settlement_date, rf, Actual365Fixed())\n",
    "    exercise = AmericanExercise(calc_date, expiry_date)\n",
    "    payoff = PlainVanillaPayoff(Option.Put, strike)\n",
    "    underlying = SimpleQuote(spot)\n",
    "    volatility = BlackConstantVol(calc_date, TARGET(), vol, Actual365Fixed())\n",
    "    dividendYield = FlatForward(settlement_date, div, Actual365Fixed())\n",
    "    process = BlackScholesMertonProcess(QuoteHandle(underlying),\n",
    "                                        YieldTermStructureHandle(dividendYield),\n",
    "                                        YieldTermStructureHandle(riskFreeRate),\n",
    "                                        BlackVolTermStructureHandle(volatility))\n",
    "    option = VanillaOption(payoff, exercise)\n",
    "    option.setPricingEngine(MCAmericanEngine(process, 'PseudoRandom', \n",
    "                             timeSteps=num_timesteps, \n",
    "                             polynomOrder=10, \n",
    "                             seedCalibration=42, \n",
    "                             requiredSamples=num_samples))\n",
    "    closedFormulaNPV = option.NPV()\n",
    "    return closedFormulaNPV\n",
    "\n",
    "t = time.time()\n",
    "ql_price = ql_american_price(\n",
    "        calc_date=Date(15,May,1998),\n",
    "        settlement_date=Date(15,May,1998),\n",
    "        expiry_date=Date(15,May,1999),\n",
    "        spot=spot.numpy(),\n",
    "        strike=40.0,\n",
    "        rf=rate.numpy(),\n",
    "        div=0.0,\n",
    "        vol=sigma.numpy()\n",
    "    )\n",
    "time_ql = time.time() - t\n",
    "\n",
    "print('------------------------')\n",
    "print('QL American Put')\n",
    "print('wall time: ', time_ql)\n",
    "print('options per second: ', 1.0/time_ql)\n",
    "print('------------------------')\n",
    "print('Quantlib American put price', ql_price)"
   ]
  },
  {
   "cell_type": "code",
   "execution_count": null,
   "id": "fe0b6178",
   "metadata": {
    "colab": {
     "base_uri": "https://localhost:8080/",
     "height": 1000,
     "referenced_widgets": [
      "df1cfaa21f4d4099b3fbc6c23fd28f29",
      "27ae8e3425724aa58a0ba45e693ca847",
      "12a0d8fdebd04dba981f054c1fc9e373",
      "ece934ca8fe44dab8ae4c033eaf4a09b",
      "53cc7a7de29640a7ae45c205b51ac8d3",
      "b8f38bbd3380432bb2b7c739ce26f218",
      "c8f144cabd3249a69df9ee480f19b57e",
      "9cccc10e1ddf46cea9587873a4b89262",
      "6878eb40c41c4ecdbe89d72c1e9e5e2f",
      "96ce50c4db3d4e17b66ecc45a872bff9",
      "77a16b39c3ed4374849162c208fe6e84"
     ]
    },
    "id": "fe0b6178",
    "outputId": "328dc005-9229-4c7a-d263-cf61febd349f"
   },
   "outputs": [],
   "source": []
  },
  {
   "cell_type": "code",
   "execution_count": null,
   "id": "eBQ5R0anEm7f",
   "metadata": {
    "colab": {
     "base_uri": "https://localhost:8080/"
    },
    "id": "eBQ5R0anEm7f",
    "outputId": "fa77f9b3-0381-4cea-8c7a-769e99f8c87a"
   },
   "outputs": [],
   "source": []
  },
  {
   "cell_type": "code",
   "execution_count": null,
   "id": "RUVugqreEmBV",
   "metadata": {
    "id": "RUVugqreEmBV"
   },
   "outputs": [],
   "source": []
  }
 ],
 "metadata": {
  "colab": {
   "name": "AmericanOption_MC_MemoryLeak_TQF.ipynb",
   "provenance": []
  },
  "kernelspec": {
   "display_name": "Python 3 (ipykernel)",
   "language": "python",
   "name": "python3"
  },
  "language_info": {
   "codemirror_mode": {
    "name": "ipython",
    "version": 3
   },
   "file_extension": ".py",
   "mimetype": "text/x-python",
   "name": "python",
   "nbconvert_exporter": "python",
   "pygments_lexer": "ipython3",
   "version": "3.7.9"
  },
  "widgets": {
   "application/vnd.jupyter.widget-state+json": {
    "12a0d8fdebd04dba981f054c1fc9e373": {
     "model_module": "@jupyter-widgets/controls",
     "model_module_version": "1.5.0",
     "model_name": "FloatProgressModel",
     "state": {
      "_dom_classes": [],
      "_model_module": "@jupyter-widgets/controls",
      "_model_module_version": "1.5.0",
      "_model_name": "FloatProgressModel",
      "_view_count": null,
      "_view_module": "@jupyter-widgets/controls",
      "_view_module_version": "1.5.0",
      "_view_name": "ProgressView",
      "bar_style": "success",
      "description": "",
      "description_tooltip": null,
      "layout": "IPY_MODEL_9cccc10e1ddf46cea9587873a4b89262",
      "max": 99999,
      "min": 0,
      "orientation": "horizontal",
      "style": "IPY_MODEL_6878eb40c41c4ecdbe89d72c1e9e5e2f",
      "value": 99999
     }
    },
    "27ae8e3425724aa58a0ba45e693ca847": {
     "model_module": "@jupyter-widgets/controls",
     "model_module_version": "1.5.0",
     "model_name": "HTMLModel",
     "state": {
      "_dom_classes": [],
      "_model_module": "@jupyter-widgets/controls",
      "_model_module_version": "1.5.0",
      "_model_name": "HTMLModel",
      "_view_count": null,
      "_view_module": "@jupyter-widgets/controls",
      "_view_module_version": "1.5.0",
      "_view_name": "HTMLView",
      "description": "",
      "description_tooltip": null,
      "layout": "IPY_MODEL_b8f38bbd3380432bb2b7c739ce26f218",
      "placeholder": "​",
      "style": "IPY_MODEL_c8f144cabd3249a69df9ee480f19b57e",
      "value": "100%"
     }
    },
    "53cc7a7de29640a7ae45c205b51ac8d3": {
     "model_module": "@jupyter-widgets/base",
     "model_module_version": "1.2.0",
     "model_name": "LayoutModel",
     "state": {
      "_model_module": "@jupyter-widgets/base",
      "_model_module_version": "1.2.0",
      "_model_name": "LayoutModel",
      "_view_count": null,
      "_view_module": "@jupyter-widgets/base",
      "_view_module_version": "1.2.0",
      "_view_name": "LayoutView",
      "align_content": null,
      "align_items": null,
      "align_self": null,
      "border": null,
      "bottom": null,
      "display": null,
      "flex": null,
      "flex_flow": null,
      "grid_area": null,
      "grid_auto_columns": null,
      "grid_auto_flow": null,
      "grid_auto_rows": null,
      "grid_column": null,
      "grid_gap": null,
      "grid_row": null,
      "grid_template_areas": null,
      "grid_template_columns": null,
      "grid_template_rows": null,
      "height": null,
      "justify_content": null,
      "justify_items": null,
      "left": null,
      "margin": null,
      "max_height": null,
      "max_width": null,
      "min_height": null,
      "min_width": null,
      "object_fit": null,
      "object_position": null,
      "order": null,
      "overflow": null,
      "overflow_x": null,
      "overflow_y": null,
      "padding": null,
      "right": null,
      "top": null,
      "visibility": null,
      "width": null
     }
    },
    "6878eb40c41c4ecdbe89d72c1e9e5e2f": {
     "model_module": "@jupyter-widgets/controls",
     "model_module_version": "1.5.0",
     "model_name": "ProgressStyleModel",
     "state": {
      "_model_module": "@jupyter-widgets/controls",
      "_model_module_version": "1.5.0",
      "_model_name": "ProgressStyleModel",
      "_view_count": null,
      "_view_module": "@jupyter-widgets/base",
      "_view_module_version": "1.2.0",
      "_view_name": "StyleView",
      "bar_color": null,
      "description_width": ""
     }
    },
    "77a16b39c3ed4374849162c208fe6e84": {
     "model_module": "@jupyter-widgets/controls",
     "model_module_version": "1.5.0",
     "model_name": "DescriptionStyleModel",
     "state": {
      "_model_module": "@jupyter-widgets/controls",
      "_model_module_version": "1.5.0",
      "_model_name": "DescriptionStyleModel",
      "_view_count": null,
      "_view_module": "@jupyter-widgets/base",
      "_view_module_version": "1.2.0",
      "_view_name": "StyleView",
      "description_width": ""
     }
    },
    "96ce50c4db3d4e17b66ecc45a872bff9": {
     "model_module": "@jupyter-widgets/base",
     "model_module_version": "1.2.0",
     "model_name": "LayoutModel",
     "state": {
      "_model_module": "@jupyter-widgets/base",
      "_model_module_version": "1.2.0",
      "_model_name": "LayoutModel",
      "_view_count": null,
      "_view_module": "@jupyter-widgets/base",
      "_view_module_version": "1.2.0",
      "_view_name": "LayoutView",
      "align_content": null,
      "align_items": null,
      "align_self": null,
      "border": null,
      "bottom": null,
      "display": null,
      "flex": null,
      "flex_flow": null,
      "grid_area": null,
      "grid_auto_columns": null,
      "grid_auto_flow": null,
      "grid_auto_rows": null,
      "grid_column": null,
      "grid_gap": null,
      "grid_row": null,
      "grid_template_areas": null,
      "grid_template_columns": null,
      "grid_template_rows": null,
      "height": null,
      "justify_content": null,
      "justify_items": null,
      "left": null,
      "margin": null,
      "max_height": null,
      "max_width": null,
      "min_height": null,
      "min_width": null,
      "object_fit": null,
      "object_position": null,
      "order": null,
      "overflow": null,
      "overflow_x": null,
      "overflow_y": null,
      "padding": null,
      "right": null,
      "top": null,
      "visibility": null,
      "width": null
     }
    },
    "9cccc10e1ddf46cea9587873a4b89262": {
     "model_module": "@jupyter-widgets/base",
     "model_module_version": "1.2.0",
     "model_name": "LayoutModel",
     "state": {
      "_model_module": "@jupyter-widgets/base",
      "_model_module_version": "1.2.0",
      "_model_name": "LayoutModel",
      "_view_count": null,
      "_view_module": "@jupyter-widgets/base",
      "_view_module_version": "1.2.0",
      "_view_name": "LayoutView",
      "align_content": null,
      "align_items": null,
      "align_self": null,
      "border": null,
      "bottom": null,
      "display": null,
      "flex": null,
      "flex_flow": null,
      "grid_area": null,
      "grid_auto_columns": null,
      "grid_auto_flow": null,
      "grid_auto_rows": null,
      "grid_column": null,
      "grid_gap": null,
      "grid_row": null,
      "grid_template_areas": null,
      "grid_template_columns": null,
      "grid_template_rows": null,
      "height": null,
      "justify_content": null,
      "justify_items": null,
      "left": null,
      "margin": null,
      "max_height": null,
      "max_width": null,
      "min_height": null,
      "min_width": null,
      "object_fit": null,
      "object_position": null,
      "order": null,
      "overflow": null,
      "overflow_x": null,
      "overflow_y": null,
      "padding": null,
      "right": null,
      "top": null,
      "visibility": null,
      "width": null
     }
    },
    "b8f38bbd3380432bb2b7c739ce26f218": {
     "model_module": "@jupyter-widgets/base",
     "model_module_version": "1.2.0",
     "model_name": "LayoutModel",
     "state": {
      "_model_module": "@jupyter-widgets/base",
      "_model_module_version": "1.2.0",
      "_model_name": "LayoutModel",
      "_view_count": null,
      "_view_module": "@jupyter-widgets/base",
      "_view_module_version": "1.2.0",
      "_view_name": "LayoutView",
      "align_content": null,
      "align_items": null,
      "align_self": null,
      "border": null,
      "bottom": null,
      "display": null,
      "flex": null,
      "flex_flow": null,
      "grid_area": null,
      "grid_auto_columns": null,
      "grid_auto_flow": null,
      "grid_auto_rows": null,
      "grid_column": null,
      "grid_gap": null,
      "grid_row": null,
      "grid_template_areas": null,
      "grid_template_columns": null,
      "grid_template_rows": null,
      "height": null,
      "justify_content": null,
      "justify_items": null,
      "left": null,
      "margin": null,
      "max_height": null,
      "max_width": null,
      "min_height": null,
      "min_width": null,
      "object_fit": null,
      "object_position": null,
      "order": null,
      "overflow": null,
      "overflow_x": null,
      "overflow_y": null,
      "padding": null,
      "right": null,
      "top": null,
      "visibility": null,
      "width": null
     }
    },
    "c8f144cabd3249a69df9ee480f19b57e": {
     "model_module": "@jupyter-widgets/controls",
     "model_module_version": "1.5.0",
     "model_name": "DescriptionStyleModel",
     "state": {
      "_model_module": "@jupyter-widgets/controls",
      "_model_module_version": "1.5.0",
      "_model_name": "DescriptionStyleModel",
      "_view_count": null,
      "_view_module": "@jupyter-widgets/base",
      "_view_module_version": "1.2.0",
      "_view_name": "StyleView",
      "description_width": ""
     }
    },
    "df1cfaa21f4d4099b3fbc6c23fd28f29": {
     "model_module": "@jupyter-widgets/controls",
     "model_module_version": "1.5.0",
     "model_name": "HBoxModel",
     "state": {
      "_dom_classes": [],
      "_model_module": "@jupyter-widgets/controls",
      "_model_module_version": "1.5.0",
      "_model_name": "HBoxModel",
      "_view_count": null,
      "_view_module": "@jupyter-widgets/controls",
      "_view_module_version": "1.5.0",
      "_view_name": "HBoxView",
      "box_style": "",
      "children": [
       "IPY_MODEL_27ae8e3425724aa58a0ba45e693ca847",
       "IPY_MODEL_12a0d8fdebd04dba981f054c1fc9e373",
       "IPY_MODEL_ece934ca8fe44dab8ae4c033eaf4a09b"
      ],
      "layout": "IPY_MODEL_53cc7a7de29640a7ae45c205b51ac8d3"
     }
    },
    "ece934ca8fe44dab8ae4c033eaf4a09b": {
     "model_module": "@jupyter-widgets/controls",
     "model_module_version": "1.5.0",
     "model_name": "HTMLModel",
     "state": {
      "_dom_classes": [],
      "_model_module": "@jupyter-widgets/controls",
      "_model_module_version": "1.5.0",
      "_model_name": "HTMLModel",
      "_view_count": null,
      "_view_module": "@jupyter-widgets/controls",
      "_view_module_version": "1.5.0",
      "_view_name": "HTMLView",
      "description": "",
      "description_tooltip": null,
      "layout": "IPY_MODEL_96ce50c4db3d4e17b66ecc45a872bff9",
      "placeholder": "​",
      "style": "IPY_MODEL_77a16b39c3ed4374849162c208fe6e84",
      "value": " 99999/99999 [10:39&lt;00:00, 108.03it/s]"
     }
    }
   }
  }
 },
 "nbformat": 4,
 "nbformat_minor": 5
}

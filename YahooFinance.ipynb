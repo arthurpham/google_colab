{
  "nbformat": 4,
  "nbformat_minor": 0,
  "metadata": {
    "colab": {
      "name": "YahooFinance.ipynb",
      "provenance": [],
      "collapsed_sections": [],
      "authorship_tag": "ABX9TyN4brLoZYOFk4NRp0QXz/oN",
      "include_colab_link": true
    },
    "kernelspec": {
      "name": "python3",
      "display_name": "Python 3"
    },
    "language_info": {
      "name": "python"
    }
  },
  "cells": [
    {
      "cell_type": "markdown",
      "metadata": {
        "id": "view-in-github",
        "colab_type": "text"
      },
      "source": [
        "<a href=\"https://colab.research.google.com/github/arthurpham/google_colab/blob/main/YahooFinance.ipynb\" target=\"_parent\"><img src=\"https://colab.research.google.com/assets/colab-badge.svg\" alt=\"Open In Colab\"/></a>"
      ]
    },
    {
      "cell_type": "code",
      "execution_count": 1,
      "metadata": {
        "colab": {
          "base_uri": "https://localhost:8080/"
        },
        "id": "71K6nxlCZalD",
        "outputId": "2cbe13db-1b9b-49ad-909a-08401b952b32"
      },
      "outputs": [
        {
          "output_type": "stream",
          "name": "stdout",
          "text": [
            "Collecting yfinance\n",
            "  Downloading yfinance-0.1.70-py2.py3-none-any.whl (26 kB)\n",
            "Requirement already satisfied: numpy>=1.15 in /usr/local/lib/python3.7/dist-packages (from yfinance) (1.19.5)\n",
            "Collecting requests>=2.26\n",
            "  Downloading requests-2.27.1-py2.py3-none-any.whl (63 kB)\n",
            "\u001b[K     |████████████████████████████████| 63 kB 1.7 MB/s \n",
            "\u001b[?25hRequirement already satisfied: pandas>=0.24.0 in /usr/local/lib/python3.7/dist-packages (from yfinance) (1.3.5)\n",
            "Collecting lxml>=4.5.1\n",
            "  Downloading lxml-4.7.1-cp37-cp37m-manylinux_2_17_x86_64.manylinux2014_x86_64.manylinux_2_24_x86_64.whl (6.4 MB)\n",
            "\u001b[K     |████████████████████████████████| 6.4 MB 33.9 MB/s \n",
            "\u001b[?25hRequirement already satisfied: multitasking>=0.0.7 in /usr/local/lib/python3.7/dist-packages (from yfinance) (0.0.10)\n",
            "Requirement already satisfied: python-dateutil>=2.7.3 in /usr/local/lib/python3.7/dist-packages (from pandas>=0.24.0->yfinance) (2.8.2)\n",
            "Requirement already satisfied: pytz>=2017.3 in /usr/local/lib/python3.7/dist-packages (from pandas>=0.24.0->yfinance) (2018.9)\n",
            "Requirement already satisfied: six>=1.5 in /usr/local/lib/python3.7/dist-packages (from python-dateutil>=2.7.3->pandas>=0.24.0->yfinance) (1.15.0)\n",
            "Requirement already satisfied: certifi>=2017.4.17 in /usr/local/lib/python3.7/dist-packages (from requests>=2.26->yfinance) (2021.10.8)\n",
            "Requirement already satisfied: urllib3<1.27,>=1.21.1 in /usr/local/lib/python3.7/dist-packages (from requests>=2.26->yfinance) (1.24.3)\n",
            "Requirement already satisfied: idna<4,>=2.5 in /usr/local/lib/python3.7/dist-packages (from requests>=2.26->yfinance) (2.10)\n",
            "Requirement already satisfied: charset-normalizer~=2.0.0 in /usr/local/lib/python3.7/dist-packages (from requests>=2.26->yfinance) (2.0.11)\n",
            "Installing collected packages: requests, lxml, yfinance\n",
            "  Attempting uninstall: requests\n",
            "    Found existing installation: requests 2.23.0\n",
            "    Uninstalling requests-2.23.0:\n",
            "      Successfully uninstalled requests-2.23.0\n",
            "  Attempting uninstall: lxml\n",
            "    Found existing installation: lxml 4.2.6\n",
            "    Uninstalling lxml-4.2.6:\n",
            "      Successfully uninstalled lxml-4.2.6\n",
            "\u001b[31mERROR: pip's dependency resolver does not currently take into account all the packages that are installed. This behaviour is the source of the following dependency conflicts.\n",
            "google-colab 1.0.0 requires requests~=2.23.0, but you have requests 2.27.1 which is incompatible.\n",
            "datascience 0.10.6 requires folium==0.2.1, but you have folium 0.8.3 which is incompatible.\u001b[0m\n",
            "Successfully installed lxml-4.7.1 requests-2.27.1 yfinance-0.1.70\n"
          ]
        }
      ],
      "source": [
        "!pip install yfinance"
      ]
    },
    {
      "cell_type": "code",
      "source": [
        "import yfinance as yf\n",
        "import pprint as pp"
      ],
      "metadata": {
        "id": "4g1BTyU7Z5-y"
      },
      "execution_count": 2,
      "outputs": []
    },
    {
      "cell_type": "code",
      "source": [
        "msft = yf.Ticker(\"MSFT\")\n",
        "pp.pprint(msft.info)"
      ],
      "metadata": {
        "colab": {
          "base_uri": "https://localhost:8080/"
        },
        "id": "RMdsMztFZ0pH",
        "outputId": "dd8fd5d6-c5fb-4ebd-cd6a-48ed1f28e3ce"
      },
      "execution_count": 3,
      "outputs": [
        {
          "output_type": "stream",
          "name": "stdout",
          "text": [
            "{'52WeekChange': 0.23425448,\n",
            " 'SandP52WeekChange': 0.14466953,\n",
            " 'address1': 'One Microsoft Way',\n",
            " 'algorithm': None,\n",
            " 'annualHoldingsTurnover': None,\n",
            " 'annualReportExpenseRatio': None,\n",
            " 'ask': 300.43,\n",
            " 'askSize': 3000,\n",
            " 'averageDailyVolume10Day': 39012630,\n",
            " 'averageVolume': 35011806,\n",
            " 'averageVolume10days': 39012630,\n",
            " 'beta': 0.888612,\n",
            " 'beta3Year': None,\n",
            " 'bid': 300.48,\n",
            " 'bidSize': 1000,\n",
            " 'bookValue': 21.335,\n",
            " 'category': None,\n",
            " 'circulatingSupply': None,\n",
            " 'city': 'Redmond',\n",
            " 'companyOfficers': [],\n",
            " 'country': 'United States',\n",
            " 'currency': 'USD',\n",
            " 'currentPrice': 300.92,\n",
            " 'currentRatio': 2.247,\n",
            " 'dateShortInterest': 1643587200,\n",
            " 'dayHigh': 304.29,\n",
            " 'dayLow': 299.02,\n",
            " 'debtToEquity': 50.217,\n",
            " 'dividendRate': 2.48,\n",
            " 'dividendYield': 0.0082,\n",
            " 'earningsGrowth': 0.222,\n",
            " 'earningsQuarterlyGrowth': 0.214,\n",
            " 'ebitda': 90829996032,\n",
            " 'ebitdaMargins': 0.49123,\n",
            " 'enterpriseToEbitda': 24.462,\n",
            " 'enterpriseToRevenue': 12.017,\n",
            " 'enterpriseValue': 2221907378176,\n",
            " 'exDividendDate': 1644969600,\n",
            " 'exchange': 'NMS',\n",
            " 'exchangeTimezoneName': 'America/New_York',\n",
            " 'exchangeTimezoneShortName': 'EST',\n",
            " 'expireDate': None,\n",
            " 'fiftyDayAverage': 318.9024,\n",
            " 'fiftyTwoWeekHigh': 349.67,\n",
            " 'fiftyTwoWeekLow': 224.26,\n",
            " 'financialCurrency': 'USD',\n",
            " 'fiveYearAverageReturn': None,\n",
            " 'fiveYearAvgDividendYield': 1.37,\n",
            " 'floatShares': 7489894342,\n",
            " 'forwardEps': 10.75,\n",
            " 'forwardPE': 27.99256,\n",
            " 'freeCashflow': 46479876096,\n",
            " 'fromCurrency': None,\n",
            " 'fullTimeEmployees': 181000,\n",
            " 'fundFamily': None,\n",
            " 'fundInceptionDate': None,\n",
            " 'gmtOffSetMilliseconds': '-18000000',\n",
            " 'grossMargins': 0.68825996,\n",
            " 'grossProfits': 115856000000,\n",
            " 'heldPercentInsiders': 0.00061,\n",
            " 'heldPercentInstitutions': 0.72262,\n",
            " 'impliedSharesOutstanding': 0,\n",
            " 'industry': 'Software—Infrastructure',\n",
            " 'isEsgPopulated': False,\n",
            " 'lastCapGain': None,\n",
            " 'lastDividendDate': 1637107200,\n",
            " 'lastDividendValue': 0.62,\n",
            " 'lastFiscalYearEnd': 1625011200,\n",
            " 'lastMarket': None,\n",
            " 'lastSplitDate': 1045526400,\n",
            " 'lastSplitFactor': '2:1',\n",
            " 'legalType': None,\n",
            " 'logo_url': 'https://logo.clearbit.com/microsoft.com',\n",
            " 'longBusinessSummary': 'Microsoft Corporation develops, licenses, and '\n",
            "                        'supports software, services, devices, and solutions '\n",
            "                        'worldwide. Its Productivity and Business Processes '\n",
            "                        'segment offers Office, Exchange, SharePoint, '\n",
            "                        'Microsoft Teams, Office 365 Security and Compliance, '\n",
            "                        'and Skype for Business, as well as related Client '\n",
            "                        'Access Licenses (CAL); Skype, Outlook.com, OneDrive, '\n",
            "                        'and LinkedIn; and Dynamics 365, a set of cloud-based '\n",
            "                        'and on-premises business solutions for organizations '\n",
            "                        'and enterprise divisions. Its Intelligent Cloud '\n",
            "                        'segment licenses SQL, Windows Servers, Visual Studio, '\n",
            "                        'System Center, and related CALs; GitHub that provides '\n",
            "                        'a collaboration platform and code hosting service for '\n",
            "                        'developers; and Azure, a cloud platform. It also '\n",
            "                        'offers support services and Microsoft consulting '\n",
            "                        'services to assist customers in developing, '\n",
            "                        'deploying, and managing Microsoft server and desktop '\n",
            "                        'solutions; and training and certification on '\n",
            "                        'Microsoft products. Its More Personal Computing '\n",
            "                        'segment provides Windows original equipment '\n",
            "                        'manufacturer (OEM) licensing and other non-volume '\n",
            "                        'licensing of the Windows operating system; Windows '\n",
            "                        'Commercial, such as volume licensing of the Windows '\n",
            "                        'operating system, Windows cloud services, and other '\n",
            "                        'Windows commercial offerings; patent licensing; '\n",
            "                        'Windows Internet of Things; and MSN advertising. It '\n",
            "                        'also offers Surface, PC accessories, PCs, tablets, '\n",
            "                        'gaming and entertainment consoles, and other devices; '\n",
            "                        'Gaming, including Xbox hardware, and Xbox content and '\n",
            "                        'services; video games and third-party video game '\n",
            "                        'royalties; and Search, including Bing and Microsoft '\n",
            "                        'advertising. It sells its products through OEMs, '\n",
            "                        'distributors, and resellers; and directly through '\n",
            "                        'digital marketplaces, online stores, and retail '\n",
            "                        'stores. It has collaborations with Dynatrace, Inc., '\n",
            "                        'Morgan Stanley, Micro Focus, WPP plc, ACI Worldwide, '\n",
            "                        'Inc., and iCIMS, Inc., as well as strategic '\n",
            "                        'relationships with Avaya Holdings Corp. and wejo '\n",
            "                        'Limited. Microsoft Corporation was founded in 1975 '\n",
            "                        'and is based in Redmond, Washington.',\n",
            " 'longName': 'Microsoft Corporation',\n",
            " 'market': 'us_market',\n",
            " 'marketCap': 2255958310912,\n",
            " 'maxAge': 1,\n",
            " 'maxSupply': None,\n",
            " 'messageBoardId': 'finmb_21835',\n",
            " 'morningStarOverallRating': None,\n",
            " 'morningStarRiskRating': None,\n",
            " 'mostRecentQuarter': 1640908800,\n",
            " 'navPrice': None,\n",
            " 'netIncomeToCommon': 71184998400,\n",
            " 'nextFiscalYearEnd': 1688083200,\n",
            " 'numberOfAnalystOpinions': 46,\n",
            " 'open': 303.19,\n",
            " 'openInterest': None,\n",
            " 'operatingCashflow': 83909001216,\n",
            " 'operatingMargins': 0.42523998,\n",
            " 'payoutRatio': 0.2449,\n",
            " 'pegRatio': 1.86,\n",
            " 'phone': '425 882 8080',\n",
            " 'preMarketPrice': 303.12,\n",
            " 'previousClose': 302.38,\n",
            " 'priceHint': 2,\n",
            " 'priceToBook': 14.104525,\n",
            " 'priceToSalesTrailing12Months': 12.200767,\n",
            " 'profitMargins': 0.38498002,\n",
            " 'quickRatio': 2.05,\n",
            " 'quoteType': 'EQUITY',\n",
            " 'recommendationKey': 'buy',\n",
            " 'recommendationMean': 1.7,\n",
            " 'regularMarketDayHigh': 304.29,\n",
            " 'regularMarketDayLow': 299.02,\n",
            " 'regularMarketOpen': 303.19,\n",
            " 'regularMarketPreviousClose': 302.38,\n",
            " 'regularMarketPrice': 300.92,\n",
            " 'regularMarketVolume': 10023149,\n",
            " 'returnOnAssets': 0.15248999,\n",
            " 'returnOnEquity': 0.49051,\n",
            " 'revenueGrowth': 0.201,\n",
            " 'revenuePerShare': 24.585,\n",
            " 'revenueQuarterlyGrowth': None,\n",
            " 'sector': 'Technology',\n",
            " 'sharesOutstanding': 7496869888,\n",
            " 'sharesPercentSharesOut': 0.0054,\n",
            " 'sharesShort': 40179258,\n",
            " 'sharesShortPreviousMonthDate': 1640908800,\n",
            " 'sharesShortPriorMonth': 39382126,\n",
            " 'shortName': 'Microsoft Corporation',\n",
            " 'shortPercentOfFloat': 0.0054,\n",
            " 'shortRatio': 0.87,\n",
            " 'startDate': None,\n",
            " 'state': 'WA',\n",
            " 'strikePrice': None,\n",
            " 'symbol': 'MSFT',\n",
            " 'targetHighPrice': 425,\n",
            " 'targetLowPrice': 306.55,\n",
            " 'targetMeanPrice': 370.72,\n",
            " 'targetMedianPrice': 370,\n",
            " 'threeYearAverageReturn': None,\n",
            " 'toCurrency': None,\n",
            " 'totalAssets': None,\n",
            " 'totalCash': 125348003840,\n",
            " 'totalCashPerShare': 16.72,\n",
            " 'totalDebt': 80353001472,\n",
            " 'totalRevenue': 184902991872,\n",
            " 'tradeable': False,\n",
            " 'trailingAnnualDividendRate': 2.36,\n",
            " 'trailingAnnualDividendYield': 0.0078047486,\n",
            " 'trailingEps': 9.389,\n",
            " 'trailingPE': 32.050274,\n",
            " 'trailingPegRatio': 2.4571,\n",
            " 'twoHundredDayAverage': 295.7231,\n",
            " 'volume': 10023149,\n",
            " 'volume24Hr': None,\n",
            " 'volumeAllCurrencies': None,\n",
            " 'website': 'https://www.microsoft.com',\n",
            " 'yield': None,\n",
            " 'ytdReturn': None,\n",
            " 'zip': '98052-6399'}\n"
          ]
        }
      ]
    },
    {
      "cell_type": "code",
      "source": [
        "option_df = msft.option_chain()"
      ],
      "metadata": {
        "id": "BGPIkuunFFpw"
      },
      "execution_count": 4,
      "outputs": []
    },
    {
      "cell_type": "code",
      "source": [
        "print(option_df.calls.columns)\n",
        "print(option_df.calls.head())"
      ],
      "metadata": {
        "colab": {
          "base_uri": "https://localhost:8080/"
        },
        "id": "8ttuUVmVGTV2",
        "outputId": "37846d82-9631-4884-8915-fa3ab2dde6ae"
      },
      "execution_count": 5,
      "outputs": [
        {
          "output_type": "stream",
          "name": "stdout",
          "text": [
            "Index(['contractSymbol', 'lastTradeDate', 'strike', 'lastPrice', 'bid', 'ask',\n",
            "       'change', 'percentChange', 'volume', 'openInterest',\n",
            "       'impliedVolatility', 'inTheMoney', 'contractSize', 'currency'],\n",
            "      dtype='object')\n",
            "        contractSymbol             lastTradeDate  ...  contractSize  currency\n",
            "0  MSFT220211C00210000 2022-02-11 15:45:39+00:00  ...       REGULAR       USD\n",
            "1  MSFT220211C00215000 2022-01-24 17:30:52+00:00  ...       REGULAR       USD\n",
            "2  MSFT220211C00220000 2022-02-08 17:00:02+00:00  ...       REGULAR       USD\n",
            "3  MSFT220211C00225000 2022-02-04 17:26:39+00:00  ...       REGULAR       USD\n",
            "4  MSFT220211C00230000 2022-02-11 14:48:59+00:00  ...       REGULAR       USD\n",
            "\n",
            "[5 rows x 14 columns]\n"
          ]
        }
      ]
    }
  ]
}
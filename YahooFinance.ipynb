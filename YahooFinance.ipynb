{
  "nbformat": 4,
  "nbformat_minor": 0,
  "metadata": {
    "colab": {
      "name": "YahooFinance.ipynb",
      "provenance": [],
      "collapsed_sections": []
    },
    "kernelspec": {
      "name": "python3",
      "display_name": "Python 3"
    },
    "language_info": {
      "name": "python"
    }
  },
  "cells": [
    {
      "cell_type": "code",
      "execution_count": 1,
      "metadata": {
        "colab": {
          "base_uri": "https://localhost:8080/"
        },
        "id": "71K6nxlCZalD",
        "outputId": "a9fcac13-fd77-4847-fd01-a2b32ab74403"
      },
      "outputs": [
        {
          "output_type": "stream",
          "name": "stdout",
          "text": [
            "Collecting yfinance\n",
            "  Downloading yfinance-0.1.70-py2.py3-none-any.whl (26 kB)\n",
            "Requirement already satisfied: numpy>=1.15 in /usr/local/lib/python3.7/dist-packages (from yfinance) (1.19.5)\n",
            "Requirement already satisfied: pandas>=0.24.0 in /usr/local/lib/python3.7/dist-packages (from yfinance) (1.3.5)\n",
            "Collecting lxml>=4.5.1\n",
            "  Downloading lxml-4.7.1-cp37-cp37m-manylinux_2_17_x86_64.manylinux2014_x86_64.manylinux_2_24_x86_64.whl (6.4 MB)\n",
            "\u001b[K     |████████████████████████████████| 6.4 MB 29.5 MB/s \n",
            "\u001b[?25hCollecting requests>=2.26\n",
            "  Downloading requests-2.27.1-py2.py3-none-any.whl (63 kB)\n",
            "\u001b[K     |████████████████████████████████| 63 kB 2.1 MB/s \n",
            "\u001b[?25hRequirement already satisfied: multitasking>=0.0.7 in /usr/local/lib/python3.7/dist-packages (from yfinance) (0.0.10)\n",
            "Requirement already satisfied: python-dateutil>=2.7.3 in /usr/local/lib/python3.7/dist-packages (from pandas>=0.24.0->yfinance) (2.8.2)\n",
            "Requirement already satisfied: pytz>=2017.3 in /usr/local/lib/python3.7/dist-packages (from pandas>=0.24.0->yfinance) (2018.9)\n",
            "Requirement already satisfied: six>=1.5 in /usr/local/lib/python3.7/dist-packages (from python-dateutil>=2.7.3->pandas>=0.24.0->yfinance) (1.15.0)\n",
            "Requirement already satisfied: urllib3<1.27,>=1.21.1 in /usr/local/lib/python3.7/dist-packages (from requests>=2.26->yfinance) (1.24.3)\n",
            "Requirement already satisfied: idna<4,>=2.5 in /usr/local/lib/python3.7/dist-packages (from requests>=2.26->yfinance) (2.10)\n",
            "Requirement already satisfied: certifi>=2017.4.17 in /usr/local/lib/python3.7/dist-packages (from requests>=2.26->yfinance) (2021.10.8)\n",
            "Requirement already satisfied: charset-normalizer~=2.0.0 in /usr/local/lib/python3.7/dist-packages (from requests>=2.26->yfinance) (2.0.11)\n",
            "Installing collected packages: requests, lxml, yfinance\n",
            "  Attempting uninstall: requests\n",
            "    Found existing installation: requests 2.23.0\n",
            "    Uninstalling requests-2.23.0:\n",
            "      Successfully uninstalled requests-2.23.0\n",
            "  Attempting uninstall: lxml\n",
            "    Found existing installation: lxml 4.2.6\n",
            "    Uninstalling lxml-4.2.6:\n",
            "      Successfully uninstalled lxml-4.2.6\n",
            "\u001b[31mERROR: pip's dependency resolver does not currently take into account all the packages that are installed. This behaviour is the source of the following dependency conflicts.\n",
            "google-colab 1.0.0 requires requests~=2.23.0, but you have requests 2.27.1 which is incompatible.\n",
            "datascience 0.10.6 requires folium==0.2.1, but you have folium 0.8.3 which is incompatible.\u001b[0m\n",
            "Successfully installed lxml-4.7.1 requests-2.27.1 yfinance-0.1.70\n"
          ]
        }
      ],
      "source": [
        "!pip install yfinance"
      ]
    },
    {
      "cell_type": "code",
      "source": [
        "import yfinance as yf\n",
        "import pprint as pp"
      ],
      "metadata": {
        "id": "4g1BTyU7Z5-y"
      },
      "execution_count": 2,
      "outputs": []
    },
    {
      "cell_type": "code",
      "source": [
        "stock = yf.Ticker(\"^SPX\")\n",
        "pp.pprint(stock.info)"
      ],
      "metadata": {
        "colab": {
          "base_uri": "https://localhost:8080/"
        },
        "id": "RMdsMztFZ0pH",
        "outputId": "cdcbafe2-a9ad-4299-a2ac-93bc6e16a35a"
      },
      "execution_count": 3,
      "outputs": [
        {
          "output_type": "stream",
          "name": "stdout",
          "text": [
            "{'algorithm': None,\n",
            " 'ask': 0,\n",
            " 'askSize': 0,\n",
            " 'averageDailyVolume10Day': None,\n",
            " 'averageVolume': None,\n",
            " 'averageVolume10days': None,\n",
            " 'beta': None,\n",
            " 'bid': 0,\n",
            " 'bidSize': 0,\n",
            " 'circulatingSupply': None,\n",
            " 'currency': 'USD',\n",
            " 'dayHigh': 0,\n",
            " 'dayLow': 0,\n",
            " 'dividendRate': None,\n",
            " 'dividendYield': None,\n",
            " 'exDividendDate': None,\n",
            " 'exchange': 'WCB',\n",
            " 'exchangeTimezoneName': 'America/New_York',\n",
            " 'exchangeTimezoneShortName': 'EST',\n",
            " 'expireDate': None,\n",
            " 'fiftyDayAverage': None,\n",
            " 'fiftyTwoWeekHigh': 0,\n",
            " 'fiftyTwoWeekLow': 0,\n",
            " 'fiveYearAvgDividendYield': None,\n",
            " 'forwardPE': None,\n",
            " 'fromCurrency': None,\n",
            " 'gmtOffSetMilliseconds': '-18000000',\n",
            " 'isEsgPopulated': False,\n",
            " 'lastMarket': None,\n",
            " 'logo_url': '',\n",
            " 'market': 'us_market',\n",
            " 'marketCap': None,\n",
            " 'maxAge': 1,\n",
            " 'maxSupply': None,\n",
            " 'navPrice': None,\n",
            " 'open': 0,\n",
            " 'openInterest': None,\n",
            " 'payoutRatio': None,\n",
            " 'preMarketPrice': None,\n",
            " 'previousClose': 4587.18,\n",
            " 'priceHint': 2,\n",
            " 'priceToSalesTrailing12Months': None,\n",
            " 'quoteType': 'INDEX',\n",
            " 'regularMarketDayHigh': 0,\n",
            " 'regularMarketDayLow': 0,\n",
            " 'regularMarketOpen': 0,\n",
            " 'regularMarketPreviousClose': 4587.18,\n",
            " 'regularMarketPrice': 4504.08,\n",
            " 'regularMarketVolume': 2708815081,\n",
            " 'shortName': 'S&P 500 INDEX',\n",
            " 'startDate': None,\n",
            " 'strikePrice': None,\n",
            " 'symbol': '^SPX',\n",
            " 'toCurrency': None,\n",
            " 'totalAssets': None,\n",
            " 'tradeable': False,\n",
            " 'trailingAnnualDividendRate': None,\n",
            " 'trailingAnnualDividendYield': None,\n",
            " 'twoHundredDayAverage': None,\n",
            " 'underlyingSymbol': '^GSPC',\n",
            " 'volume': 2708815081,\n",
            " 'volume24Hr': None,\n",
            " 'volumeAllCurrencies': None,\n",
            " 'yield': None,\n",
            " 'ytdReturn': None}\n"
          ]
        }
      ]
    },
    {
      "cell_type": "code",
      "source": [
        "option_df = stock.option_chain()"
      ],
      "metadata": {
        "id": "BGPIkuunFFpw"
      },
      "execution_count": 4,
      "outputs": []
    },
    {
      "cell_type": "code",
      "source": [
        "print(option_df.calls.columns)\n",
        "print(option_df.calls.head())"
      ],
      "metadata": {
        "colab": {
          "base_uri": "https://localhost:8080/"
        },
        "id": "8ttuUVmVGTV2",
        "outputId": "624efcb7-dfa0-49d2-c74b-39e066f68c97"
      },
      "execution_count": 5,
      "outputs": [
        {
          "output_type": "stream",
          "name": "stdout",
          "text": [
            "Index(['contractSymbol', 'lastTradeDate', 'strike', 'lastPrice', 'bid', 'ask',\n",
            "       'change', 'percentChange', 'volume', 'openInterest',\n",
            "       'impliedVolatility', 'inTheMoney', 'contractSize', 'currency'],\n",
            "      dtype='object')\n",
            "        contractSymbol             lastTradeDate  ...  contractSize  currency\n",
            "0  SPXW220211C03600000 2022-01-04 17:53:34+00:00  ...       REGULAR       USD\n",
            "1  SPXW220211C03700000 2022-01-25 17:56:55+00:00  ...       REGULAR       USD\n",
            "2  SPXW220211C03800000 2022-02-02 20:18:55+00:00  ...       REGULAR       USD\n",
            "3  SPXW220211C03840000 2022-02-09 17:46:11+00:00  ...       REGULAR       USD\n",
            "4  SPXW220211C03850000 2022-02-04 18:06:59+00:00  ...       REGULAR       USD\n",
            "\n",
            "[5 rows x 14 columns]\n"
          ]
        }
      ]
    }
  ]
}
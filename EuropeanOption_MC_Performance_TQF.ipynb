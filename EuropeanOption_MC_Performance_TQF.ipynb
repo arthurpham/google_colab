{
 "cells": [
  {
   "cell_type": "code",
   "execution_count": 1,
   "id": "3a778a42",
   "metadata": {},
   "outputs": [],
   "source": [
    "%matplotlib inline\n",
    "import numpy as np\n",
    "import matplotlib.pyplot as plt\n",
    "import tf_quant_finance as tff \n",
    "import tensorflow as tf\n",
    "import functools\n",
    "import pandas as pd\n",
    "import time"
   ]
  },
  {
   "cell_type": "code",
   "execution_count": 2,
   "id": "e6b98c38",
   "metadata": {},
   "outputs": [],
   "source": [
    "#@title Set up parameters\n",
    "\n",
    "dtype = tf.float64 #@param\n",
    "num_samples = 200000 #@param\n",
    "num_timesteps = 100#100 #@param\n",
    "\n",
    "# expiries =tf.constant( [0.0, 0.5, 1.0], dtype=dtype) # This can be a rank 1 Tensor\n",
    "dt = 1. / num_timesteps\n",
    "times = tf.linspace(tf.constant(0.0, dtype=dtype), tf.constant(1.0, dtype=dtype), num_timesteps)\n",
    "rate = tf.constant(0.03, dtype=dtype)\n",
    "sigma = tf.constant(0.1, dtype=dtype)\n",
    "spot = tf.constant(700, dtype=dtype)\n",
    "strikes = tf.linspace(0.5*spot, 1.5*spot, 50)\n",
    "\n",
    "def set_up_pricer(times, watch_params=False):\n",
    "    \"\"\"Set up European option pricing function under Black-Scholes model.\n",
    "    \n",
    "    Args:\n",
    "        expiries: List of expiries at which to to sample the trajectories.\n",
    "        watch_params: A Python bool. When `True`, gradients of the price function wrt the inputs\n",
    "          are computed more efficiently. \n",
    "    Returns:\n",
    "     A callable that accepts a rank 1 tensor of strikes, and scalar values for \n",
    "     the spots and  volatility values. The callable outputs prices of\n",
    "     the European call options on the grid `expiries x strikes`.\n",
    "    \"\"\"\n",
    "    def price_eu_options(strikes, spot, sigma):\n",
    "        # Define drift and volatility functions. \n",
    "        def drift_fn(t, x):\n",
    "          del t, x\n",
    "          return rate - 0.5 * sigma**2\n",
    "        def vol_fn(t, x):\n",
    "          del t, x\n",
    "          return tf.reshape(sigma, [1, 1])\n",
    "        # Use GenericItoProcess class to set up the Ito process\n",
    "        process = tff.models.GenericItoProcess(\n",
    "            dim=1,\n",
    "            drift_fn=drift_fn,\n",
    "            volatility_fn=vol_fn,\n",
    "            dtype=dtype)\n",
    "        log_spot = tf.math.log(tf.reduce_mean(spot))\n",
    "        if watch_params:\n",
    "            watch_params_list = [sigma]\n",
    "        else:\n",
    "            watch_params_list = None\n",
    "        paths = process.sample_paths(\n",
    "            times=times, num_samples=num_samples,\n",
    "            initial_state=log_spot, \n",
    "            watch_params=watch_params_list,\n",
    "            # Select a random number generator\n",
    "            random_type=tff.math.random.RandomType.PSEUDO_ANTITHETIC,\n",
    "            time_step=dt)\n",
    "        prices = (tf.exp(-tf.expand_dims(rate * times, axis=-1))\n",
    "                  * tf.reduce_mean(tf.nn.relu(tf.math.exp(paths) - strikes), 0))\n",
    "        return prices\n",
    "    return price_eu_options\n",
    "\n",
    "price_eu_options = tf.function(set_up_pricer(times))\n",
    "# price_eu_options_xla = tf.function(set_up_pricer(times), jit_compile=True)\n",
    "# price_eu_options = set_up_pricer(times)\n",
    "# price_eu_options_xla = set_up_pricer(times)"
   ]
  },
  {
   "cell_type": "code",
   "execution_count": 3,
   "id": "ac61a5ab",
   "metadata": {},
   "outputs": [
    {
     "name": "stdout",
     "output_type": "stream",
     "text": [
      "time_price_cpu 7.096001148223877\n",
      "time_price_gpu 7.698999643325806\n"
     ]
    }
   ],
   "source": [
    "#@title Pricing times on CPU and GPU platforms\n",
    "\n",
    "# CPU without XLA\n",
    "with tf.device(\"/cpu:0\"):\n",
    "    price_eu_options(strikes, spot, sigma)\n",
    "time_start = time.time()\n",
    "with tf.device(\"/cpu:0\"):\n",
    "    prices = price_eu_options(strikes, spot, sigma)\n",
    "time_end = time.time()\n",
    "time_price_cpu = time_end - time_start\n",
    "\n",
    "# # CPU with XLA\n",
    "# with tf.device(\"/cpu:0\"):\n",
    "#     price_eu_options_xla(strikes, spot, sigma)\n",
    "# time_start = time.time()\n",
    "# with tf.device(\"/cpu:0\"):\n",
    "#     prices = price_eu_options_xla(strikes, spot, sigma)\n",
    "# time_end = time.time()\n",
    "# time_price_cpu_xla = time_end - time_start\n",
    "\n",
    "# GPU without XLA\n",
    "with tf.device(\"/gpu:0\"):\n",
    "    price_eu_options(strikes, spot, sigma)\n",
    "# Second run (excludes graph optimization time)\n",
    "time_start = time.time()\n",
    "with tf.device(\"/gpu:0\"):\n",
    "    prices = price_eu_options(strikes, spot, sigma)\n",
    "time_end = time.time()\n",
    "time_price_gpu = time_end - time_start\n",
    "\n",
    "# GPU with XLA\n",
    "# with tf.device(\"/gpu:0\"):\n",
    "#     price_eu_options_xla(strikes, spot, sigma)\n",
    "# # Second run (excludes graph optimization time)\n",
    "# time_start = time.time()\n",
    "# with tf.device(\"/gpu:0\"):\n",
    "#     prices = price_eu_options_xla(strikes, spot, sigma)\n",
    "# time_end = time.time()\n",
    "# time_price_gpu_xla = time_end - time_start\n",
    "\n",
    "print('time_price_cpu', time_price_cpu)\n",
    "# print('time_price_cpu_xla', time_price_cpu_xla)\n",
    "print('time_price_gpu', time_price_gpu)\n",
    "# print('time_price_gpu_xla', time_price_gpu_xla)"
   ]
  },
  {
   "cell_type": "code",
   "execution_count": 4,
   "id": "c58f7013",
   "metadata": {},
   "outputs": [
    {
     "data": {
      "image/png": "[encoded data removed]",
      "text/plain": [
       "<Figure size 864x648 with 1 Axes>"
      ]
     },
     "metadata": {
      "needs_background": "light"
     },
     "output_type": "display_data"
    }
   ],
   "source": [
    "#@title Plot the results\n",
    "\n",
    "ind = np.arange(1)  # the x locations for the groups\n",
    "width = 0.35  # the width of the bars\n",
    "\n",
    "fig, ax = plt.subplots()\n",
    "\n",
    "fig.set_figheight(9)\n",
    "fig.set_figwidth(12)\n",
    "\n",
    "ax.bar(ind - width/8, [time_price_cpu], width / 8,\n",
    "       label='TensorFlow (CPU)')\n",
    "# ax.bar(ind, [time_price_cpu_xla], width / 8,\n",
    "#        label='TensorFlow (CPU XLA)')\n",
    "ax.bar(ind + width/8, [time_price_gpu], width / 8,\n",
    "       label='TensorFlow (GPU)')\n",
    "# ax.bar(ind + width/4, [time_price_gpu_xla], width / 8,\n",
    "#        label='TensorFlow (GPU XLA)')\n",
    "\n",
    "# Add some text for labels, title and custom x-axis tick labels, etc.\n",
    "ax.set_ylabel('Time (sec) to sample {}'.format(num_samples))\n",
    "ax.set_title('Monte Carlo sampling comparison')\n",
    "ax.set_xticks(ind)\n",
    "ax.legend()\n",
    "\n",
    "\n",
    "plt.show()"
   ]
  }
 ],
 "metadata": {
  "kernelspec": {
   "display_name": "Python 3 (ipykernel)",
   "language": "python",
   "name": "python3"
  },
  "language_info": {
   "codemirror_mode": {
    "name": "ipython",
    "version": 3
   },
   "file_extension": ".py",
   "mimetype": "text/x-python",
   "name": "python",
   "nbconvert_exporter": "python",
   "pygments_lexer": "ipython3",
   "version": "3.7.9"
  }
 },
 "nbformat": 4,
 "nbformat_minor": 5
}

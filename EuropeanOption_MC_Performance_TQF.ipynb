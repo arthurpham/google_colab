{
  "cells": [
    {
      "cell_type": "code",
      "execution_count": 1,
      "id": "3a778a42",
      "metadata": {
        "colab": {
          "base_uri": "https://localhost:8080/"
        },
        "id": "3a778a42",
        "outputId": "141a647f-0a6e-4640-9cc1-f02a026ca017"
      },
      "outputs": [
        {
          "output_type": "stream",
          "name": "stdout",
          "text": [
            "Requirement already satisfied: tensorflow in /usr/local/lib/python3.7/dist-packages (2.8.0)\n",
            "Requirement already satisfied: gast>=0.2.1 in /usr/local/lib/python3.7/dist-packages (from tensorflow) (0.5.3)\n",
            "Requirement already satisfied: keras-preprocessing>=1.1.1 in /usr/local/lib/python3.7/dist-packages (from tensorflow) (1.1.2)\n",
            "Requirement already satisfied: libclang>=9.0.1 in /usr/local/lib/python3.7/dist-packages (from tensorflow) (13.0.0)\n",
            "Requirement already satisfied: setuptools in /usr/local/lib/python3.7/dist-packages (from tensorflow) (57.4.0)\n",
            "Requirement already satisfied: keras<2.9,>=2.8.0rc0 in /usr/local/lib/python3.7/dist-packages (from tensorflow) (2.8.0)\n",
            "Requirement already satisfied: six>=1.12.0 in /usr/local/lib/python3.7/dist-packages (from tensorflow) (1.15.0)\n",
            "Requirement already satisfied: typing-extensions>=3.6.6 in /usr/local/lib/python3.7/dist-packages (from tensorflow) (3.10.0.2)\n",
            "Requirement already satisfied: astunparse>=1.6.0 in /usr/local/lib/python3.7/dist-packages (from tensorflow) (1.6.3)\n",
            "Requirement already satisfied: wrapt>=1.11.0 in /usr/local/lib/python3.7/dist-packages (from tensorflow) (1.14.0)\n",
            "Requirement already satisfied: protobuf>=3.9.2 in /usr/local/lib/python3.7/dist-packages (from tensorflow) (3.17.3)\n",
            "Requirement already satisfied: termcolor>=1.1.0 in /usr/local/lib/python3.7/dist-packages (from tensorflow) (1.1.0)\n",
            "Requirement already satisfied: google-pasta>=0.1.1 in /usr/local/lib/python3.7/dist-packages (from tensorflow) (0.2.0)\n",
            "Requirement already satisfied: tensorboard<2.9,>=2.8 in /usr/local/lib/python3.7/dist-packages (from tensorflow) (2.8.0)\n",
            "Requirement already satisfied: h5py>=2.9.0 in /usr/local/lib/python3.7/dist-packages (from tensorflow) (3.1.0)\n",
            "Requirement already satisfied: flatbuffers>=1.12 in /usr/local/lib/python3.7/dist-packages (from tensorflow) (2.0)\n",
            "Requirement already satisfied: grpcio<2.0,>=1.24.3 in /usr/local/lib/python3.7/dist-packages (from tensorflow) (1.44.0)\n",
            "Requirement already satisfied: absl-py>=0.4.0 in /usr/local/lib/python3.7/dist-packages (from tensorflow) (1.0.0)\n",
            "Requirement already satisfied: numpy>=1.20 in /usr/local/lib/python3.7/dist-packages (from tensorflow) (1.21.5)\n",
            "Requirement already satisfied: tf-estimator-nightly==2.8.0.dev2021122109 in /root/.local/lib/python3.7/site-packages (from tensorflow) (2.8.0.dev2021122109)\n",
            "Requirement already satisfied: opt-einsum>=2.3.2 in /usr/local/lib/python3.7/dist-packages (from tensorflow) (3.3.0)\n",
            "Requirement already satisfied: tensorflow-io-gcs-filesystem>=0.23.1 in /usr/local/lib/python3.7/dist-packages (from tensorflow) (0.24.0)\n",
            "Requirement already satisfied: wheel<1.0,>=0.23.0 in /usr/local/lib/python3.7/dist-packages (from astunparse>=1.6.0->tensorflow) (0.37.1)\n",
            "Requirement already satisfied: cached-property in /usr/local/lib/python3.7/dist-packages (from h5py>=2.9.0->tensorflow) (1.5.2)\n",
            "Requirement already satisfied: google-auth<3,>=1.6.3 in /usr/local/lib/python3.7/dist-packages (from tensorboard<2.9,>=2.8->tensorflow) (1.35.0)\n",
            "Requirement already satisfied: werkzeug>=0.11.15 in /usr/local/lib/python3.7/dist-packages (from tensorboard<2.9,>=2.8->tensorflow) (1.0.1)\n",
            "Requirement already satisfied: tensorboard-plugin-wit>=1.6.0 in /usr/local/lib/python3.7/dist-packages (from tensorboard<2.9,>=2.8->tensorflow) (1.8.1)\n",
            "Requirement already satisfied: google-auth-oauthlib<0.5,>=0.4.1 in /usr/local/lib/python3.7/dist-packages (from tensorboard<2.9,>=2.8->tensorflow) (0.4.6)\n",
            "Requirement already satisfied: requests<3,>=2.21.0 in /usr/local/lib/python3.7/dist-packages (from tensorboard<2.9,>=2.8->tensorflow) (2.23.0)\n",
            "Requirement already satisfied: markdown>=2.6.8 in /usr/local/lib/python3.7/dist-packages (from tensorboard<2.9,>=2.8->tensorflow) (3.3.6)\n",
            "Requirement already satisfied: tensorboard-data-server<0.7.0,>=0.6.0 in /usr/local/lib/python3.7/dist-packages (from tensorboard<2.9,>=2.8->tensorflow) (0.6.1)\n",
            "Requirement already satisfied: rsa<5,>=3.1.4 in /usr/local/lib/python3.7/dist-packages (from google-auth<3,>=1.6.3->tensorboard<2.9,>=2.8->tensorflow) (4.8)\n",
            "Requirement already satisfied: cachetools<5.0,>=2.0.0 in /usr/local/lib/python3.7/dist-packages (from google-auth<3,>=1.6.3->tensorboard<2.9,>=2.8->tensorflow) (4.2.4)\n",
            "Requirement already satisfied: pyasn1-modules>=0.2.1 in /usr/local/lib/python3.7/dist-packages (from google-auth<3,>=1.6.3->tensorboard<2.9,>=2.8->tensorflow) (0.2.8)\n",
            "Requirement already satisfied: requests-oauthlib>=0.7.0 in /usr/local/lib/python3.7/dist-packages (from google-auth-oauthlib<0.5,>=0.4.1->tensorboard<2.9,>=2.8->tensorflow) (1.3.1)\n",
            "Requirement already satisfied: importlib-metadata>=4.4 in /usr/local/lib/python3.7/dist-packages (from markdown>=2.6.8->tensorboard<2.9,>=2.8->tensorflow) (4.11.3)\n",
            "Requirement already satisfied: zipp>=0.5 in /usr/local/lib/python3.7/dist-packages (from importlib-metadata>=4.4->markdown>=2.6.8->tensorboard<2.9,>=2.8->tensorflow) (3.7.0)\n",
            "Requirement already satisfied: pyasn1<0.5.0,>=0.4.6 in /usr/local/lib/python3.7/dist-packages (from pyasn1-modules>=0.2.1->google-auth<3,>=1.6.3->tensorboard<2.9,>=2.8->tensorflow) (0.4.8)\n",
            "Requirement already satisfied: idna<3,>=2.5 in /usr/local/lib/python3.7/dist-packages (from requests<3,>=2.21.0->tensorboard<2.9,>=2.8->tensorflow) (2.10)\n",
            "Requirement already satisfied: urllib3!=1.25.0,!=1.25.1,<1.26,>=1.21.1 in /usr/local/lib/python3.7/dist-packages (from requests<3,>=2.21.0->tensorboard<2.9,>=2.8->tensorflow) (1.24.3)\n",
            "Requirement already satisfied: chardet<4,>=3.0.2 in /usr/local/lib/python3.7/dist-packages (from requests<3,>=2.21.0->tensorboard<2.9,>=2.8->tensorflow) (3.0.4)\n",
            "Requirement already satisfied: certifi>=2017.4.17 in /usr/local/lib/python3.7/dist-packages (from requests<3,>=2.21.0->tensorboard<2.9,>=2.8->tensorflow) (2021.10.8)\n",
            "Requirement already satisfied: oauthlib>=3.0.0 in /usr/local/lib/python3.7/dist-packages (from requests-oauthlib>=0.7.0->google-auth-oauthlib<0.5,>=0.4.1->tensorboard<2.9,>=2.8->tensorflow) (3.2.0)\n",
            "Requirement already satisfied: tf-quant-finance in /usr/local/lib/python3.7/dist-packages (0.0.1.dev30)\n",
            "Requirement already satisfied: numpy>=1.19.2 in /usr/local/lib/python3.7/dist-packages (from tf-quant-finance) (1.21.5)\n",
            "Requirement already satisfied: protobuf in /usr/local/lib/python3.7/dist-packages (from tf-quant-finance) (3.17.3)\n",
            "Requirement already satisfied: attrs>=18.2.0 in /usr/local/lib/python3.7/dist-packages (from tf-quant-finance) (21.4.0)\n",
            "Requirement already satisfied: tensorflow-probability>=0.11.0 in /usr/local/lib/python3.7/dist-packages (from tf-quant-finance) (0.16.0)\n",
            "Requirement already satisfied: decorator in /usr/local/lib/python3.7/dist-packages (from tensorflow-probability>=0.11.0->tf-quant-finance) (4.4.2)\n",
            "Requirement already satisfied: gast>=0.3.2 in /usr/local/lib/python3.7/dist-packages (from tensorflow-probability>=0.11.0->tf-quant-finance) (0.5.3)\n",
            "Requirement already satisfied: six>=1.10.0 in /usr/local/lib/python3.7/dist-packages (from tensorflow-probability>=0.11.0->tf-quant-finance) (1.15.0)\n",
            "Requirement already satisfied: dm-tree in /usr/local/lib/python3.7/dist-packages (from tensorflow-probability>=0.11.0->tf-quant-finance) (0.1.6)\n",
            "Requirement already satisfied: cloudpickle>=1.3 in /usr/local/lib/python3.7/dist-packages (from tensorflow-probability>=0.11.0->tf-quant-finance) (1.3.0)\n",
            "Requirement already satisfied: absl-py in /usr/local/lib/python3.7/dist-packages (from tensorflow-probability>=0.11.0->tf-quant-finance) (1.0.0)\n",
            "Requirement already satisfied: QuantLib-Python in /usr/local/lib/python3.7/dist-packages (1.18)\n",
            "Requirement already satisfied: QuantLib in /usr/local/lib/python3.7/dist-packages (from QuantLib-Python) (1.25)\n"
          ]
        }
      ],
      "source": [
        "!pip install --upgrade tensorflow --user\n",
        "!pip install tf-quant-finance\n",
        "!pip install QuantLib-Python"
      ]
    },
    {
      "cell_type": "code",
      "source": [
        "import os\n",
        "# reduce number of threads\n",
        "os.environ['TF_NUM_INTEROP_THREADS'] = '1'\n",
        "os.environ['TF_NUM_INTRAOP_THREADS'] = '1'\n",
        "\n",
        "%matplotlib inline\n",
        "import numpy as np\n",
        "import matplotlib.pyplot as plt\n",
        "import tf_quant_finance as tff \n",
        "import tensorflow as tf\n",
        "import functools\n",
        "import pandas as pd\n",
        "import time\n",
        "import QuantLib as ql"
      ],
      "metadata": {
        "id": "S0_EXgpxqppi"
      },
      "id": "S0_EXgpxqppi",
      "execution_count": 2,
      "outputs": []
    },
    {
      "cell_type": "code",
      "source": [
        "!nvidia-smi"
      ],
      "metadata": {
        "colab": {
          "base_uri": "https://localhost:8080/"
        },
        "id": "2n2K1JV5j7LB",
        "outputId": "869060b9-95cc-40ac-feb1-ae8c25541312"
      },
      "id": "2n2K1JV5j7LB",
      "execution_count": 3,
      "outputs": [
        {
          "output_type": "stream",
          "name": "stdout",
          "text": [
            "Mon Apr  4 12:52:18 2022       \n",
            "+-----------------------------------------------------------------------------+\n",
            "| NVIDIA-SMI 460.32.03    Driver Version: 460.32.03    CUDA Version: 11.2     |\n",
            "|-------------------------------+----------------------+----------------------+\n",
            "| GPU  Name        Persistence-M| Bus-Id        Disp.A | Volatile Uncorr. ECC |\n",
            "| Fan  Temp  Perf  Pwr:Usage/Cap|         Memory-Usage | GPU-Util  Compute M. |\n",
            "|                               |                      |               MIG M. |\n",
            "|===============================+======================+======================|\n",
            "|   0  Tesla K80           Off  | 00000000:00:04.0 Off |                    0 |\n",
            "| N/A   36C    P8    29W / 149W |      0MiB / 11441MiB |      0%      Default |\n",
            "|                               |                      |                  N/A |\n",
            "+-------------------------------+----------------------+----------------------+\n",
            "                                                                               \n",
            "+-----------------------------------------------------------------------------+\n",
            "| Processes:                                                                  |\n",
            "|  GPU   GI   CI        PID   Type   Process name                  GPU Memory |\n",
            "|        ID   ID                                                   Usage      |\n",
            "|=============================================================================|\n",
            "|  No running processes found                                                 |\n",
            "+-----------------------------------------------------------------------------+\n"
          ]
        }
      ]
    },
    {
      "cell_type": "code",
      "execution_count": 4,
      "id": "e6b98c38",
      "metadata": {
        "id": "e6b98c38"
      },
      "outputs": [],
      "source": [
        "#@title Set up parameters\n",
        "\n",
        "dtype = tf.float64 #@param\n",
        "num_samples = 200000 #@param\n",
        "num_timesteps = 100#100 #@param\n",
        "nb_options = 20\n",
        "\n",
        "# expiries =tf.constant( [0.0, 0.5, 1.0], dtype=dtype) # This can be a rank 1 Tensor\n",
        "dt = 1. / num_timesteps\n",
        "times = [1.0]\n",
        "# times = tf.linspace(tf.constant(0.0, dtype=dtype), tf.constant(1.0, dtype=dtype), num_timesteps)\n",
        "rate = tf.constant(0.03, dtype=dtype)\n",
        "sigma = tf.constant(0.1, dtype=dtype)\n",
        "spot = tf.constant(700, dtype=dtype)\n",
        "strikes = tf.linspace(0.5*spot, 1.5*spot, nb_options)\n",
        "\n",
        "def set_up_pricer(times, watch_params=False):\n",
        "    \"\"\"Set up European option pricing function under Black-Scholes model.\n",
        "    \n",
        "    Args:\n",
        "        expiries: List of expiries at which to to sample the trajectories.\n",
        "        watch_params: A Python bool. When `True`, gradients of the price function wrt the inputs\n",
        "          are computed more efficiently. \n",
        "    Returns:\n",
        "     A callable that accepts a rank 1 tensor of strikes, and scalar values for \n",
        "     the spots and  volatility values. The callable outputs prices of\n",
        "     the European call options on the grid `expiries x strikes`.\n",
        "    \"\"\"\n",
        "    def price_eu_options(strikes, spot, sigma):\n",
        "        # Define drift and volatility functions. \n",
        "        def drift_fn(t, x):\n",
        "          del t, x\n",
        "          return rate - 0.5 * sigma**2\n",
        "        def vol_fn(t, x):\n",
        "          del t, x\n",
        "          return tf.reshape(sigma, [1, 1])\n",
        "        # Use GenericItoProcess class to set up the Ito process\n",
        "        process = tff.models.GenericItoProcess(\n",
        "            dim=1,\n",
        "            drift_fn=drift_fn,\n",
        "            volatility_fn=vol_fn,\n",
        "            dtype=dtype)\n",
        "        log_spot = tf.math.log(tf.reduce_mean(spot))\n",
        "        if watch_params:\n",
        "            watch_params_list = [sigma]\n",
        "        else:\n",
        "            watch_params_list = None\n",
        "        paths = process.sample_paths(\n",
        "            times=times, num_samples=num_samples,\n",
        "            initial_state=log_spot, \n",
        "            watch_params=watch_params_list,\n",
        "            # Select a random number generator\n",
        "            random_type=tff.math.random.RandomType.PSEUDO_ANTITHETIC,\n",
        "            time_step=dt)\n",
        "        prices = (tf.exp(-tf.expand_dims(rate * times, axis=-1))\n",
        "                  * tf.reduce_mean(tf.nn.relu(tf.math.exp(paths) - strikes), 0))\n",
        "        return prices\n",
        "    return price_eu_options\n",
        "\n",
        "price_eu_options = tf.function(set_up_pricer(times),\n",
        "                               input_signature=[\n",
        "                                                tf.TensorSpec([None], dtype=tf.float64),\n",
        "                                                tf.TensorSpec([], dtype=tf.float64),\n",
        "                                                tf.TensorSpec([], dtype=tf.float64)\n",
        "                               ])\n",
        "price_eu_options2 = tf.function(set_up_pricer(times),\n",
        "                               input_signature=[\n",
        "                                                tf.TensorSpec([None], dtype=tf.float64),\n",
        "                                                tf.TensorSpec([], dtype=tf.float64),\n",
        "                                                tf.TensorSpec([], dtype=tf.float64)\n",
        "                               ])\n",
        "# price_eu_options_xla = tf.function(set_up_pricer(times), jit_compile=True)\n",
        "# price_eu_options = set_up_pricer(times)\n",
        "# price_eu_options_xla = set_up_pricer(times)"
      ]
    },
    {
      "cell_type": "code",
      "source": [
        "#@title Monte Carlo sampling in QuantLib\n",
        "\n",
        "def ql_price(strike):\n",
        "    num_samples = 200000 #@param\n",
        "    num_timesteps = 100#100 #@param\n",
        "    expiry = 1.0\n",
        "\n",
        "    calculation_date = ql.Date(1, 1, 2010)\n",
        "    maturity_date = ql.Date(1, 1, 2011)\n",
        "    day_count = ql.Thirty360()\n",
        "    calendar = ql.NullCalendar()\n",
        "\n",
        "    ql_strike_price = strike\n",
        "    sigma_ql = 0.1\n",
        "    ql_volatility = ql.SimpleQuote(sigma_ql)\n",
        "    ql_risk_free_rate = 0.03\n",
        "    option_type = ql.Option.Call\n",
        "\n",
        "    ql.Settings.instance().evaluationDate = calculation_date\n",
        "    payoff = ql.PlainVanillaPayoff(option_type, ql_strike_price)\n",
        "\n",
        "    eu_exercise = ql.EuropeanExercise(maturity_date)\n",
        "    european_option_ql = ql.VanillaOption(payoff, eu_exercise)\n",
        "\n",
        "    flat_ts = ql.YieldTermStructureHandle(\n",
        "        ql.FlatForward(calculation_date, ql_risk_free_rate, day_count)\n",
        "    )\n",
        "    flat_vol_ts = ql.BlackVolTermStructureHandle(\n",
        "        ql.BlackConstantVol(calculation_date, calendar,\n",
        "                            ql.QuoteHandle(ql_volatility), day_count)\n",
        "    )\n",
        "\n",
        "    spot_ql = 700\n",
        "    spot_price = ql.SimpleQuote(spot_ql)\n",
        "    spot_handle = ql.QuoteHandle(\n",
        "        spot_price\n",
        "    )\n",
        "    bsm_process = ql.BlackScholesProcess(spot_handle,\n",
        "                                          flat_ts,\n",
        "                                          flat_vol_ts)\n",
        "\n",
        "    # Compute the same price number_of_options times\n",
        "\n",
        "    engine = ql.MCEuropeanEngine(bsm_process, \"PseudoRandom\",\n",
        "                                 timeSteps=num_timesteps,\n",
        "                                 requiredSamples=num_samples,\n",
        "                                 seed=42)\n",
        "\n",
        "    european_option_ql.setPricingEngine(engine)\n",
        "    price_ql = european_option_ql.NPV()\n",
        "    return price_ql\n",
        "\n",
        "ql_prices = []\n",
        "t = time.time()\n",
        "for strike in strikes:\n",
        "    price_ql = ql_price(strike.numpy())\n",
        "    ql_prices.append(price_ql)\n",
        "time_price_ql = time.time() - t\n",
        "print(ql_prices)\n",
        "print(\"Time (seconds) to price a European Call Option using QuantLib: \", time_price_ql, nb_options/time_price_ql)"
      ],
      "metadata": {
        "colab": {
          "base_uri": "https://localhost:8080/"
        },
        "id": "FrLHjrOK4Qge",
        "outputId": "10f3e253-61fb-4516-8672-653f69441043"
      },
      "id": "FrLHjrOK4Qge",
      "execution_count": 5,
      "outputs": [
        {
          "output_type": "stream",
          "name": "stdout",
          "text": [
            "[360.38096816219917, 324.6277116630422, 288.87445516388317, 253.12134260868683, 217.3691682407967, 181.6340389862479, 146.05831870323763, 111.23696256008365, 78.64597284368979, 50.63317577326372, 29.243318215156467, 15.022626670120085, 6.8551094727374275, 2.7778426510531573, 1.0155217324983004, 0.33489202186099365, 0.10166830402822762, 0.030473677573669908, 0.007918399213728616, 0.0017499648447671884]\n",
            "Time (seconds) to price a European Call Option using QuantLib:  277.26114106178284 0.0721341617631998\n"
          ]
        }
      ]
    },
    {
      "cell_type": "code",
      "execution_count": 6,
      "id": "ac61a5ab",
      "metadata": {
        "colab": {
          "base_uri": "https://localhost:8080/"
        },
        "id": "ac61a5ab",
        "outputId": "11fb7c9b-9e86-4963-9a81-5728a6bb088e"
      },
      "outputs": [
        {
          "output_type": "stream",
          "name": "stdout",
          "text": [
            "[[3.60341376e+02 3.24588119e+02 2.88834863e+02 2.53081606e+02\n",
            "  2.17329755e+02 1.81598023e+02 1.46027276e+02 1.11219146e+02\n",
            "  7.86609944e+01 5.06445534e+01 2.92358563e+01 1.50435645e+01\n",
            "  6.89022937e+00 2.82275720e+00 1.03259920e+00 3.39353577e-01\n",
            "  1.02068602e-01 2.83426855e-02 6.72531661e-03 1.76235653e-03]]\n",
            "time_price_cpu_nograph 3.1788275241851807 6.291627918732879\n",
            "time_price_gpu_nograph 1.291154146194458 15.49001725235357\n",
            "time_price_gpu0 4.316318511962891 4.633578347976177\n",
            "time_price_gpu 0.7684378623962402 26.026827904644712\n",
            "time_price_cpu0 2.835867166519165 7.052516505753211\n",
            "time_price_cpu 2.6586673259735107 7.522565837633222\n"
          ]
        }
      ],
      "source": [
        "#@title Pricing times on CPU and GPU platforms\n",
        "\n",
        "time_start = time.time()\n",
        "with tf.device(\"/cpu:0\"):\n",
        "    price_cpu_nograph = set_up_pricer(times)(strikes, spot, sigma)\n",
        "time_end = time.time()\n",
        "time_price_cpu_nograph = time_end - time_start\n",
        "print(price_cpu_nograph[:10].numpy())\n",
        "\n",
        "time_start = time.time()\n",
        "with tf.device(\"/gpu:0\"):\n",
        "    set_up_pricer(times)(strikes, spot, sigma)\n",
        "time_end = time.time()\n",
        "time_price_gpu_nograph = time_end - time_start\n",
        "\n",
        "# GPU without XLA\n",
        "time_start = time.time()\n",
        "with tf.device(\"/gpu:0\"):\n",
        "    price_eu_options(strikes, spot, sigma)\n",
        "time_end = time.time()\n",
        "time_price_gpu0 = time_end - time_start\n",
        "# Second run (excludes graph optimization time)\n",
        "time_start = time.time()\n",
        "with tf.device(\"/gpu:0\"):\n",
        "    prices = price_eu_options(strikes, spot, sigma)\n",
        "time_end = time.time()\n",
        "time_price_gpu = time_end - time_start\n",
        "\n",
        "# CPU without XLA\n",
        "time_start = time.time()\n",
        "with tf.device(\"/cpu:0\"):\n",
        "    price_eu_options(strikes, spot, sigma)\n",
        "time_end = time.time()\n",
        "time_price_cpu0 = time_end - time_start    \n",
        "time_start = time.time()\n",
        "with tf.device(\"/cpu:0\"):\n",
        "    prices = price_eu_options(strikes, spot, sigma)\n",
        "time_end = time.time()\n",
        "time_price_cpu = time_end - time_start\n",
        "\n",
        "print('time_price_cpu_nograph', time_price_cpu_nograph, nb_options/time_price_cpu_nograph)\n",
        "print('time_price_gpu_nograph', time_price_gpu_nograph, nb_options/time_price_gpu_nograph)\n",
        "\n",
        "print('time_price_gpu0', time_price_gpu0, nb_options/time_price_gpu0)\n",
        "print('time_price_gpu', time_price_gpu, nb_options/time_price_gpu)\n",
        "\n",
        "print('time_price_cpu0', time_price_cpu0, nb_options/time_price_cpu0)\n",
        "print('time_price_cpu', time_price_cpu, nb_options/time_price_cpu)\n"
      ]
    },
    {
      "cell_type": "code",
      "execution_count": 7,
      "id": "c58f7013",
      "metadata": {
        "colab": {
          "base_uri": "https://localhost:8080/",
          "height": 553
        },
        "id": "c58f7013",
        "outputId": "ee76a12b-671c-47f2-9317-53f16e0a07d0"
      },
      "outputs": [
        {
          "output_type": "display_data",
          "data": {
            "text/plain": [
              "<Figure size 864x648 with 1 Axes>"
            ],
            "image/png": "[encoded data removed]"
          },
          "metadata": {
            "needs_background": "light"
          }
        }
      ],
      "source": [
        "#@title Plot the results\n",
        "\n",
        "ind = np.arange(1)  # the x locations for the groups\n",
        "width = 0.35  # the width of the bars\n",
        "\n",
        "fig, ax = plt.subplots()\n",
        "\n",
        "fig.set_figheight(9)\n",
        "fig.set_figwidth(12)\n",
        "\n",
        "ax.bar(ind - width/8, [time_price_cpu], width / 8,\n",
        "       label='TensorFlow (CPU)')\n",
        "ax.bar(ind, [time_price_cpu0], width / 8,\n",
        "       label='TensorFlow (CPU 0)')\n",
        "ax.bar(ind + width/8, [time_price_gpu], width / 8,\n",
        "       label='TensorFlow (GPU)')\n",
        "ax.bar(ind + width/4, [time_price_gpu0], width / 8,\n",
        "       label='TensorFlow (GPU 0)')\n",
        "\n",
        "# Add some text for labels, title and custom x-axis tick labels, etc.\n",
        "ax.set_ylabel('Time (sec) to sample {}'.format(num_samples))\n",
        "ax.set_title('Monte Carlo sampling comparison')\n",
        "ax.set_xticks(ind)\n",
        "ax.legend()\n",
        "\n",
        "\n",
        "plt.show()"
      ]
    }
  ],
  "metadata": {
    "kernelspec": {
      "display_name": "Python 3 (ipykernel)",
      "language": "python",
      "name": "python3"
    },
    "language_info": {
      "codemirror_mode": {
        "name": "ipython",
        "version": 3
      },
      "file_extension": ".py",
      "mimetype": "text/x-python",
      "name": "python",
      "nbconvert_exporter": "python",
      "pygments_lexer": "ipython3",
      "version": "3.7.9"
    },
    "colab": {
      "name": "EuropeanOption_MC_Performance_TQF.ipynb",
      "provenance": []
    },
    "accelerator": "GPU"
  },
  "nbformat": 4,
  "nbformat_minor": 5
}
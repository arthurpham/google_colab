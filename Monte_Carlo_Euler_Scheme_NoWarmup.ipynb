{
  "cells": [
    {
      "cell_type": "markdown",
      "metadata": {
        "id": "EheA5_j_cEwc"
      },
      "source": [
        "##### Copyright 2019 Google LLC.\n",
        "\n",
        "Licensed under the Apache License, Version 2.0 (the \"License\");"
      ]
    },
    {
      "cell_type": "code",
      "execution_count": 1,
      "metadata": {
        "id": "YCriMWd-pRTP"
      },
      "outputs": [],
      "source": [
        "#@title Licensed under the Apache License, Version 2.0 (the \"License\"); { display-mode: \"form\" }\n",
        "# you may not use this file except in compliance with the License.\n",
        "# You may obtain a copy of the License at\n",
        "#\n",
        "# https://www.apache.org/licenses/LICENSE-2.0\n",
        "#\n",
        "# Unless required by applicable law or agreed to in writing, software\n",
        "# distributed under the License is distributed on an \"AS IS\" BASIS,\n",
        "# WITHOUT WARRANTIES OR CONDITIONS OF ANY KIND, either express or implied.\n",
        "# See the License for the specific language governing permissions and\n",
        "# limitations under the License."
      ]
    },
    {
      "cell_type": "markdown",
      "metadata": {
        "id": "OvRwFTkqcp1e"
      },
      "source": [
        "# Monte Carlo Pricing in Tensorflow Quant Finance (TFF) using Euler Scheme\n",
        "\n",
        "<table class=\"tfo-notebook-buttons\" align=\"left\">\n",
        "  <td>\n",
        "    <a target=\"_blank\" href=\"https://colab.research.google.com/github/google/tf-quant-finance/blob/master/tf_quant_finance/examples/jupyter_notebooks/Monte_Carlo_Euler_Scheme.ipynb\"><img src=\"https://www.tensorflow.org/images/colab_logo_32px.png\" />Run in Google Colab</a>\n",
        "  </td>\n",
        "  <td>\n",
        "    <a target=\"_blank\" href=\"https://github.com/google/tf-quant-finance/blob/master/tf_quant_finance/examples/jupyter_notebooks/Monte_Carlo_Euler_Scheme.ipynb\"><img src=\"https://www.tensorflow.org/images/GitHub-Mark-32px.png\" />View source on GitHub</a>\n",
        "  </td>\n",
        "</table>"
      ]
    },
    {
      "cell_type": "code",
      "execution_count": 2,
      "metadata": {
        "cellView": "form",
        "id": "uG8UAZXjeUhf",
        "jupyter": {
          "outputs_hidden": true
        },
        "outputId": "4439d4a2-455d-4a6a-dac3-4bd43de27ce9",
        "colab": {
          "base_uri": "https://localhost:8080/"
        }
      },
      "outputs": [
        {
          "output_type": "stream",
          "name": "stdout",
          "text": [
            "Requirement already satisfied: tensorflow in /usr/local/lib/python3.7/dist-packages (2.8.0)\n",
            "Requirement already satisfied: termcolor>=1.1.0 in /usr/local/lib/python3.7/dist-packages (from tensorflow) (1.1.0)\n",
            "Requirement already satisfied: keras<2.9,>=2.8.0rc0 in /usr/local/lib/python3.7/dist-packages (from tensorflow) (2.8.0)\n",
            "Requirement already satisfied: gast>=0.2.1 in /usr/local/lib/python3.7/dist-packages (from tensorflow) (0.5.3)\n",
            "Requirement already satisfied: numpy>=1.20 in /usr/local/lib/python3.7/dist-packages (from tensorflow) (1.21.5)\n",
            "Requirement already satisfied: keras-preprocessing>=1.1.1 in /usr/local/lib/python3.7/dist-packages (from tensorflow) (1.1.2)\n",
            "Requirement already satisfied: grpcio<2.0,>=1.24.3 in /usr/local/lib/python3.7/dist-packages (from tensorflow) (1.44.0)\n",
            "Requirement already satisfied: google-pasta>=0.1.1 in /usr/local/lib/python3.7/dist-packages (from tensorflow) (0.2.0)\n",
            "Requirement already satisfied: typing-extensions>=3.6.6 in /usr/local/lib/python3.7/dist-packages (from tensorflow) (3.10.0.2)\n",
            "Requirement already satisfied: six>=1.12.0 in /usr/local/lib/python3.7/dist-packages (from tensorflow) (1.15.0)\n",
            "Requirement already satisfied: wrapt>=1.11.0 in /usr/local/lib/python3.7/dist-packages (from tensorflow) (1.13.3)\n",
            "Requirement already satisfied: tensorboard<2.9,>=2.8 in /usr/local/lib/python3.7/dist-packages (from tensorflow) (2.8.0)\n",
            "Requirement already satisfied: protobuf>=3.9.2 in /usr/local/lib/python3.7/dist-packages (from tensorflow) (3.17.3)\n",
            "Requirement already satisfied: astunparse>=1.6.0 in /usr/local/lib/python3.7/dist-packages (from tensorflow) (1.6.3)\n",
            "Requirement already satisfied: tensorflow-io-gcs-filesystem>=0.23.1 in /usr/local/lib/python3.7/dist-packages (from tensorflow) (0.24.0)\n",
            "Requirement already satisfied: opt-einsum>=2.3.2 in /usr/local/lib/python3.7/dist-packages (from tensorflow) (3.3.0)\n",
            "Requirement already satisfied: h5py>=2.9.0 in /usr/local/lib/python3.7/dist-packages (from tensorflow) (3.1.0)\n",
            "Requirement already satisfied: absl-py>=0.4.0 in /usr/local/lib/python3.7/dist-packages (from tensorflow) (1.0.0)\n",
            "Requirement already satisfied: setuptools in /usr/local/lib/python3.7/dist-packages (from tensorflow) (57.4.0)\n",
            "Requirement already satisfied: libclang>=9.0.1 in /usr/local/lib/python3.7/dist-packages (from tensorflow) (13.0.0)\n",
            "Requirement already satisfied: tf-estimator-nightly==2.8.0.dev2021122109 in /usr/local/lib/python3.7/dist-packages (from tensorflow) (2.8.0.dev2021122109)\n",
            "Requirement already satisfied: flatbuffers>=1.12 in /usr/local/lib/python3.7/dist-packages (from tensorflow) (2.0)\n",
            "Requirement already satisfied: wheel<1.0,>=0.23.0 in /usr/local/lib/python3.7/dist-packages (from astunparse>=1.6.0->tensorflow) (0.37.1)\n",
            "Requirement already satisfied: cached-property in /usr/local/lib/python3.7/dist-packages (from h5py>=2.9.0->tensorflow) (1.5.2)\n",
            "Requirement already satisfied: tensorboard-plugin-wit>=1.6.0 in /usr/local/lib/python3.7/dist-packages (from tensorboard<2.9,>=2.8->tensorflow) (1.8.1)\n",
            "Requirement already satisfied: markdown>=2.6.8 in /usr/local/lib/python3.7/dist-packages (from tensorboard<2.9,>=2.8->tensorflow) (3.3.6)\n",
            "Requirement already satisfied: tensorboard-data-server<0.7.0,>=0.6.0 in /usr/local/lib/python3.7/dist-packages (from tensorboard<2.9,>=2.8->tensorflow) (0.6.1)\n",
            "Requirement already satisfied: google-auth<3,>=1.6.3 in /usr/local/lib/python3.7/dist-packages (from tensorboard<2.9,>=2.8->tensorflow) (1.35.0)\n",
            "Requirement already satisfied: google-auth-oauthlib<0.5,>=0.4.1 in /usr/local/lib/python3.7/dist-packages (from tensorboard<2.9,>=2.8->tensorflow) (0.4.6)\n",
            "Requirement already satisfied: werkzeug>=0.11.15 in /usr/local/lib/python3.7/dist-packages (from tensorboard<2.9,>=2.8->tensorflow) (1.0.1)\n",
            "Requirement already satisfied: requests<3,>=2.21.0 in /usr/local/lib/python3.7/dist-packages (from tensorboard<2.9,>=2.8->tensorflow) (2.23.0)\n",
            "Requirement already satisfied: rsa<5,>=3.1.4 in /usr/local/lib/python3.7/dist-packages (from google-auth<3,>=1.6.3->tensorboard<2.9,>=2.8->tensorflow) (4.8)\n",
            "Requirement already satisfied: pyasn1-modules>=0.2.1 in /usr/local/lib/python3.7/dist-packages (from google-auth<3,>=1.6.3->tensorboard<2.9,>=2.8->tensorflow) (0.2.8)\n",
            "Requirement already satisfied: cachetools<5.0,>=2.0.0 in /usr/local/lib/python3.7/dist-packages (from google-auth<3,>=1.6.3->tensorboard<2.9,>=2.8->tensorflow) (4.2.4)\n",
            "Requirement already satisfied: requests-oauthlib>=0.7.0 in /usr/local/lib/python3.7/dist-packages (from google-auth-oauthlib<0.5,>=0.4.1->tensorboard<2.9,>=2.8->tensorflow) (1.3.1)\n",
            "Requirement already satisfied: importlib-metadata>=4.4 in /usr/local/lib/python3.7/dist-packages (from markdown>=2.6.8->tensorboard<2.9,>=2.8->tensorflow) (4.11.2)\n",
            "Requirement already satisfied: zipp>=0.5 in /usr/local/lib/python3.7/dist-packages (from importlib-metadata>=4.4->markdown>=2.6.8->tensorboard<2.9,>=2.8->tensorflow) (3.7.0)\n",
            "Requirement already satisfied: pyasn1<0.5.0,>=0.4.6 in /usr/local/lib/python3.7/dist-packages (from pyasn1-modules>=0.2.1->google-auth<3,>=1.6.3->tensorboard<2.9,>=2.8->tensorflow) (0.4.8)\n",
            "Requirement already satisfied: urllib3!=1.25.0,!=1.25.1,<1.26,>=1.21.1 in /usr/local/lib/python3.7/dist-packages (from requests<3,>=2.21.0->tensorboard<2.9,>=2.8->tensorflow) (1.24.3)\n",
            "Requirement already satisfied: idna<3,>=2.5 in /usr/local/lib/python3.7/dist-packages (from requests<3,>=2.21.0->tensorboard<2.9,>=2.8->tensorflow) (2.10)\n",
            "Requirement already satisfied: certifi>=2017.4.17 in /usr/local/lib/python3.7/dist-packages (from requests<3,>=2.21.0->tensorboard<2.9,>=2.8->tensorflow) (2021.10.8)\n",
            "Requirement already satisfied: chardet<4,>=3.0.2 in /usr/local/lib/python3.7/dist-packages (from requests<3,>=2.21.0->tensorboard<2.9,>=2.8->tensorflow) (3.0.4)\n",
            "Requirement already satisfied: oauthlib>=3.0.0 in /usr/local/lib/python3.7/dist-packages (from requests-oauthlib>=0.7.0->google-auth-oauthlib<0.5,>=0.4.1->tensorboard<2.9,>=2.8->tensorflow) (3.2.0)\n"
          ]
        }
      ],
      "source": [
        "#@title Upgrade to TensorFlow 2.5+\n",
        "!pip install --upgrade tensorflow"
      ]
    },
    {
      "cell_type": "code",
      "execution_count": 3,
      "metadata": {
        "cellView": "form",
        "id": "QxMuce0vVKaL",
        "jupyter": {
          "outputs_hidden": true
        },
        "outputId": "e03f8b36-3732-4937-8b16-bef2c738e10e",
        "colab": {
          "base_uri": "https://localhost:8080/"
        }
      },
      "outputs": [
        {
          "output_type": "stream",
          "name": "stdout",
          "text": [
            "Requirement already satisfied: tf-quant-finance in /usr/local/lib/python3.7/dist-packages (0.0.1.dev30)\n",
            "Requirement already satisfied: attrs>=18.2.0 in /usr/local/lib/python3.7/dist-packages (from tf-quant-finance) (21.4.0)\n",
            "Requirement already satisfied: tensorflow-probability>=0.11.0 in /usr/local/lib/python3.7/dist-packages (from tf-quant-finance) (0.16.0)\n",
            "Requirement already satisfied: numpy>=1.19.2 in /usr/local/lib/python3.7/dist-packages (from tf-quant-finance) (1.21.5)\n",
            "Requirement already satisfied: protobuf in /usr/local/lib/python3.7/dist-packages (from tf-quant-finance) (3.17.3)\n",
            "Requirement already satisfied: absl-py in /usr/local/lib/python3.7/dist-packages (from tensorflow-probability>=0.11.0->tf-quant-finance) (1.0.0)\n",
            "Requirement already satisfied: decorator in /usr/local/lib/python3.7/dist-packages (from tensorflow-probability>=0.11.0->tf-quant-finance) (4.4.2)\n",
            "Requirement already satisfied: six>=1.10.0 in /usr/local/lib/python3.7/dist-packages (from tensorflow-probability>=0.11.0->tf-quant-finance) (1.15.0)\n",
            "Requirement already satisfied: dm-tree in /usr/local/lib/python3.7/dist-packages (from tensorflow-probability>=0.11.0->tf-quant-finance) (0.1.6)\n",
            "Requirement already satisfied: cloudpickle>=1.3 in /usr/local/lib/python3.7/dist-packages (from tensorflow-probability>=0.11.0->tf-quant-finance) (1.3.0)\n",
            "Requirement already satisfied: gast>=0.3.2 in /usr/local/lib/python3.7/dist-packages (from tensorflow-probability>=0.11.0->tf-quant-finance) (0.5.3)\n"
          ]
        }
      ],
      "source": [
        "#@title Install TF Quant Finance\n",
        "!pip install tf-quant-finance"
      ]
    },
    {
      "cell_type": "code",
      "execution_count": 4,
      "metadata": {
        "cellView": "form",
        "id": "roUegEh5eh04",
        "jupyter": {
          "outputs_hidden": true
        },
        "outputId": "54aa84ef-fc4f-4702-a7a8-c7b484b9e2db",
        "colab": {
          "base_uri": "https://localhost:8080/"
        }
      },
      "outputs": [
        {
          "output_type": "stream",
          "name": "stdout",
          "text": [
            "Requirement already satisfied: QuantLib-Python in /usr/local/lib/python3.7/dist-packages (1.18)\n",
            "Requirement already satisfied: QuantLib in /usr/local/lib/python3.7/dist-packages (from QuantLib-Python) (1.25)\n"
          ]
        }
      ],
      "source": [
        "#@title Install QuantLib\n",
        "!pip install QuantLib-Python"
      ]
    },
    {
      "cell_type": "code",
      "execution_count": 5,
      "metadata": {
        "colab": {
          "base_uri": "https://localhost:8080/"
        },
        "id": "w3d7fZbDwivN",
        "outputId": "ee12a0a5-65dc-487c-b839-ce2e51f7ce19"
      },
      "outputs": [
        {
          "output_type": "stream",
          "name": "stdout",
          "text": [
            "Thu Mar 10 16:45:39 2022       \n",
            "+-----------------------------------------------------------------------------+\n",
            "| NVIDIA-SMI 460.32.03    Driver Version: 460.32.03    CUDA Version: 11.2     |\n",
            "|-------------------------------+----------------------+----------------------+\n",
            "| GPU  Name        Persistence-M| Bus-Id        Disp.A | Volatile Uncorr. ECC |\n",
            "| Fan  Temp  Perf  Pwr:Usage/Cap|         Memory-Usage | GPU-Util  Compute M. |\n",
            "|                               |                      |               MIG M. |\n",
            "|===============================+======================+======================|\n",
            "|   0  Tesla K80           Off  | 00000000:00:04.0 Off |                    0 |\n",
            "| N/A   71C    P8    35W / 149W |      0MiB / 11441MiB |      0%      Default |\n",
            "|                               |                      |                  N/A |\n",
            "+-------------------------------+----------------------+----------------------+\n",
            "                                                                               \n",
            "+-----------------------------------------------------------------------------+\n",
            "| Processes:                                                                  |\n",
            "|  GPU   GI   CI        PID   Type   Process name                  GPU Memory |\n",
            "|        ID   ID                                                   Usage      |\n",
            "|=============================================================================|\n",
            "|  No running processes found                                                 |\n",
            "+-----------------------------------------------------------------------------+\n"
          ]
        }
      ],
      "source": [
        "!nvidia-smi"
      ]
    },
    {
      "cell_type": "markdown",
      "metadata": {
        "id": "ku46LPe6Jswv"
      },
      "source": [
        "   Diffusion process $X(t) = (X_1(t), .. X_n(t))$ is a solution to a [Stochastic Differential Equation](https://en.wikipedia.org/wiki/Stochastic_differential_equation) (SDE)\n",
        "   $$dS_i = a_i(t, S) dt + \\sum_{j=1}^n S_{ij} (t, S) dW_j,\\ i \\in \\{1,.., n\\},$$\n",
        "\n",
        "where $n$ is the dimensionality of the diffusion, $\\{W_j\\}_{j=1}^n$ is $n$-dimensitonal Brownian motion, $a_i(t, S)$ is the instantaneous drift rate and the $S_{ij}(t)$ is the\n",
        "volatility matrix.\n",
        "\n",
        "In this colab we demonstrate how to draw samples from the difusion solution in TFF using the [Euler scheme](https://en.wikipedia.org/wiki/Euler%E2%80%93Maruyama_method). We also demonstrate how to use automatic differentiation framework for vega and delta computation and provide performance benchmarks.\n"
      ]
    },
    {
      "cell_type": "code",
      "execution_count": 6,
      "metadata": {
        "id": "2nA2FSdTgcEM"
      },
      "outputs": [],
      "source": [
        "#@title Imports { display-mode: \"form\" }\n",
        "\n",
        "import matplotlib.pyplot as plt\n",
        "import numpy as np\n",
        "import time\n",
        "\n",
        "import tensorflow as tf\n",
        "\n",
        "import QuantLib as ql\n",
        "\n",
        " # tff for Tensorflow Finance\n",
        "import tf_quant_finance as tff\n",
        "\n",
        "from IPython.core.pylabtools import figsize\n",
        "figsize(21, 14) # better graph size for Colab  \n"
      ]
    },
    {
      "cell_type": "markdown",
      "metadata": {
        "id": "DaCP0d8mV_Yp"
      },
      "source": [
        "## Setting up the Euler sampling for European call option pricing under Black-Scholes\n",
        "\n",
        "The pricing function outputs prices on the grid `expiries x strikes`.\n",
        "\n",
        "Sampling is performed using `sample_paths` method of `GenericItoProcess` class. The user is free to provide their own drift and volatility function in order to sample from the desired process.\n",
        "\n",
        "For many processes there exist efficient specialized samplers and the user should feel free to explore the TFF [models module](https://github.com/google/tf-quant-finance/tree/master/tf_quant_finance/models).\n",
        "\n",
        "In this example, however, we consider only `GenericItoProcess`.\n",
        "\n"
      ]
    },
    {
      "cell_type": "code",
      "execution_count": 7,
      "metadata": {
        "id": "WRYk-nfL_QQj"
      },
      "outputs": [],
      "source": [
        "#@title Set up parameters\n",
        "\n",
        "dtype = np.float64 #@param\n",
        "num_samples = 200000 #@param\n",
        "\n",
        "num_timesteps = 100 #@param\n",
        "\n",
        "expiries = [1.0] # This can be a rank 1 Tensor\n",
        "dt = 1. / num_timesteps\n",
        "rate = tf.constant(0.03, dtype=dtype)\n",
        "sigma = tf.constant(0.1, dtype=dtype)\n",
        "spot = tf.constant(700, dtype=dtype)\n",
        "\n",
        "strikes = tf.constant([600, 650, 680], dtype=dtype)\n",
        "\n",
        "def set_up_pricer(expiries, watch_params=False):\n",
        "    \"\"\"Set up European option pricing function under Black-Scholes model.\n",
        "    \n",
        "    Args:\n",
        "        expiries: List of expiries at which to to sample the trajectories.\n",
        "        watch_params: A Python bool. When `True`, gradients of the price function wrt the inputs\n",
        "          are computed more efficiently. \n",
        "    Returns:\n",
        "     A callable that accepts a rank 1 tensor of strikes, and scalar values for \n",
        "     the spots and  volatility values. The callable outputs prices of\n",
        "     the European call options on the grid `expiries x strikes`.\n",
        "    \"\"\"\n",
        "    def price_eu_options(strikes, spot, sigma):\n",
        "        # Define drift and volatility functions. \n",
        "        def drift_fn(t, x):\n",
        "          del t, x\n",
        "          return rate - 0.5 * sigma**2\n",
        "        def vol_fn(t, x):\n",
        "          del t, x\n",
        "          return tf.reshape(sigma, [1, 1])\n",
        "        # Use GenericItoProcess class to set up the Ito process\n",
        "        process = tff.models.GenericItoProcess(\n",
        "            dim=1,\n",
        "            drift_fn=drift_fn,\n",
        "            volatility_fn=vol_fn,\n",
        "            dtype=dtype)\n",
        "        log_spot = tf.math.log(tf.reduce_mean(spot))\n",
        "        if watch_params:\n",
        "            watch_params_list = [sigma]\n",
        "        else:\n",
        "            watch_params_list = None\n",
        "        paths = process.sample_paths(\n",
        "            expiries, num_samples=num_samples,\n",
        "            initial_state=log_spot, \n",
        "            watch_params=watch_params_list,\n",
        "            # Select a random number generator\n",
        "            random_type=tff.math.random.RandomType.PSEUDO_ANTITHETIC,\n",
        "            time_step=dt)\n",
        "        prices = (tf.exp(-tf.expand_dims(rate * expiries, axis=-1))\n",
        "                  * tf.reduce_mean(tf.nn.relu(tf.math.exp(paths) - strikes), 0))\n",
        "        return prices\n",
        "    return price_eu_options\n",
        "\n",
        "price_eu_options = tf.function(set_up_pricer(expiries))\n"
      ]
    },
    {
      "cell_type": "code",
      "execution_count": 8,
      "metadata": {
        "colab": {
          "base_uri": "https://localhost:8080/"
        },
        "id": "LAzzV5Da_QQm",
        "outputId": "30c5238f-f29d-4327-a007-f5a06a12e480"
      },
      "outputs": [
        {
          "output_type": "stream",
          "name": "stdout",
          "text": [
            "Time (seconds) to price a European Call Option on a CPU:  12.416006803512573\n"
          ]
        }
      ],
      "source": [
        "#@title Pricing time a CPU. Note TensorFlow does automatic multithreading.\n",
        "\n",
        "# First run (includes graph optimization time)\n",
        "# with tf.device(\"/cpu:0\"):\n",
        "#     price_eu_options(strikes, spot, sigma)\n",
        "\n",
        "# Second run (excludes graph optimization time)\n",
        "time_start = time.time()\n",
        "with tf.device(\"/cpu:0\"):\n",
        "    prices = price_eu_options(strikes, spot, sigma)\n",
        "time_end = time.time()\n",
        "\n",
        "time_price_cpu = time_end - time_start\n",
        "print(\"Time (seconds) to price a European Call Option on a CPU: \", time_price_cpu)"
      ]
    },
    {
      "cell_type": "markdown",
      "metadata": {
        "id": "1AXfFFtYPdkK"
      },
      "source": [
        "### Better performance with XLA\n",
        "\n",
        "A quick guide on XLA is available on [TensorFlow website](https://www.tensorflow.org/xla).\n",
        "Roughly, XLA compiler generates a binary for the desired architecture (CPU/GPU/TPU). When underlying TF graph consists of\n",
        "many nodes, XLA might provide a significant speed up.\n",
        "\n",
        "Below we use `tf.function` with `jit_compile=True` to indicate that the whole Monte Carlo graph should be XLA-compiled."
      ]
    },
    {
      "cell_type": "code",
      "execution_count": 9,
      "metadata": {
        "id": "y65_Lj6jPdkK"
      },
      "outputs": [],
      "source": [
        "price_eu_options_xla = tf.function(set_up_pricer(expiries), jit_compile=True)"
      ]
    },
    {
      "cell_type": "code",
      "execution_count": 10,
      "metadata": {
        "colab": {
          "base_uri": "https://localhost:8080/"
        },
        "id": "EwrwdkWhPdkN",
        "outputId": "dea840ad-d204-4ae3-e350-c4ec4cea5e56"
      },
      "outputs": [
        {
          "output_type": "stream",
          "name": "stdout",
          "text": [
            "Time (seconds) to price a European Call Option on a CPU with XLA:  3.0844290256500244\n"
          ]
        }
      ],
      "source": [
        "#@title Pricing times on a CPU with XLA compilation\n",
        "\n",
        "# First run (includes graph optimization time)\n",
        "# with tf.device(\"/cpu:0\"):\n",
        "#     price_eu_options_xla(strikes, spot, sigma)\n",
        "\n",
        "# Second run (excludes graph optimization time)\n",
        "time_start = time.time()\n",
        "with tf.device(\"/cpu:0\"):\n",
        "    prices = price_eu_options_xla(strikes, spot, sigma)\n",
        "time_end = time.time()\n",
        "\n",
        "time_price_cpu_xla = time_end - time_start\n",
        "print(\"Time (seconds) to price a European Call Option on a CPU with XLA: \", time_price_cpu_xla)"
      ]
    },
    {
      "cell_type": "markdown",
      "metadata": {
        "id": "IXZnDEV-PdkR"
      },
      "source": [
        "### For the reference we provide performance of the Monte Carlo pricer in QuantLib"
      ]
    },
    {
      "cell_type": "code",
      "execution_count": 11,
      "metadata": {
        "colab": {
          "base_uri": "https://localhost:8080/"
        },
        "id": "C1Rjiwe9_QQp",
        "outputId": "cf900346-d113-47d6-8905-bbfb5725bc48"
      },
      "outputs": [
        {
          "output_type": "stream",
          "name": "stdout",
          "text": [
            "Time (seconds) to price a European Call Option using QuantLib:  16.656310558319092\n"
          ]
        }
      ],
      "source": [
        "#@title Monte Carlo sampling in QuantLib\n",
        "\n",
        "num_samples = 200000 #@param\n",
        "\n",
        "num_timesteps = 100 #@param\n",
        "\n",
        "expiry = 1.0\n",
        "\n",
        "calculation_date = ql.Date(1, 1, 2010)\n",
        "maturity_date = ql.Date(1, 1, 2011)\n",
        "day_count = ql.Thirty360()\n",
        "calendar = ql.NullCalendar()\n",
        "\n",
        "ql_strike_price = 550\n",
        "sigma_ql = 0.1\n",
        "ql_volatility = ql.SimpleQuote(sigma_ql)\n",
        "ql_risk_free_rate = 0.03\n",
        "option_type = ql.Option.Call\n",
        "\n",
        "ql.Settings.instance().evaluationDate = calculation_date\n",
        "payoff = ql.PlainVanillaPayoff(option_type, ql_strike_price)\n",
        "\n",
        "eu_exercise = ql.EuropeanExercise(maturity_date)\n",
        "european_option_ql = ql.VanillaOption(payoff, eu_exercise)\n",
        "\n",
        "flat_ts = ql.YieldTermStructureHandle(\n",
        "    ql.FlatForward(calculation_date, ql_risk_free_rate, day_count)\n",
        ")\n",
        "flat_vol_ts = ql.BlackVolTermStructureHandle(\n",
        "    ql.BlackConstantVol(calculation_date, calendar,\n",
        "                        ql.QuoteHandle(ql_volatility), day_count)\n",
        ")\n",
        "\n",
        "spot_ql = 700\n",
        "spot_price = ql.SimpleQuote(spot_ql)\n",
        "spot_handle = ql.QuoteHandle(\n",
        "    spot_price\n",
        ")\n",
        "bsm_process = ql.BlackScholesProcess(spot_handle,\n",
        "                                      flat_ts,\n",
        "                                      flat_vol_ts)\n",
        "\n",
        "# Compute the same price number_of_options times\n",
        "\n",
        "engine = ql.MCEuropeanEngine(bsm_process, \"PseudoRandom\",\n",
        "                             timeSteps=num_timesteps,\n",
        "                             requiredSamples=num_samples,\n",
        "                             seed=42)\n",
        "\n",
        "european_option_ql.setPricingEngine(engine)\n",
        "# Price\n",
        "t = time.time()\n",
        "price_ql = european_option_ql.NPV()\n",
        "time_price_ql = time.time() - t\n",
        "print(\"Time (seconds) to price a European Call Option using QuantLib: \", time_price_ql)\n"
      ]
    },
    {
      "cell_type": "code",
      "execution_count": 12,
      "metadata": {
        "colab": {
          "base_uri": "https://localhost:8080/",
          "height": 553
        },
        "id": "V2ms9TA7_QQr",
        "outputId": "9487473e-adac-4d90-82ee-6db7dd29a78c"
      },
      "outputs": [
        {
          "output_type": "display_data",
          "data": {
            "image/png": "[encoded data removed]",
            "text/plain": [
              "<Figure size 864x648 with 1 Axes>"
            ]
          },
          "metadata": {
            "needs_background": "light"
          }
        }
      ],
      "source": [
        "#@title Plot the results\n",
        "\n",
        "ind = np.arange(1)  # the x locations for the groups\n",
        "width = 0.35  # the width of the bars\n",
        "\n",
        "fig, ax = plt.subplots()\n",
        "\n",
        "fig.set_figheight(9)\n",
        "fig.set_figwidth(12)\n",
        "\n",
        "ax.bar(ind - width/2, [time_price_cpu], width,\n",
        "       label='TensorFlow (CPU)', color='darkorange')\n",
        "ax.bar(ind + width/2, [time_price_ql], width,\n",
        "       label='QuantLib')\n",
        "\n",
        "# Add some text for labels, title and custom x-axis tick labels, etc.\n",
        "ax.set_ylabel('Time (sec) to sample {}'.format(num_samples))\n",
        "ax.set_title('Monte Carlo sampling comparison')\n",
        "ax.set_xticks(ind)\n",
        "ax.legend()\n",
        "\n",
        "\n",
        "plt.show()"
      ]
    },
    {
      "cell_type": "markdown",
      "metadata": {
        "id": "o6E1tQK5PdkX"
      },
      "source": [
        "# GPU vs CPU performace\n",
        "\n",
        "Above one can see that TF effectively applies multithreading to achieve the best possible CPU performance. If the user has access to a good GPU, additional boost can be achieved as demonstrated below.\n",
        "\n",
        "For this specific model XLA provides significant speedup for both CPU and GPU\n",
        "platforms.\n",
        "\n",
        "Tesla V100 provides 100x speed up compared to a cloud CPU with 8 logical cores\n",
        "(`n1-standard-8` machine type on Google Cloud Platform)."
      ]
    },
    {
      "cell_type": "code",
      "execution_count": 13,
      "metadata": {
        "id": "9z78R5OtPdkX"
      },
      "outputs": [],
      "source": [
        "#@title Pricing times on CPU and GPU platforms\n",
        "\n",
        "# CPU without XLA\n",
        "# with tf.device(\"/cpu:0\"):\n",
        "#     price_eu_options(strikes, spot, sigma)\n",
        "time_start = time.time()\n",
        "with tf.device(\"/cpu:0\"):\n",
        "    prices = price_eu_options(strikes, spot, sigma)\n",
        "time_end = time.time()\n",
        "time_price_cpu = time_end - time_start\n",
        "\n",
        "# CPU with XLA\n",
        "# with tf.device(\"/cpu:0\"):\n",
        "#     price_eu_options_xla(strikes, spot, sigma)\n",
        "time_start = time.time()\n",
        "with tf.device(\"/cpu:0\"):\n",
        "    prices = price_eu_options_xla(strikes, spot, sigma)\n",
        "time_end = time.time()\n",
        "time_price_cpu_xla = time_end - time_start\n",
        "\n",
        "# GPU without XLA\n",
        "# with tf.device(\"/gpu:0\"):\n",
        "#     price_eu_options(strikes, spot, sigma)\n",
        "# Second run (excludes graph optimization time)\n",
        "time_start = time.time()\n",
        "with tf.device(\"/gpu:0\"):\n",
        "    prices = price_eu_options(strikes, spot, sigma)\n",
        "time_end = time.time()\n",
        "time_price_gpu = time_end - time_start\n",
        "\n",
        "# GPU with XLA\n",
        "# with tf.device(\"/gpu:0\"):\n",
        "#     price_eu_options_xla(strikes, spot, sigma)\n",
        "# Second run (excludes graph optimization time)\n",
        "time_start = time.time()\n",
        "with tf.device(\"/gpu:0\"):\n",
        "    prices = price_eu_options_xla(strikes, spot, sigma)\n",
        "time_end = time.time()\n",
        "time_price_gpu_xla = time_end - time_start\n"
      ]
    },
    {
      "cell_type": "code",
      "execution_count": 14,
      "metadata": {
        "colab": {
          "base_uri": "https://localhost:8080/",
          "height": 553
        },
        "id": "1tzvzqRMPdka",
        "outputId": "3ead857c-874b-4f8f-c34a-6d6e9d87ccb4"
      },
      "outputs": [
        {
          "output_type": "display_data",
          "data": {
            "image/png": "[encoded data removed]",
            "text/plain": [
              "<Figure size 864x648 with 1 Axes>"
            ]
          },
          "metadata": {
            "needs_background": "light"
          }
        }
      ],
      "source": [
        "#@title Plot the results\n",
        "\n",
        "ind = np.arange(1)  # the x locations for the groups\n",
        "width = 0.35  # the width of the bars\n",
        "\n",
        "fig, ax = plt.subplots()\n",
        "\n",
        "fig.set_figheight(9)\n",
        "fig.set_figwidth(12)\n",
        "\n",
        "ax.bar(ind - width/8, [time_price_cpu], width / 8,\n",
        "       label='TensorFlow (CPU)')\n",
        "ax.bar(ind, [time_price_cpu_xla], width / 8,\n",
        "       label='TensorFlow (CPU XLA)')\n",
        "ax.bar(ind + width/8, [time_price_gpu], width / 8,\n",
        "       label='TensorFlow (GPU)')\n",
        "ax.bar(ind + width/4, [time_price_gpu_xla], width / 8,\n",
        "       label='TensorFlow (GPU XLA)')\n",
        "\n",
        "# Add some text for labels, title and custom x-axis tick labels, etc.\n",
        "ax.set_ylabel('Time (sec) to sample {}'.format(num_samples))\n",
        "ax.set_title('Monte Carlo sampling comparison')\n",
        "ax.set_xticks(ind)\n",
        "ax.legend()\n",
        "\n",
        "\n",
        "plt.show()"
      ]
    },
    {
      "cell_type": "markdown",
      "metadata": {
        "id": "NpdgpaosPdkc"
      },
      "source": [
        "# Greek computation \n",
        "\n",
        "TF provides framework for automatic differentiation. Below we demostrate how to compute vega and delta for the European call options and compare the estimated results ti the true values."
      ]
    },
    {
      "cell_type": "code",
      "execution_count": 15,
      "metadata": {
        "id": "YDmea-ACPdkd"
      },
      "outputs": [],
      "source": [
        "# Set up the pricer\n",
        "expiries = [0.5, 1.0]\n",
        "strikes = tf.constant([600, 650, 680], dtype=dtype)\n",
        "sigma = tf.constant(0.1, dtype=dtype)\n",
        "price_eu_options = set_up_pricer(expiries, watch_params=True)"
      ]
    },
    {
      "cell_type": "code",
      "execution_count": 16,
      "metadata": {
        "id": "r1WQJM-KPdkf"
      },
      "outputs": [],
      "source": [
        "price_eu_options_no_watched_params = set_up_pricer(expiries)\n",
        "@tf.function(jit_compile=True)\n",
        "def price_eu_options_xla(strikes, spot, sigma):\n",
        "    return price_eu_options_no_watched_params(strikes, spot, sigma)\n",
        "\n",
        "@tf.function\n",
        "def vega_fn(sigma):\n",
        "    fn = lambda sigma: price_eu_options(strikes, spot, sigma)\n",
        "    return tff.math.fwd_gradient(fn, sigma,\n",
        "                                 use_gradient_tape=True)\n",
        "\n",
        "@tf.function(jit_compile=True)\n",
        "def vega_fn_xla(sigma):\n",
        "    return vega_fn(sigma)\n",
        "\n",
        "@tf.function\n",
        "def delta_fn(spot):\n",
        "    fn = lambda spot: price_eu_options(strikes, spot, sigma)\n",
        "    return tff.math.fwd_gradient(fn, spot,\n",
        "                                 use_gradient_tape=True)\n",
        "\n",
        "@tf.function(jit_compile=True)\n",
        "def delta_fn_xla(spot):\n",
        "    return delta_fn(spot)"
      ]
    },
    {
      "cell_type": "code",
      "execution_count": 17,
      "metadata": {
        "colab": {
          "base_uri": "https://localhost:8080/"
        },
        "id": "JfUgriuUPdkh",
        "outputId": "aa83c0f6-ab2f-4d4b-917b-1ae16322dc6f"
      },
      "outputs": [
        {
          "output_type": "stream",
          "name": "stdout",
          "text": [
            "Estimated deltas on grid expiries x strikes: \n",
            " [[0.99229482 0.90235325 0.74499778]\n",
            " [0.97004183 0.86225621 0.73792706]]\n"
          ]
        }
      ],
      "source": [
        "estimated_deltas = delta_fn_xla(spot)\n",
        "print(\"Estimated deltas on grid expiries x strikes: \\n\", estimated_deltas.numpy())"
      ]
    },
    {
      "cell_type": "code",
      "execution_count": 18,
      "metadata": {
        "colab": {
          "base_uri": "https://localhost:8080/"
        },
        "id": "2TnariSOPdkk",
        "outputId": "c0f87e27-6fb5-447e-870f-52d8c3838ad7"
      },
      "outputs": [
        {
          "output_type": "stream",
          "name": "stdout",
          "text": [
            "Estimated vegas on grid expiries x strikes: \n",
            " [[ 10.0704642   84.63702197 158.1019709 ]\n",
            " [ 46.38995809 152.10274118 225.90993602]]\n"
          ]
        }
      ],
      "source": [
        "estimated_vegas = vega_fn_xla(sigma)\n",
        "print(\"Estimated vegas on grid expiries x strikes: \\n\", estimated_vegas.numpy())"
      ]
    },
    {
      "cell_type": "code",
      "execution_count": 19,
      "metadata": {
        "id": "8Ke8hsu7Pdkm"
      },
      "outputs": [],
      "source": [
        "expiries_tensor = tf.expand_dims(tf.convert_to_tensor(expiries, dtype=dtype), axis=1)\n",
        "true_delta_fn = lambda spot : tff.black_scholes.option_price(volatilities=sigma,\n",
        "                                                             strikes=strikes,\n",
        "                                                             spots=spot,\n",
        "                                                             expiries=expiries_tensor,\n",
        "                                                             discount_rates=rate)\n",
        "true_vega_fn = lambda sigma : tff.black_scholes.option_price(volatilities=sigma,\n",
        "                               strikes=strikes,\n",
        "                               spots=spot,\n",
        "                               expiries=expiries_tensor,\n",
        "                               discount_rates=rate)"
      ]
    },
    {
      "cell_type": "code",
      "execution_count": 20,
      "metadata": {
        "colab": {
          "base_uri": "https://localhost:8080/"
        },
        "id": "2TNBEHxZPdko",
        "outputId": "b5253962-03d4-465c-c1ed-73f1f1d5bc95"
      },
      "outputs": [
        {
          "output_type": "stream",
          "name": "stdout",
          "text": [
            "True deltas on grid expiries x strikes: \n",
            " [[0.99239851 0.90243168 0.74454875]\n",
            " [0.97072164 0.8623811  0.73887319]]\n",
            "True vegas on grid expiries x strikes: \n",
            " [[ 10.37265092  85.31635365 159.08825372]\n",
            " [ 46.67659297 153.994105   227.5617336 ]]\n"
          ]
        }
      ],
      "source": [
        "true_delta = tff.math.fwd_gradient(true_delta_fn, spot)\n",
        "true_vega = tff.math.fwd_gradient(true_vega_fn, sigma)\n",
        "print(\"True deltas on grid expiries x strikes: \\n\", true_delta.numpy())\n",
        "print(\"True vegas on grid expiries x strikes: \\n\", true_vega.numpy())"
      ]
    },
    {
      "cell_type": "code",
      "execution_count": 21,
      "metadata": {
        "colab": {
          "base_uri": "https://localhost:8080/"
        },
        "id": "qKTyD12zPdkq",
        "outputId": "34dbfbe0-3774-4024-a8bb-84adecd69d3c"
      },
      "outputs": [
        {
          "output_type": "stream",
          "name": "stdout",
          "text": [
            "Relative error in delta estimation: \n",
            " 0.0012805013266146779\n",
            "Relative error in vega estimation: \n",
            " 0.02913302691726293\n"
          ]
        }
      ],
      "source": [
        "print(\"Relative error in delta estimation: \\n\", np.max(abs(estimated_deltas - true_delta) / true_delta))\n",
        "print(\"Relative error in vega estimation: \\n\", np.max(abs(estimated_vegas - true_vega) / true_vega))\n"
      ]
    },
    {
      "cell_type": "code",
      "execution_count": 22,
      "metadata": {
        "id": "VAq-N-F-Pdks"
      },
      "outputs": [],
      "source": [
        "#@title Greek computation speed\n",
        "\n",
        "# Price CPU with XLA\n",
        "## warmup\n",
        "# with tf.device(\"/cpu:0\"):\n",
        "#     price_eu_options_xla(strikes, spot, sigma)\n",
        "## measure time\n",
        "time_start = time.time()\n",
        "with tf.device(\"/cpu:0\"):\n",
        "    prices = price_eu_options_xla(strikes, spot, sigma)\n",
        "time_end = time.time()\n",
        "time_price_cpu = time_end - time_start\n",
        "\n",
        "# Delta CPU with XLA\n",
        "## warmup\n",
        "# with tf.device(\"/cpu:0\"):\n",
        "#     delta_fn_xla(spot)\n",
        "## measure time\n",
        "time_start = time.time()\n",
        "with tf.device(\"/cpu:0\"):\n",
        "    delta_fn_xla(spot)\n",
        "time_end = time.time()\n",
        "time_delta_cpu = time_end - time_start\n",
        "\n",
        "# Vega CPU with XLA\n",
        "## warmup\n",
        "# with tf.device(\"/cpu:0\"):\n",
        "#     vega_fn_xla(spot)\n",
        "## measure time\n",
        "time_start = time.time()\n",
        "with tf.device(\"/cpu:0\"):\n",
        "    vega_fn_xla(spot)\n",
        "time_end = time.time()\n",
        "time_vega_cpu = time_end - time_start\n",
        "\n",
        "# Price GPU with XLA\n",
        "## warmup\n",
        "# with tf.device(\"/gpu:0\"):\n",
        "#     price_eu_options_xla(strikes, spot, sigma)\n",
        "## measure time\n",
        "time_start = time.time()\n",
        "with tf.device(\"/gpu:0\"):\n",
        "    prices = price_eu_options_xla(strikes, spot, sigma)\n",
        "time_end = time.time()\n",
        "time_price_gpu = time_end - time_start\n",
        "\n",
        "# Delta GPU with XLA\n",
        "## warmup\n",
        "# with tf.device(\"/gpu:0\"):\n",
        "#     delta_fn_xla(spot)\n",
        "## measure time\n",
        "time_start = time.time()\n",
        "with tf.device(\"/gpu:0\"):\n",
        "    delta_fn_xla(spot)\n",
        "time_end = time.time()\n",
        "time_delta_gpu = time_end - time_start\n",
        "\n",
        "# Vega GPU with XLA\n",
        "## warmup\n",
        "# with tf.device(\"/gpu:0\"):\n",
        "#     vega_fn_xla(spot)\n",
        "## measure time\n",
        "time_start = time.time()\n",
        "with tf.device(\"/gpu:0\"):\n",
        "    vega_fn_xla(spot)\n",
        "time_end = time.time()\n",
        "time_vega_gpu = time_end - time_start"
      ]
    },
    {
      "cell_type": "code",
      "execution_count": 23,
      "metadata": {
        "cellView": "form",
        "colab": {
          "base_uri": "https://localhost:8080/",
          "height": 553
        },
        "id": "VPAWot3lPdku",
        "outputId": "82fc5938-b43e-475d-b8fd-8f08133cbd0e"
      },
      "outputs": [
        {
          "output_type": "display_data",
          "data": {
            "image/png": "[encoded data removed]",
            "text/plain": [
              "<Figure size 864x648 with 1 Axes>"
            ]
          },
          "metadata": {
            "needs_background": "light"
          }
        }
      ],
      "source": [
        "#@title CPU greeks computation speed\n",
        "\n",
        "ind = np.arange(1)  # the x locations for the groups\n",
        "width = 0.35  # the width of the bars\n",
        "\n",
        "fig, ax = plt.subplots()\n",
        "\n",
        "fig.set_figheight(9)\n",
        "fig.set_figwidth(12)\n",
        "\n",
        "ax.bar(ind - width/8, [time_price_cpu], width / 8,\n",
        "       label='Price time (CPU)')\n",
        "ax.bar(ind, [time_delta_cpu], width / 8,\n",
        "       label='Delta time (CPU)')\n",
        "ax.bar(ind + width/8, [time_vega_cpu], width / 8,\n",
        "       label='Vega time (CPU)')\n",
        "\n",
        "# Add some text for labels, title and custom x-axis tick labels, etc.\n",
        "ax.set_ylabel('Time (sec)')\n",
        "ax.set_title('Monte Carlo. Greeks computation on CPU')\n",
        "ax.set_xticks(ind)\n",
        "ax.legend()\n",
        "\n",
        "\n",
        "plt.show()"
      ]
    },
    {
      "cell_type": "code",
      "execution_count": 24,
      "metadata": {
        "cellView": "form",
        "colab": {
          "base_uri": "https://localhost:8080/",
          "height": 553
        },
        "id": "Kjw6GvTmPdkx",
        "outputId": "07c16d8d-c03a-4d6b-cefc-ab193a388842"
      },
      "outputs": [
        {
          "output_type": "display_data",
          "data": {
            "image/png": "[encoded data removed]",
            "text/plain": [
              "<Figure size 864x648 with 1 Axes>"
            ]
          },
          "metadata": {
            "needs_background": "light"
          }
        }
      ],
      "source": [
        "#@title GPU greeks computation speed\n",
        "\n",
        "ind = np.arange(1)  # the x locations for the groups\n",
        "width = 0.35  # the width of the bars\n",
        "\n",
        "fig, ax = plt.subplots()\n",
        "\n",
        "fig.set_figheight(9)\n",
        "fig.set_figwidth(12)\n",
        "\n",
        "ax.bar(ind - width/8, [time_price_gpu], width / 8,\n",
        "       label='Price time (GPU)')\n",
        "ax.bar(ind, [time_delta_gpu], width / 8,\n",
        "       label='Delta time (GPU)')\n",
        "ax.bar(ind + width/8, [time_vega_gpu], width / 8,\n",
        "       label='Vega time (GPU)')\n",
        "\n",
        "# Add some text for labels, title and custom x-axis tick labels, etc.\n",
        "ax.set_ylabel('Time (sec)')\n",
        "ax.set_title('Monte Carlo. Greeks computation on GPU')\n",
        "ax.set_xticks(ind)\n",
        "ax.legend()\n",
        "\n",
        "\n",
        "plt.show()"
      ]
    }
  ],
  "metadata": {
    "colab": {
      "collapsed_sections": [],
      "name": "Monte_Carlo_Euler_Scheme.ipynb",
      "provenance": [],
      "toc_visible": true
    },
    "environment": {
      "name": "tf2-gpu.2-1.m47",
      "type": "gcloud",
      "uri": "gcr.io/deeplearning-platform-release/tf2-gpu.2-1:m47"
    },
    "kernelspec": {
      "display_name": "Python 3",
      "language": "python",
      "name": "python3"
    },
    "language_info": {
      "codemirror_mode": {
        "name": "ipython",
        "version": 3
      },
      "file_extension": ".py",
      "mimetype": "text/x-python",
      "name": "python",
      "nbconvert_exporter": "python",
      "pygments_lexer": "ipython3",
      "version": "3.7.6"
    },
    "accelerator": "GPU"
  },
  "nbformat": 4,
  "nbformat_minor": 0
}
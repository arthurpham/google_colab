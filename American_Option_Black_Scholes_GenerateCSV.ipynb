{
 "cells": [
  {
   "cell_type": "code",
   "execution_count": 20,
   "id": "a3d846c5",
   "metadata": {},
   "outputs": [],
   "source": [
    "import tensorflow as tf\n",
    "import numpy as np\n",
    "import pandas as pd"
   ]
  },
  {
   "cell_type": "code",
   "execution_count": 21,
   "id": "b92c95af",
   "metadata": {},
   "outputs": [],
   "source": [
    "def option_param(number_of_options, dtype, seed=42):\n",
    "    \"\"\" Function to generate volatilities, rates, strikes \"\"\"\n",
    "    np.random.seed(seed)\n",
    "    if number_of_options > 1:\n",
    "        volatility = tf.random.uniform(shape=(number_of_options, 1),\n",
    "                                   dtype=dtype) * 1.0 + 0.10\n",
    "        # Random risk free rate between 0 and 0.2.\n",
    "        risk_free_rate = tf.constant(\n",
    "            np.random.rand(number_of_options, 1) * 0.05, dtype)\n",
    "        # Random strike between 20 and 120.\n",
    "        strike = tf.constant(\n",
    "            np.random.rand(number_of_options, 1) * 100 + 50, dtype)\n",
    "        expiry = tf.random.uniform(shape=(number_of_options, 1),\n",
    "                                   dtype=dtype) * 2.0 + 7.0/365.25\n",
    "    else:\n",
    "        volatility = tf.constant([0.3], dtype)\n",
    "        risk_free_rate = tf.constant([0.05], dtype)\n",
    "        strike = tf.constant([50], dtype)\n",
    "        expiry = tf.constant([1.0], dtype)\n",
    "    return volatility, risk_free_rate, strike, expiry"
   ]
  },
  {
   "cell_type": "code",
   "execution_count": 22,
   "id": "5e09bdeb",
   "metadata": {},
   "outputs": [],
   "source": [
    "batch_of_options = [5, 10, 100, 150, 200, 250, 300, 350, 400, 450, 500, 600, 700, 800, 900, 1000, 10000]\n",
    "\n",
    "for number_of_options in batch_of_options:\n",
    "    volatility, risk_free_rate, strike, expiry = option_param(number_of_options, tf.float64)\n",
    "    option_data_df = pd.DataFrame(np.column_stack([volatility, risk_free_rate, strike, expiry]),\n",
    "                     columns=['volatility', 'risk_free_rate', 'strike', 'expiry'])\n",
    "    option_data_df.to_csv(\"data/American_Option_Black_Scholes_GenerateCSV_{}.csv\".format(number_of_options),\n",
    "                         index=False)"
   ]
  }
 ],
 "metadata": {
  "kernelspec": {
   "display_name": "Python 3 (ipykernel)",
   "language": "python",
   "name": "python3"
  },
  "language_info": {
   "codemirror_mode": {
    "name": "ipython",
    "version": 3
   },
   "file_extension": ".py",
   "mimetype": "text/x-python",
   "name": "python",
   "nbconvert_exporter": "python",
   "pygments_lexer": "ipython3",
   "version": "3.7.9"
  }
 },
 "nbformat": 4,
 "nbformat_minor": 5
}

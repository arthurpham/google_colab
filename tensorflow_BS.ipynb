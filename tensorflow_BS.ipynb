{
 "cells": [
  {
   "cell_type": "code",
   "execution_count": 3,
   "id": "3ad11271",
   "metadata": {},
   "outputs": [
    {
     "name": "stdout",
     "output_type": "stream",
     "text": [
      "WARNING:tensorflow:From C:\\Dev\\github\\tf-quant-finance\\venv\\lib\\site-packages\\tensorflow\\python\\compat\\v2_compat.py:111: disable_resource_variables (from tensorflow.python.ops.variable_scope) is deprecated and will be removed in a future version.\n",
      "Instructions for updating:\n",
      "non-resource variables are not supported in the long term\n",
      "WARNING:tensorflow:From C:\\Users\\U8007138\\AppData\\Local\\Temp/ipykernel_122752/485607400.py:12: Normal.__init__ (from tensorflow.python.ops.distributions.normal) is deprecated and will be removed after 2019-01-01.\n",
      "Instructions for updating:\n",
      "The TensorFlow Distributions library has moved to TensorFlow Probability (https://github.com/tensorflow/probability). You should update all references to use `tfp.distributions` instead of `tf.distributions`.\n",
      "WARNING:tensorflow:From C:\\Dev\\github\\tf-quant-finance\\venv\\lib\\site-packages\\tensorflow\\python\\ops\\distributions\\normal.py:160: Distribution.__init__ (from tensorflow.python.ops.distributions.distribution) is deprecated and will be removed after 2019-01-01.\n",
      "Instructions for updating:\n",
      "The TensorFlow Distributions library has moved to TensorFlow Probability (https://github.com/tensorflow/probability). You should update all references to use `tfp.distributions` instead of `tf.distributions`.\n"
     ]
    },
    {
     "data": {
      "text/plain": [
       "[9.739834,\n",
       " [0.5066145, 56.411205, 81.843216, -0.37201464, 4.0482087],\n",
       " [0.014102802, 0.5310427, 2.8205605, -0.012820729, 0.06886054],\n",
       " [0.5310427, -1.2452297, -6.613867, 0.030063031, 13.941332],\n",
       " [2.8205605, -6.613866, 400.42563, -1.8201164, 46.597298],\n",
       " [-0.012820728, 0.030063028, -1.8201163, 0.011655207, -0.025798593],\n",
       " [0.06886053, 13.941331, 46.597298, -0.025798589, -0.62807804]]"
      ]
     },
     "execution_count": 3,
     "metadata": {},
     "output_type": "execute_result"
    }
   ],
   "source": [
    "#import tensorflow as tf\n",
    "import tensorflow.compat.v1 as tf\n",
    "tf.disable_v2_behavior()\n",
    "\n",
    "def blackScholes_tf_pricer(enable_greeks = True):\n",
    "    # Build the static computational graph\n",
    "    S = tf.placeholder(tf.float32)\n",
    "    K = tf.placeholder(tf.float32)\n",
    "    dt = tf.placeholder(tf.float32)\n",
    "    sigma = tf.placeholder(tf.float32)\n",
    "    r = tf.placeholder(tf.float32)\n",
    "    Phi = tf.distributions.Normal(0.,1.).cdf\n",
    "    d_1 = (tf.log(S / K) + (r+sigma**2/2)*dt) / (sigma*tf.sqrt(dt))\n",
    "    d_2 = d_1 - sigma*tf.sqrt(dt)\n",
    "    npv =  S*Phi(d_1) - K*tf.exp(-r*dt)*Phi(d_2)\n",
    "    target_calc = [npv]\n",
    "    if enable_greeks:\n",
    "        greeks = tf.gradients(npv, [S, sigma, r, K, dt])\n",
    "        dS_2ndOrder = tf.gradients(greeks[0], [S, sigma, r, K, dt]) \n",
    "        # Calculate mixed 2nd order greeks for S (esp. gamma, vanna) and sigma (esp. volga)\n",
    "        dsigma_2ndOrder = tf.gradients(greeks[1], [S, sigma, r, K, dt])\n",
    "        dr_2ndOrder = tf.gradients(greeks[2], [S, sigma, r, K, dt]) \n",
    "        dK_2ndOrder = tf.gradients(greeks[3], [S, sigma, r, K, dt]) \n",
    "        dT_2ndOrder = tf.gradients(greeks[4], [S, sigma, r, K, dt])\n",
    "        target_calc += [greeks, dS_2ndOrder, dsigma_2ndOrder, dr_2ndOrder, dK_2ndOrder, dT_2ndOrder]\n",
    "     \n",
    "    # Function to feed in the input and calculate the computational graph\n",
    "    def execute_graph(S_0, strike, time_to_expiry, implied_vol, riskfree_rate):\n",
    "        with tf.Session() as sess:\n",
    "            res = sess.run(target_calc, \n",
    "                           {\n",
    "                               S: S_0,\n",
    "                               K : strike,\n",
    "                               r : riskfree_rate,\n",
    "                               sigma: implied_vol,\n",
    "                               dt: time_to_expiry})\n",
    "        return res\n",
    "    return execute_graph\n",
    " \n",
    "tf_pricer = blackScholes_tf_pricer()\n",
    "tf_pricer(100., 110., 2., 0.2, 0.03)"
   ]
  }
 ],
 "metadata": {
  "kernelspec": {
   "display_name": "Python 3 (ipykernel)",
   "language": "python",
   "name": "python3"
  },
  "language_info": {
   "codemirror_mode": {
    "name": "ipython",
    "version": 3
   },
   "file_extension": ".py",
   "mimetype": "text/x-python",
   "name": "python",
   "nbconvert_exporter": "python",
   "pygments_lexer": "ipython3",
   "version": "3.7.9"
  }
 },
 "nbformat": 4,
 "nbformat_minor": 5
}
